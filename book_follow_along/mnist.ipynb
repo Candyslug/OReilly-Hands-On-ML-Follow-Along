{
 "cells": [
  {
   "cell_type": "code",
   "execution_count": 1,
   "id": "03f3c866",
   "metadata": {},
   "outputs": [
    {
     "data": {
      "text/plain": [
       "dict_keys(['data', 'target', 'frame', 'categories', 'feature_names', 'target_names', 'DESCR', 'details', 'url'])"
      ]
     },
     "execution_count": 1,
     "metadata": {},
     "output_type": "execute_result"
    }
   ],
   "source": [
    "from sklearn.datasets import fetch_openml\n",
    "mnist = fetch_openml('mnist_784', version=1, as_frame=False)\n",
    "#as_frame=False returns nd.array, otherwise it will return pd.dataframe (default)\n",
    "mnist.keys()\n",
    "#there are 784 pixels (28*28 images)"
   ]
  },
  {
   "cell_type": "code",
   "execution_count": 2,
   "id": "d42654b4",
   "metadata": {},
   "outputs": [
    {
     "data": {
      "text/plain": [
       "array([[0., 0., 0., ..., 0., 0., 0.],\n",
       "       [0., 0., 0., ..., 0., 0., 0.],\n",
       "       [0., 0., 0., ..., 0., 0., 0.],\n",
       "       [0., 0., 0., ..., 0., 0., 0.],\n",
       "       [0., 0., 0., ..., 0., 0., 0.]])"
      ]
     },
     "execution_count": 2,
     "metadata": {},
     "output_type": "execute_result"
    }
   ],
   "source": [
    "mnist[\"data\"][:5]"
   ]
  },
  {
   "cell_type": "code",
   "execution_count": 3,
   "id": "aa8b6b4e",
   "metadata": {},
   "outputs": [
    {
     "data": {
      "text/plain": [
       "array(['5', '0', '4', '1', '9'], dtype=object)"
      ]
     },
     "execution_count": 3,
     "metadata": {},
     "output_type": "execute_result"
    }
   ],
   "source": [
    "mnist[\"target\"][:5] #targets are the labels"
   ]
  },
  {
   "cell_type": "code",
   "execution_count": 4,
   "id": "3355c310",
   "metadata": {},
   "outputs": [
    {
     "data": {
      "text/plain": [
       "(70000, 784)"
      ]
     },
     "execution_count": 4,
     "metadata": {},
     "output_type": "execute_result"
    }
   ],
   "source": [
    "X, y = mnist[\"data\"], mnist[\"target\"]\n",
    "X.shape"
   ]
  },
  {
   "cell_type": "code",
   "execution_count": 5,
   "id": "9df671e9",
   "metadata": {},
   "outputs": [
    {
     "data": {
      "text/plain": [
       "(70000,)"
      ]
     },
     "execution_count": 5,
     "metadata": {},
     "output_type": "execute_result"
    }
   ],
   "source": [
    "y.shape"
   ]
  },
  {
   "cell_type": "code",
   "execution_count": 6,
   "id": "eb3f40a7",
   "metadata": {},
   "outputs": [
    {
     "data": {
      "text/plain": [
       "numpy.ndarray"
      ]
     },
     "execution_count": 6,
     "metadata": {},
     "output_type": "execute_result"
    }
   ],
   "source": [
    "type(X)\n",
    "#when indexing pd.dataframe, use .loc[n]"
   ]
  },
  {
   "cell_type": "code",
   "execution_count": 7,
   "id": "2e80684a",
   "metadata": {},
   "outputs": [
    {
     "data": {
      "image/png": "[encoded data removed]",
      "text/plain": [
       "<Figure size 432x288 with 1 Axes>"
      ]
     },
     "metadata": {
      "needs_background": "light"
     },
     "output_type": "display_data"
    }
   ],
   "source": [
    "import matplotlib as mpl\n",
    "import matplotlib.pyplot as plt\n",
    "\n",
    "some_digit = X[0]\n",
    "some_digit_img = some_digit.reshape(28,28)\n",
    "\n",
    "plt.imshow(some_digit_img, cmap=\"binary\")\n",
    "plt.axis(\"off\")\n",
    "plt.show()"
   ]
  },
  {
   "cell_type": "code",
   "execution_count": 8,
   "id": "75e7f931",
   "metadata": {},
   "outputs": [
    {
     "data": {
      "text/plain": [
       "'5'"
      ]
     },
     "execution_count": 8,
     "metadata": {},
     "output_type": "execute_result"
    }
   ],
   "source": [
    "y[0]"
   ]
  },
  {
   "cell_type": "code",
   "execution_count": 9,
   "id": "6ec394d2",
   "metadata": {},
   "outputs": [
    {
     "data": {
      "text/plain": [
       "array([5, 0, 4, ..., 4, 5, 6], dtype=uint8)"
      ]
     },
     "execution_count": 9,
     "metadata": {},
     "output_type": "execute_result"
    }
   ],
   "source": [
    "import numpy as np\n",
    "y = y.astype(np.uint8)\n",
    "y"
   ]
  },
  {
   "cell_type": "code",
   "execution_count": 10,
   "id": "ccf2f0a8",
   "metadata": {},
   "outputs": [],
   "source": [
    "X_train, X_test, y_train, y_test = X[:60000], X[60000:], y[:60000], y[60000:]\n",
    "#the set provided is already shuffled and split into training/test sets\n",
    "#this prevents missing digits from sets (due to it being shuffled)\n",
    "#and prevents many instances of digits in a row (same)"
   ]
  },
  {
   "cell_type": "code",
   "execution_count": 11,
   "id": "6d9ef504",
   "metadata": {},
   "outputs": [],
   "source": [
    "y_train_5 = (y_train == 5)\n",
    "y_test_5 = (y_test == 5)"
   ]
  },
  {
   "cell_type": "code",
   "execution_count": 12,
   "id": "a61557df",
   "metadata": {},
   "outputs": [
    {
     "data": {
      "text/plain": [
       "SGDClassifier()"
      ]
     },
     "execution_count": 12,
     "metadata": {},
     "output_type": "execute_result"
    }
   ],
   "source": [
    "#stochastic gradient descent (SGD)\n",
    "from sklearn.linear_model import SGDClassifier\n",
    "sgd_clf = SGDClassifier()#random_state=False for reproducible results, however it relies on randomness\n",
    "sgd_clf.fit(X_train, y_train_5)"
   ]
  },
  {
   "cell_type": "code",
   "execution_count": 13,
   "id": "96946a6b",
   "metadata": {},
   "outputs": [
    {
     "name": "stdout",
     "output_type": "stream",
     "text": [
      "5\n"
     ]
    },
    {
     "data": {
      "text/plain": [
       "array([ True])"
      ]
     },
     "execution_count": 13,
     "metadata": {},
     "output_type": "execute_result"
    }
   ],
   "source": [
    "print(y[11])\n",
    "sgd_clf.predict([X[11]]) #can predict"
   ]
  },
  {
   "cell_type": "code",
   "execution_count": null,
   "id": "f17e366d",
   "metadata": {},
   "outputs": [],
   "source": [
    "from sklearn.model_selection import StratifiedKFold\n",
    "from sklearn.base import clone\n",
    "\n",
    "skfolds = StratifiedKFold(n_splits=3)\n",
    "\n",
    "for train_index, test_index in skfolds.split(X_train, y_train_5):\n",
    "    clone_clf = clone(sgd_clf)\n",
    "    X_train_folds = X_train[train_index]\n",
    "    y_train_folds = y_train_5[train_index]\n",
    "    X_test_folds = X_train[test_index]\n",
    "    y_test_folds = y_train_5[test_index]\n",
    "    \n",
    "    clone_clf.fit(X_train_folds, y_train_folds)\n",
    "    y_pred = clone_clf.predict(X_test_folds)"
   ]
  },
  {
   "cell_type": "code",
   "execution_count": 20,
   "id": "93e58d07",
   "metadata": {},
   "outputs": [
    {
     "data": {
      "text/plain": [
       "array([0.9629, 0.9613, 0.9536])"
      ]
     },
     "execution_count": 20,
     "metadata": {},
     "output_type": "execute_result"
    }
   ],
   "source": [
    "from sklearn.model_selection import cross_val_score\n",
    "cross_val_score(sgd_clf, X_train, y_train_5, cv=3, scoring=\"accuracy\")"
   ]
  },
  {
   "cell_type": "code",
   "execution_count": 28,
   "id": "58c0fabc",
   "metadata": {},
   "outputs": [],
   "source": [
    "from sklearn.base import BaseEstimator\n",
    "\n",
    "def Never5Classifier(BaseEstimator):\n",
    "    def fit(self, X, y=None):\n",
    "        return self\n",
    "    def predict(self, X):\n",
    "        return np.zeros((len(X), 1), dtype=bool)"
   ]
  },
  {
   "cell_type": "code",
   "execution_count": 30,
   "id": "565c3934",
   "metadata": {},
   "outputs": [],
   "source": [
    "from sklearn.model_selection import cross_val_predict\n",
    "\n",
    "y_train_pred = cross_val_predict(sgd_clf, X_train, y_train_5, cv=3)#returns the predictions made"
   ]
  },
  {
   "cell_type": "code",
   "execution_count": 38,
   "id": "18a8cc29",
   "metadata": {},
   "outputs": [
    {
     "data": {
      "text/plain": [
       "array([[53472,  1107],\n",
       "       [ 1453,  3968]])"
      ]
     },
     "execution_count": 38,
     "metadata": {},
     "output_type": "execute_result"
    }
   ],
   "source": [
    "from sklearn.metrics import confusion_matrix\n",
    "\n",
    "confusion_matrix(y_train_5, y_train_pred)\n",
    "#top row: non 5s (roughly 53k guesses correct)\n",
    "#top right: incorrect guesses (in this case assumed to be 5)\n",
    "#NOT TARGET[RIGHT, WRONG]\n",
    "# IS TARGET[WRONG, RIGHT]\n",
    "#bottom row: is 5s (roughly 4k guesses correct)"
   ]
  },
  {
   "cell_type": "code",
   "execution_count": 40,
   "id": "03ed7fb2",
   "metadata": {},
   "outputs": [
    {
     "data": {
      "text/plain": [
       "array([[54579,     0],\n",
       "       [    0,  5421]])"
      ]
     },
     "execution_count": 40,
     "metadata": {},
     "output_type": "execute_result"
    }
   ],
   "source": [
    "y_train_perfect_predictions = y_train_5\n",
    "confusion_matrix(y_train_5, y_train_perfect_predictions)\n",
    "#this is an example of a perfect set of predictions"
   ]
  },
  {
   "cell_type": "code",
   "execution_count": 45,
   "id": "ce3f48c5",
   "metadata": {},
   "outputs": [
    {
     "data": {
      "text/plain": [
       "0.7886237998254292"
      ]
     },
     "execution_count": 45,
     "metadata": {},
     "output_type": "execute_result"
    }
   ],
   "source": [
    "#precision formula\n",
    "#(TP) / (TP + FP)\n",
    "#TP: true positives\n",
    "#FP: false positives\n",
    "5421 / (5421 + 1453) #precision for the confusion matrix above (predictions)"
   ]
  },
  {
   "cell_type": "code",
   "execution_count": 48,
   "id": "6d3fd94a",
   "metadata": {},
   "outputs": [
    {
     "data": {
      "text/plain": [
       "0.8304227941176471"
      ]
     },
     "execution_count": 48,
     "metadata": {},
     "output_type": "execute_result"
    }
   ],
   "source": [
    "#recall formula\n",
    "#(TP) / (TP + FN)\n",
    "5421 / (5421 + 1107) #for the predictions confusion matrix above"
   ]
  },
  {
   "cell_type": "code",
   "execution_count": 51,
   "id": "d9fdc08c",
   "metadata": {},
   "outputs": [],
   "source": [
    "#confusion matrix is as follows\n",
    "\n",
    "#[TN, FP]\n",
    "#[FN, TP]"
   ]
  },
  {
   "cell_type": "code",
   "execution_count": 52,
   "id": "d95d899f",
   "metadata": {},
   "outputs": [
    {
     "data": {
      "text/plain": [
       "0.781871921182266"
      ]
     },
     "execution_count": 52,
     "metadata": {},
     "output_type": "execute_result"
    }
   ],
   "source": [
    "from sklearn.metrics import precision_score, recall_score\n",
    "\n",
    "precision_score(y_train_5, y_train_pred)"
   ]
  },
  {
   "cell_type": "code",
   "execution_count": 54,
   "id": "6ef90a38",
   "metadata": {},
   "outputs": [
    {
     "data": {
      "text/plain": [
       "0.7319682715366168"
      ]
     },
     "execution_count": 54,
     "metadata": {},
     "output_type": "execute_result"
    }
   ],
   "source": [
    "recall_score(y_train_5, y_train_pred)"
   ]
  },
  {
   "cell_type": "code",
   "execution_count": 57,
   "id": "ec2483f0",
   "metadata": {},
   "outputs": [
    {
     "data": {
      "text/plain": [
       "0.7560975609756098"
      ]
     },
     "execution_count": 57,
     "metadata": {},
     "output_type": "execute_result"
    }
   ],
   "source": [
    "#f1 score\n",
    "#combined precision and recall scores\n",
    "#it is the harmonic mean of the precision and recall\n",
    "from sklearn.metrics import f1_score\n",
    "\n",
    "f1_score(y_train_5, y_train_pred)\n",
    "#the f1 score favours when precision and recall are similar\n",
    "\n",
    "#you cannot have both precision and recall\n",
    "#increase in 1 will decrease the other\n",
    "#depending on the situation, one may be greatly preferred than the other"
   ]
  },
  {
   "cell_type": "code",
   "execution_count": 61,
   "id": "f8397e5d",
   "metadata": {},
   "outputs": [
    {
     "data": {
      "text/plain": [
       "array([3801.68656666])"
      ]
     },
     "execution_count": 61,
     "metadata": {},
     "output_type": "execute_result"
    }
   ],
   "source": [
    "y_scores = sgd_clf.decision_function([some_digit])\n",
    "y_scores"
   ]
  },
  {
   "cell_type": "code",
   "execution_count": 65,
   "id": "de197c69",
   "metadata": {},
   "outputs": [
    {
     "data": {
      "text/plain": [
       "array([ True])"
      ]
     },
     "execution_count": 65,
     "metadata": {},
     "output_type": "execute_result"
    }
   ],
   "source": [
    "threshold = 0\n",
    "y_some_digit_pred = (y_scores > threshold)\n",
    "y_some_digit_pred"
   ]
  },
  {
   "cell_type": "code",
   "execution_count": 67,
   "id": "f583b6cd",
   "metadata": {},
   "outputs": [
    {
     "data": {
      "text/plain": [
       "array([  -675.48018863, -21032.35672048, -25696.01706177, ...,\n",
       "         9689.9901406 ,  -6055.3702007 , -11540.82731202])"
      ]
     },
     "execution_count": 67,
     "metadata": {},
     "output_type": "execute_result"
    }
   ],
   "source": [
    "#to find which threshold to use\n",
    "#cross validate\n",
    "\n",
    "y_scores = cross_val_predict(sgd_clf, X_train, y_train_5, cv=3, method=\"decision_function\")\n",
    "#the method tells it to return the decision scores instead of the predictions\n",
    "y_scores"
   ]
  },
  {
   "cell_type": "code",
   "execution_count": 68,
   "id": "53fb73d9",
   "metadata": {},
   "outputs": [
    {
     "data": {
      "text/plain": [
       "array([  -675.48018863, -21032.35672048, -25696.01706177, ...,\n",
       "         9689.9901406 ,  -6055.3702007 , -11540.82731202])"
      ]
     },
     "execution_count": 68,
     "metadata": {},
     "output_type": "execute_result"
    }
   ],
   "source": [
    "y_scores"
   ]
  },
  {
   "cell_type": "code",
   "execution_count": 71,
   "id": "9efd6629",
   "metadata": {},
   "outputs": [
    {
     "data": {
      "image/png": "[encoded data removed]",
      "text/plain": [
       "<Figure size 432x288 with 1 Axes>"
      ]
     },
     "metadata": {
      "needs_background": "light"
     },
     "output_type": "display_data"
    }
   ],
   "source": [
    "#use precision recall curve to compute precision and recall for all possible threshold\n",
    "\n",
    "from sklearn.metrics import precision_recall_curve\n",
    "\n",
    "precisions, recalls, thresholds = precision_recall_curve(y_train_5, y_scores)\n",
    "\n",
    "def plot_precision_recall_vs_threshold(precisions, recalls, thresholds):\n",
    "    plt.plot(thresholds, precisions[:-1], \"b--\", label=\"Precision\")\n",
    "    plt.plot(thresholds, recalls[:-1], \"g-\", label=\"Recall\")\n",
    "    \n",
    "plot_precision_recall_vs_threshold(precisions, recalls, thresholds)\n",
    "plt.show()"
   ]
  },
  {
   "cell_type": "code",
   "execution_count": 74,
   "id": "32a9d34d",
   "metadata": {},
   "outputs": [
    {
     "data": {
      "text/plain": [
       "1957.9115454430075"
      ]
     },
     "execution_count": 74,
     "metadata": {},
     "output_type": "execute_result"
    }
   ],
   "source": [
    "threshold_90_precision = thresholds[np.argmax(precisions >= 0.90)]\n",
    "threshold_90_precision #to find the threshold that gives 90% precision"
   ]
  },
  {
   "cell_type": "code",
   "execution_count": 77,
   "id": "7703ead9",
   "metadata": {},
   "outputs": [
    {
     "data": {
      "text/plain": [
       "numpy.ndarray"
      ]
     },
     "execution_count": 77,
     "metadata": {},
     "output_type": "execute_result"
    }
   ],
   "source": [
    "y_train_pred_90 = (y_scores >= threshold_90_precision)\n",
    "y_train_pred_90\n",
    "type(y_train_pred_90)"
   ]
  },
  {
   "cell_type": "code",
   "execution_count": 78,
   "id": "b8431712",
   "metadata": {},
   "outputs": [
    {
     "data": {
      "text/plain": [
       "0.9001048767697954"
      ]
     },
     "execution_count": 78,
     "metadata": {},
     "output_type": "execute_result"
    }
   ],
   "source": [
    "precision_score(y_train_5, y_train_pred_90)"
   ]
  },
  {
   "cell_type": "code",
   "execution_count": 79,
   "id": "65d77d0e",
   "metadata": {},
   "outputs": [
    {
     "data": {
      "text/plain": [
       "0.6332779929902232"
      ]
     },
     "execution_count": 79,
     "metadata": {},
     "output_type": "execute_result"
    }
   ],
   "source": [
    "recall_score(y_train_5, y_train_pred_90)"
   ]
  },
  {
   "cell_type": "code",
   "execution_count": 80,
   "id": "3799bb68",
   "metadata": {},
   "outputs": [],
   "source": [
    "#ROC - receiver operating characteristic\n",
    "from sklearn.metrics import roc_curve\n",
    "\n",
    "fpr, tpr, thresholds = roc_curve(y_train_5, y_scores)"
   ]
  },
  {
   "cell_type": "code",
   "execution_count": 88,
   "id": "301ea3f3",
   "metadata": {},
   "outputs": [
    {
     "data": {
      "image/png": "[encoded data removed]",
      "text/plain": [
       "<Figure size 432x288 with 1 Axes>"
      ]
     },
     "metadata": {
      "needs_background": "light"
     },
     "output_type": "display_data"
    }
   ],
   "source": [
    "def plot_roc_curve(fpr, tpr, label=None):\n",
    "    plt.plot(fpr, tpr, linewidth=2, label=label, )\n",
    "    plt.plot([0,1],[0,1],'k--')#dashed diagonal line\n",
    "    \n",
    "plot_roc_curve(fpr, tpr)\n",
    "plt.xlabel('False Positive Rate (FPR)')\n",
    "plt.ylabel('True Positive Rate (TPR)')\n",
    "plt.show()\n",
    "#shows that the higher the recall (TPR)\n",
    "#the more false positives (FPR)\n",
    "\n",
    "#the dotted line representsROC curve of purely random classifier\n",
    "#good classifier should aim as far away from it as possible (top left)"
   ]
  },
  {
   "cell_type": "code",
   "execution_count": 91,
   "id": "2bc01802",
   "metadata": {},
   "outputs": [
    {
     "data": {
      "text/plain": [
       "0.9634891767781838"
      ]
     },
     "execution_count": 91,
     "metadata": {},
     "output_type": "execute_result"
    }
   ],
   "source": [
    "#measure the Area Under Curve (AUC)\n",
    "\n",
    "from sklearn.metrics import roc_auc_score\n",
    "\n",
    "roc_auc_score(y_train_5, y_scores)\n",
    "#perfect classifier will have a score of 1\n",
    "#random classifier will have a score of 0.5"
   ]
  },
  {
   "cell_type": "code",
   "execution_count": 92,
   "id": "f6e20a10",
   "metadata": {},
   "outputs": [],
   "source": [
    "from sklearn.ensemble import RandomForestClassifier\n",
    "\n",
    "forest_clf = RandomForestClassifier(random_state=42)\n",
    "y_probas_forest = cross_val_predict(forest_clf, X_train, y_train_5, cv=3, method=\"predict_proba\")"
   ]
  },
  {
   "cell_type": "code",
   "execution_count": 94,
   "id": "771c13c2",
   "metadata": {},
   "outputs": [],
   "source": [
    "y_scores_forest = y_probas_forest[:, 1] #score = proba of positive class\n",
    "fpr_forest, tpr_forest, thresholds_forest = roc_curve(y_train_5, y_scores_forest)"
   ]
  },
  {
   "cell_type": "code",
   "execution_count": 102,
   "id": "b3fafa6b",
   "metadata": {},
   "outputs": [
    {
     "data": {
      "image/png": "[encoded data removed]",
      "text/plain": [
       "<Figure size 432x288 with 1 Axes>"
      ]
     },
     "metadata": {
      "needs_background": "light"
     },
     "output_type": "display_data"
    }
   ],
   "source": [
    "#plot the ROC curve\n",
    "\n",
    "plt.plot(fpr, tpr, \"b:\", label=\"SGD\")\n",
    "plot_roc_curve(fpr_forest, tpr_forest, \"Random forest\")\n",
    "plt.legend(loc=\"lower right\")\n",
    "plt.show()\n",
    "#this shows that the random forest classifier is superior\n",
    "#to the  SGD classifier because\n",
    "#its ROC curve is closer to the top left (greater Area Under Curve AUC)"
   ]
  },
  {
   "cell_type": "code",
   "execution_count": 103,
   "id": "39484078",
   "metadata": {},
   "outputs": [
    {
     "data": {
      "text/plain": [
       "0.9983436731328145"
      ]
     },
     "execution_count": 103,
     "metadata": {},
     "output_type": "execute_result"
    }
   ],
   "source": [
    "roc_auc_score(y_train_5, y_scores_forest)"
   ]
  },
  {
   "cell_type": "code",
   "execution_count": 106,
   "id": "e3077d98",
   "metadata": {},
   "outputs": [
    {
     "data": {
      "text/plain": [
       "array([5], dtype=uint8)"
      ]
     },
     "execution_count": 106,
     "metadata": {},
     "output_type": "execute_result"
    }
   ],
   "source": [
    "#Support Vector Machine classifier\n",
    "from sklearn.svm import SVC\n",
    "svm_clf = SVC()\n",
    "svm_clf.fit(X_train, y_train) #not y_train_5\n",
    "svm_clf.predict([some_digit])\n",
    "#the code trains the SVC using the original target classes (0-9) len:10\n",
    "#behind the scenes it is doing OvO (one vs one)\n",
    "#which means it trained 45 binary classifiers\n",
    "#got their decision scores\n",
    "#then chose the highest scoring class\n",
    "#(that is why it takes so long)"
   ]
  },
  {
   "cell_type": "code",
   "execution_count": 107,
   "id": "707d7538",
   "metadata": {},
   "outputs": [
    {
     "data": {
      "text/plain": [
       "array([[ 1.72501977,  2.72809088,  7.2510018 ,  8.3076379 , -0.31087254,\n",
       "         9.3132482 ,  1.70975103,  2.76765202,  6.23049537,  4.84771048]])"
      ]
     },
     "execution_count": 107,
     "metadata": {},
     "output_type": "execute_result"
    }
   ],
   "source": [
    "some_digit_scores = svm_clf_clf.decision_function([some_digit])\n",
    "some_digit_scores"
   ]
  },
  {
   "cell_type": "code",
   "execution_count": 108,
   "id": "5ab9282b",
   "metadata": {},
   "outputs": [
    {
     "data": {
      "text/plain": [
       "5"
      ]
     },
     "execution_count": 108,
     "metadata": {},
     "output_type": "execute_result"
    }
   ],
   "source": [
    "np.argmax(some_digit_scores)"
   ]
  },
  {
   "cell_type": "code",
   "execution_count": 109,
   "id": "43ef0ce4",
   "metadata": {},
   "outputs": [
    {
     "data": {
      "text/plain": [
       "array([0, 1, 2, 3, 4, 5, 6, 7, 8, 9], dtype=uint8)"
      ]
     },
     "execution_count": 109,
     "metadata": {},
     "output_type": "execute_result"
    }
   ],
   "source": [
    "svm_clf.classes_"
   ]
  },
  {
   "cell_type": "code",
   "execution_count": 113,
   "id": "09b397dc",
   "metadata": {},
   "outputs": [
    {
     "data": {
      "text/plain": [
       "5"
      ]
     },
     "execution_count": 113,
     "metadata": {},
     "output_type": "execute_result"
    }
   ],
   "source": [
    "#np.argmax(some_digit_scores)\n",
    "#returns class value which is the same index as\n",
    "#the highest scoring decision_function\n",
    "#in this case it is index 5, value 5\n",
    "svm_clf.classes_[5]"
   ]
  },
  {
   "cell_type": "code",
   "execution_count": 114,
   "id": "4006ad82",
   "metadata": {},
   "outputs": [
    {
     "data": {
      "text/plain": [
       "OneVsRestClassifier(estimator=SVC())"
      ]
     },
     "execution_count": 114,
     "metadata": {},
     "output_type": "execute_result"
    }
   ],
   "source": [
    "from sklearn.multiclass import OneVsRestClassifier\n",
    "ovr_clf = OneVsRestClassifier(SVC())\n",
    "ovr_clf.fit(X_train, y_train)"
   ]
  },
  {
   "cell_type": "code",
   "execution_count": 116,
   "id": "e248102a",
   "metadata": {},
   "outputs": [
    {
     "data": {
      "text/plain": [
       "array([5], dtype=uint8)"
      ]
     },
     "execution_count": 116,
     "metadata": {},
     "output_type": "execute_result"
    }
   ],
   "source": [
    "ovr_clf.predict([some_digit])"
   ]
  },
  {
   "cell_type": "code",
   "execution_count": 117,
   "id": "e5eef3c1",
   "metadata": {},
   "outputs": [
    {
     "data": {
      "text/plain": [
       "10"
      ]
     },
     "execution_count": 117,
     "metadata": {},
     "output_type": "execute_result"
    }
   ],
   "source": [
    "len(ovr_clf.estimators_)"
   ]
  },
  {
   "cell_type": "code",
   "execution_count": 122,
   "id": "e1a04105",
   "metadata": {},
   "outputs": [
    {
     "data": {
      "text/plain": [
       "[SVC(), SVC(), SVC(), SVC(), SVC(), SVC(), SVC(), SVC(), SVC(), SVC()]"
      ]
     },
     "execution_count": 122,
     "metadata": {},
     "output_type": "execute_result"
    }
   ],
   "source": [
    "ovr_clf.estimators_"
   ]
  },
  {
   "cell_type": "code",
   "execution_count": 125,
   "id": "1aebfebc",
   "metadata": {},
   "outputs": [
    {
     "data": {
      "text/plain": [
       "array([5], dtype=uint8)"
      ]
     },
     "execution_count": 125,
     "metadata": {},
     "output_type": "execute_result"
    }
   ],
   "source": [
    "sgd_clf.fit(X_train, y_train)\n",
    "sgd_clf.predict([some_digit])\n",
    "#SGD classifiers can directly classify instances into multiple classes\n",
    "#so OvO or OvR was not necessary"
   ]
  },
  {
   "cell_type": "code",
   "execution_count": 126,
   "id": "46e164ee",
   "metadata": {},
   "outputs": [
    {
     "data": {
      "text/plain": [
       "array([[-22373.64808903, -52839.01385032, -10612.58346802,\n",
       "          6292.06417165, -21576.63105988,   6418.91575225,\n",
       "        -19425.24027337, -18105.17410471,  -6590.04992041,\n",
       "         -9446.89327549]])"
      ]
     },
     "execution_count": 126,
     "metadata": {},
     "output_type": "execute_result"
    }
   ],
   "source": [
    "sgd_clf.decision_function([some_digit])\n",
    "#class 3 and 5 are very similar in this case"
   ]
  },
  {
   "cell_type": "code",
   "execution_count": 127,
   "id": "34c54009",
   "metadata": {},
   "outputs": [
    {
     "data": {
      "text/plain": [
       "array([0.8761, 0.8747, 0.8761])"
      ]
     },
     "execution_count": 127,
     "metadata": {},
     "output_type": "execute_result"
    }
   ],
   "source": [
    "cross_val_score(sgd_clf, X_train, y_train, cv=3, scoring=\"accuracy\")\n",
    "#the result is above 87% each time\n",
    "#random classifier would get about 10%"
   ]
  },
  {
   "cell_type": "code",
   "execution_count": 128,
   "id": "392fae82",
   "metadata": {},
   "outputs": [
    {
     "data": {
      "text/plain": [
       "array([0.9031 , 0.89325, 0.9057 ])"
      ]
     },
     "execution_count": 128,
     "metadata": {},
     "output_type": "execute_result"
    }
   ],
   "source": [
    "#to increase accuracy even more, it is worth scaling the inputs\n",
    "from sklearn.preprocessing import StandardScaler\n",
    "\n",
    "scaler = StandardScaler()\n",
    "X_train_scaled = scaler.fit_transform(X_train.astype(np.float64))\n",
    "cross_val_score(sgd_clf, X_train_scaled, y_train, cv=3, scoring=\"accuracy\")"
   ]
  },
  {
   "cell_type": "code",
   "execution_count": 129,
   "id": "3fc717b0",
   "metadata": {},
   "outputs": [
    {
     "data": {
      "text/plain": [
       "array([[5585,    0,   21,    7,    8,   49,   37,    6,  209,    1],\n",
       "       [   0, 6410,   38,   26,    4,   44,    4,    8,  195,   13],\n",
       "       [  27,   26, 5254,   99,   72,   26,   68,   36,  340,   10],\n",
       "       [  23,   17,  118, 5259,    2,  206,   27,   42,  364,   73],\n",
       "       [  12,   15,   48,   10, 5203,   12,   38,   26,  306,  172],\n",
       "       [  26,   16,   31,  170,   53, 4498,   76,   15,  473,   63],\n",
       "       [  31,   15,   41,    3,   41,   97, 5565,    3,  121,    1],\n",
       "       [  19,   10,   52,   31,   49,   14,    3, 5701,  164,  222],\n",
       "       [  17,   67,   46,   91,    3,  126,   25,   10, 5418,   48],\n",
       "       [  23,   20,   29,   65,  119,   38,    1,  177,  327, 5150]])"
      ]
     },
     "execution_count": 129,
     "metadata": {},
     "output_type": "execute_result"
    }
   ],
   "source": [
    "y_train_pred = cross_val_predict(sgd_clf, X_train_scaled, y_train, cv=3)\n",
    "conf_mx = confusion_matrix(y_train, y_train_pred)\n",
    "conf_mx"
   ]
  },
  {
   "cell_type": "code",
   "execution_count": 130,
   "id": "af3f5d91",
   "metadata": {},
   "outputs": [
    {
     "data": {
      "image/png": "[encoded data removed]",
      "text/plain": [
       "<Figure size 288x288 with 1 Axes>"
      ]
     },
     "metadata": {
      "needs_background": "light"
     },
     "output_type": "display_data"
    }
   ],
   "source": [
    "plt.matshow(conf_mx, cmap=plt.cm.gray)\n",
    "plt.show()\n",
    "#the result is pretty good\n",
    "#since most images are on the main diagonal\n",
    "#5 is slightly darker than the rest\n",
    "#this may be because there were fewer 5s in the dataset\n",
    "#or because the classifier performs worse on the 5"
   ]
  },
  {
   "cell_type": "code",
   "execution_count": 131,
   "id": "32c1fadb",
   "metadata": {},
   "outputs": [],
   "source": [
    "#divide each value in the confusion matrix\n",
    "#by the number of images of the corresponding class\n",
    "row_sums = conf_mx.sum(axis=1, keepdims=True)\n",
    "norm_conf_mx = conf_mx / row_sums"
   ]
  },
  {
   "cell_type": "code",
   "execution_count": 133,
   "id": "8c10d250",
   "metadata": {},
   "outputs": [
    {
     "data": {
      "image/png": "[encoded data removed]",
      "text/plain": [
       "<Figure size 288x288 with 1 Axes>"
      ]
     },
     "metadata": {
      "needs_background": "light"
     },
     "output_type": "display_data"
    }
   ],
   "source": [
    "np.fill_diagonal(norm_conf_mx, 0)\n",
    "plt.matshow(norm_conf_mx, cmap=plt.cm.gray)\n",
    "plt.show()\n",
    "#the column for 8 is bright\n",
    "#which indicates that many numbers get incorrectly classified as 8\n",
    "#while the row for 8 is dark, meaning 8 gets correctly classified\n",
    "\n",
    "#the goal could be to reduce the amount of wrong 8 predictions\n",
    "#possibly by increasing the number of images of numbers that look like 8\n",
    "#(but are not)"
   ]
  },
  {
   "cell_type": "code",
   "execution_count": null,
   "id": "2b808c70",
   "metadata": {},
   "outputs": [],
   "source": []
  }
 ],
 "metadata": {
  "kernelspec": {
   "display_name": "Python 3 (ipykernel)",
   "language": "python",
   "name": "python3"
  },
  "language_info": {
   "codemirror_mode": {
    "name": "ipython",
    "version": 3
   },
   "file_extension": ".py",
   "mimetype": "text/x-python",
   "name": "python",
   "nbconvert_exporter": "python",
   "pygments_lexer": "ipython3",
   "version": "3.9.6"
  }
 },
 "nbformat": 4,
 "nbformat_minor": 5
}
