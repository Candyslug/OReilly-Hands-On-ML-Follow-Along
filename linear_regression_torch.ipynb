{
 "cells": [
  {
   "cell_type": "code",
   "execution_count": 35,
   "id": "a055b1b2",
   "metadata": {},
   "outputs": [],
   "source": [
    "# design model (input size, output size, forward pass)\n",
    "# construct loss and optimizer\n",
    "# training loop\n",
    "#    - forward pass: compute prediction andloss\n",
    "#    - backward pass: gradients\n",
    "#    - update weights"
   ]
  },
  {
   "cell_type": "code",
   "execution_count": 36,
   "id": "51531f57",
   "metadata": {},
   "outputs": [],
   "source": [
    "import torch\n",
    "import torch.nn as nn"
   ]
  },
  {
   "cell_type": "code",
   "execution_count": 37,
   "id": "db311f7d",
   "metadata": {},
   "outputs": [],
   "source": [
    "import numpy as np\n",
    "from tqdm import trange"
   ]
  },
  {
   "cell_type": "code",
   "execution_count": 38,
   "id": "7a5ca80b",
   "metadata": {},
   "outputs": [],
   "source": [
    "from sklearn import datasets"
   ]
  },
  {
   "cell_type": "code",
   "execution_count": 39,
   "id": "86348100",
   "metadata": {},
   "outputs": [],
   "source": [
    "import matplotlib.pyplot as plt"
   ]
  },
  {
   "cell_type": "code",
   "execution_count": 40,
   "id": "6f0bbbf6",
   "metadata": {},
   "outputs": [
    {
     "name": "stdout",
     "output_type": "stream",
     "text": [
      "torch.Size([100, 1])\n",
      "torch.Size([100])\n",
      "torch.Size([100, 1])\n",
      "tensor([[-0.6118],\n",
      "        [-0.2494],\n",
      "        [ 0.4885],\n",
      "        [ 0.7620],\n",
      "        [ 1.5198]])\n",
      "tensor([[-55.5386],\n",
      "        [-10.6620],\n",
      "        [ 22.7574],\n",
      "        [101.0961],\n",
      "        [144.3376]])\n"
     ]
    }
   ],
   "source": [
    "# prepare data\n",
    "X_numpy, y_numpy = datasets.make_regression(n_samples=100, n_features=1, noise=20, random_state=1)\n",
    "X = torch.from_numpy(X_numpy.astype(np.float32))\n",
    "y = torch.from_numpy(y_numpy.astype(np.float32))\n",
    "\n",
    "print(X.shape)\n",
    "print(y.shape)\n",
    "y = y.view(y.shape[0], 1)\n",
    "print(y.shape)\n",
    "print(X[:5])\n",
    "print(y[:5])\n",
    "\n",
    "n_samples, n_features = X.shape"
   ]
  },
  {
   "cell_type": "code",
   "execution_count": 41,
   "id": "8708e22f",
   "metadata": {},
   "outputs": [
    {
     "name": "stdout",
     "output_type": "stream",
     "text": [
      "1\n"
     ]
    }
   ],
   "source": [
    "# design model (input size, output size, forward pass)\n",
    "input_size = n_features\n",
    "output_size = 1\n",
    "print(n_features)\n",
    "\n",
    "model = nn.Linear(input_size, output_size)"
   ]
  },
  {
   "cell_type": "code",
   "execution_count": 42,
   "id": "ecd48618",
   "metadata": {},
   "outputs": [],
   "source": [
    "# construct loss and optimizer\n",
    "learning_rate = 0.01\n",
    "\n",
    "criterion = nn.MSELoss()\n",
    "optimizer = torch.optim.SGD(model.parameters(), lr=learning_rate)"
   ]
  },
  {
   "cell_type": "code",
   "execution_count": 43,
   "id": "6943fe1f",
   "metadata": {},
   "outputs": [
    {
     "name": "stderr",
     "output_type": "stream",
     "text": [
      "loss: 332.56757: 100%|███████████████████████████████████████████████████████████████| 1000/1000 [00:00<00:00, 1215.52it/s]\n"
     ]
    }
   ],
   "source": [
    "# training loop\n",
    "n_epochs = 1000\n",
    "for epoch in (t := trange(n_epochs)):\n",
    "    # forward pass\n",
    "    y_predicted = model(X)\n",
    "    #print(y_predicted.shape)\n",
    "    #print(\"--\",y.shape)\n",
    " \n",
    "\n",
    "    # loss\n",
    "    loss = criterion(y_predicted, y)\n",
    "    \n",
    "    # backward pass\n",
    "    loss = loss.mean()\n",
    "    loss.backward()\n",
    "    \n",
    "    # update weights\n",
    "    optimizer.step()\n",
    "    \n",
    "    optimizer.zero_grad()\n",
    "    \n",
    "    t.set_description(\"loss: %.5f\" % (loss.item()))"
   ]
  },
  {
   "cell_type": "code",
   "execution_count": null,
   "id": "724d259d",
   "metadata": {},
   "outputs": [],
   "source": [
    "print)"
   ]
  },
  {
   "cell_type": "code",
   "execution_count": null,
   "id": "6658e9c3",
   "metadata": {},
   "outputs": [],
   "source": []
  },
  {
   "cell_type": "code",
   "execution_count": 45,
   "id": "dd522ce9",
   "metadata": {},
   "outputs": [
    {
     "name": "stdout",
     "output_type": "stream",
     "text": [
      "[[ -46.40622  ]\n",
      " [ -16.515078 ]\n",
      " [  44.349113 ]\n",
      " [  66.90798  ]\n",
      " [ 129.41502  ]\n",
      " [  35.197124 ]\n",
      " [  46.36269  ]\n",
      " [ -51.313187 ]\n",
      " [-111.13491  ]\n",
      " [  30.088968 ]\n",
      " [ -48.488064 ]\n",
      " [ -28.671867 ]\n",
      " [ -86.729706 ]\n",
      " [  78.36049  ]\n",
      " [ -86.66967  ]\n",
      " [  72.34893  ]\n",
      " [  -2.1794224]\n",
      " [ -25.001015 ]\n",
      " [ -51.26503  ]\n",
      " [ -84.44897  ]\n",
      " [ -21.202957 ]\n",
      " [ 184.32964  ]\n",
      " [  75.43656  ]\n",
      " [  20.41066  ]\n",
      " [ -27.624386 ]\n",
      " [ -52.34273  ]\n",
      " [   8.244895 ]\n",
      " [  52.127136 ]\n",
      " [ 107.39596  ]\n",
      " [ -58.1719   ]\n",
      " [ -24.761223 ]\n",
      " [ -69.16136  ]\n",
      " [  19.442432 ]\n",
      " [  76.324196 ]\n",
      " [  73.25698  ]\n",
      " [ -37.556442 ]\n",
      " [ -24.308462 ]\n",
      " [ 143.65492  ]\n",
      " [-185.78665  ]\n",
      " [  80.85532  ]\n",
      " [ 177.29207  ]\n",
      " [ 124.654945 ]\n",
      " [ -65.66211  ]\n",
      " [ -68.355446 ]\n",
      " [ -22.54029  ]\n",
      " [  77.06427  ]\n",
      " [  17.254595 ]\n",
      " [  97.39567  ]\n",
      " [ -26.901047 ]\n",
      " [  45.501926 ]\n",
      " [ -13.176432 ]\n",
      " [  13.965277 ]\n",
      " [  52.441235 ]\n",
      " [  30.369759 ]\n",
      " [ -52.997074 ]\n",
      " [  61.63071  ]\n",
      " [ 102.94591  ]\n",
      " [ -12.505327 ]\n",
      " [  47.800034 ]\n",
      " [  65.26102  ]\n",
      " [  37.87686  ]\n",
      " [  13.870396 ]\n",
      " [ -58.733536 ]\n",
      " [  38.985676 ]\n",
      " [  28.813383 ]\n",
      " [ -90.185715 ]\n",
      " [  19.326546 ]\n",
      " [ -73.132195 ]\n",
      " [ -47.086258 ]\n",
      " [ -88.10647  ]\n",
      " [-115.06261  ]\n",
      " [ -14.284517 ]\n",
      " [ 138.03699  ]\n",
      " [  54.963596 ]\n",
      " [ -52.626877 ]\n",
      " [  10.4333935]\n",
      " [   3.0094247]\n",
      " [ -48.63115  ]\n",
      " [  97.57218  ]\n",
      " [ 147.97357  ]\n",
      " [  78.4211   ]\n",
      " [-165.8751   ]\n",
      " [  23.38966  ]\n",
      " [ -10.168558 ]\n",
      " [  14.102392 ]\n",
      " [  98.47574  ]\n",
      " [  -6.082455 ]\n",
      " [ -57.574745 ]\n",
      " [  27.610512 ]\n",
      " [-162.74571  ]\n",
      " [  23.033249 ]\n",
      " [ -18.042496 ]\n",
      " [ -39.511803 ]\n",
      " [  97.218704 ]\n",
      " [  19.801577 ]\n",
      " [ -20.533913 ]\n",
      " [ 140.96162  ]\n",
      " [   7.6501093]\n",
      " [   7.536024 ]\n",
      " [ -11.76936  ]]\n"
     ]
    },
    {
     "data": {
      "text/plain": [
       "[<matplotlib.lines.Line2D at 0x7f88dbecedc0>]"
      ]
     },
     "execution_count": 45,
     "metadata": {},
     "output_type": "execute_result"
    },
    {
     "data": {
      "image/png": "[encoded data removed]",
      "text/plain": [
       "<Figure size 432x288 with 1 Axes>"
      ]
     },
     "metadata": {
      "needs_background": "light"
     },
     "output_type": "display_data"
    }
   ],
   "source": [
    "predicted = model(X).detach().numpy()\n",
    "print(predicted)\n",
    "\n",
    "plt.plot(X_numpy, y_numpy, \"ro\")\n",
    "plt.plot(X_numpy, predicted)"
   ]
  }
 ],
 "metadata": {
  "kernelspec": {
   "display_name": "Python 3 (ipykernel)",
   "language": "python",
   "name": "python3"
  },
  "language_info": {
   "codemirror_mode": {
    "name": "ipython",
    "version": 3
   },
   "file_extension": ".py",
   "mimetype": "text/x-python",
   "name": "python",
   "nbconvert_exporter": "python",
   "pygments_lexer": "ipython3",
   "version": "3.9.7"
  }
 },
 "nbformat": 4,
 "nbformat_minor": 5
}
