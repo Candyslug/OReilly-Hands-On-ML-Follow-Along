{
 "cells": [
  {
   "cell_type": "code",
   "execution_count": 255,
   "id": "8f39e46e",
   "metadata": {},
   "outputs": [],
   "source": [
    "import torch\n",
    "import torch.nn as nn\n",
    "from tqdm import trange\n",
    "import numpy as np\n",
    "import pandas as pd\n",
    "import matplotlib.pyplot as plt\n",
    "from sklearn.preprocessing import StandardScaler\n",
    "from sklearn.model_selection import train_test_split"
   ]
  },
  {
   "cell_type": "code",
   "execution_count": 256,
   "id": "9094033d",
   "metadata": {},
   "outputs": [
    {
     "data": {
      "text/plain": [
       "(   YearsExperience    Salary\n",
       " 0              7.9  101302.0\n",
       " 1              4.0   55794.0\n",
       " 2              3.7   57189.0\n",
       " 3              3.2   64445.0\n",
       " 4              9.6  112635.0,\n",
       " (30, 2))"
      ]
     },
     "execution_count": 256,
     "metadata": {},
     "output_type": "execute_result"
    }
   ],
   "source": [
    "dataset = pd.read_csv(\"./datasets/Salary_Data.csv\")\n",
    "dataset = dataset.sample(frac=1).reset_index(drop=True)\n",
    "dataset.head(), dataset.shape"
   ]
  },
  {
   "cell_type": "code",
   "execution_count": 257,
   "id": "525ee279",
   "metadata": {},
   "outputs": [
    {
     "data": {
      "text/plain": [
       "(array([ 7.9,  4. ,  3.7,  3.2,  9.6,  7.1,  6.8,  1.5,  3.2,  4.1,  9. ,\n",
       "         5.1, 10.3,  9.5,  4.9,  8.2,  4.5,  1.3,  4. ,  5.9,  6. ,  5.3,\n",
       "         2.9,  8.7,  1.1, 10.5,  2. ,  2.2,  3.9,  3. ]),\n",
       " array([101302.,  55794.,  57189.,  64445., 112635.,  98273.,  91738.,\n",
       "         37731.,  54445.,  57081., 105582.,  66029., 122391., 116969.,\n",
       "         67938., 113812.,  61111.,  46205.,  56957.,  81363.,  93940.,\n",
       "         83088.,  56642., 109431.,  39343., 121872.,  43525.,  39891.,\n",
       "         63218.,  60150.]))"
      ]
     },
     "execution_count": 257,
     "metadata": {},
     "output_type": "execute_result"
    }
   ],
   "source": [
    "dataset = dataset.to_numpy()\n",
    "X, y = dataset[:,0], dataset[:,1]\n",
    "X, y"
   ]
  },
  {
   "cell_type": "code",
   "execution_count": 258,
   "id": "bd474ae1",
   "metadata": {},
   "outputs": [
    {
     "data": {
      "text/plain": [
       "<matplotlib.collections.PathCollection at 0x7fcfe77c1c70>"
      ]
     },
     "execution_count": 258,
     "metadata": {},
     "output_type": "execute_result"
    },
    {
     "data": {
      "image/png": "[encoded data removed]",
      "text/plain": [
       "<Figure size 432x288 with 1 Axes>"
      ]
     },
     "metadata": {
      "needs_background": "light"
     },
     "output_type": "display_data"
    }
   ],
   "source": [
    "plt.scatter(X,y)"
   ]
  },
  {
   "cell_type": "code",
   "execution_count": 259,
   "id": "1e7ad1e6",
   "metadata": {},
   "outputs": [
    {
     "name": "stdout",
     "output_type": "stream",
     "text": [
      "(20,) (10,) (20,) (10,)\n",
      "(20, 1) (10, 1) (20, 1) (10, 1)\n"
     ]
    }
   ],
   "source": [
    "X_train, X_test, y_train, y_test = train_test_split(X, y, test_size=0.33, random_state=42)\n",
    "print(X_train.shape, X_test.shape, y_train.shape, y_test.shape)\n",
    "\n",
    "X_train = X_train.reshape(-1, 1)\n",
    "X_test = X_test.reshape(-1, 1)\n",
    "y_train = y_train.reshape(-1, 1)\n",
    "y_test = y_test.reshape(-1, 1)\n",
    "\n",
    "print(X_train.shape, X_test.shape, y_train.shape, y_test.shape)\n",
    "\n",
    "sc = StandardScaler()\n",
    "\n",
    "X_train = sc.fit_transform(X_train)\n",
    "X_test = sc.transform(X_test)"
   ]
  },
  {
   "cell_type": "code",
   "execution_count": 260,
   "id": "02c8b05e",
   "metadata": {},
   "outputs": [],
   "source": [
    "X_train = torch.from_numpy(X_train.astype(np.float32))\n",
    "X_test = torch.from_numpy(X_test.astype(np.float32))\n",
    "y_train = torch.from_numpy(y_train.astype(np.float32))\n",
    "y_test = torch.from_numpy(y_test.astype(np.float32))"
   ]
  },
  {
   "cell_type": "code",
   "execution_count": 261,
   "id": "9b3eb601",
   "metadata": {},
   "outputs": [],
   "source": [
    "learning_rate = 0.01\n",
    "n_iters = 5000\n",
    "\n",
    "input_size, output_size = 1, 1\n",
    "\n",
    "model = nn.Linear(input_size, output_size)\n",
    "\n",
    "criterion = nn.MSELoss()\n",
    "optimizer = torch.optim.SGD(model.parameters(), lr=learning_rate)"
   ]
  },
  {
   "cell_type": "code",
   "execution_count": 262,
   "id": "512b030e",
   "metadata": {},
   "outputs": [
    {
     "name": "stderr",
     "output_type": "stream",
     "text": [
      "loss: 31924298.00000:  57%|█████████████████████████████████                         | 2852/5000 [00:02<00:01, 1297.93it/s]IOPub message rate exceeded.\n",
      "The notebook server will temporarily stop sending output\n",
      "to the client in order to avoid crashing it.\n",
      "To change this limit, set the config variable\n",
      "`--NotebookApp.iopub_msg_rate_limit`.\n",
      "\n",
      "Current values:\n",
      "NotebookApp.iopub_msg_rate_limit=1000.0 (msgs/sec)\n",
      "NotebookApp.rate_limit_window=3.0 (secs)\n",
      "\n",
      "loss: 31924298.00000: 100%|██████████████████████████████████████████████████████████| 5000/5000 [00:03<00:00, 1358.95it/s]\n"
     ]
    },
    {
     "data": {
      "text/plain": [
       "[<matplotlib.lines.Line2D at 0x7fcfe7d15d00>]"
      ]
     },
     "execution_count": 262,
     "metadata": {},
     "output_type": "execute_result"
    },
    {
     "data": {
      "image/png": "[encoded data removed]",
      "text/plain": [
       "<Figure size 432x288 with 1 Axes>"
      ]
     },
     "metadata": {
      "needs_background": "light"
     },
     "output_type": "display_data"
    }
   ],
   "source": [
    "losses = []\n",
    "for epoch in (t := trange(n_iters)):\n",
    "    \n",
    "    y_predicted = model(X_train)\n",
    "    \n",
    "    loss = criterion(y_predicted, y_train)\n",
    "    \n",
    "    \n",
    "    loss.backward()\n",
    "    \n",
    "    \n",
    "    optimizer.step()\n",
    "    \n",
    "    optimizer.zero_grad()\n",
    "    \n",
    "    \n",
    "    losses.append(loss.item())\n",
    "    \n",
    "    t.set_description(\"loss: %.5f\" % loss.item())\n",
    "    \n",
    "plt.plot(losses)"
   ]
  },
  {
   "cell_type": "code",
   "execution_count": 263,
   "id": "03eb8127",
   "metadata": {},
   "outputs": [
    {
     "data": {
      "text/plain": [
       "<matplotlib.collections.PathCollection at 0x7fcfe7f84940>"
      ]
     },
     "execution_count": 263,
     "metadata": {},
     "output_type": "execute_result"
    },
    {
     "data": {
      "image/png": "[encoded data removed]",
      "text/plain": [
       "<Figure size 432x288 with 1 Axes>"
      ]
     },
     "metadata": {
      "needs_background": "light"
     },
     "output_type": "display_data"
    }
   ],
   "source": [
    "predicted = model(X_test).detach().numpy()\n",
    "plt.scatter(X_test, predicted)\n",
    "plt.scatter(X_test, y_test)"
   ]
  }
 ],
 "metadata": {
  "kernelspec": {
   "display_name": "Python 3 (ipykernel)",
   "language": "python",
   "name": "python3"
  },
  "language_info": {
   "codemirror_mode": {
    "name": "ipython",
    "version": 3
   },
   "file_extension": ".py",
   "mimetype": "text/x-python",
   "name": "python",
   "nbconvert_exporter": "python",
   "pygments_lexer": "ipython3",
   "version": "3.9.7"
  }
 },
 "nbformat": 4,
 "nbformat_minor": 5
}
