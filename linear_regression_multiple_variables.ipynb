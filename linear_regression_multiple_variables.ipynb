{
 "cells": [
  {
   "cell_type": "code",
   "execution_count": 80,
   "id": "6dd4b0c6",
   "metadata": {},
   "outputs": [],
   "source": [
    "import numpy as np\n",
    "import pandas as pd\n",
    "from tqdm import tqdm\n",
    "from sklearn import datasets\n",
    "import matplotlib.pyplot as plt\n",
    "\n",
    "# best to split the data into a train & test batch (75:25 or similar)"
   ]
  },
  {
   "cell_type": "code",
   "execution_count": 81,
   "id": "6815f5b3",
   "metadata": {},
   "outputs": [
    {
     "name": "stdout",
     "output_type": "stream",
     "text": [
      "(442, 10) (442,)\n",
      "[[ 0.03807591  0.05068012  0.06169621  0.02187235 -0.0442235  -0.03482076\n",
      "  -0.04340085 -0.00259226  0.01990842 -0.01764613]\n",
      " [-0.00188202 -0.04464164 -0.05147406 -0.02632783 -0.00844872 -0.01916334\n",
      "   0.07441156 -0.03949338 -0.06832974 -0.09220405]\n",
      " [ 0.08529891  0.05068012  0.04445121 -0.00567061 -0.04559945 -0.03419447\n",
      "  -0.03235593 -0.00259226  0.00286377 -0.02593034]\n",
      " [-0.08906294 -0.04464164 -0.01159501 -0.03665645  0.01219057  0.02499059\n",
      "  -0.03603757  0.03430886  0.02269202 -0.00936191]\n",
      " [ 0.00538306 -0.04464164 -0.03638469  0.02187235  0.00393485  0.01559614\n",
      "   0.00814208 -0.00259226 -0.03199144 -0.04664087]] [151.  75. 141. 206. 135.]\n",
      "10 442\n",
      "25.0 346.0 152.13348416289594\n"
     ]
    }
   ],
   "source": [
    "# using sklean diabetes dataset\n",
    "data_X, data_y = datasets.load_diabetes(return_X_y=True)\n",
    "n = 10\n",
    "m = len(data_y)\n",
    "# peaking into the dataset\n",
    "print(data_X.shape, data_y.shape)\n",
    "print(data_X[0:5], data_y[0:5])\n",
    "print(n, m)\n",
    "print(np.min(data_y), np.max(data_y), np.mean(data_y))"
   ]
  },
  {
   "cell_type": "code",
   "execution_count": 82,
   "id": "07853e5d",
   "metadata": {},
   "outputs": [],
   "source": [
    "# function to predict y\n",
    "def predict(weights, Xs):\n",
    "    return weights[0] + weights[1:].T.dot(Xs)\n",
    "\n",
    "# evaluate total cost (predictions of entire dataset)\n",
    "def cost_function(weights, X):\n",
    "    losses = []\n",
    "    for i in range(m):\n",
    "        losses.append((predict(weights, X[i])-data_y[i])**2)\n",
    "    return (1/m)*np.sum(losses)\n",
    "\n",
    "# get derivative with respect to each individual weight\n",
    "def derive_cost(weights, X):\n",
    "    H = 0.0000001\n",
    "    derivatives = np.zeros(n+1)\n",
    "    for i in range(n+1):\n",
    "        temp = np.copy(weights)\n",
    "        temp[i] = temp[i]+H\n",
    "        a = cost_function(temp, X) - cost_function(weights, X)\n",
    "        derivatives[i] = a/H\n",
    "    return derivatives"
   ]
  },
  {
   "cell_type": "code",
   "execution_count": 83,
   "id": "df690810",
   "metadata": {},
   "outputs": [],
   "source": [
    "def absolute_loss(weights, X):\n",
    "    losses = np.zeros(m)\n",
    "    for i in range(m):\n",
    "        losses[i] = abs(predict(weights, X[i])-data_y[i])\n",
    "    return losses"
   ]
  },
  {
   "cell_type": "code",
   "execution_count": 84,
   "id": "e870c30d",
   "metadata": {},
   "outputs": [
    {
     "name": "stdout",
     "output_type": "stream",
     "text": [
      "[1. 1. 1. 1. 1. 1. 1. 1. 1. 1. 1.]\n",
      "11\n"
     ]
    },
    {
     "name": "stderr",
     "output_type": "stream",
     "text": [
      "100%|███████████████████████████████████████| 1696/1696 [04:54<00:00,  5.76it/s]\n"
     ]
    },
    {
     "data": {
      "text/plain": [
       "[<matplotlib.lines.Line2D at 0x7fe9180e4640>]"
      ]
     },
     "execution_count": 84,
     "metadata": {},
     "output_type": "execute_result"
    },
    {
     "data": {
      "image/png": "[encoded data removed]",
      "text/plain": [
       "<Figure size 432x288 with 1 Axes>"
      ]
     },
     "metadata": {
      "needs_background": "light"
     },
     "output_type": "display_data"
    }
   ],
   "source": [
    "lr = 0.001\n",
    "n_epochs = 1696\n",
    "\n",
    "my_weights = np.ones(n + 1)\n",
    "print(my_weights)\n",
    "\n",
    "los = []\n",
    "abslos = []\n",
    "\n",
    "print(len(derive_cost(my_weights, data_X)))\n",
    "for epoch in tqdm(range(n_epochs)):\n",
    "    \n",
    "    temp_weights = np.copy(my_weights)\n",
    "    for i in range(len(temp_weights)):\n",
    "        temp_weights[i] = temp_weights[i]-derive_cost(my_weights, data_X)[i]*lr\n",
    "        \n",
    "    los.append(cost_function(my_weights, data_X))\n",
    "    abslos.append(absolute_loss(my_weights, data_X))\n",
    "        \n",
    "    my_weights = np.copy(temp_weights)\n",
    "\n",
    "plt.plot(los)"
   ]
  },
  {
   "cell_type": "code",
   "execution_count": 86,
   "id": "6da87ed1",
   "metadata": {},
   "outputs": [
    {
     "name": "stdout",
     "output_type": "stream",
     "text": [
      "[147.06639209   3.26868107   1.48588419   8.18643794   6.39505853\n",
      "   3.54173284   3.07272446  -3.82766781   6.23190131   7.91601297\n",
      "   5.65383192]\n",
      "prediction 0 [158] : 145.46771512933594 96.0(absolute loss = 49.46771512933594)\n",
      "prediction 1 [154] : 147.72839320603396 197.0(absolute loss = 49.27160679396604)\n",
      "prediction 2 [290] : 149.0945445241684 332.0(absolute loss = 182.9054554758316)\n",
      "prediction 3 [5] : 144.246817152173 97.0(absolute loss = 47.24681715217301)\n",
      "prediction 4 [160] : 145.049378381855 53.0(absolute loss = 92.049378381855)\n",
      "28518.74979983506\n",
      "0.18301193555120676 197.62795457248052 64.52205837066755\n"
     ]
    }
   ],
   "source": [
    "from random import randint\n",
    "\n",
    "\n",
    "def display_loss_stats():\n",
    "    losses = absolute_loss(my_weights, data_X)\n",
    "    print(np.min(losses), np.max(losses), np.mean(losses))\n",
    "\n",
    "# evaluate results and compare with labels\n",
    "print(my_weights)\n",
    "evals = []\n",
    "for i in range(m):\n",
    "    evals.append(predict(my_weights, data_X[i]))\n",
    "# quickly display n random comparisons using updated weights\n",
    "for i in range(5):\n",
    "    r = randint(0, m)\n",
    "    print(\"prediction {} [{}] :\".format(i, r), predict(my_weights, data_X[r]), data_y[r], end='')\n",
    "    print(\"(absolute loss = {})\".format(np.abs(predict(my_weights, data_X[r])-data_y[r])))\n",
    "\n",
    "print(np.sum(absolute_loss(my_weights, data_X)))\n",
    "display_loss_stats()"
   ]
  }
 ],
 "metadata": {
  "kernelspec": {
   "display_name": "Python 3 (ipykernel)",
   "language": "python",
   "name": "python3"
  },
  "language_info": {
   "codemirror_mode": {
    "name": "ipython",
    "version": 3
   },
   "file_extension": ".py",
   "mimetype": "text/x-python",
   "name": "python",
   "nbconvert_exporter": "python",
   "pygments_lexer": "ipython3",
   "version": "3.9.7"
  }
 },
 "nbformat": 4,
 "nbformat_minor": 5
}
