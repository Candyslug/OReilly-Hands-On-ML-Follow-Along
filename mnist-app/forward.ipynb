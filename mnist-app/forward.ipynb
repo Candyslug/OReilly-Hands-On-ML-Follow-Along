{
 "cells": [
  {
   "cell_type": "code",
   "execution_count": 8,
   "id": "34e2548d-c31d-46e4-b2c9-5bbae59f13db",
   "metadata": {},
   "outputs": [],
   "source": [
    "import numpy as np\n",
    "import matplotlib.pyplot as plt"
   ]
  },
  {
   "cell_type": "code",
   "execution_count": 15,
   "id": "863c091b-72cd-4b65-b69d-d77bacd953dd",
   "metadata": {},
   "outputs": [],
   "source": [
    "f = open(\"model_weights.txt\", \"r\")\n",
    "output = f.readlines()"
   ]
  },
  {
   "cell_type": "code",
   "execution_count": 16,
   "id": "79851209-1997-4872-88f7-a9daaca0a976",
   "metadata": {},
   "outputs": [
    {
     "data": {
      "text/plain": [
       "12"
      ]
     },
     "execution_count": 16,
     "metadata": {},
     "output_type": "execute_result"
    }
   ],
   "source": [
    "len(output)"
   ]
  },
  {
   "cell_type": "code",
   "execution_count": 17,
   "id": "5fc06c88-ad8c-4dfd-97cf-4b85d2defa17",
   "metadata": {},
   "outputs": [],
   "source": [
    "# extract weights from model_weights.txt,\n",
    "# and recreate the forward pass from that model"
   ]
  }
 ],
 "metadata": {
  "kernelspec": {
   "display_name": "Python 3 (ipykernel)",
   "language": "python",
   "name": "python3"
  },
  "language_info": {
   "codemirror_mode": {
    "name": "ipython",
    "version": 3
   },
   "file_extension": ".py",
   "mimetype": "text/x-python",
   "name": "python",
   "nbconvert_exporter": "python",
   "pygments_lexer": "ipython3",
   "version": "3.9.16"
  }
 },
 "nbformat": 4,
 "nbformat_minor": 5
}
