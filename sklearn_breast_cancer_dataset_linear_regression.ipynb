{
 "cells": [
  {
   "cell_type": "code",
   "execution_count": 422,
   "id": "0dffede1",
   "metadata": {},
   "outputs": [],
   "source": [
    "import torch \n",
    "import torch.nn as nn\n",
    "import numpy as np\n",
    "from tqdm import trange\n",
    "from sklearn.preprocessing import StandardScaler\n",
    "import sklearn.datasets\n",
    "import pandas as pd\n",
    "from sklearn.model_selection import train_test_split\n",
    "import matplotlib.pyplot as plt"
   ]
  },
  {
   "cell_type": "code",
   "execution_count": 423,
   "id": "e7700753",
   "metadata": {},
   "outputs": [
    {
     "data": {
      "text/plain": [
       "((569, 30), (569,))"
      ]
     },
     "execution_count": 423,
     "metadata": {},
     "output_type": "execute_result"
    }
   ],
   "source": [
    "bc = sklearn.datasets.load_breast_cancer()\n",
    "X, y = bc.data, bc.target\n",
    "X.shape, y.shape"
   ]
  },
  {
   "cell_type": "code",
   "execution_count": 424,
   "id": "c872cc3c",
   "metadata": {
    "scrolled": true
   },
   "outputs": [
    {
     "data": {
      "text/html": [
       "<div>\n",
       "<style scoped>\n",
       "    .dataframe tbody tr th:only-of-type {\n",
       "        vertical-align: middle;\n",
       "    }\n",
       "\n",
       "    .dataframe tbody tr th {\n",
       "        vertical-align: top;\n",
       "    }\n",
       "\n",
       "    .dataframe thead th {\n",
       "        text-align: right;\n",
       "    }\n",
       "</style>\n",
       "<table border=\"1\" class=\"dataframe\">\n",
       "  <thead>\n",
       "    <tr style=\"text-align: right;\">\n",
       "      <th></th>\n",
       "      <th>mean radius</th>\n",
       "      <th>mean texture</th>\n",
       "      <th>mean perimeter</th>\n",
       "      <th>mean area</th>\n",
       "      <th>mean smoothness</th>\n",
       "      <th>mean compactness</th>\n",
       "      <th>mean concavity</th>\n",
       "      <th>mean concave points</th>\n",
       "      <th>mean symmetry</th>\n",
       "      <th>mean fractal dimension</th>\n",
       "      <th>...</th>\n",
       "      <th>worst texture</th>\n",
       "      <th>worst perimeter</th>\n",
       "      <th>worst area</th>\n",
       "      <th>worst smoothness</th>\n",
       "      <th>worst compactness</th>\n",
       "      <th>worst concavity</th>\n",
       "      <th>worst concave points</th>\n",
       "      <th>worst symmetry</th>\n",
       "      <th>worst fractal dimension</th>\n",
       "      <th>labels</th>\n",
       "    </tr>\n",
       "  </thead>\n",
       "  <tbody>\n",
       "    <tr>\n",
       "      <th>0</th>\n",
       "      <td>12.880</td>\n",
       "      <td>28.92</td>\n",
       "      <td>82.50</td>\n",
       "      <td>514.3</td>\n",
       "      <td>0.08123</td>\n",
       "      <td>0.05824</td>\n",
       "      <td>0.06195</td>\n",
       "      <td>0.02343</td>\n",
       "      <td>0.1566</td>\n",
       "      <td>0.05708</td>\n",
       "      <td>...</td>\n",
       "      <td>35.74</td>\n",
       "      <td>88.84</td>\n",
       "      <td>595.7</td>\n",
       "      <td>0.12270</td>\n",
       "      <td>0.1620</td>\n",
       "      <td>0.2439</td>\n",
       "      <td>0.06493</td>\n",
       "      <td>0.2372</td>\n",
       "      <td>0.07242</td>\n",
       "      <td>1</td>\n",
       "    </tr>\n",
       "    <tr>\n",
       "      <th>1</th>\n",
       "      <td>18.080</td>\n",
       "      <td>21.84</td>\n",
       "      <td>117.40</td>\n",
       "      <td>1024.0</td>\n",
       "      <td>0.07371</td>\n",
       "      <td>0.08642</td>\n",
       "      <td>0.11030</td>\n",
       "      <td>0.05778</td>\n",
       "      <td>0.1770</td>\n",
       "      <td>0.05340</td>\n",
       "      <td>...</td>\n",
       "      <td>24.70</td>\n",
       "      <td>129.10</td>\n",
       "      <td>1228.0</td>\n",
       "      <td>0.08822</td>\n",
       "      <td>0.1963</td>\n",
       "      <td>0.2535</td>\n",
       "      <td>0.09181</td>\n",
       "      <td>0.2369</td>\n",
       "      <td>0.06558</td>\n",
       "      <td>0</td>\n",
       "    </tr>\n",
       "    <tr>\n",
       "      <th>2</th>\n",
       "      <td>15.300</td>\n",
       "      <td>25.27</td>\n",
       "      <td>102.40</td>\n",
       "      <td>732.4</td>\n",
       "      <td>0.10820</td>\n",
       "      <td>0.16970</td>\n",
       "      <td>0.16830</td>\n",
       "      <td>0.08751</td>\n",
       "      <td>0.1926</td>\n",
       "      <td>0.06540</td>\n",
       "      <td>...</td>\n",
       "      <td>36.71</td>\n",
       "      <td>149.30</td>\n",
       "      <td>1269.0</td>\n",
       "      <td>0.16410</td>\n",
       "      <td>0.6110</td>\n",
       "      <td>0.6335</td>\n",
       "      <td>0.20240</td>\n",
       "      <td>0.4027</td>\n",
       "      <td>0.09876</td>\n",
       "      <td>0</td>\n",
       "    </tr>\n",
       "    <tr>\n",
       "      <th>3</th>\n",
       "      <td>9.436</td>\n",
       "      <td>18.32</td>\n",
       "      <td>59.82</td>\n",
       "      <td>278.6</td>\n",
       "      <td>0.10090</td>\n",
       "      <td>0.05956</td>\n",
       "      <td>0.02710</td>\n",
       "      <td>0.01406</td>\n",
       "      <td>0.1506</td>\n",
       "      <td>0.06959</td>\n",
       "      <td>...</td>\n",
       "      <td>25.02</td>\n",
       "      <td>75.79</td>\n",
       "      <td>439.6</td>\n",
       "      <td>0.13330</td>\n",
       "      <td>0.1049</td>\n",
       "      <td>0.1144</td>\n",
       "      <td>0.05052</td>\n",
       "      <td>0.2454</td>\n",
       "      <td>0.08136</td>\n",
       "      <td>1</td>\n",
       "    </tr>\n",
       "    <tr>\n",
       "      <th>4</th>\n",
       "      <td>13.860</td>\n",
       "      <td>16.93</td>\n",
       "      <td>90.96</td>\n",
       "      <td>578.9</td>\n",
       "      <td>0.10260</td>\n",
       "      <td>0.15170</td>\n",
       "      <td>0.09901</td>\n",
       "      <td>0.05602</td>\n",
       "      <td>0.2106</td>\n",
       "      <td>0.06916</td>\n",
       "      <td>...</td>\n",
       "      <td>26.93</td>\n",
       "      <td>104.40</td>\n",
       "      <td>750.1</td>\n",
       "      <td>0.14600</td>\n",
       "      <td>0.4370</td>\n",
       "      <td>0.4636</td>\n",
       "      <td>0.16540</td>\n",
       "      <td>0.3630</td>\n",
       "      <td>0.10590</td>\n",
       "      <td>0</td>\n",
       "    </tr>\n",
       "  </tbody>\n",
       "</table>\n",
       "<p>5 rows × 31 columns</p>\n",
       "</div>"
      ],
      "text/plain": [
       "   mean radius  mean texture  mean perimeter  mean area  mean smoothness  \\\n",
       "0       12.880         28.92           82.50      514.3          0.08123   \n",
       "1       18.080         21.84          117.40     1024.0          0.07371   \n",
       "2       15.300         25.27          102.40      732.4          0.10820   \n",
       "3        9.436         18.32           59.82      278.6          0.10090   \n",
       "4       13.860         16.93           90.96      578.9          0.10260   \n",
       "\n",
       "   mean compactness  mean concavity  mean concave points  mean symmetry  \\\n",
       "0           0.05824         0.06195              0.02343         0.1566   \n",
       "1           0.08642         0.11030              0.05778         0.1770   \n",
       "2           0.16970         0.16830              0.08751         0.1926   \n",
       "3           0.05956         0.02710              0.01406         0.1506   \n",
       "4           0.15170         0.09901              0.05602         0.2106   \n",
       "\n",
       "   mean fractal dimension  ...  worst texture  worst perimeter  worst area  \\\n",
       "0                 0.05708  ...          35.74            88.84       595.7   \n",
       "1                 0.05340  ...          24.70           129.10      1228.0   \n",
       "2                 0.06540  ...          36.71           149.30      1269.0   \n",
       "3                 0.06959  ...          25.02            75.79       439.6   \n",
       "4                 0.06916  ...          26.93           104.40       750.1   \n",
       "\n",
       "   worst smoothness  worst compactness  worst concavity  worst concave points  \\\n",
       "0           0.12270             0.1620           0.2439               0.06493   \n",
       "1           0.08822             0.1963           0.2535               0.09181   \n",
       "2           0.16410             0.6110           0.6335               0.20240   \n",
       "3           0.13330             0.1049           0.1144               0.05052   \n",
       "4           0.14600             0.4370           0.4636               0.16540   \n",
       "\n",
       "   worst symmetry  worst fractal dimension  labels  \n",
       "0          0.2372                  0.07242       1  \n",
       "1          0.2369                  0.06558       0  \n",
       "2          0.4027                  0.09876       0  \n",
       "3          0.2454                  0.08136       1  \n",
       "4          0.3630                  0.10590       0  \n",
       "\n",
       "[5 rows x 31 columns]"
      ]
     },
     "execution_count": 424,
     "metadata": {},
     "output_type": "execute_result"
    }
   ],
   "source": [
    "ddd = pd.DataFrame(X, columns=bc.feature_names)\n",
    "ddd[\"labels\"] = y\n",
    "ddd = ddd.sample(frac=1).reset_index(drop=True)\n",
    "ddd.head()"
   ]
  },
  {
   "cell_type": "code",
   "execution_count": 425,
   "id": "1d4140be",
   "metadata": {},
   "outputs": [],
   "source": [
    "y = ddd[\"labels\"].to_numpy()\n",
    "ddd = ddd.drop(columns=[\"labels\"])\n",
    "X = ddd.to_numpy()"
   ]
  },
  {
   "cell_type": "code",
   "execution_count": 426,
   "id": "08d3763b",
   "metadata": {},
   "outputs": [],
   "source": [
    "X_train, X_test, y_train, y_test = train_test_split(X, y, test_size=0.2, random_state=42)\n",
    "sc = StandardScaler()\n",
    "X_train = sc.fit_transform(X_train)\n",
    "X_test = sc.transform(X_test)\n",
    "\n",
    "X_train = torch.from_numpy(X_train.astype(np.float32))\n",
    "X_test = torch.from_numpy(X_test.astype(np.float32))\n",
    "y_train = torch.from_numpy(y_train.astype(np.float32))\n",
    "y_test = torch.from_numpy(y_test.astype(np.float32))\n",
    "\n",
    "y_train = y_train.view(-1, 1)"
   ]
  },
  {
   "cell_type": "code",
   "execution_count": 427,
   "id": "fcf596f0",
   "metadata": {},
   "outputs": [],
   "source": [
    "class DavNet(nn.Module):\n",
    "    \n",
    "    def __init__(self, n_features, output_size):\n",
    "        super(DavNet, self).__init__()\n",
    "        self.linear = nn.Linear(n_features, output_size)\n",
    "        \n",
    "    def forward(self, x):\n",
    "        prediction = torch.sigmoid(self.linear(x))\n",
    "        return prediction\n",
    "    \n",
    "learning_rate = 0.01\n",
    "n_features = X_train.shape[1]\n",
    "output_size = 1\n",
    "    \n",
    "model = DavNet(n_features, output_size)\n",
    "loss_function = nn.MSELoss()\n",
    "optimizer = torch.optim.SGD(model.parameters(), lr=learning_rate)"
   ]
  },
  {
   "cell_type": "code",
   "execution_count": 428,
   "id": "1f2f4fd3",
   "metadata": {},
   "outputs": [
    {
     "name": "stderr",
     "output_type": "stream",
     "text": [
      "lolololoss: 0.02990: 100%|███████████████████████████████████████████████████████████| 2000/2000 [00:01<00:00, 1146.85it/s]\n"
     ]
    },
    {
     "data": {
      "text/plain": [
       "[<matplotlib.lines.Line2D at 0x7fcca1ff6070>]"
      ]
     },
     "execution_count": 428,
     "metadata": {},
     "output_type": "execute_result"
    },
    {
     "data": {
      "image/png": "[encoded data removed]",
      "text/plain": [
       "<Figure size 432x288 with 1 Axes>"
      ]
     },
     "metadata": {
      "needs_background": "light"
     },
     "output_type": "display_data"
    }
   ],
   "source": [
    "n_epochs = 2000\n",
    "\n",
    "losses = []\n",
    "accuracies = []\n",
    "for epoch in (t := trange(n_epochs)):\n",
    "    \n",
    "    optimizer.zero_grad()   \n",
    "    predictions = model(X_train)   \n",
    "    accuracies.append((predictions.round()==y_train).numpy().mean())  \n",
    "    loss = loss_function(predictions, y_train) \n",
    "    loss.backward()  \n",
    "    optimizer.step()\n",
    "    \n",
    "    losses.append(loss.item())\n",
    "    t.set_description(\"lolololoss: %.5f\" % loss.item())\n",
    "    \n",
    "plt.plot(losses)\n",
    "plt.plot(accuracies)"
   ]
  },
  {
   "cell_type": "code",
   "execution_count": 429,
   "id": "6d843222",
   "metadata": {
    "scrolled": true
   },
   "outputs": [
    {
     "data": {
      "text/plain": [
       "('accuracy percentage on test data:', 0.9649122807017544)"
      ]
     },
     "execution_count": 429,
     "metadata": {},
     "output_type": "execute_result"
    }
   ],
   "source": [
    "test_predictions = model(X_test).detach().numpy().round()\n",
    "y_test_stuff = y_test.numpy().reshape(-1, 1)\n",
    "comparison = test_predictions == y_test_stuff\n",
    "\"accuracy percentage on test data:\", comparison.sum()/len(comparison)"
   ]
  }
 ],
 "metadata": {
  "kernelspec": {
   "display_name": "Python 3 (ipykernel)",
   "language": "python",
   "name": "python3"
  },
  "language_info": {
   "codemirror_mode": {
    "name": "ipython",
    "version": 3
   },
   "file_extension": ".py",
   "mimetype": "text/x-python",
   "name": "python",
   "nbconvert_exporter": "python",
   "pygments_lexer": "ipython3",
   "version": "3.9.7"
  }
 },
 "nbformat": 4,
 "nbformat_minor": 5
}
