{
 "cells": [
  {
   "cell_type": "code",
   "execution_count": 242,
   "id": "0d326407",
   "metadata": {},
   "outputs": [],
   "source": [
    "# for learning!!! just getting used to torch library"
   ]
  },
  {
   "cell_type": "code",
   "execution_count": 243,
   "id": "0a728ae6",
   "metadata": {},
   "outputs": [],
   "source": [
    "import torch\n",
    "import torch.nn as nn\n",
    "from tqdm import trange"
   ]
  },
  {
   "cell_type": "raw",
   "id": "e2468da1",
   "metadata": {},
   "source": [
    "prediction :            manually      -> pytorch model (4)\n",
    "gradients computatoin : manually      -> autograd (2)\n",
    "loss computation :      manually      -> pytorch loss (3)\n",
    "parameter updates:      manually      -> pytorch optimizer (3)"
   ]
  },
  {
   "cell_type": "code",
   "execution_count": 244,
   "id": "bcc035a0",
   "metadata": {},
   "outputs": [],
   "source": [
    "#step 1: linear regression (using torch)\n",
    "\n",
    "\n",
    "#pytorch steps\n",
    "\n",
    "#1) design model (input, output size, forward pass)\n",
    "#2) construct loss and the optimizer\n",
    "#3) training loop (this iterates n times)\n",
    "#    - forward pass: compute the prediction\n",
    "#    - backward pass: get gradients\n",
    "#    - update weights"
   ]
  },
  {
   "cell_type": "code",
   "execution_count": 245,
   "id": "92bee7f1",
   "metadata": {},
   "outputs": [],
   "source": [
    "# f = w * x\n",
    "\n",
    "# weight should be 2\n",
    "\n",
    "X = torch.tensor([1, 2, 3, 4], dtype=torch.float32)\n",
    "y = torch.tensor([2, 4, 6, 8], dtype=torch.float32)"
   ]
  },
  {
   "cell_type": "code",
   "execution_count": 246,
   "id": "f954bbe6",
   "metadata": {},
   "outputs": [
    {
     "name": "stdout",
     "output_type": "stream",
     "text": [
      "4 1\n"
     ]
    }
   ],
   "source": [
    "# reshape the inputs X,y\n",
    "\n",
    "X = torch.tensor([[1], [2], [3], [4]], dtype=torch.float32)\n",
    "y = torch.tensor([[2], [4], [6], [8]], dtype=torch.float32)\n",
    "\n",
    "X_test = torch.tensor([5], dtype=torch.float32)\n",
    "\n",
    "n_samples, n_features = X.shape\n",
    "print(n_samples, n_features)\n",
    "\n",
    "input_size = n_features\n",
    "output_size = n_features\n",
    "\n",
    "#model = nn.Linear(input_size, output_size)"
   ]
  },
  {
   "cell_type": "code",
   "execution_count": 247,
   "id": "f02aebec",
   "metadata": {},
   "outputs": [],
   "source": [
    "# custom model\n",
    "\n",
    "class LinearRegression(nn.Module):\n",
    "    def __init__(self, input_dim, output_dim):\n",
    "        super(LinearRegression, self).__init__()\n",
    "        # define layers\n",
    "        self.lin = nn.Linear(input_dim, output_dim)\n",
    "        \n",
    "    def forward(self, x):\n",
    "        return self.lin(x)\n",
    "        \n",
    "model = LinearRegression(input_size, output_size)"
   ]
  },
  {
   "cell_type": "code",
   "execution_count": 248,
   "id": "1647a2d5",
   "metadata": {},
   "outputs": [
    {
     "name": "stdout",
     "output_type": "stream",
     "text": [
      "Prediction before training: f(5) =  -4.945174694061279\n"
     ]
    }
   ],
   "source": [
    "print(\"Prediction before training: f(5) = \", model(X_test).item())"
   ]
  },
  {
   "cell_type": "code",
   "execution_count": 249,
   "id": "27c0476e",
   "metadata": {},
   "outputs": [
    {
     "name": "stderr",
     "output_type": "stream",
     "text": [
      "loss 0.00026, weight 2.00000: 100%|███████████████████████████████████████| 1000/1000 [00:00<00:00, 1262.10it/s]\n"
     ]
    }
   ],
   "source": [
    "# training\n",
    "\n",
    "learning_rate = 0.01\n",
    "n_iters = 1000\n",
    "\n",
    "loss = nn.MSELoss()\n",
    "optimizer = torch.optim.SGD(model.parameters(), lr=learning_rate)\n",
    "\n",
    "for epoch in (t := trange(n_iters)):\n",
    "    # prediction = forward pass\n",
    "    y_pred = model(X)\n",
    "    \n",
    "    # loss\n",
    "    l = loss(y, y_pred)\n",
    "    \n",
    "    # gradients = backward pass\n",
    "    l.backward() # dl/dw\n",
    "    \n",
    "    # update weights\n",
    "    optimizer.step()\n",
    "        \n",
    "    # zero gradients\n",
    "    optimizer.zero_grad()\n",
    "    \n",
    "    t.set_description(\"loss %.5f, weight %.5f\" % (l, w[0][0].item()))"
   ]
  },
  {
   "cell_type": "code",
   "execution_count": 250,
   "id": "97b86eda",
   "metadata": {},
   "outputs": [
    {
     "name": "stdout",
     "output_type": "stream",
     "text": [
      "Prediction after training: f(5) =  9.972457885742188\n"
     ]
    }
   ],
   "source": [
    "print(\"Prediction after training: f(5) = \", model(X_test).item\n",
    "    "
   ]
  }
 ],
 "metadata": {
  "kernelspec": {
   "display_name": "Python 3 (ipykernel)",
   "language": "python",
   "name": "python3"
  },
  "language_info": {
   "codemirror_mode": {
    "name": "ipython",
    "version": 3
   },
   "file_extension": ".py",
   "mimetype": "text/x-python",
   "name": "python",
   "nbconvert_exporter": "python",
   "pygments_lexer": "ipython3",
   "version": "3.9.7"
  }
 },
 "nbformat": 4,
 "nbformat_minor": 5
}
