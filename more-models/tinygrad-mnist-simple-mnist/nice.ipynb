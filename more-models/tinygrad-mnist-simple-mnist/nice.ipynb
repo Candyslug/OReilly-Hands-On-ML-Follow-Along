{
 "cells": [
  {
   "cell_type": "code",
   "execution_count": 2,
   "id": "a84498e8-2ed5-48f2-9e16-1ec25a2a20c3",
   "metadata": {},
   "outputs": [],
   "source": [
    "from tinygrad.tensor import Tensor\n",
    "\n",
    "import tinygrad.nn as nn\n",
    "from tinygrad.nn.optim import SGD"
   ]
  },
  {
   "cell_type": "code",
   "execution_count": 3,
   "id": "b2f3cd4e-67d1-48fb-948b-2bfd26ac1bd8",
   "metadata": {},
   "outputs": [
    {
     "data": {
      "text/plain": [
       "tensor(0.9398)"
      ]
     },
     "execution_count": 3,
     "metadata": {},
     "output_type": "execute_result"
    }
   ],
   "source": [
    "import torch\n",
    "import torch.nn as tnn\n",
    "cel = tnn.CrossEntropyLoss()\n",
    "x = torch.Tensor([0.5, 0.3, 0.2])\n",
    "y = torch.Tensor([1, 0, 0])\n",
    "\n",
    "cel(x, y)"
   ]
  },
  {
   "cell_type": "code",
   "execution_count": 4,
   "id": "291de8be-1699-42ce-abf2-1afec9f57dad",
   "metadata": {},
   "outputs": [
    {
     "data": {
      "text/plain": [
       "array(0.939831, dtype=float32)"
      ]
     },
     "execution_count": 4,
     "metadata": {},
     "output_type": "execute_result"
    }
   ],
   "source": [
    "def crossentropyloss(pred: Tensor, label: Tensor) -> Tensor:\n",
    "    return -(label.dot(pred.softmax().log())).sum()\n",
    "loss = crossentropyloss(Tensor([0.5, 0.3, 0.2]), Tensor([1, 0, 0]))\n",
    "loss.numpy()"
   ]
  },
  {
   "cell_type": "code",
   "execution_count": 5,
   "id": "9c296c4f-ed23-4868-9c3f-a761d10c7551",
   "metadata": {},
   "outputs": [],
   "source": [
    "from dataloader import load_batch\n",
    "\n",
    "\n",
    "class model:\n",
    "    def __init__(self):\n",
    "        self.layers = [\n",
    "            nn.Linear(784, 392),\n",
    "            nn.Linear(392, 392),\n",
    "            nn.Linear(392, 10)\n",
    "        ]\n",
    "    def forward(self, x: Tensor):\n",
    "        for layer in self.layers:\n",
    "            x = layer(x).relu()\n",
    "        return x.log_softmax()\n",
    "        \n",
    "model = model()\n",
    "\n",
    "out = model.forward(Tensor.zeros((1,784)))\n",
    "\n"
   ]
  },
  {
   "cell_type": "code",
   "execution_count": 10,
   "id": "9b1c48f9-faf4-4a97-b695-6d502b21f718",
   "metadata": {},
   "outputs": [
    {
     "ename": "SyntaxError",
     "evalue": "expected ':' (1039842181.py, line 5)",
     "output_type": "error",
     "traceback": [
      "\u001b[0;36m  Cell \u001b[0;32mIn[10], line 5\u001b[0;36m\u001b[0m\n\u001b[0;31m    for batch in range(N_BATCHES)\u001b[0m\n\u001b[0m                                 ^\u001b[0m\n\u001b[0;31mSyntaxError\u001b[0m\u001b[0;31m:\u001b[0m expected ':'\n"
     ]
    }
   ],
   "source": [
    "BS = 32\n",
    "N_EPOCHS = 5 \n",
    "N_BATCHES = 128*1000\n",
    "for epoch in range(N_EPOCHS):\n",
    "    for batch in range(N_BATCHES)\n",
    "        x, y = load_batch(BS)\n",
    "        out = model.forwrad(x)\n",
    "        "
   ]
  },
  {
   "cell_type": "code",
   "execution_count": null,
   "id": "87792c27-95e1-4091-ab8c-19fe4616dd88",
   "metadata": {},
   "outputs": [],
   "source": []
  }
 ],
 "metadata": {
  "kernelspec": {
   "display_name": "Python 3 (ipykernel)",
   "language": "python",
   "name": "python3"
  },
  "language_info": {
   "codemirror_mode": {
    "name": "ipython",
    "version": 3
   },
   "file_extension": ".py",
   "mimetype": "text/x-python",
   "name": "python",
   "nbconvert_exporter": "python",
   "pygments_lexer": "ipython3",
   "version": "3.11.5"
  }
 },
 "nbformat": 4,
 "nbformat_minor": 5
}
