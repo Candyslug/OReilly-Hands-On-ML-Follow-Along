{
 "cells": [
  {
   "cell_type": "code",
   "execution_count": 347,
   "id": "0f56982d-0310-497a-a7e5-effa5bcc90c0",
   "metadata": {},
   "outputs": [],
   "source": [
    "import numpy as np\n",
    "from tqdm import tqdm"
   ]
  },
  {
   "cell_type": "code",
   "execution_count": 348,
   "id": "55945991-f595-457a-9bb2-94602d95bcbf",
   "metadata": {},
   "outputs": [],
   "source": [
    "import matplotlib.pyplot as plt\n",
    "%matplotlib inline"
   ]
  },
  {
   "cell_type": "code",
   "execution_count": 349,
   "id": "804dc320-ef42-4149-a3a4-a3814a6300e8",
   "metadata": {},
   "outputs": [],
   "source": [
    "from tinygrad.tensor import Tensor\n",
    "from tinygrad.nn import Linear\n",
    "from tinygrad.nn.optim import SGD"
   ]
  },
  {
   "cell_type": "code",
   "execution_count": 434,
   "id": "156af168-b672-4e50-a39c-3979b6137173",
   "metadata": {},
   "outputs": [
    {
     "name": "stdout",
     "output_type": "stream",
     "text": [
      "(1, 1000) (1, 1000)\n",
      "-12839.154 60535.43\n"
     ]
    }
   ],
   "source": [
    "secret_weight = Tensor(5)\n",
    "secret_weight_2 = Tensor(1.3)\n",
    "secret_bias = Tensor(-8000)\n",
    "\n",
    "# prep random data\n",
    "\n",
    "X = Tensor(np.arange(0, 1000)).unsqueeze(dim=0)\n",
    "y = (((X*Tensor.uniform(1000, low=1.0)*(secret_weight))**secret_weight_2) + secret_bias) + (Tensor.uniform(1000.0)*5000.0)\n",
    "y.requires_grad=True\n",
    "\n",
    "print(X.shape, y.shape)\n",
    "print(y.min().numpy(), y.max().numpy())"
   ]
  },
  {
   "cell_type": "code",
   "execution_count": 435,
   "id": "40ee66b1-0946-4469-b5d7-cbf3790d7c7a",
   "metadata": {},
   "outputs": [
    {
     "data": {
      "text/plain": [
       "<matplotlib.collections.PathCollection at 0x15d982fd0>"
      ]
     },
     "execution_count": 435,
     "metadata": {},
     "output_type": "execute_result"
    },
    {
     "data": {
      "image/png": "[encoded data removed]",
      "text/plain": [
       "<Figure size 640x480 with 1 Axes>"
      ]
     },
     "metadata": {},
     "output_type": "display_data"
    }
   ],
   "source": [
    "plt.scatter(X.numpy(), y.numpy())"
   ]
  },
  {
   "cell_type": "code",
   "execution_count": 436,
   "id": "5742f549-882c-44c8-a065-371e1b5cdf88",
   "metadata": {},
   "outputs": [],
   "source": [
    "class testNet:\n",
    "    def __init__(self):\n",
    "        self.w1 = Tensor.uniform(1)\n",
    "        self.w2 = Tensor.uniform(1) # exponent\n",
    "        self.bias = Tensor.uniform(1)\n",
    "        \n",
    "    def forward(self, x: Tensor):\n",
    "        return ((x*self.w1).pow(self.w2)) + self.bias"
   ]
  },
  {
   "cell_type": "code",
   "execution_count": 440,
   "id": "f2854e08-7f8d-4bff-9caa-1ac85027baa4",
   "metadata": {},
   "outputs": [],
   "source": [
    "model = testNet()\n",
    "#optim = SGD(params=[model.w1, model.w2, model.bias], lr=0.0001)\n",
    "optim = SGD(params=[model.w1, model.bias], lr=0.0001)\n",
    "\n",
    "def MSE(ypred, y):\n",
    "    return ((ypred-y)**2).mean()"
   ]
  },
  {
   "cell_type": "code",
   "execution_count": 441,
   "id": "3fac7a87-14ff-4b77-be3e-f425bdb7bf24",
   "metadata": {},
   "outputs": [
    {
     "name": "stdout",
     "output_type": "stream",
     "text": [
      "self.w1.numpy()=array([-0.44171917], dtype=float32), self.w1.grad.numpy()=array([nan], dtype=float32), self.bias.numpy()=array([0.16876364], dtype=float32), self.bias.grad.numpy()=array([-41097.84], dtype=float32)\n"
     ]
    }
   ],
   "source": [
    "out = model.forward(X)\n",
    "loss = MSE(out, y)\n",
    "loss.backward()\n",
    "model.show_weights()"
   ]
  },
  {
   "cell_type": "code",
   "execution_count": 442,
   "id": "eab9efc7-a20b-494e-ab80-b756cae1f8c4",
   "metadata": {
    "scrolled": true
   },
   "outputs": [
    {
     "name": "stdout",
     "output_type": "stream",
     "text": [
      "[array(8.2098816e+08, dtype=float32), array(nan, dtype=float32), array(nan, dtype=float32), array(nan, dtype=float32), array(nan, dtype=float32), array(nan, dtype=float32), array(nan, dtype=float32), array(nan, dtype=float32), array(nan, dtype=float32), array(nan, dtype=float32), array(nan, dtype=float32), array(nan, dtype=float32), array(nan, dtype=float32), array(nan, dtype=float32), array(nan, dtype=float32), array(nan, dtype=float32), array(nan, dtype=float32), array(nan, dtype=float32), array(nan, dtype=float32), array(nan, dtype=float32), array(nan, dtype=float32), array(nan, dtype=float32), array(nan, dtype=float32), array(nan, dtype=float32), array(nan, dtype=float32), array(nan, dtype=float32), array(nan, dtype=float32), array(nan, dtype=float32), array(nan, dtype=float32), array(nan, dtype=float32), array(nan, dtype=float32), array(nan, dtype=float32), array(nan, dtype=float32), array(nan, dtype=float32), array(nan, dtype=float32), array(nan, dtype=float32), array(nan, dtype=float32), array(nan, dtype=float32), array(nan, dtype=float32), array(nan, dtype=float32), array(nan, dtype=float32), array(nan, dtype=float32), array(nan, dtype=float32), array(nan, dtype=float32), array(nan, dtype=float32), array(nan, dtype=float32), array(nan, dtype=float32), array(nan, dtype=float32), array(nan, dtype=float32), array(nan, dtype=float32), array(nan, dtype=float32), array(nan, dtype=float32), array(nan, dtype=float32), array(nan, dtype=float32), array(nan, dtype=float32), array(nan, dtype=float32), array(nan, dtype=float32), array(nan, dtype=float32), array(nan, dtype=float32), array(nan, dtype=float32), array(nan, dtype=float32), array(nan, dtype=float32), array(nan, dtype=float32), array(nan, dtype=float32), array(nan, dtype=float32), array(nan, dtype=float32), array(nan, dtype=float32), array(nan, dtype=float32), array(nan, dtype=float32), array(nan, dtype=float32), array(nan, dtype=float32), array(nan, dtype=float32), array(nan, dtype=float32), array(nan, dtype=float32), array(nan, dtype=float32), array(nan, dtype=float32), array(nan, dtype=float32), array(nan, dtype=float32), array(nan, dtype=float32), array(nan, dtype=float32), array(nan, dtype=float32), array(nan, dtype=float32), array(nan, dtype=float32), array(nan, dtype=float32), array(nan, dtype=float32), array(nan, dtype=float32), array(nan, dtype=float32), array(nan, dtype=float32), array(nan, dtype=float32), array(nan, dtype=float32), array(nan, dtype=float32), array(nan, dtype=float32), array(nan, dtype=float32), array(nan, dtype=float32), array(nan, dtype=float32), array(nan, dtype=float32), array(nan, dtype=float32), array(nan, dtype=float32), array(nan, dtype=float32), array(nan, dtype=float32)]\n"
     ]
    }
   ],
   "source": [
    "Tensor.training = True\n",
    "losses = []\n",
    "\n",
    "for i in range(100):\n",
    "    out = model.forward(X)\n",
    "    loss = MSE(out, y)\n",
    "    losses.append(loss.numpy())\n",
    "\n",
    "    optim.zero_grad()\n",
    "\n",
    "    loss.backward()\n",
    "\n",
    "    optim.step()\n",
    "    \n",
    "print(losses)\n",
    "#plt.plot(losses)"
   ]
  },
  {
   "cell_type": "code",
   "execution_count": null,
   "id": "613e598b-04f2-4835-8b3f-f8298fa1ece1",
   "metadata": {
    "scrolled": true
   },
   "outputs": [],
   "source": [
    "preds = model.forward(X).numpy()\n",
    "preds"
   ]
  },
  {
   "cell_type": "code",
   "execution_count": 364,
   "id": "73030450-e818-4e58-bd36-6ed6891d1cb9",
   "metadata": {},
   "outputs": [
    {
     "data": {
      "text/plain": [
       "778279000.0"
      ]
     },
     "execution_count": 364,
     "metadata": {},
     "output_type": "execute_result"
    }
   ],
   "source": [
    "7.78279e+08"
   ]
  }
 ],
 "metadata": {
  "kernelspec": {
   "display_name": "Python 3 (ipykernel)",
   "language": "python",
   "name": "python3"
  },
  "language_info": {
   "codemirror_mode": {
    "name": "ipython",
    "version": 3
   },
   "file_extension": ".py",
   "mimetype": "text/x-python",
   "name": "python",
   "nbconvert_exporter": "python",
   "pygments_lexer": "ipython3",
   "version": "3.11.4"
  }
 },
 "nbformat": 4,
 "nbformat_minor": 5
}
