{
 "cells": [
  {
   "cell_type": "code",
   "execution_count": 514,
   "id": "ae673e2f-fbd8-45cc-88b7-505fa68bf53a",
   "metadata": {
    "editable": true,
    "slideshow": {
     "slide_type": ""
    },
    "tags": []
   },
   "outputs": [],
   "source": [
    "import numpy as np\n",
    "\n",
    "from tqdm import tqdm\n",
    "\n",
    "import pandas as pd\n",
    "\n",
    "from tinygrad.tensor import Tensor\n",
    "from tinygrad.nn import Linear\n",
    "from tinygrad.nn.optim import SGD\n",
    "from tinygrad.state import get_parameters\n",
    "\n",
    "\n",
    "import matplotlib.pyplot as plt\n",
    "%matplotlib inline"
   ]
  },
  {
   "cell_type": "code",
   "execution_count": 552,
   "id": "cdf3d1bb-bbae-4ab1-b4a4-a6c1001f3d47",
   "metadata": {
    "editable": true,
    "slideshow": {
     "slide_type": ""
    },
    "tags": []
   },
   "outputs": [
    {
     "name": "stdout",
     "output_type": "stream",
     "text": [
      "    YearsExperience    Salary\n",
      "0               1.1   39343.0\n",
      "1               1.3   46205.0\n",
      "2               1.5   37731.0\n",
      "3               2.0   43525.0\n",
      "4               2.2   39891.0\n",
      "5               2.9   56642.0\n",
      "6               3.0   60150.0\n",
      "7               3.2   54445.0\n",
      "8               3.2   64445.0\n",
      "9               3.7   57189.0\n",
      "10              3.9   63218.0\n",
      "11              4.0   55794.0\n",
      "12              4.0   56957.0\n",
      "13              4.1   57081.0\n",
      "14              4.5   61111.0\n",
      "15              4.9   67938.0\n",
      "16              5.1   66029.0\n",
      "17              5.3   83088.0\n",
      "18              5.9   81363.0\n",
      "19              6.0   93940.0\n",
      "20              6.8   91738.0\n",
      "21              7.1   98273.0\n",
      "22              7.9  101302.0\n",
      "23              8.2  113812.0\n",
      "24              8.7  109431.0\n",
      "25              9.0  105582.0\n",
      "26              9.5  116969.0\n",
      "27              9.6  112635.0\n",
      "28             10.3  122391.0\n",
      "29             10.5  121872.0\n"
     ]
    }
   ],
   "source": [
    "dataset = pd.read_csv(\"./datasets/Salary_Data.csv\")\n",
    "print(dataset)\n",
    "dataset = dataset.to_numpy()"
   ]
  },
  {
   "cell_type": "code",
   "execution_count": 617,
   "id": "f85476fc-f99c-474c-a29a-87c5790cd8b3",
   "metadata": {},
   "outputs": [
    {
     "name": "stdout",
     "output_type": "stream",
     "text": [
      "(30, 2)\n",
      "122391.0 1.1\n",
      "[ 1.1  1.3  1.5  2.   2.2  2.9  3.   3.2  3.2  3.7  3.9  4.   4.   4.1\n",
      "  4.5  4.9  5.1  5.3  5.9  6.   6.8  7.1  7.9  8.2  8.7  9.   9.5  9.6\n",
      " 10.3 10.5]\n",
      "[ 39343.  46205.  37731.  43525.  39891.  56642.  60150.  54445.  64445.\n",
      "  57189.  63218.  55794.  56957.  57081.  61111.  67938.  66029.  83088.\n",
      "  81363.  93940.  91738.  98273. 101302. 113812. 109431. 105582. 116969.\n",
      " 112635. 122391. 121872.]\n"
     ]
    },
    {
     "data": {
      "text/plain": [
       "((30,), (30,))"
      ]
     },
     "execution_count": 617,
     "metadata": {},
     "output_type": "execute_result"
    }
   ],
   "source": [
    "print(dataset.shape)\n",
    "print(dataset.max(), dataset.min())\n",
    "print(dataset[:,0])\n",
    "print(dataset[:,1])\n",
    "\n",
    "dataset[:,0].shape, dataset[:,1].shape"
   ]
  },
  {
   "cell_type": "code",
   "execution_count": 432,
   "id": "334dd942-5189-46bd-a383-3cfc0a276001",
   "metadata": {},
   "outputs": [
    {
     "data": {
      "text/plain": [
       "<matplotlib.collections.PathCollection at 0x136513490>"
      ]
     },
     "execution_count": 432,
     "metadata": {},
     "output_type": "execute_result"
    },
    {
     "data": {
      "image/png": "[encoded data removed]",
      "text/plain": [
       "<Figure size 640x480 with 1 Axes>"
      ]
     },
     "metadata": {},
     "output_type": "display_data"
    }
   ],
   "source": [
    "plt.scatter(dataset[:,0], dataset[:,1])"
   ]
  },
  {
   "cell_type": "code",
   "execution_count": 618,
   "id": "fd1f238e-fdca-4c52-9a28-b0e0d74bf363",
   "metadata": {},
   "outputs": [
    {
     "data": {
      "text/plain": [
       "((1, 30), (1, 30))"
      ]
     },
     "execution_count": 618,
     "metadata": {},
     "output_type": "execute_result"
    }
   ],
   "source": [
    "X = Tensor([dataset[:,0]])\n",
    "y = Tensor([dataset[:,1]])\n",
    "X.shape, y.shape"
   ]
  },
  {
   "cell_type": "code",
   "execution_count": 619,
   "id": "100ba4d3-0961-4eb0-8ec7-fd8078acf7a2",
   "metadata": {},
   "outputs": [
    {
     "data": {
      "text/plain": [
       "(array([[ 1.1,  1.3,  1.5,  2. ,  2.2,  2.9,  3. ,  3.2,  3.2,  3.7,  3.9,\n",
       "          4. ,  4. ,  4.1,  4.5,  4.9,  5.1,  5.3,  5.9,  6. ,  6.8,  7.1,\n",
       "          7.9,  8.2,  8.7,  9. ,  9.5,  9.6, 10.3, 10.5]], dtype=float32),\n",
       " array([[ 39343.,  46205.,  37731.,  43525.,  39891.,  56642.,  60150.,\n",
       "          54445.,  64445.,  57189.,  63218.,  55794.,  56957.,  57081.,\n",
       "          61111.,  67938.,  66029.,  83088.,  81363.,  93940.,  91738.,\n",
       "          98273., 101302., 113812., 109431., 105582., 116969., 112635.,\n",
       "         122391., 121872.]], dtype=float32))"
      ]
     },
     "execution_count": 619,
     "metadata": {},
     "output_type": "execute_result"
    }
   ],
   "source": [
    "X.numpy(), y.numpy()"
   ]
  },
  {
   "cell_type": "code",
   "execution_count": 630,
   "id": "94e5b5dd-6475-4b16-9736-9404cda5c412",
   "metadata": {},
   "outputs": [
    {
     "data": {
      "text/plain": [
       "(array([ 6271275. ,  7365077. ,  6014322. ,  6937885. ,  6358625.5,\n",
       "         9028735. ,  9587910. ,  8678533. , 10272534. ,  9115928. ,\n",
       "        10076949. ,  8893564. ,  9078946. ,  9098710. ,  9741094. ,\n",
       "        10829317. , 10525024. , 13244228. , 12969264. , 14974036. ,\n",
       "        14623038. , 15664718. , 16147538. , 18141632. , 17443302. ,\n",
       "        16829770. , 18644856. , 17954018. , 19509128. , 19426398. ],\n",
       "       dtype=float32),\n",
       " array([[  43277.3  ,   60066.496,   56596.5  ,   87050.   ,   87760.2  ,\n",
       "          164261.81 ,  180450.   ,  174224.   ,  206224.   ,  211599.3  ,\n",
       "          246550.2  ,  223176.   ,  227828.   ,  234032.1  ,  274999.5  ,\n",
       "          332896.22 ,  336747.9  ,  440366.4  ,  480041.72 ,  563640.   ,\n",
       "          623818.44 ,  697738.3  ,  800285.8  ,  933258.4  ,  952049.7  ,\n",
       "          950238.   , 1111205.5  , 1081296.   , 1260627.4  , 1279656.   ]],\n",
       "       dtype=float32))"
      ]
     },
     "execution_count": 630,
     "metadata": {},
     "output_type": "execute_result"
    }
   ],
   "source": [
    "#X.unsqueeze(dim=0).transpose().dot(y).numpy()\n",
    "X[0, 0].numpy(), y[0, 0].numpy()\n",
    "X.squeeze().dot(y).numpy(), (X*y).numpy()"
   ]
  },
  {
   "cell_type": "code",
   "execution_count": 632,
   "id": "eb8408df-a36c-42ef-9165-b8dd50233a1f",
   "metadata": {},
   "outputs": [
    {
     "data": {
      "text/plain": [
       "array([  43277.3  ,   60066.496,   56596.5  ,   87050.   ,   87760.2  ,\n",
       "        164261.81 ,  180450.   ,  174224.   ,  206224.   ,  211599.3  ,\n",
       "        246550.2  ,  223176.   ,  227828.   ,  234032.1  ,  274999.5  ,\n",
       "        332896.22 ,  336747.9  ,  440366.4  ,  480041.72 ,  563640.   ,\n",
       "        623818.44 ,  697738.3  ,  800285.8  ,  933258.4  ,  952049.7  ,\n",
       "        950238.   , 1111205.5  , 1081296.   , 1260627.4  , 1279656.   ],\n",
       "      dtype=float32)"
      ]
     },
     "execution_count": 632,
     "metadata": {},
     "output_type": "execute_result"
    }
   ],
   "source": [
    "(X.squeeze()*y.squeeze()).numpy()"
   ]
  },
  {
   "cell_type": "code",
   "execution_count": 648,
   "id": "d8783337-64a3-4e59-afcf-7c16f7e7286f",
   "metadata": {},
   "outputs": [],
   "source": [
    "class testNet:\n",
    "    def __init__(self):\n",
    "        self.weight = Tensor.uniform(1)\n",
    "        self.bias = Tensor.uniform(1)\n",
    "                         \n",
    "    def forward(self, x):\n",
    "        return (self.weight*x)+self.bias\n",
    "\n",
    "def mse(y, ypred):\n",
    "    return (((y-ypred)**2)).mean()"
   ]
  },
  {
   "cell_type": "code",
   "execution_count": 676,
   "id": "8da8feda-aad4-4645-89df-bceffcd24ff0",
   "metadata": {},
   "outputs": [
    {
     "name": "stdout",
     "output_type": "stream",
     "text": [
      "Params: model.weight.numpy()=array([-0.18231761], dtype=float32), model.bias.numpy()=array([0.4498384], dtype=float32)\n"
     ]
    }
   ],
   "source": [
    "model = testNet()\n",
    "opt = SGD([model.weight, model.bias], lr=0.001)\n",
    "\n",
    "print(f\"Params: {model.weight.numpy()=}, {model.bias.numpy()=}\")"
   ]
  },
  {
   "cell_type": "code",
   "execution_count": 658,
   "id": "f80954b7-3f59-4049-935b-a603b0230ac6",
   "metadata": {},
   "outputs": [
    {
     "data": {
      "text/plain": [
       "array([[1.269605 , 1.3766325, 1.48366  , 1.7512288, 1.8582563, 2.2328527,\n",
       "        2.2863665, 2.393394 , 2.393394 , 2.6609626, 2.76799  , 2.8215039,\n",
       "        2.8215039, 2.8750176, 3.0890727, 3.3031278, 3.410155 , 3.5171828,\n",
       "        3.8382652, 3.891779 , 4.319889 , 4.48043  , 4.9085407, 5.0690813,\n",
       "        5.33665  , 5.4971914, 5.76476  , 5.8182745, 6.19287  , 6.299898 ]],\n",
       "      dtype=float32)"
      ]
     },
     "execution_count": 658,
     "metadata": {},
     "output_type": "execute_result"
    }
   ],
   "source": [
    "model.forward(X).numpy()"
   ]
  },
  {
   "cell_type": "code",
   "execution_count": 880,
   "id": "a1db04e9-02fe-4bf7-a039-8b59a26a31c2",
   "metadata": {},
   "outputs": [],
   "source": [
    "def train():\n",
    "    Tensor.training = True\n",
    "    \n",
    "    losses = []\n",
    "    for i in range(100):\n",
    "        out = model.forward(X)\n",
    "    \n",
    "        loss = mse(out, y)\n",
    "        losses.append(loss.numpy())\n",
    "\n",
    "        opt.zero_grad()\n",
    "    \n",
    "        loss.backward()\n",
    "    \n",
    "        opt.step()\n",
    "\n",
    "    plt.plot(losses)\n",
    "\n",
    "    print(\"Weight:\", model.weight.numpy())\n",
    "    print(\"Bias:\", model.bias.numpy())\n",
    "\n",
    "\n",
    "def eval():\n",
    "    Tensor.training = False\n",
    "    \n",
    "    out = Tensor(model.forward(X).numpy(), requires_grad=False).numpy()\n",
    "    loss = mse(out, y.numpy())\n",
    "    print(f\"{loss=}\")\n",
    "    print(out)\n",
    "    plt.scatter(X.numpy(), out)\n",
    "    plt.scatter(X.numpy(), y.numpy())"
   ]
  },
  {
   "cell_type": "code",
   "execution_count": 878,
   "id": "66b32de4-34e6-4369-8041-cc6b185b7743",
   "metadata": {},
   "outputs": [
    {
     "name": "stdout",
     "output_type": "stream",
     "text": [
      "Weight: [9610.056]\n",
      "Bias: [24713.385]\n"
     ]
    },
    {
     "data": {
      "image/png": "[encoded data removed]",
      "text/plain": [
       "<Figure size 640x480 with 1 Axes>"
      ]
     },
     "metadata": {},
     "output_type": "display_data"
    }
   ],
   "source": [
    "train()"
   ]
  },
  {
   "cell_type": "code",
   "execution_count": 881,
   "id": "3cac0c85-d204-4e62-8078-3d2c338d5b71",
   "metadata": {},
   "outputs": [
    {
     "name": "stdout",
     "output_type": "stream",
     "text": [
      "loss=31522556.0\n",
      "[[ 35284.445  37206.457  39128.47   43933.496  45855.508  52582.547\n",
      "   53543.555  55465.562  55465.562  60270.594  62192.6    63153.61\n",
      "   63153.61   64114.61   67958.63   71802.66   73724.664  75646.68\n",
      "   81412.71   82373.72   90061.766  92944.77  100632.82  103515.836\n",
      "  108320.87  111203.88  116008.914 116969.92  123696.96  125618.97 ]]\n"
     ]
    },
    {
     "data": {
      "image/png": "[encoded data removed]",
      "text/plain": [
       "<Figure size 640x480 with 1 Axes>"
      ]
     },
     "metadata": {},
     "output_type": "display_data"
    }
   ],
   "source": [
    "eval()"
   ]
  }
 ],
 "metadata": {
  "kernelspec": {
   "display_name": "Python 3 (ipykernel)",
   "language": "python",
   "name": "python3"
  },
  "language_info": {
   "codemirror_mode": {
    "name": "ipython",
    "version": 3
   },
   "file_extension": ".py",
   "mimetype": "text/x-python",
   "name": "python",
   "nbconvert_exporter": "python",
   "pygments_lexer": "ipython3",
   "version": "3.11.4"
  }
 },
 "nbformat": 4,
 "nbformat_minor": 5
}
