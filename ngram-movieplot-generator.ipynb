{
 "cells": [
  {
   "cell_type": "code",
   "execution_count": 303,
   "id": "a669aab8-cb37-46fd-8f41-6a988c647d0a",
   "metadata": {},
   "outputs": [],
   "source": [
    "import numpy as np\n",
    "import pandas as pd\n",
    "from tqdm import tqdm\n",
    "from collections import defaultdict\n",
    "from numpy.random import multinomial\n",
    "\n",
    "import re"
   ]
  },
  {
   "cell_type": "code",
   "execution_count": 304,
   "id": "baa262f7-0fb4-4ce5-8c03-c298ef5cc987",
   "metadata": {},
   "outputs": [],
   "source": [
    "import matplotlib.pyplot as plt\n",
    "%matplotlib inline"
   ]
  },
  {
   "cell_type": "code",
   "execution_count": 305,
   "id": "813d0c4e-1133-46e9-86e0-0ccf351b7cf6",
   "metadata": {},
   "outputs": [
    {
     "name": "stdout",
     "output_type": "stream",
     "text": [
      "Startchar: \"<\"\n",
      "Endchar: \">\"\n"
     ]
    }
   ],
   "source": [
    "n = 3\n",
    "startchar = \"<\"\n",
    "endchar = \">\"\n",
    "print(f'Startchar: \"{startchar}\"')\n",
    "print(f'Endchar: \"{endchar}\"')"
   ]
  },
  {
   "cell_type": "code",
   "execution_count": 306,
   "id": "e8aad09c-2654-4b3d-afb9-2654e9a1b6bf",
   "metadata": {},
   "outputs": [],
   "source": [
    "def load_dataset(file: str, column_name: str):\n",
    "    dataset = pd.read_csv(file)\n",
    "    dataset = dataset[column_name].to_numpy()\n",
    "    return dataset\n",
    "\n",
    "def prep_data(rawdata: np.ndarray, n=4): \n",
    "    for i, sample in tqdm(enumerate(rawdata)):\n",
    "        sample = ((startchar + \" \")*n) + sample + ((\" \" + endchar)*n)\n",
    "        rawdata[i] = sample\n",
    "\n",
    "    print(rawdata[0])\n",
    "    \n",
    "    return rawdata"
   ]
  },
  {
   "cell_type": "code",
   "execution_count": 307,
   "id": "75a89c57-d7ea-4fda-85b3-5b67d4d1941f",
   "metadata": {},
   "outputs": [
    {
     "name": "stderr",
     "output_type": "stream",
     "text": [
      "34886it [00:00, 1322485.94it/s]"
     ]
    },
    {
     "name": "stdout",
     "output_type": "stream",
     "text": [
      "< < < A bartender is working at a saloon, serving drinks to customers. After he fills a stereotypically Irish man's bucket with beer, Carrie Nation and her followers burst inside. They assault the Irish man, pulling his hat over his eyes and then dumping the beer over his head. The group then begin wrecking the bar, smashing the fixtures, mirrors, and breaking the cash register. The bartender then sprays seltzer water in Nation's face before a group of policemen appear and order everybody to leave.[1] > > >\n"
     ]
    },
    {
     "name": "stderr",
     "output_type": "stream",
     "text": [
      "\n"
     ]
    }
   ],
   "source": [
    "data = load_dataset(\"datasets/wiki_movie_plots_deduped.csv\", \"Plot\")\n",
    "data = prep_data(data, n=n)"
   ]
  },
  {
   "cell_type": "code",
   "execution_count": 308,
   "id": "ba293367-f7df-40b9-9b0a-65cccf474264",
   "metadata": {},
   "outputs": [],
   "source": [
    "def get_unique_ngrams(prepped_data: np.ndarray, n=4):\n",
    "    unique_ngrams = set()\n",
    "    \n",
    "    for sample in tqdm(prepped_data):\n",
    "        words = sample.split()\n",
    "        for i in range(len(words) - (n-1)):\n",
    "            ngram = \" \".join(words[i:i+n])\n",
    "            unique_ngrams.add(ngram)\n",
    "    print(f\"Number of unique {n}-grams:\", len(unique_ngrams))\n",
    "    return unique_ngrams"
   ]
  },
  {
   "cell_type": "code",
   "execution_count": 309,
   "id": "b05e96c8-0df4-427e-b124-839c04aab37c",
   "metadata": {},
   "outputs": [
    {
     "name": "stderr",
     "output_type": "stream",
     "text": [
      "100%|█████████████████████████████████████████████████████████████████████████████████████████████████████████████████████████████████| 34886/34886 [00:04<00:00, 7305.77it/s]\n"
     ]
    },
    {
     "name": "stdout",
     "output_type": "stream",
     "text": [
      "Number of unique 3-grams: 8420645\n"
     ]
    }
   ],
   "source": [
    "unique_ngrams = get_unique_ngrams(data, n=n)"
   ]
  },
  {
   "cell_type": "code",
   "execution_count": 310,
   "id": "88e3c207-9df3-40f0-98b1-0f73dadb5d23",
   "metadata": {},
   "outputs": [],
   "source": [
    "def count_ngram_appearances(prepped_data: \n",
    "                            np.ndarray, \n",
    "                            unique_ngrams: set, \n",
    "                            n=4,\n",
    "                            smoothing_factor=1):\n",
    "    \n",
    "    ngram_counts = defaultdict(dict)\n",
    "    total_unique_ngram_count = len(unique_ngrams)\n",
    "    total_word_count = len(unique_words)\n",
    "    \n",
    "    for sample in tqdm(prepped_data):\n",
    "        words = sample.split(\" \")\n",
    "        wordcount = len(words)\n",
    "        \n",
    "        for i in range(wordcount - n):\n",
    "            ngram = \" \".join(words[i:i+n])\n",
    "            next_word = words[i+n]\n",
    "            \n",
    "            if next_word in ngram_counts[ngram]:\n",
    "                ngram_counts[ngram][next_word] += 1\n",
    "            else:\n",
    "                ngram_counts[ngram][next_word] = smoothing_factor\n",
    "                      \n",
    "    return ngram_counts\n"
   ]
  },
  {
   "cell_type": "code",
   "execution_count": 311,
   "id": "5222dad3-b5e2-452d-9944-2ce97cecab76",
   "metadata": {
    "tags": []
   },
   "outputs": [
    {
     "name": "stderr",
     "output_type": "stream",
     "text": [
      "100%|█████████████████████████████████████████████████████████████████████████████████████████████████████████████████████████████████| 34886/34886 [00:09<00:00, 3661.46it/s]\n"
     ]
    }
   ],
   "source": [
    "ngram_counts = count_ngram_appearances(data, unique_ngrams, n=n)"
   ]
  },
  {
   "cell_type": "code",
   "execution_count": 312,
   "id": "3e98e838-0a91-4995-ba72-fcfd527c816c",
   "metadata": {},
   "outputs": [],
   "source": [
    "def calculate_ngram_probabilities(ngram_counts: defaultdict(dict)):\n",
    "    # calculate probabilities\n",
    "    # key = ngram\n",
    "    # value = dict { nextword: probability }\n",
    "    #print(sum(list(ngram_probabilities.items())[0][1].values()))\n",
    "    ngram_probabilities = ngram_counts\n",
    "\n",
    "    for ngram, next_words in tqdm(ngram_probabilities.items()):\n",
    "        total_count = sum(next_words.values())\n",
    "        for next_word in next_words:\n",
    "            ngram_probabilities[ngram][next_word] /= total_count\n",
    "       \n",
    "    return ngram_probabilities              "
   ]
  },
  {
   "cell_type": "code",
   "execution_count": 313,
   "id": "f26e4869-0ac5-43fa-a9d9-82fe74e744ea",
   "metadata": {},
   "outputs": [
    {
     "name": "stderr",
     "output_type": "stream",
     "text": [
      "100%|██████████████████████████████████████████████████████████████████████████████████████████████████████████████████████████| 8414363/8414363 [00:04<00:00, 1724974.73it/s]\n"
     ]
    }
   ],
   "source": [
    "ngram_probs = calculate_ngram_probabilities(ngram_counts)"
   ]
  },
  {
   "cell_type": "code",
   "execution_count": 317,
   "id": "e10ddc86-7aa4-4dc0-9a64-1fd850770789",
   "metadata": {},
   "outputs": [],
   "source": [
    "def generate(ngram_probabilities: defaultdict(dict)):\n",
    "\n",
    "    out = []\n",
    "    for i in range(n): out.append(\"<\")\n",
    "    lastn = ' '.join(out[-n])\n",
    "\n",
    "    while True:\n",
    "        lastn = ' '.join(out[-n:])\n",
    "        #print(lastn)\n",
    "        probs = ngram_probs[lastn]\n",
    "        idx = multinomial(1, [*probs.values()]).argmax()\n",
    "        word = [*probs.keys()][idx]\n",
    "        if word == endchar: break\n",
    "        out.append([*probs.keys()][idx])\n",
    "        \n",
    "    print(' '.join(out[n:]))"
   ]
  },
  {
   "cell_type": "code",
   "execution_count": 322,
   "id": "f8472690-cbbb-4ebe-863c-46bb145f8cda",
   "metadata": {},
   "outputs": [
    {
     "name": "stdout",
     "output_type": "stream",
     "text": [
      "Because the film has been shown in the opening shot, followed by their first kiss. Later, Danielle catches Rodmilla and Marguerite are sent to intercept the fireship and promising pardons to all who doubted the couple as Marco's parents. The hope was for them to turn Pettigrew over to the skeleton, and with a carpet sweeper. He bumps into an attractive backpacker, who introduces herself as Lissa. She is soon dead.\n"
     ]
    }
   ],
   "source": [
    "generate(ngram_probs)"
   ]
  },
  {
   "cell_type": "code",
   "execution_count": 324,
   "id": "849924d4-f1e1-419d-a233-46e3ec48aa0d",
   "metadata": {},
   "outputs": [
    {
     "name": "stdout",
     "output_type": "stream",
     "text": [
      "< < < Because the film has been lost, the following summary is reconstructed from a description in a contemporary film magazine.\n",
      "Cleopatra (Bara), the Siren of Egypt, by a clever ruse reaches Caesar (Leiber) and he falls victim to her charms. They plan to rule the world together, but then Caesar falls. Cleopatra's life is desired by the church, as the wanton woman's rule has become intolerable. Pharon (Roscoe), a high priest, is given a sacred dagger to take her life. He gives her his love instead and, when she is in need of some money, leads her to the tomb of his ancestors, where she tears the treasure from the breast of the mummy. With this wealth she goes to Rome to meet Antony (Hall). He leaves the affairs of state and travels to Alexandria with her, where they revel. Antony is recalled to Rome and married to Octavia (Blinn), but his soul cries out for Cleopatra. He sends her a message to arm her ships and meet him at Actium, where they battle the opposing forces. They are overpowered, and flee to Alexandria. There they are captured by Octavius (De Vries), and Antony dies in Cleopatra's arms. Before Cleopatra is to be dragged behind the wheels of Octavius' chariot, Pharon the priest, who has never ceased to love her, brings her the serpent that she joyously brings to her breast, dying royally with her crown on her head and scepter in her hand as becomes Egypt. > > >\n",
      "< < < The film opens at the 1937 Academy Awards, where Biberman's wife, Gale Sondergaard (Greta Scacchi), wins the first ever \"Best Supporting Actress\" Oscar. Although the anti-Fascist sentiment in her acceptance speech gets her labelled a \"commie\" by some observers, she and Biberman (Jeff Goldblum) are placed under contract at Warner Bros.\n",
      "He first comes under scrutiny more for his Jewish background than his political activities. Yet, with Cold War paranoia growing, a group of Hollywood directors and actors — Biberman, Sondergaard, Danny Kaye and Dalton Trumbo among them - are labelled Communists and questioned in front of Congress. After refusing to testify against his colleagues, he is imprisoned in the Federal Correctional Institution at Texarkana for a period of six months. Once released, he discovers his Hollywood career is finished.\n",
      "Sondergaard suggests that her husband should direct a screenplay about the real-life 1950-51 strike waged by Mexican-American miners against the Empire Zinc Company in Bayard, New Mexico written by Michael Wilson, also a victim of the blacklist and Biberman's brother Michael. She feels the lead role of Esperanza Quintero, who rallied the wives of the unemployed miners and urged them to support their husbands, is an ideal way to jump-start her stagnating career. Biberman agrees, but after meeting with the people who participated in the strike and being inspired by their passion, he decides all roles should be played by ethnic actors.\n",
      "Because the film has no studio backing and most Hollywood players fear being associated with Biberman and the project, he eventually casts local residents from Grant County, New Mexico and members of the International Union of Mine, Mill and Smelter Workers, Local 890 to fill most of the roles. Juan Chacón, the Union Local president, is cast as the fiery Ramon Quintero opposite Mexican actress Rosaura Revueltas as his wife Esperanza. Will Geer is one of only five Hollywood actors to accept a role in the production.\n",
      "The FBI investigates the film's financing, attempts to steal the film's negatives and, when they can't be located, tells film-processing labs not to work on the film, incites locals who are unhappy with the film crew's presence to set fire to many of the sets and eventually deports Revueltas on bogus charges. Biberman stands his ground and completes the film, using scenes with Revueltas that were shot in her native Mexico and then smuggled into the US. > > >\n"
     ]
    }
   ],
   "source": [
    "for i in data:\n",
    "    if \"Because the film has\" in i:\n",
    "        print(i)"
   ]
  }
 ],
 "metadata": {
  "kernelspec": {
   "display_name": "Python 3 (ipykernel)",
   "language": "python",
   "name": "python3"
  },
  "language_info": {
   "codemirror_mode": {
    "name": "ipython",
    "version": 3
   },
   "file_extension": ".py",
   "mimetype": "text/x-python",
   "name": "python",
   "nbconvert_exporter": "python",
   "pygments_lexer": "ipython3",
   "version": "3.11.4"
  }
 },
 "nbformat": 4,
 "nbformat_minor": 5
}
