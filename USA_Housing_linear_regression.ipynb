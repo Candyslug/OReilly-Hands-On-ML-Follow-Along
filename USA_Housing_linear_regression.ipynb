{
 "cells": [
  {
   "cell_type": "code",
   "execution_count": 447,
   "id": "1fdcf473",
   "metadata": {},
   "outputs": [],
   "source": [
    "import torch\n",
    "import torch.nn as nn\n",
    "import numpy as np\n",
    "import pandas as pd\n",
    "from tqdm import trange\n",
    "from sklearn.preprocessing import StandardScaler\n",
    "from sklearn.model_selection import train_test_split\n",
    "import matplotlib.pyplot as plt"
   ]
  },
  {
   "cell_type": "code",
   "execution_count": null,
   "id": "54e95a70",
   "metadata": {},
   "outputs": [],
   "source": []
  },
  {
   "cell_type": "code",
   "execution_count": 448,
   "id": "ef4d6fdb",
   "metadata": {},
   "outputs": [
    {
     "name": "stdout",
     "output_type": "stream",
     "text": [
      "(5000, 7)\n"
     ]
    },
    {
     "data": {
      "text/html": [
       "<div>\n",
       "<style scoped>\n",
       "    .dataframe tbody tr th:only-of-type {\n",
       "        vertical-align: middle;\n",
       "    }\n",
       "\n",
       "    .dataframe tbody tr th {\n",
       "        vertical-align: top;\n",
       "    }\n",
       "\n",
       "    .dataframe thead th {\n",
       "        text-align: right;\n",
       "    }\n",
       "</style>\n",
       "<table border=\"1\" class=\"dataframe\">\n",
       "  <thead>\n",
       "    <tr style=\"text-align: right;\">\n",
       "      <th></th>\n",
       "      <th>Avg. Area Income</th>\n",
       "      <th>Avg. Area House Age</th>\n",
       "      <th>Avg. Area Number of Rooms</th>\n",
       "      <th>Avg. Area Number of Bedrooms</th>\n",
       "      <th>Area Population</th>\n",
       "      <th>Price</th>\n",
       "      <th>Address</th>\n",
       "    </tr>\n",
       "  </thead>\n",
       "  <tbody>\n",
       "    <tr>\n",
       "      <th>0</th>\n",
       "      <td>72646.505992</td>\n",
       "      <td>4.961008</td>\n",
       "      <td>7.842306</td>\n",
       "      <td>4.26</td>\n",
       "      <td>35628.825386</td>\n",
       "      <td>1.285019e+06</td>\n",
       "      <td>459 Hall Street Suite 619\\nPamelaberg, SD 16934</td>\n",
       "    </tr>\n",
       "    <tr>\n",
       "      <th>1</th>\n",
       "      <td>62342.847184</td>\n",
       "      <td>6.506083</td>\n",
       "      <td>4.666260</td>\n",
       "      <td>2.47</td>\n",
       "      <td>38010.372739</td>\n",
       "      <td>8.239419e+05</td>\n",
       "      <td>75010 Aimee Summit Suite 517\\nWest Angelcheste...</td>\n",
       "    </tr>\n",
       "    <tr>\n",
       "      <th>2</th>\n",
       "      <td>72770.166856</td>\n",
       "      <td>7.680416</td>\n",
       "      <td>6.387694</td>\n",
       "      <td>4.05</td>\n",
       "      <td>21357.036529</td>\n",
       "      <td>1.293462e+06</td>\n",
       "      <td>58915 Jason Green\\nPort Kimberly, MO 60047-2438</td>\n",
       "    </tr>\n",
       "    <tr>\n",
       "      <th>3</th>\n",
       "      <td>71560.019889</td>\n",
       "      <td>5.685707</td>\n",
       "      <td>5.776343</td>\n",
       "      <td>4.12</td>\n",
       "      <td>40311.276258</td>\n",
       "      <td>1.049672e+06</td>\n",
       "      <td>6633 Keller Key Suite 289\\nNorth Joel, AR 9374...</td>\n",
       "    </tr>\n",
       "    <tr>\n",
       "      <th>4</th>\n",
       "      <td>65694.051265</td>\n",
       "      <td>6.436741</td>\n",
       "      <td>6.704929</td>\n",
       "      <td>3.14</td>\n",
       "      <td>43406.712030</td>\n",
       "      <td>1.359763e+06</td>\n",
       "      <td>PSC 2681, Box 5759\\nAPO AA 82431-2879</td>\n",
       "    </tr>\n",
       "  </tbody>\n",
       "</table>\n",
       "</div>"
      ],
      "text/plain": [
       "   Avg. Area Income  Avg. Area House Age  Avg. Area Number of Rooms  \\\n",
       "0      72646.505992             4.961008                   7.842306   \n",
       "1      62342.847184             6.506083                   4.666260   \n",
       "2      72770.166856             7.680416                   6.387694   \n",
       "3      71560.019889             5.685707                   5.776343   \n",
       "4      65694.051265             6.436741                   6.704929   \n",
       "\n",
       "   Avg. Area Number of Bedrooms  Area Population         Price  \\\n",
       "0                          4.26     35628.825386  1.285019e+06   \n",
       "1                          2.47     38010.372739  8.239419e+05   \n",
       "2                          4.05     21357.036529  1.293462e+06   \n",
       "3                          4.12     40311.276258  1.049672e+06   \n",
       "4                          3.14     43406.712030  1.359763e+06   \n",
       "\n",
       "                                             Address  \n",
       "0    459 Hall Street Suite 619\\nPamelaberg, SD 16934  \n",
       "1  75010 Aimee Summit Suite 517\\nWest Angelcheste...  \n",
       "2    58915 Jason Green\\nPort Kimberly, MO 60047-2438  \n",
       "3  6633 Keller Key Suite 289\\nNorth Joel, AR 9374...  \n",
       "4              PSC 2681, Box 5759\\nAPO AA 82431-2879  "
      ]
     },
     "execution_count": 448,
     "metadata": {},
     "output_type": "execute_result"
    }
   ],
   "source": [
    "dataset = pd.read_csv(\"./datasets/USA_Housing.csv\")\n",
    "dataset = dataset.sample(frac=1).reset_index(drop=True)\n",
    "print(dataset.shape)\n",
    "dataset.head()"
   ]
  },
  {
   "cell_type": "code",
   "execution_count": 449,
   "id": "dc8e350c",
   "metadata": {},
   "outputs": [
    {
     "name": "stdout",
     "output_type": "stream",
     "text": [
      "(5000, 6)\n"
     ]
    },
    {
     "data": {
      "text/html": [
       "<div>\n",
       "<style scoped>\n",
       "    .dataframe tbody tr th:only-of-type {\n",
       "        vertical-align: middle;\n",
       "    }\n",
       "\n",
       "    .dataframe tbody tr th {\n",
       "        vertical-align: top;\n",
       "    }\n",
       "\n",
       "    .dataframe thead th {\n",
       "        text-align: right;\n",
       "    }\n",
       "</style>\n",
       "<table border=\"1\" class=\"dataframe\">\n",
       "  <thead>\n",
       "    <tr style=\"text-align: right;\">\n",
       "      <th></th>\n",
       "      <th>Avg. Area Income</th>\n",
       "      <th>Avg. Area House Age</th>\n",
       "      <th>Avg. Area Number of Rooms</th>\n",
       "      <th>Avg. Area Number of Bedrooms</th>\n",
       "      <th>Area Population</th>\n",
       "      <th>Price</th>\n",
       "    </tr>\n",
       "  </thead>\n",
       "  <tbody>\n",
       "    <tr>\n",
       "      <th>0</th>\n",
       "      <td>72646.505992</td>\n",
       "      <td>4.961008</td>\n",
       "      <td>7.842306</td>\n",
       "      <td>4.26</td>\n",
       "      <td>35628.825386</td>\n",
       "      <td>1.285019e+06</td>\n",
       "    </tr>\n",
       "    <tr>\n",
       "      <th>1</th>\n",
       "      <td>62342.847184</td>\n",
       "      <td>6.506083</td>\n",
       "      <td>4.666260</td>\n",
       "      <td>2.47</td>\n",
       "      <td>38010.372739</td>\n",
       "      <td>8.239419e+05</td>\n",
       "    </tr>\n",
       "    <tr>\n",
       "      <th>2</th>\n",
       "      <td>72770.166856</td>\n",
       "      <td>7.680416</td>\n",
       "      <td>6.387694</td>\n",
       "      <td>4.05</td>\n",
       "      <td>21357.036529</td>\n",
       "      <td>1.293462e+06</td>\n",
       "    </tr>\n",
       "    <tr>\n",
       "      <th>3</th>\n",
       "      <td>71560.019889</td>\n",
       "      <td>5.685707</td>\n",
       "      <td>5.776343</td>\n",
       "      <td>4.12</td>\n",
       "      <td>40311.276258</td>\n",
       "      <td>1.049672e+06</td>\n",
       "    </tr>\n",
       "    <tr>\n",
       "      <th>4</th>\n",
       "      <td>65694.051265</td>\n",
       "      <td>6.436741</td>\n",
       "      <td>6.704929</td>\n",
       "      <td>3.14</td>\n",
       "      <td>43406.712030</td>\n",
       "      <td>1.359763e+06</td>\n",
       "    </tr>\n",
       "  </tbody>\n",
       "</table>\n",
       "</div>"
      ],
      "text/plain": [
       "   Avg. Area Income  Avg. Area House Age  Avg. Area Number of Rooms  \\\n",
       "0      72646.505992             4.961008                   7.842306   \n",
       "1      62342.847184             6.506083                   4.666260   \n",
       "2      72770.166856             7.680416                   6.387694   \n",
       "3      71560.019889             5.685707                   5.776343   \n",
       "4      65694.051265             6.436741                   6.704929   \n",
       "\n",
       "   Avg. Area Number of Bedrooms  Area Population         Price  \n",
       "0                          4.26     35628.825386  1.285019e+06  \n",
       "1                          2.47     38010.372739  8.239419e+05  \n",
       "2                          4.05     21357.036529  1.293462e+06  \n",
       "3                          4.12     40311.276258  1.049672e+06  \n",
       "4                          3.14     43406.712030  1.359763e+06  "
      ]
     },
     "execution_count": 449,
     "metadata": {},
     "output_type": "execute_result"
    }
   ],
   "source": [
    "dataset = dataset.drop(columns=['Address'])\n",
    "print(dataset.shape)\n",
    "dataset.head()"
   ]
  },
  {
   "cell_type": "code",
   "execution_count": 450,
   "id": "5fd46c1c",
   "metadata": {},
   "outputs": [
    {
     "name": "stdout",
     "output_type": "stream",
     "text": [
      "(5000, 5)\n"
     ]
    },
    {
     "data": {
      "text/html": [
       "<div>\n",
       "<style scoped>\n",
       "    .dataframe tbody tr th:only-of-type {\n",
       "        vertical-align: middle;\n",
       "    }\n",
       "\n",
       "    .dataframe tbody tr th {\n",
       "        vertical-align: top;\n",
       "    }\n",
       "\n",
       "    .dataframe thead th {\n",
       "        text-align: right;\n",
       "    }\n",
       "</style>\n",
       "<table border=\"1\" class=\"dataframe\">\n",
       "  <thead>\n",
       "    <tr style=\"text-align: right;\">\n",
       "      <th></th>\n",
       "      <th>Avg. Area Income</th>\n",
       "      <th>Avg. Area House Age</th>\n",
       "      <th>Avg. Area Number of Rooms</th>\n",
       "      <th>Avg. Area Number of Bedrooms</th>\n",
       "      <th>Area Population</th>\n",
       "    </tr>\n",
       "  </thead>\n",
       "  <tbody>\n",
       "    <tr>\n",
       "      <th>0</th>\n",
       "      <td>72646.505992</td>\n",
       "      <td>4.961008</td>\n",
       "      <td>7.842306</td>\n",
       "      <td>4.26</td>\n",
       "      <td>35628.825386</td>\n",
       "    </tr>\n",
       "    <tr>\n",
       "      <th>1</th>\n",
       "      <td>62342.847184</td>\n",
       "      <td>6.506083</td>\n",
       "      <td>4.666260</td>\n",
       "      <td>2.47</td>\n",
       "      <td>38010.372739</td>\n",
       "    </tr>\n",
       "    <tr>\n",
       "      <th>2</th>\n",
       "      <td>72770.166856</td>\n",
       "      <td>7.680416</td>\n",
       "      <td>6.387694</td>\n",
       "      <td>4.05</td>\n",
       "      <td>21357.036529</td>\n",
       "    </tr>\n",
       "    <tr>\n",
       "      <th>3</th>\n",
       "      <td>71560.019889</td>\n",
       "      <td>5.685707</td>\n",
       "      <td>5.776343</td>\n",
       "      <td>4.12</td>\n",
       "      <td>40311.276258</td>\n",
       "    </tr>\n",
       "    <tr>\n",
       "      <th>4</th>\n",
       "      <td>65694.051265</td>\n",
       "      <td>6.436741</td>\n",
       "      <td>6.704929</td>\n",
       "      <td>3.14</td>\n",
       "      <td>43406.712030</td>\n",
       "    </tr>\n",
       "  </tbody>\n",
       "</table>\n",
       "</div>"
      ],
      "text/plain": [
       "   Avg. Area Income  Avg. Area House Age  Avg. Area Number of Rooms  \\\n",
       "0      72646.505992             4.961008                   7.842306   \n",
       "1      62342.847184             6.506083                   4.666260   \n",
       "2      72770.166856             7.680416                   6.387694   \n",
       "3      71560.019889             5.685707                   5.776343   \n",
       "4      65694.051265             6.436741                   6.704929   \n",
       "\n",
       "   Avg. Area Number of Bedrooms  Area Population  \n",
       "0                          4.26     35628.825386  \n",
       "1                          2.47     38010.372739  \n",
       "2                          4.05     21357.036529  \n",
       "3                          4.12     40311.276258  \n",
       "4                          3.14     43406.712030  "
      ]
     },
     "execution_count": 450,
     "metadata": {},
     "output_type": "execute_result"
    }
   ],
   "source": [
    "y = dataset['Price']\n",
    "y.head()\n",
    "y = y.to_numpy().astype(np.float32)\n",
    "dataset = dataset.drop(columns=['Price'])\n",
    "print(dataset.shape)\n",
    "dataset.head()"
   ]
  },
  {
   "cell_type": "code",
   "execution_count": 451,
   "id": "3ea464e5",
   "metadata": {},
   "outputs": [],
   "source": [
    "X = dataset.to_numpy().astype(np.float32)"
   ]
  },
  {
   "cell_type": "code",
   "execution_count": 452,
   "id": "6c59f448",
   "metadata": {},
   "outputs": [],
   "source": [
    "X_train, X_test, y_train, y_test = train_test_split(X, y, test_size=0.20, random_state=42)\n",
    "X_train.shape, X_test.shape, y_train.shape, y_test.shape\n",
    "\n",
    "sc = StandardScaler()\n",
    "X_train = sc.fit_transform(X_train)\n",
    "X_test = sc.transform(X_test)"
   ]
  },
  {
   "cell_type": "code",
   "execution_count": 453,
   "id": "c1615ea8",
   "metadata": {},
   "outputs": [
    {
     "data": {
      "text/plain": [
       "(torch.Size([4000, 5]),\n",
       " torch.Size([1000, 5]),\n",
       " torch.Size([4000]),\n",
       " torch.Size([1000]))"
      ]
     },
     "execution_count": 453,
     "metadata": {},
     "output_type": "execute_result"
    }
   ],
   "source": [
    "X_train = torch.from_numpy(X_train)\n",
    "X_test = torch.from_numpy(X_test)\n",
    "y_train = torch.from_numpy(y_train)\n",
    "y_test = torch.from_numpy(y_test)\n",
    "\n",
    "X_train.shape, X_test.shape, y_train.shape, y_test.shape"
   ]
  },
  {
   "cell_type": "code",
   "execution_count": 454,
   "id": "a17e3791",
   "metadata": {},
   "outputs": [],
   "source": [
    "y_train = y_train.view(-1, 1)\n",
    "y_test = y_test.view(-1, 1)"
   ]
  },
  {
   "cell_type": "code",
   "execution_count": 455,
   "id": "f957437c",
   "metadata": {},
   "outputs": [],
   "source": [
    "input_size, output_size = 5, 1\n",
    "learning_rate = 0.01\n",
    "\n",
    "class DavNet(nn.Module):\n",
    "    \n",
    "    def __init__(self, input_size, ouput_size):\n",
    "        super(DavNet, self).__init__()\n",
    "        self.linear = nn.Linear(input_size, output_size)\n",
    "        \n",
    "    def forward(self, x):\n",
    "        y_predicted = torch.sigmoid(self.linear(x))\n",
    "        return y_predicted\n",
    "\n",
    "model = nn.Linear(input_size, output_size)\n",
    "optimizer = torch.optim.SGD(model.parameters(), lr=learning_rate)\n",
    "criterion = nn.MSELoss()"
   ]
  },
  {
   "cell_type": "code",
   "execution_count": 456,
   "id": "b6bdda0e",
   "metadata": {},
   "outputs": [
    {
     "name": "stderr",
     "output_type": "stream",
     "text": [
      "losses: 10179610624.00000:  44%|███████████████████████▌                             | 2958/6666 [00:02<00:02, 1260.38it/s]IOPub message rate exceeded.\n",
      "The notebook server will temporarily stop sending output\n",
      "to the client in order to avoid crashing it.\n",
      "To change this limit, set the config variable\n",
      "`--NotebookApp.iopub_msg_rate_limit`.\n",
      "\n",
      "Current values:\n",
      "NotebookApp.iopub_msg_rate_limit=1000.0 (msgs/sec)\n",
      "NotebookApp.rate_limit_window=3.0 (secs)\n",
      "\n",
      "losses: 10179610624.00000: 100%|█████████████████████████████████████████████████████| 6666/6666 [00:05<00:00, 1268.41it/s]\n"
     ]
    },
    {
     "data": {
      "text/plain": [
       "[<matplotlib.lines.Line2D at 0x7fa0b8ab2670>]"
      ]
     },
     "execution_count": 456,
     "metadata": {},
     "output_type": "execute_result"
    },
    {
     "data": {
      "image/png": "[encoded data removed]",
      "text/plain": [
       "<Figure size 432x288 with 1 Axes>"
      ]
     },
     "metadata": {
      "needs_background": "light"
     },
     "output_type": "display_data"
    }
   ],
   "source": [
    "losses = []\n",
    "epochs = 6666\n",
    "for epoch in (t := trange(epochs)):\n",
    "    \n",
    "    y_predictions = model(X_train)\n",
    "    \n",
    "    loss = criterion(y_predictions, y_train)\n",
    "    \n",
    "    loss.backward()\n",
    "    \n",
    "    optimizer.step()\n",
    "    \n",
    "    optimizer.zero_grad()\n",
    "    \n",
    "    losses.append(loss.item())\n",
    "    \n",
    "    t.set_description(\"losses: %.5f\" % (loss.item()))\n",
    "    \n",
    "plt.plot(losses)"
   ]
  },
  {
   "cell_type": "code",
   "execution_count": 457,
   "id": "5a641958",
   "metadata": {},
   "outputs": [
    {
     "data": {
      "text/plain": [
       "(1159174.6, 31140.516, 2196382.5)"
      ]
     },
     "execution_count": 457,
     "metadata": {},
     "output_type": "execute_result"
    }
   ],
   "source": [
    "predictions = model(X_test).detach().numpy()\n",
    "corrects = y_test.detach().numpy()\n",
    "\n",
    "error = predictions - np.abs(predictions-corrects)\n",
    "error.mean(), error.min(), error.max()"
   ]
  }
 ],
 "metadata": {
  "kernelspec": {
   "display_name": "Python 3 (ipykernel)",
   "language": "python",
   "name": "python3"
  },
  "language_info": {
   "codemirror_mode": {
    "name": "ipython",
    "version": 3
   },
   "file_extension": ".py",
   "mimetype": "text/x-python",
   "name": "python",
   "nbconvert_exporter": "python",
   "pygments_lexer": "ipython3",
   "version": "3.9.7"
  }
 },
 "nbformat": 4,
 "nbformat_minor": 5
}
