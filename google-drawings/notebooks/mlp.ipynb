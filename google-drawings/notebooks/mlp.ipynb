{
 "cells": [
  {
   "cell_type": "code",
   "execution_count": 1,
   "id": "8a5e86d3-2f44-4291-892b-0876ba80e0af",
   "metadata": {},
   "outputs": [],
   "source": [
    "from random import randint\n",
    "\n",
    "import torch\n",
    "import torch.nn as nn\n",
    "import torch.nn.functional as F\n",
    "\n",
    "import matplotlib.pyplot as plt\n",
    "\n",
    "from tqdm import tqdm\n",
    "\n",
    "import numpy as np\n",
    "\n",
    "import os"
   ]
  },
  {
   "cell_type": "code",
   "execution_count": 4,
   "id": "93bb27a7-2314-418a-83f3-e8d2cadaa3c9",
   "metadata": {},
   "outputs": [
    {
     "data": {
      "text/plain": [
       "((1000, 784), dtype('uint8'))"
      ]
     },
     "execution_count": 4,
     "metadata": {},
     "output_type": "execute_result"
    }
   ],
   "source": [
    "DATASET_PATH = \"../../datasets/google-drawings/\"\n",
    "x = np.load(DATASET_PATH+\"full_numpy_bitmap_axe.npy\")\n",
    "x.shape, x.dtype"
   ]
  },
  {
   "cell_type": "code",
   "execution_count": 9,
   "id": "4e312807-5769-4fde-9d37-e443696b1434",
   "metadata": {},
   "outputs": [
    {
     "name": "stdout",
     "output_type": "stream",
     "text": [
      "129\n"
     ]
    },
    {
     "data": {
      "text/plain": [
       "<matplotlib.image.AxesImage at 0x2816d1610>"
      ]
     },
     "execution_count": 9,
     "metadata": {},
     "output_type": "execute_result"
    },
    {
     "data": {
      "image/png": "[encoded data removed]",
      "text/plain": [
       "<Figure size 200x200 with 1 Axes>"
      ]
     },
     "metadata": {},
     "output_type": "display_data"
    }
   ],
   "source": [
    "print(len(os.listdir(DATASET_PATH)))\n",
    "\n",
    "# 138 files\n",
    "# all containing 1000 images\n",
    "# removed duplicate ... (n).npy files\n",
    "# seemed to have repeated images\n",
    "\n",
    "img = np.load(DATASET_PATH+\"full_numpy_bitmap_fish.npy\")[1]\n",
    "img = img.reshape(28,28)\n",
    "\n",
    "plt.figure(figsize=(2,2))\n",
    "plt.imshow(img, cmap='gray')"
   ]
  },
  {
   "cell_type": "code",
   "execution_count": 220,
   "id": "df3bce1a-49da-4258-9e97-d5d3fd53dd70",
   "metadata": {
    "tags": []
   },
   "outputs": [
    {
     "name": "stdout",
     "output_type": "stream",
     "text": [
      "128 128\n"
     ]
    },
    {
     "data": {
      "text/plain": [
       "(torch.Size([2, 1, 28, 28]), tensor([62, 55], dtype=torch.uint8))"
      ]
     },
     "execution_count": 220,
     "metadata": {},
     "output_type": "execute_result"
    }
   ],
   "source": [
    "files = os.listdir(DATASET_PATH)\n",
    "files = sorted([name for name in files if \".npy\" in name and \"sketch\" not in name])\n",
    "n_classes = len(files) \n",
    "print(len(files), n_classes)\n",
    "\n",
    "BS = 32\n",
    "\n",
    "def load_batch(BS):\n",
    "    \n",
    "    batch = torch.zeros((BS, 1, 28, 28))\n",
    "    labels = torch.zeros(BS).type(torch.uint8)\n",
    "    #print(labels.shape)\n",
    "    #print(batch.shape)\n",
    "\n",
    "    # 130 file\n",
    "    # 1000 samples per file\n",
    "    file_indices = np.random.randint(0, n_classes, BS)\n",
    "    batch_indices = np.random.randint(0, 1000, BS)\n",
    "    \n",
    "    for i, (fi, bi) in enumerate(zip(file_indices, batch_indices)):\n",
    "        \n",
    "        item = np.load(DATASET_PATH+files[fi])[bi]\n",
    "        batch[i] = torch.from_numpy(item).type(torch.float).reshape(28,28)\n",
    "        #labels[i] = F.one_hot(torch.tensor(fi), 128)\n",
    "        labels[i] = torch.tensor(fi)\n",
    "        \n",
    "    return batch, labels\n",
    "\n",
    "xs, ys = load_batch(2)\n",
    "xs.shape, ys"
   ]
  },
  {
   "cell_type": "code",
   "execution_count": 258,
   "id": "a888ab31-5b26-4eb8-8187-883cd21e05dd",
   "metadata": {},
   "outputs": [
    {
     "name": "stdout",
     "output_type": "stream",
     "text": [
      "torch.Size([2, 128])\n"
     ]
    },
    {
     "data": {
      "text/plain": [
       "tensor(-0.0071, grad_fn=<NllLossBackward0>)"
      ]
     },
     "execution_count": 258,
     "metadata": {},
     "output_type": "execute_result"
    }
   ],
   "source": [
    "class mlp(nn.Module):\n",
    "    def __init__(self):\n",
    "        super().__init__()\n",
    "        self.layer_stack = nn.Sequential(\n",
    "            nn.Flatten(),\n",
    "            nn.Linear(784, 512),\n",
    "            nn.ReLU(),\n",
    "            nn.Linear(512, 256),\n",
    "            nn.ReLU(),\n",
    "            nn.Linear(256, 256),\n",
    "            nn.ReLU(),\n",
    "            nn.Linear(256, 256),\n",
    "            nn.ReLU(),            \n",
    "            nn.Linear(256, 128),\n",
    "            nn.Softmax(dim=1)\n",
    "        )\n",
    "    def forward(self, x):\n",
    "        return self.layer_stack(x)\n",
    "    \n",
    "device = torch.device(\"mps\")    \n",
    "model = mlp()\n",
    "#model = model.to(device)\n",
    "\n",
    "pred = model(xs)\n",
    "print(pred.shape)\n",
    "\n",
    "crit = nn.NLLLoss()\n",
    "\n",
    "crit(pred, ys)"
   ]
  },
  {
   "cell_type": "code",
   "execution_count": 261,
   "id": "0fb5534d-8e46-4298-9f05-49d128df3ba2",
   "metadata": {},
   "outputs": [
    {
     "data": {
      "text/plain": [
       "mlp(\n",
       "  (layer_stack): Sequential(\n",
       "    (0): Flatten(start_dim=1, end_dim=-1)\n",
       "    (1): Linear(in_features=784, out_features=512, bias=True)\n",
       "    (2): ReLU()\n",
       "    (3): Linear(in_features=512, out_features=256, bias=True)\n",
       "    (4): ReLU()\n",
       "    (5): Linear(in_features=256, out_features=256, bias=True)\n",
       "    (6): ReLU()\n",
       "    (7): Linear(in_features=256, out_features=256, bias=True)\n",
       "    (8): ReLU()\n",
       "    (9): Linear(in_features=256, out_features=128, bias=True)\n",
       "    (10): Softmax(dim=1)\n",
       "  )\n",
       ")"
      ]
     },
     "execution_count": 261,
     "metadata": {},
     "output_type": "execute_result"
    }
   ],
   "source": [
    "device = torch.device(\"cpu\")\n",
    "model = model.to(device)\n",
    "model.train()\n"
   ]
  },
  {
   "cell_type": "code",
   "execution_count": 268,
   "id": "374602ba-6e36-4eef-8efa-3ea02c3a02df",
   "metadata": {},
   "outputs": [
    {
     "name": "stderr",
     "output_type": "stream",
     "text": [
      "0.109375: 100%|████████████████████████████████████| 15/15 [03:23<00:00, 13.54s/it]\n"
     ]
    }
   ],
   "source": [
    "lr = 0.1\n",
    "mom = 0.1\n",
    "BS = 512\n",
    "N_EPOCHS = 15\n",
    "N_BATCHES = int(128*1000/BS)\n",
    "\n",
    "crit = nn.CrossEntropyLoss()\n",
    "optim = torch.optim.SGD(params=model.parameters(), lr=lr, momentum=mom)\n",
    "\n",
    "losses = []\n",
    "accs = []\n",
    "\n",
    "pbar = tqdm(range(N_EPOCHS))\n",
    "\n",
    "for epoch in pbar:\n",
    "    for n_batch in range(N_BATCHES):\n",
    "        batch, labels = load_batch(BS)\n",
    "        \n",
    "        optim.zero_grad()\n",
    "\n",
    "        out = model.forward(batch.to(device))\n",
    "        loss = crit(out, labels.to(device))\n",
    "        acc = ((out.argmax(dim=1).detach().cpu()==labels).sum().item()/float(BS))\n",
    "        \n",
    "        accs.append(acc)\n",
    "        losses.append(loss.detach().cpu().item()/float(BS))\n",
    "\n",
    "        if n_batch % 3 == 0: pbar.set_description(str(acc))\n",
    "        \n",
    "        loss.backward()\n",
    "        \n",
    "        optim.step()\n",
    "        "
   ]
  },
  {
   "cell_type": "code",
   "execution_count": 269,
   "id": "b9e0e561-3bae-42b1-8382-4bf80c4abe4c",
   "metadata": {},
   "outputs": [
    {
     "data": {
      "text/plain": [
       "[<matplotlib.lines.Line2D at 0x2823a68d0>]"
      ]
     },
     "execution_count": 269,
     "metadata": {},
     "output_type": "execute_result"
    },
    {
     "data": {
      "image/png": "[encoded data removed]",
      "text/plain": [
       "<Figure size 640x480 with 1 Axes>"
      ]
     },
     "metadata": {},
     "output_type": "display_data"
    }
   ],
   "source": [
    "plt.plot(losses)\n",
    "plt.plot(accs)"
   ]
  }
 ],
 "metadata": {
  "kernelspec": {
   "display_name": "Python 3 (ipykernel)",
   "language": "python",
   "name": "python3"
  },
  "language_info": {
   "codemirror_mode": {
    "name": "ipython",
    "version": 3
   },
   "file_extension": ".py",
   "mimetype": "text/x-python",
   "name": "python",
   "nbconvert_exporter": "python",
   "pygments_lexer": "ipython3",
   "version": "3.9.16"
  }
 },
 "nbformat": 4,
 "nbformat_minor": 5
}
