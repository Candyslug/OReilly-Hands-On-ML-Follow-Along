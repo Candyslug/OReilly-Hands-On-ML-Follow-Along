{
 "cells": [
  {
   "cell_type": "code",
   "execution_count": 2,
   "id": "8a5e86d3-2f44-4291-892b-0876ba80e0af",
   "metadata": {},
   "outputs": [],
   "source": [
    "from random import randint\n",
    "\n",
    "import torch\n",
    "import torch.nn as nn\n",
    "import torch.nn.functional as F\n",
    "\n",
    "import matplotlib.pyplot as plt\n",
    "\n",
    "from tqdm import tqdm\n",
    "\n",
    "import numpy as np\n",
    "\n",
    "import os"
   ]
  },
  {
   "cell_type": "code",
   "execution_count": 3,
   "id": "93bb27a7-2314-418a-83f3-e8d2cadaa3c9",
   "metadata": {},
   "outputs": [
    {
     "data": {
      "text/plain": [
       "((1000, 784), dtype('uint8'))"
      ]
     },
     "execution_count": 3,
     "metadata": {},
     "output_type": "execute_result"
    }
   ],
   "source": [
    "DATASET_PATH = \"../datasets/google-drawings/\"\n",
    "x = np.load(DATASET_PATH+\"full_numpy_bitmap_axe.npy\")\n",
    "x.shape, x.dtype"
   ]
  },
  {
   "cell_type": "code",
   "execution_count": 4,
   "id": "4e312807-5769-4fde-9d37-e443696b1434",
   "metadata": {},
   "outputs": [
    {
     "name": "stdout",
     "output_type": "stream",
     "text": [
      "130\n"
     ]
    },
    {
     "data": {
      "text/plain": [
       "<matplotlib.image.AxesImage at 0x11f0b5750>"
      ]
     },
     "execution_count": 4,
     "metadata": {},
     "output_type": "execute_result"
    },
    {
     "data": {
      "image/png": "[encoded data removed]",
      "text/plain": [
       "<Figure size 200x200 with 1 Axes>"
      ]
     },
     "metadata": {},
     "output_type": "display_data"
    }
   ],
   "source": [
    "print(len(os.listdir(DATASET_PATH)))\n",
    "\n",
    "# 138 files\n",
    "# all containing 1000 images\n",
    "# removed duplicate ... (n).npy files\n",
    "# seemed to have repeated images\n",
    "\n",
    "img = np.load(DATASET_PATH+\"full_numpy_bitmap_axe.npy\")[0]\n",
    "img = img.reshape(28,28)\n",
    "\n",
    "plt.figure(figsize=(2,2))\n",
    "plt.imshow(img, cmap='gray')"
   ]
  },
  {
   "cell_type": "code",
   "execution_count": 220,
   "id": "df3bce1a-49da-4258-9e97-d5d3fd53dd70",
   "metadata": {
    "tags": []
   },
   "outputs": [
    {
     "name": "stdout",
     "output_type": "stream",
     "text": [
      "128 128\n"
     ]
    },
    {
     "data": {
      "text/plain": [
       "(torch.Size([2, 1, 28, 28]), tensor([62, 55], dtype=torch.uint8))"
      ]
     },
     "execution_count": 220,
     "metadata": {},
     "output_type": "execute_result"
    }
   ],
   "source": [
    "files = os.listdir(DATASET_PATH)\n",
    "files = sorted([name for name in files if \".npy\" in name and \"sketch\" not in name])\n",
    "n_classes = len(files) \n",
    "print(len(files), n_classes)\n",
    "\n",
    "BS = 32\n",
    "\n",
    "def load_batch(BS):\n",
    "    \n",
    "    batch = torch.zeros((BS, 1, 28, 28))\n",
    "    labels = torch.zeros(BS).type(torch.uint8)\n",
    "    #print(labels.shape)\n",
    "    #print(batch.shape)\n",
    "\n",
    "    # 130 file\n",
    "    # 1000 samples per file\n",
    "    file_indices = np.random.randint(0, n_classes, BS)\n",
    "    batch_indices = np.random.randint(0, 1000, BS)\n",
    "    \n",
    "    for i, (fi, bi) in enumerate(zip(file_indices, batch_indices)):\n",
    "        \n",
    "        item = np.load(DATASET_PATH+files[fi])[bi]\n",
    "        batch[i] = torch.from_numpy(item).type(torch.float).reshape(28,28)\n",
    "        #labels[i] = F.one_hot(torch.tensor(fi), 128)\n",
    "        labels[i] = torch.tensor(fi)\n",
    "        \n",
    "    return batch, labels\n",
    "\n",
    "xs, ys = load_batch(2)\n",
    "xs.shape, ys"
   ]
  },
  {
   "cell_type": "code",
   "execution_count": 235,
   "id": "a888ab31-5b26-4eb8-8187-883cd21e05dd",
   "metadata": {},
   "outputs": [
    {
     "name": "stdout",
     "output_type": "stream",
     "text": [
      "torch.Size([2, 128])\n"
     ]
    },
    {
     "data": {
      "text/plain": [
       "tensor(-8.0721e-08, grad_fn=<NllLossBackward0>)"
      ]
     },
     "execution_count": 235,
     "metadata": {},
     "output_type": "execute_result"
    }
   ],
   "source": [
    "class mlp(nn.Module):\n",
    "    def __init__(self):\n",
    "        super().__init__()\n",
    "        self.layer_stack = nn.Sequential(\n",
    "            nn.Flatten(),\n",
    "            nn.Linear(784, 512),\n",
    "            nn.Linear(512, 256),\n",
    "            nn.Linear(256, 256),\n",
    "            nn.Linear(256, 256),\n",
    "            nn.Linear(256, 128),\n",
    "            nn.Softmax(dim=1)\n",
    "        )\n",
    "    def forward(self, x):\n",
    "        return self.layer_stack(x)\n",
    "    \n",
    "device = torch.device(\"mps\")    \n",
    "model = mlp()\n",
    "#model = model.to(device)\n",
    "\n",
    "pred = model(xs)\n",
    "print(pred.shape)\n",
    "\n",
    "crit = nn.NLLLoss()\n",
    "\n",
    "crit(pred, ys)"
   ]
  },
  {
   "cell_type": "code",
   "execution_count": 240,
   "id": "374602ba-6e36-4eef-8efa-3ea02c3a02df",
   "metadata": {},
   "outputs": [
    {
     "name": "stderr",
     "output_type": "stream",
     "text": [
      "  0%|                                                        | 0/5 [00:00<?, ?it/s]"
     ]
    },
    {
     "name": "stdout",
     "output_type": "stream",
     "text": [
      "0.018974874168634415 0.00390625\n",
      "0.018901363015174866 0.0234375\n",
      "0.018830586224794388 0.046875\n",
      "0.018881436437368393 0.03515625\n",
      "0.018877588212490082 0.02734375\n"
     ]
    },
    {
     "name": "stderr",
     "output_type": "stream",
     "text": [
      " 20%|█████████▌                                      | 1/5 [00:15<01:00, 15.04s/it]"
     ]
    },
    {
     "name": "stdout",
     "output_type": "stream",
     "text": [
      "0.01875896379351616 0.06640625\n",
      "0.018683694303035736 0.0859375\n",
      "0.018717918545007706 0.07421875\n",
      "0.018685445189476013 0.08203125\n",
      "0.018738403916358948 0.0703125\n"
     ]
    },
    {
     "name": "stderr",
     "output_type": "stream",
     "text": [
      " 40%|███████████████████▏                            | 2/5 [00:30<00:45, 15.03s/it]"
     ]
    },
    {
     "name": "stdout",
     "output_type": "stream",
     "text": [
      "0.018671423196792603 0.0859375\n",
      "0.01861649379134178 0.1015625\n",
      "0.018752112984657288 0.0625\n",
      "0.01868695206940174 0.08203125\n",
      "0.018597887828946114 0.109375\n"
     ]
    },
    {
     "name": "stderr",
     "output_type": "stream",
     "text": [
      " 60%|████████████████████████████▊                   | 3/5 [00:45<00:30, 15.04s/it]"
     ]
    },
    {
     "name": "stdout",
     "output_type": "stream",
     "text": [
      "0.018689420074224472 0.078125\n"
     ]
    },
    {
     "name": "stderr",
     "output_type": "stream",
     "text": [
      " 60%|████████████████████████████▊                   | 3/5 [00:46<00:31, 15.54s/it]\n"
     ]
    },
    {
     "ename": "KeyboardInterrupt",
     "evalue": "",
     "output_type": "error",
     "traceback": [
      "\u001b[0;31m---------------------------------------------------------------------------\u001b[0m",
      "\u001b[0;31mKeyboardInterrupt\u001b[0m                         Traceback (most recent call last)",
      "Cell \u001b[0;32mIn[240], line 18\u001b[0m\n\u001b[1;32m     16\u001b[0m \u001b[38;5;28;01mfor\u001b[39;00m epoch \u001b[38;5;129;01min\u001b[39;00m tqdm(\u001b[38;5;28mrange\u001b[39m(N_EPOCHS)):\n\u001b[1;32m     17\u001b[0m     \u001b[38;5;28;01mfor\u001b[39;00m n_batch \u001b[38;5;129;01min\u001b[39;00m \u001b[38;5;28mrange\u001b[39m(N_BATCHES):\n\u001b[0;32m---> 18\u001b[0m         batch, labels \u001b[38;5;241m=\u001b[39m \u001b[43mload_batch\u001b[49m\u001b[43m(\u001b[49m\u001b[43mBS\u001b[49m\u001b[43m)\u001b[49m\n\u001b[1;32m     20\u001b[0m         optim\u001b[38;5;241m.\u001b[39mzero_grad()\n\u001b[1;32m     22\u001b[0m         out \u001b[38;5;241m=\u001b[39m model\u001b[38;5;241m.\u001b[39mforward(batch\u001b[38;5;241m.\u001b[39mto(device))\n",
      "Cell \u001b[0;32mIn[220], line 22\u001b[0m, in \u001b[0;36mload_batch\u001b[0;34m(BS)\u001b[0m\n\u001b[1;32m     18\u001b[0m batch_indices \u001b[38;5;241m=\u001b[39m np\u001b[38;5;241m.\u001b[39mrandom\u001b[38;5;241m.\u001b[39mrandint(\u001b[38;5;241m0\u001b[39m, \u001b[38;5;241m1000\u001b[39m, BS)\n\u001b[1;32m     20\u001b[0m \u001b[38;5;28;01mfor\u001b[39;00m i, (fi, bi) \u001b[38;5;129;01min\u001b[39;00m \u001b[38;5;28menumerate\u001b[39m(\u001b[38;5;28mzip\u001b[39m(file_indices, batch_indices)):\n\u001b[0;32m---> 22\u001b[0m     item \u001b[38;5;241m=\u001b[39m \u001b[43mnp\u001b[49m\u001b[38;5;241;43m.\u001b[39;49m\u001b[43mload\u001b[49m\u001b[43m(\u001b[49m\u001b[43mDATASET_PATH\u001b[49m\u001b[38;5;241;43m+\u001b[39;49m\u001b[43mfiles\u001b[49m\u001b[43m[\u001b[49m\u001b[43mfi\u001b[49m\u001b[43m]\u001b[49m\u001b[43m)\u001b[49m[bi]\n\u001b[1;32m     23\u001b[0m     batch[i] \u001b[38;5;241m=\u001b[39m torch\u001b[38;5;241m.\u001b[39mfrom_numpy(item)\u001b[38;5;241m.\u001b[39mtype(torch\u001b[38;5;241m.\u001b[39mfloat)\u001b[38;5;241m.\u001b[39mreshape(\u001b[38;5;241m28\u001b[39m,\u001b[38;5;241m28\u001b[39m)\n\u001b[1;32m     24\u001b[0m     \u001b[38;5;66;03m#labels[i] = F.one_hot(torch.tensor(fi), 128)\u001b[39;00m\n",
      "File \u001b[0;32m~/dev/doml/mlenv/lib/python3.11/site-packages/numpy/lib/npyio.py:456\u001b[0m, in \u001b[0;36mload\u001b[0;34m(file, mmap_mode, allow_pickle, fix_imports, encoding, max_header_size)\u001b[0m\n\u001b[1;32m    453\u001b[0m         \u001b[38;5;28;01mreturn\u001b[39;00m \u001b[38;5;28mformat\u001b[39m\u001b[38;5;241m.\u001b[39mopen_memmap(file, mode\u001b[38;5;241m=\u001b[39mmmap_mode,\n\u001b[1;32m    454\u001b[0m                                   max_header_size\u001b[38;5;241m=\u001b[39mmax_header_size)\n\u001b[1;32m    455\u001b[0m     \u001b[38;5;28;01melse\u001b[39;00m:\n\u001b[0;32m--> 456\u001b[0m         \u001b[38;5;28;01mreturn\u001b[39;00m \u001b[38;5;28;43mformat\u001b[39;49m\u001b[38;5;241;43m.\u001b[39;49m\u001b[43mread_array\u001b[49m\u001b[43m(\u001b[49m\u001b[43mfid\u001b[49m\u001b[43m,\u001b[49m\u001b[43m \u001b[49m\u001b[43mallow_pickle\u001b[49m\u001b[38;5;241;43m=\u001b[39;49m\u001b[43mallow_pickle\u001b[49m\u001b[43m,\u001b[49m\n\u001b[1;32m    457\u001b[0m \u001b[43m                                 \u001b[49m\u001b[43mpickle_kwargs\u001b[49m\u001b[38;5;241;43m=\u001b[39;49m\u001b[43mpickle_kwargs\u001b[49m\u001b[43m,\u001b[49m\n\u001b[1;32m    458\u001b[0m \u001b[43m                                 \u001b[49m\u001b[43mmax_header_size\u001b[49m\u001b[38;5;241;43m=\u001b[39;49m\u001b[43mmax_header_size\u001b[49m\u001b[43m)\u001b[49m\n\u001b[1;32m    459\u001b[0m \u001b[38;5;28;01melse\u001b[39;00m:\n\u001b[1;32m    460\u001b[0m     \u001b[38;5;66;03m# Try a pickle\u001b[39;00m\n\u001b[1;32m    461\u001b[0m     \u001b[38;5;28;01mif\u001b[39;00m \u001b[38;5;129;01mnot\u001b[39;00m allow_pickle:\n",
      "File \u001b[0;32m~/dev/doml/mlenv/lib/python3.11/site-packages/numpy/lib/format.py:809\u001b[0m, in \u001b[0;36mread_array\u001b[0;34m(fp, allow_pickle, pickle_kwargs, max_header_size)\u001b[0m\n\u001b[1;32m    806\u001b[0m \u001b[38;5;28;01melse\u001b[39;00m:\n\u001b[1;32m    807\u001b[0m     \u001b[38;5;28;01mif\u001b[39;00m isfileobj(fp):\n\u001b[1;32m    808\u001b[0m         \u001b[38;5;66;03m# We can use the fast fromfile() function.\u001b[39;00m\n\u001b[0;32m--> 809\u001b[0m         array \u001b[38;5;241m=\u001b[39m \u001b[43mnumpy\u001b[49m\u001b[38;5;241;43m.\u001b[39;49m\u001b[43mfromfile\u001b[49m\u001b[43m(\u001b[49m\u001b[43mfp\u001b[49m\u001b[43m,\u001b[49m\u001b[43m \u001b[49m\u001b[43mdtype\u001b[49m\u001b[38;5;241;43m=\u001b[39;49m\u001b[43mdtype\u001b[49m\u001b[43m,\u001b[49m\u001b[43m \u001b[49m\u001b[43mcount\u001b[49m\u001b[38;5;241;43m=\u001b[39;49m\u001b[43mcount\u001b[49m\u001b[43m)\u001b[49m\n\u001b[1;32m    810\u001b[0m     \u001b[38;5;28;01melse\u001b[39;00m:\n\u001b[1;32m    811\u001b[0m         \u001b[38;5;66;03m# This is not a real file. We have to read it the\u001b[39;00m\n\u001b[1;32m    812\u001b[0m         \u001b[38;5;66;03m# memory-intensive way.\u001b[39;00m\n\u001b[0;32m   (...)\u001b[0m\n\u001b[1;32m    820\u001b[0m         \u001b[38;5;66;03m# not correctly instantiate zero-width string dtypes; see\u001b[39;00m\n\u001b[1;32m    821\u001b[0m         \u001b[38;5;66;03m# https://github.com/numpy/numpy/pull/6430\u001b[39;00m\n\u001b[1;32m    822\u001b[0m         array \u001b[38;5;241m=\u001b[39m numpy\u001b[38;5;241m.\u001b[39mndarray(count, dtype\u001b[38;5;241m=\u001b[39mdtype)\n",
      "\u001b[0;31mKeyboardInterrupt\u001b[0m: "
     ]
    }
   ],
   "source": [
    "model = model.to(device)\n",
    "model.train()\n",
    "\n",
    "lr = 0.01\n",
    "mom = 0.0\n",
    "BS = 256\n",
    "N_EPOCHS = 5\n",
    "N_BATCHES = int(128*1000/BS)\n",
    "\n",
    "crit = nn.CrossEntropyLoss()\n",
    "optim = torch.optim.SGD(params=model.parameters(), lr=lr, momentum=0.0)\n",
    "\n",
    "losses = []\n",
    "accs = []\n",
    "\n",
    "for epoch in tqdm(range(N_EPOCHS)):\n",
    "    for n_batch in range(N_BATCHES):\n",
    "        batch, labels = load_batch(BS)\n",
    "        \n",
    "        optim.zero_grad()\n",
    "\n",
    "        out = model.forward(batch.to(device))\n",
    "        loss = crit(out, labels.to(device))\n",
    "        acc = ((out.argmax(dim=1).detach().cpu()==labels).sum().item()/float(BS))\n",
    "        \n",
    "        accs.append(acc)\n",
    "        losses.append(loss.detach().cpu().item()/float(BS))\n",
    "\n",
    "        \n",
    "        if n_batch % 100 == 0: \n",
    "            print(loss.detach().cpu().item()/float(BS), acc)\n",
    "        \n",
    "        loss.backward()\n",
    "        \n",
    "        optim.step()\n",
    "        "
   ]
  },
  {
   "cell_type": "code",
   "execution_count": 241,
   "id": "b9e0e561-3bae-42b1-8382-4bf80c4abe4c",
   "metadata": {},
   "outputs": [
    {
     "data": {
      "text/plain": [
       "[<matplotlib.lines.Line2D at 0x17f93e5d0>]"
      ]
     },
     "execution_count": 241,
     "metadata": {},
     "output_type": "execute_result"
    },
    {
     "data": {
      "image/png": "[encoded data removed]",
      "text/plain": [
       "<Figure size 640x480 with 1 Axes>"
      ]
     },
     "metadata": {},
     "output_type": "display_data"
    }
   ],
   "source": [
    "plt.plot(losses)\n",
    "plt.plot(accs)"
   ]
  },
  {
   "cell_type": "code",
   "execution_count": null,
   "id": "c04d66c7-5734-44bf-952b-d5f88679a5c1",
   "metadata": {},
   "outputs": [],
   "source": []
  }
 ],
 "metadata": {
  "kernelspec": {
   "display_name": "Python 3 (ipykernel)",
   "language": "python",
   "name": "python3"
  },
  "language_info": {
   "codemirror_mode": {
    "name": "ipython",
    "version": 3
   },
   "file_extension": ".py",
   "mimetype": "text/x-python",
   "name": "python",
   "nbconvert_exporter": "python",
   "pygments_lexer": "ipython3",
   "version": "3.11.5"
  }
 },
 "nbformat": 4,
 "nbformat_minor": 5
}
