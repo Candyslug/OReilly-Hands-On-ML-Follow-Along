{
 "cells": [
  {
   "cell_type": "code",
   "execution_count": 44,
   "id": "b849099a-b462-4d0c-a7fa-31bf64cdf0de",
   "metadata": {},
   "outputs": [],
   "source": [
    "import torch\n",
    "import torch.nn as nn\n",
    "from torchvision.datasets import MNIST"
   ]
  },
  {
   "cell_type": "code",
   "execution_count": 2,
   "id": "3cb9177e-cfad-43f9-807e-55b178bcaa36",
   "metadata": {},
   "outputs": [],
   "source": [
    "from tqdm import tqdm"
   ]
  },
  {
   "cell_type": "code",
   "execution_count": 4,
   "id": "25824511-c797-4479-ad0e-173a1d236fc5",
   "metadata": {},
   "outputs": [],
   "source": [
    "%matplotlib inline\n",
    "import matplotlib.pyplot as plt"
   ]
  },
  {
   "cell_type": "code",
   "execution_count": 45,
   "id": "2291b859-14d5-460e-a516-18389b2412e7",
   "metadata": {},
   "outputs": [],
   "source": [
    "from random import randint"
   ]
  },
  {
   "cell_type": "code",
   "execution_count": 34,
   "id": "36981fce-df83-4476-b3d7-479a3e366e70",
   "metadata": {},
   "outputs": [
    {
     "data": {
      "text/plain": [
       "device(type='cuda')"
      ]
     },
     "execution_count": 34,
     "metadata": {},
     "output_type": "execute_result"
    }
   ],
   "source": [
    "device = torch.device(\"cuda\" if torch.cuda.is_available() else \"cpu\")\n",
    "device"
   ]
  },
  {
   "cell_type": "code",
   "execution_count": 11,
   "id": "392572fe-8339-4b65-bfb1-2712d12cb81c",
   "metadata": {},
   "outputs": [],
   "source": [
    "mnist_train = MNIST(root=\"datasets/\", train=True, download=True)\n",
    "mnist_test = MNIST(root=\"datasets/\", train=False, download=True)"
   ]
  },
  {
   "cell_type": "code",
   "execution_count": 52,
   "id": "c31e2b94-b2d6-4fdd-abbe-6074389158f2",
   "metadata": {},
   "outputs": [],
   "source": [
    "train_X = mnist_train.data.type(torch.float).to(device)\n",
    "train_y = mnist_train.targets.to(device)\n",
    "\n",
    "test_X = mnist_test.data.type(torch.float).to(device)\n",
    "test_y = mnist_test.targets.to(device)"
   ]
  },
  {
   "cell_type": "code",
   "execution_count": 14,
   "id": "8014c0f0-03f7-433f-b039-37751693c4ad",
   "metadata": {},
   "outputs": [
    {
     "data": {
      "text/plain": [
       "60000"
      ]
     },
     "execution_count": 14,
     "metadata": {},
     "output_type": "execute_result"
    }
   ],
   "source": [
    "n_training_samples = len(train_y)\n",
    "n_training_samples"
   ]
  },
  {
   "cell_type": "code",
   "execution_count": 30,
   "id": "32d1cc23-9b8b-4f04-b88b-f08c7bb58a59",
   "metadata": {
    "scrolled": true
   },
   "outputs": [],
   "source": [
    "class DaModel(nn.Module):\n",
    "    def __init__(self):\n",
    "        super().__init__()\n",
    "        self.layer_stack = nn.Sequential(\n",
    "            nn.Flatten(),\n",
    "            nn.Linear(in_features=28*28, out_features=64),\n",
    "            nn.ReLU(),\n",
    "            nn.Linear(in_features=64, out_features=32),\n",
    "            nn.ReLU(),\n",
    "            nn.Linear(in_features=32, out_features=10),\n",
    "            nn.LogSoftmax(dim=1)\n",
    "        )\n",
    "    def forward(self, x):\n",
    "        return self.layer_stack(x)"
   ]
  },
  {
   "cell_type": "code",
   "execution_count": 41,
   "id": "19a23d3e-1890-461f-9b4d-79dc44541092",
   "metadata": {},
   "outputs": [
    {
     "data": {
      "text/plain": [
       "DaModel(\n",
       "  (layer_stack): Sequential(\n",
       "    (0): Flatten(start_dim=1, end_dim=-1)\n",
       "    (1): Linear(in_features=784, out_features=64, bias=True)\n",
       "    (2): ReLU()\n",
       "    (3): Linear(in_features=64, out_features=32, bias=True)\n",
       "    (4): ReLU()\n",
       "    (5): Linear(in_features=32, out_features=10, bias=True)\n",
       "    (6): LogSoftmax(dim=1)\n",
       "  )\n",
       ")"
      ]
     },
     "execution_count": 41,
     "metadata": {},
     "output_type": "execute_result"
    }
   ],
   "source": [
    "model = DaModel()\n",
    "model.to(device)"
   ]
  },
  {
   "cell_type": "code",
   "execution_count": 61,
   "id": "d61dc019-dac7-42fa-ab87-aa1379cba5d5",
   "metadata": {},
   "outputs": [
    {
     "name": "stderr",
     "output_type": "stream",
     "text": [
      "100%|████████████████████████████████████████████████████████████████████████████████████████████████████████████████████████████████████| 3/3 [00:03<00:00,  1.30s/it]\n"
     ]
    },
    {
     "data": {
      "text/plain": [
       "[<matplotlib.lines.Line2D at 0x7f8a504af220>]"
      ]
     },
     "execution_count": 61,
     "metadata": {},
     "output_type": "execute_result"
    },
    {
     "data": {
      "image/png": "[encoded data removed]",
      "text/plain": [
       "<Figure size 640x480 with 1 Axes>"
      ]
     },
     "metadata": {},
     "output_type": "display_data"
    }
   ],
   "source": [
    "model.train()\n",
    "\n",
    "n_epochs = 3\n",
    "\n",
    "BS = 32\n",
    "\n",
    "batch_iters = int(n_training_samples / BS)\n",
    "\n",
    "loss_fn = nn.NLLLoss()\n",
    "optim = torch.optim.SGD(params=model.parameters(), lr=0.001)\n",
    "\n",
    "losses = []\n",
    "\n",
    "for epoch in tqdm(range(n_epochs)):\n",
    "\n",
    "    for _ in range(batch_iters):\n",
    "        optim.zero_grad()\n",
    "        \n",
    "        i = randint(0, n_training_samples-BS)\n",
    "        preds = model(train_X[i:i+BS])\n",
    "        labels = train_y[i:i+BS]\n",
    "        loss = loss_fn(preds, labels)\n",
    "        losses.append(loss.item()/BS)\n",
    "\n",
    "        loss.backward()\n",
    "\n",
    "        optim.step()\n",
    "\n",
    "plt.plot(losses)"
   ]
  },
  {
   "cell_type": "code",
   "execution_count": 60,
   "id": "87738198-aee9-4e57-b550-5a6dbfcb31cb",
   "metadata": {},
   "outputs": [
    {
     "data": {
      "text/plain": [
       "0.9639999866485596"
      ]
     },
     "execution_count": 60,
     "metadata": {},
     "output_type": "execute_result"
    }
   ],
   "source": [
    "model.eval()\n",
    "\n",
    "((model(test_X).argmax(dim=1)==test_y).sum()/len(test_y)).item()"
   ]
  }
 ],
 "metadata": {
  "kernelspec": {
   "display_name": "Python 3 (ipykernel)",
   "language": "python",
   "name": "python3"
  },
  "language_info": {
   "codemirror_mode": {
    "name": "ipython",
    "version": 3
   },
   "file_extension": ".py",
   "mimetype": "text/x-python",
   "name": "python",
   "nbconvert_exporter": "python",
   "pygments_lexer": "ipython3",
   "version": "3.10.12"
  }
 },
 "nbformat": 4,
 "nbformat_minor": 5
}
