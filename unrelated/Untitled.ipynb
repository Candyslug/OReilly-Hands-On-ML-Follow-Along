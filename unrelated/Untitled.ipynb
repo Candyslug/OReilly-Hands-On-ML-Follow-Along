{
 "cells": [
  {
   "cell_type": "code",
   "execution_count": 2,
   "metadata": {},
   "outputs": [],
   "source": [
    "import torch\n",
    "import torch.nn as nn\n",
    "import torch.nn.functional as F"
   ]
  },
  {
   "cell_type": "code",
   "execution_count": 21,
   "id": "5cf2946e",
   "metadata": {},
   "outputs": [
    {
     "name": "stdout",
     "output_type": "stream",
     "text": [
      "torch.Size([1, 1, 1, 3])\n"
     ]
    },
    {
     "data": {
      "text/plain": [
       "tensor([[[[-1.1356,  1.2978, -0.1622]]]], grad_fn=<NativeBatchNormBackward0>)"
      ]
     },
     "execution_count": 21,
     "metadata": {},
     "output_type": "execute_result"
    }
   ],
   "source": [
    "bn = nn.BatchNorm2d(num_features=1)\n",
    "x = torch.Tensor([[100,150,120]]).unsqueeze(dim=0).unsqueeze(dim=0)\n",
    "print(x.shape)\n",
    "bn(x)"
   ]
  },
  {
   "cell_type": "code",
   "execution_count": 3,
   "id": "0f4714cd",
   "metadata": {},
   "outputs": [],
   "source": [
    "import pandas as pd\n"
   ]
  },
  {
   "cell_type": "code",
   "execution_count": null,
   "id": "1a9e60f8",
   "metadata": {},
   "outputs": [],
   "source": [
    "pd.read_xml(\"../datasets/medical-staff-people-tracking/1/1.v\")"
   ]
  }
 ],
 "metadata": {
  "kernelspec": {
   "display_name": "doml",
   "language": "python",
   "name": "python3"
  },
  "language_info": {
   "codemirror_mode": {
    "name": "ipython",
    "version": 3
   },
   "file_extension": ".py",
   "mimetype": "text/x-python",
   "name": "python",
   "nbconvert_exporter": "python",
   "pygments_lexer": "ipython3",
   "version": "3.9.16"
  }
 },
 "nbformat": 4,
 "nbformat_minor": 5
}
