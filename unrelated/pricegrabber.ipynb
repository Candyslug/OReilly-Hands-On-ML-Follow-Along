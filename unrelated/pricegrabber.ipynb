{
  "cells": [
    {
      "cell_type": "code",
      "execution_count": 23,
      "metadata": {
        "colab": {
          "base_uri": "https://localhost:8080/"
        },
        "id": "tRiYFVELqLwX",
        "outputId": "13168837-1f87-4d4d-8e17-8aaa155e4356"
      },
      "outputs": [
        {
          "name": "stdout",
          "output_type": "stream",
          "text": [
            "13500.0\n",
            "7006.77\n",
            "4785.67\n",
            "3399.0\n",
            "3346.88\n",
            "3220.34\n",
            "2775.69\n",
            "2312.43\n",
            "1984.08\n",
            "1959.36\n",
            "1767.42\n",
            "1755.55\n",
            "1722.05\n",
            "1710.0\n",
            "1699.0\n",
            "1680.0\n",
            "1650.0\n",
            "1631.94\n",
            "1550.0\n",
            "1500.0\n",
            "1500.0\n",
            "1477.99\n",
            "1409.22\n",
            "1354.35\n",
            "1348.0\n",
            "1330.0\n",
            "1319.0\n",
            "1169.99\n",
            "1127.75\n",
            "1094.28\n",
            "934.24\n",
            "907.59\n",
            "890.14\n",
            "872.34\n",
            "868.49\n",
            "859.39\n",
            "850.0\n",
            "744.57\n",
            "722.66\n",
            "640.0\n",
            "475.57\n",
            "395.81\n",
            "386.31\n",
            "341.65\n",
            "288.96\n",
            "215.45\n",
            "160.0\n",
            "143.17\n",
            "5.5\n",
            "2.8\n"
          ]
        }
      ],
      "source": [
        "#https://skinport.com/market?cat=Rifle&type=AK-47&item=Fuel+Injector\n",
        "\n",
        "import requests\n",
        "import html\n",
        "\n",
        "#x = requests.get(\"https://skinport.com/market?cat=Rifle&type=AK-47&item=Fuel+Injector\")\n",
        "x = requests.get(\"https://skinport.com/market?cat=Rifle&item=Fuel+Injector&type=AK-47&exterior=2\")\n",
        "\n",
        "s = html.unescape(x.text)\n",
        "\n",
        "price_container = 'class=\"Tooltip-link\">'\n",
        "\n",
        "# print(s.count(price_container))\n",
        "# print(len(s.split(price_container)))\n",
        "\n",
        "prices = s.split(price_container)\n",
        "new_prices = []\n",
        "for i in prices:\n",
        "  temp = i[:15]\n",
        "  temp = temp.split(\"</div\")[0]\n",
        "  if temp.find(\"img src\") != -1: continue\n",
        "  if temp.find(\"DOCTYPE\") != -1: continue\n",
        "  if temp.find(\"<\") != -1: continue\n",
        "  if temp.find(\">\") != -1: continue\n",
        "  new_prices.append(temp[1:].replace(',', ''))\n",
        "\n",
        "\n",
        "for i in range(len(new_prices)):\n",
        "  new_prices[i] = float(new_prices[i])\n",
        "\n",
        "new_prices = reversed(sorted(new_prices))\n",
        "for i in new_prices: print(i)"
      ]
    },
    {
      "cell_type": "code",
      "execution_count": 16,
      "metadata": {
        "colab": {
          "base_uri": "https://localhost:8080/"
        },
        "id": "RbbgbIKOqTmp",
        "outputId": "5da28033-7163-4033-8e7c-ca03d1d5c797"
      },
      "outputs": [
        {
          "name": "stdout",
          "output_type": "stream",
          "text": [
            "167844\n",
            "168425\n",
            "<class 'bytes'>\n"
          ]
        }
      ],
      "source": [
        "#x.text\n",
        "text = x.text\n",
        "print(len(text))\n",
        "\n",
        "print(len(x.content))\n",
        "print(type(x.content))"
      ]
    },
    {
      "cell_type": "code",
      "execution_count": 23,
      "metadata": {
        "colab": {
          "base_uri": "https://localhost:8080/"
        },
        "id": "fwsfVVkNrOMD",
        "outputId": "766b30ca-9cae-447a-8aa7-f063b0be8fea"
      },
      "outputs": [
        {
          "data": {
            "text/plain": [
              "-1"
            ]
          },
          "execution_count": 23,
          "metadata": {},
          "output_type": "execute_result"
        }
      ],
      "source": [
        "s = str(x.content)\n",
        "\n",
        "s.find('Fuel Injector')"
      ]
    }
  ],
  "metadata": {
    "colab": {
      "provenance": []
    },
    "kernelspec": {
      "display_name": "Python 3",
      "name": "python3"
    },
    "language_info": {
      "name": "python"
    }
  },
  "nbformat": 4,
  "nbformat_minor": 0
}
