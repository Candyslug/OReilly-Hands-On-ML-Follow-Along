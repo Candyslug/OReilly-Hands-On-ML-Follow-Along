{
 "cells": [
  {
   "cell_type": "code",
   "execution_count": 6,
   "id": "9f234c13-1917-4c84-8778-d3ff5e9e4a72",
   "metadata": {},
   "outputs": [],
   "source": [
    "import torch\n",
    "from torchvision.datasets import MNIST"
   ]
  },
  {
   "cell_type": "code",
   "execution_count": 7,
   "id": "2d51df12-75cd-4891-858a-cbbd11c59575",
   "metadata": {},
   "outputs": [],
   "source": [
    "%matplotlib inline\n",
    "import matplotlib.pyplot as plt"
   ]
  },
  {
   "cell_type": "code",
   "execution_count": 15,
   "id": "910cbbd8-7036-42dc-9fe9-a1952134d945",
   "metadata": {},
   "outputs": [],
   "source": [
    "training_data = MNIST(\"../datasets/\", train=True, download=True)\n",
    "test_data = MNIST(\"../datasets/\", train=False, download=True)"
   ]
  },
  {
   "cell_type": "code",
   "execution_count": 18,
   "id": "4c466cab-9f6b-49af-b135-2c3e170baa51",
   "metadata": {},
   "outputs": [
    {
     "data": {
      "text/plain": [
       "(torch.Size([60000, 28, 28]), torch.Size([60000]))"
      ]
     },
     "execution_count": 18,
     "metadata": {},
     "output_type": "execute_result"
    }
   ],
   "source": [
    "training_data.data.shape, training_data.targets.shape"
   ]
  },
  {
   "cell_type": "code",
   "execution_count": 20,
   "id": "914a389b-fda3-4e54-bd43-47eab9d8c584",
   "metadata": {},
   "outputs": [],
   "source": [
    "from random import randint"
   ]
  }
 ],
 "metadata": {
  "kernelspec": {
   "display_name": "Python 3 (ipykernel)",
   "language": "python",
   "name": "python3"
  },
  "language_info": {
   "codemirror_mode": {
    "name": "ipython",
    "version": 3
   },
   "file_extension": ".py",
   "mimetype": "text/x-python",
   "name": "python",
   "nbconvert_exporter": "python",
   "pygments_lexer": "ipython3",
   "version": "3.9.16"
  }
 },
 "nbformat": 4,
 "nbformat_minor": 5
}
