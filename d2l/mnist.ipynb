{
 "cells": [
  {
   "cell_type": "code",
   "execution_count": 1,
   "id": "9f234c13-1917-4c84-8778-d3ff5e9e4a72",
   "metadata": {},
   "outputs": [],
   "source": [
    "import torch\n",
    "import torch.nn as nn\n",
    "from torchvision.datasets import MNIST"
   ]
  },
  {
   "cell_type": "code",
   "execution_count": 2,
   "id": "2d51df12-75cd-4891-858a-cbbd11c59575",
   "metadata": {},
   "outputs": [],
   "source": [
    "%matplotlib inline\n",
    "import matplotlib.pyplot as plt"
   ]
  },
  {
   "cell_type": "code",
   "execution_count": 3,
   "id": "6641da5f-47fc-43e4-b204-9eba171eed20",
   "metadata": {},
   "outputs": [],
   "source": [
    "from tqdm import tqdm"
   ]
  },
  {
   "cell_type": "code",
   "execution_count": 4,
   "id": "14b413b8-5ecf-49ba-b0bc-3dd8788acca3",
   "metadata": {},
   "outputs": [],
   "source": [
    "import math"
   ]
  },
  {
   "cell_type": "code",
   "execution_count": 5,
   "id": "910cbbd8-7036-42dc-9fe9-a1952134d945",
   "metadata": {},
   "outputs": [],
   "source": [
    "mnist_train = MNIST(\"../datasets/\", train=True, download=True)\n",
    "mnist_test = MNIST(\"../datasets/\", train=False, download=True)"
   ]
  },
  {
   "cell_type": "code",
   "execution_count": 6,
   "id": "2c9dfff2-b2a1-4413-89c5-6c8d14eb38b0",
   "metadata": {},
   "outputs": [],
   "source": [
    "train_X = mnist_train.data.type(torch.float)\n",
    "train_y = mnist_train.targets.type(torch.uint8)\n",
    "\n",
    "test_X = mnist_test.data.type(torch.float)\n",
    "test_y = mnist_test.targets.type(torch.uint8)"
   ]
  },
  {
   "cell_type": "code",
   "execution_count": 7,
   "id": "5f473ad3-40f2-44c2-b7e7-a7add4caf0d7",
   "metadata": {},
   "outputs": [
    {
     "data": {
      "text/plain": [
       "(torch.Size([60000, 28, 28]), torch.float32, torch.Size([60000]), torch.uint8)"
      ]
     },
     "execution_count": 7,
     "metadata": {},
     "output_type": "execute_result"
    }
   ],
   "source": [
    "train_X.shape, train_X.dtype, train_y.shape, train_y.dtype"
   ]
  },
  {
   "cell_type": "code",
   "execution_count": 8,
   "id": "914a389b-fda3-4e54-bd43-47eab9d8c584",
   "metadata": {},
   "outputs": [],
   "source": [
    "from random import randint"
   ]
  },
  {
   "cell_type": "code",
   "execution_count": 9,
   "id": "48b55662-3fd0-4e53-9382-d62867e5177d",
   "metadata": {},
   "outputs": [],
   "source": [
    "n_training_samples = len(train_y)"
   ]
  },
  {
   "cell_type": "code",
   "execution_count": 19,
   "id": "b2ff8435-d1af-4676-9ad4-d515f0b6d90e",
   "metadata": {},
   "outputs": [
    {
     "name": "stdout",
     "output_type": "stream",
     "text": [
      "tensor([6, 2, 0, 2, 2, 4, 2, 6, 0, 2, 2, 5, 5, 5, 1, 1, 5, 3, 2, 3, 2, 9, 5, 2,\n",
      "        1, 5, 9, 7, 0, 9, 6, 8], dtype=torch.uint8)\n",
      "torch.Size([28, 28])\n"
     ]
    },
    {
     "data": {
      "image/png": "[encoded data removed]",
      "text/plain": [
       "<Figure size 200x200 with 1 Axes>"
      ]
     },
     "metadata": {},
     "output_type": "display_data"
    }
   ],
   "source": [
    "BS = 32\n",
    "\n",
    "i = randint(0, n_training_samples-BS)\n",
    "print(train_y[i:i+BS])\n",
    "\n",
    "sample = train_X.data[i]\n",
    "\n",
    "plt.figure(figsize=(2,2))\n",
    "plt.imshow(sample)\n",
    "\n",
    "print(sample.shape)"
   ]
  },
  {
   "cell_type": "code",
   "execution_count": 11,
   "id": "6ca28074-74d8-4eb5-84ab-1640500d60f2",
   "metadata": {},
   "outputs": [],
   "source": [
    "class DaModel(nn.Module):\n",
    "    def __init__(self):\n",
    "        super().__init__()\n",
    "        self.layer_stack = nn.Sequential(\n",
    "            nn.Flatten(),\n",
    "            nn.Linear(in_features=(28*28), out_features=64),\n",
    "            nn.ReLU(),\n",
    "            nn.Linear(in_features=64, out_features=32),\n",
    "            nn.ReLU(),\n",
    "            nn.Linear(in_features=32, out_features=10)\n",
    "            #nn.LogSoftmax(dim=1)\n",
    "        )\n",
    "        \n",
    "    def forward(self, x):\n",
    "        return self.layer_stack(x)"
   ]
  },
  {
   "cell_type": "code",
   "execution_count": 12,
   "id": "505d8153-ecff-4cf4-98eb-ceb132bcfa6c",
   "metadata": {},
   "outputs": [
    {
     "data": {
      "text/plain": [
       "(tensor(4.5514, grad_fn=<NllLossBackward0>),\n",
       " tensor(1),\n",
       " tensor(4, dtype=torch.uint8))"
      ]
     },
     "execution_count": 12,
     "metadata": {},
     "output_type": "execute_result"
    }
   ],
   "source": [
    "model = DaModel()\n",
    "\n",
    "pred = model.forward(sample.unsqueeze(dim=0).unsqueeze(dim=0))\n",
    "loss_fn = nn.CrossEntropyLoss()\n",
    "\n",
    "loss = loss_fn(pred, train_y[i].unsqueeze(dim=0))\n",
    "\n",
    "loss, pred.argmax(), train_y[i]"
   ]
  },
  {
   "cell_type": "code",
   "execution_count": 13,
   "id": "3f6e92ac-621b-49a5-b427-c6c65eaa1e49",
   "metadata": {},
   "outputs": [
    {
     "data": {
      "text/plain": [
       "(tensor(16.8937, grad_fn=<NllLossBackward0>), tensor(4, dtype=torch.uint8))"
      ]
     },
     "execution_count": 13,
     "metadata": {},
     "output_type": "execute_result"
    }
   ],
   "source": [
    "model = DaModel()\n",
    "loss_fn = nn.CrossEntropyLoss()\n",
    "\n",
    "sample_batch_X = train_X[10:10+BS]\n",
    "sample_batch_y = train_y[10:10+BS]\n",
    "\n",
    "pred = model.forward(sample_batch_X)\n",
    "\n",
    "loss = loss_fn(pred, sample_batch_y)\n",
    "\n",
    "loss, train_y[i]"
   ]
  },
  {
   "cell_type": "code",
   "execution_count": 14,
   "id": "7451811b-69f0-4fdb-ba0d-5e2e2e794b8f",
   "metadata": {},
   "outputs": [
    {
     "data": {
      "text/plain": [
       "DaModel(\n",
       "  (layer_stack): Sequential(\n",
       "    (0): Flatten(start_dim=1, end_dim=-1)\n",
       "    (1): Linear(in_features=784, out_features=64, bias=True)\n",
       "    (2): ReLU()\n",
       "    (3): Linear(in_features=64, out_features=32, bias=True)\n",
       "    (4): ReLU()\n",
       "    (5): Linear(in_features=32, out_features=10, bias=True)\n",
       "  )\n",
       ")"
      ]
     },
     "execution_count": 14,
     "metadata": {},
     "output_type": "execute_result"
    }
   ],
   "source": [
    "model = DaModel()\n",
    "optim = torch.optim.SGD(params=model.parameters(), lr=0.001)\n",
    "loss_fn = nn.CrossEntropyLoss()\n",
    "def acc_fn(pred, label):\n",
    "    return (pred.argmax(dim=1) == label).sum()/len(label)\n",
    "\n",
    "model.train()"
   ]
  },
  {
   "cell_type": "code",
   "execution_count": 20,
   "id": "3ab6f0b1-3e1f-4ad8-86c2-cc23ccb7b59c",
   "metadata": {},
   "outputs": [
    {
     "name": "stderr",
     "output_type": "stream",
     "text": [
      "  0%|          | 0/3 [00:00<?, ?it/s]"
     ]
    },
    {
     "name": "stdout",
     "output_type": "stream",
     "text": [
      "Batch: 0\n",
      "Batch: 500\n",
      "Batch: 1000\n",
      "Batch: 1500\n"
     ]
    },
    {
     "name": "stderr",
     "output_type": "stream",
     "text": [
      " 33%|███▎      | 1/3 [00:02<00:04,  2.35s/it]"
     ]
    },
    {
     "name": "stdout",
     "output_type": "stream",
     "text": [
      "0.0029612118378281593\n",
      "96.875 %\n",
      "Batch: 0\n",
      "Batch: 500\n",
      "Batch: 1000\n",
      "Batch: 1500\n"
     ]
    },
    {
     "name": "stderr",
     "output_type": "stream",
     "text": [
      " 67%|██████▋   | 2/3 [00:04<00:02,  2.40s/it]"
     ]
    },
    {
     "name": "stdout",
     "output_type": "stream",
     "text": [
      "0.0009844251908361912\n",
      "100.0 %\n",
      "Batch: 0\n",
      "Batch: 500\n",
      "Batch: 1000\n",
      "Batch: 1500\n"
     ]
    },
    {
     "name": "stderr",
     "output_type": "stream",
     "text": [
      "100%|██████████| 3/3 [00:06<00:00,  2.24s/it]"
     ]
    },
    {
     "name": "stdout",
     "output_type": "stream",
     "text": [
      "0.00026917282957583666\n",
      "100.0 %\n"
     ]
    },
    {
     "name": "stderr",
     "output_type": "stream",
     "text": [
      "\n"
     ]
    },
    {
     "data": {
      "text/plain": [
       "[<matplotlib.lines.Line2D at 0x29d1344f0>]"
      ]
     },
     "execution_count": 20,
     "metadata": {},
     "output_type": "execute_result"
    },
    {
     "data": {
      "image/png": "[encoded data removed]",
      "text/plain": [
       "<Figure size 640x480 with 1 Axes>"
      ]
     },
     "metadata": {},
     "output_type": "display_data"
    }
   ],
   "source": [
    "BS = 32\n",
    "\n",
    "epochs = 3\n",
    "\n",
    "losses = []\n",
    "accs = []\n",
    "\n",
    "n_batches = int(n_training_samples/BS)\n",
    "\n",
    "for _ in tqdm(range(epochs)):\n",
    "    \n",
    "    for b in range(n_batches):\n",
    "        \n",
    "        if b % 500 == 0: \n",
    "            print(\"Batch:\", b)\n",
    "        \n",
    "        i = randint(0, n_training_samples-BS)\n",
    "            \n",
    "        preds = model(train_X[i:i+BS])\n",
    "        labels = train_y[i:i+BS]   \n",
    "        \n",
    "        acc = acc_fn(preds, labels)   \n",
    "        loss = loss_fn(preds, labels)    \n",
    "        \n",
    "        losses.append(loss.item()/BS)\n",
    "        accs.append(acc.item())\n",
    "        \n",
    "        optim.zero_grad()\n",
    "        \n",
    "        loss.backward()\n",
    "\n",
    "        optim.step()\n",
    "    \n",
    "    \n",
    "    print(losses[len(losses)-1])\n",
    "    print(accs[len(accs)-1]*100, \"%\")\n",
    "    \n",
    "plt.plot(losses)\n",
    "plt.plot(accs)"
   ]
  },
  {
   "cell_type": "code",
   "execution_count": 15,
   "id": "a0fe0fc3-173a-4667-b076-7769b3bf891d",
   "metadata": {},
   "outputs": [
    {
     "data": {
      "text/plain": [
       "tensor(1104)"
      ]
     },
     "execution_count": 15,
     "metadata": {},
     "output_type": "execute_result"
    }
   ],
   "source": [
    "i = randint(0, 10000)\n",
    "\n",
    "model.eval()\n",
    "\n",
    "(model(test_X).argmax(dim=1) == test_y).sum()"
   ]
  },
  {
   "cell_type": "code",
   "execution_count": 21,
   "id": "810e91a9-95fb-43df-ac78-d2e53335a47f",
   "metadata": {},
   "outputs": [],
   "source": [
    "# logsoftmax -> NLLL\n",
    "class DaModel_1(nn.Module):\n",
    "    def __init__(self):\n",
    "        super().__init__()\n",
    "        self.layer_stack = nn.Sequential(\n",
    "            nn.Flatten(),\n",
    "            nn.Linear(in_features=(28*28), out_features=64),\n",
    "            nn.ReLU(),\n",
    "            nn.Linear(in_features=64, out_features=32),\n",
    "            nn.ReLU(),\n",
    "            nn.Linear(in_features=32, out_features=10),\n",
    "            nn.LogSoftmax(dim=1)\n",
    "        )      \n",
    "    def forward(self, x): return self.layer_stack(x)\n",
    "\n",
    "# logsoftmax -> crossentropyloss\n",
    "class DaModel_2(nn.Module):\n",
    "    def __init__(self):\n",
    "        super().__init__()\n",
    "        self.layer_stack = nn.Sequential(\n",
    "            nn.Flatten(),\n",
    "            nn.Linear(in_features=(28*28), out_features=64),\n",
    "            nn.ReLU(),\n",
    "            nn.Linear(in_features=64, out_features=32),\n",
    "            nn.ReLU(),\n",
    "            nn.Linear(in_features=32, out_features=10),\n",
    "            nn.LogSoftmax(dim=1)\n",
    "        )      \n",
    "    def forward(self, x): return self.layer_stack(x)\n",
    "\n",
    "# softmax -> crossentropyloss\n",
    "class DaModel_3(nn.Module):\n",
    "    def __init__(self):\n",
    "        super().__init__()\n",
    "        self.layer_stack = nn.Sequential(\n",
    "            nn.Flatten(),\n",
    "            nn.Linear(in_features=(28*28), out_features=64),\n",
    "            nn.ReLU(),\n",
    "            nn.Linear(in_features=64, out_features=32),\n",
    "            nn.ReLU(),\n",
    "            nn.Linear(in_features=32, out_features=10)\n",
    "            #nn.LogSoftmax(dim=1)\n",
    "        )      \n",
    "    def forward(self, x): return self.layer_stack(x)"
   ]
  },
  {
   "cell_type": "code",
   "execution_count": 22,
   "id": "2054ca6e-1439-4fd0-9f3a-375de70d9513",
   "metadata": {
    "tags": []
   },
   "outputs": [],
   "source": [
    "def do_train(model, loss_fn, optim):  \n",
    "    model.train()\n",
    "    BS = 128\n",
    "    epochs = 3\n",
    "    losses = []\n",
    "    accs = []\n",
    "    n_batches = int(n_training_samples/BS)\n",
    "    for _ in tqdm(range(epochs)):\n",
    "        for b in range(n_batches):\n",
    "            i = randint(0, n_training_samples-BS)\n",
    "            preds = model(train_X[i:i+BS])\n",
    "            labels = train_y[i:i+BS]   \n",
    "            acc = acc_fn(preds, labels)   \n",
    "            loss = loss_fn(preds, labels)    \n",
    "            losses.append(loss.item()/BS)\n",
    "            accs.append(acc.item())\n",
    "            optim.zero_grad()\n",
    "            loss.backward()\n",
    "            optim.step()\n",
    "\n",
    "        #print(losses[len(losses)-1])\n",
    "        #print(accs[len(accs)-1]*100, \"%\")       \n",
    "    return {\"model\": model, \"losses\": losses, \"accs\": accs}\n",
    "\n",
    "def do_eval(model):\n",
    "    model.eval()\n",
    "    return (model.forward(test_X).argmax(dim=1)==test_y).sum() / len(test_y)"
   ]
  },
  {
   "cell_type": "code",
   "execution_count": 25,
   "id": "b7731ad8-5ec8-4090-835d-e0b0daef1bd6",
   "metadata": {},
   "outputs": [
    {
     "name": "stderr",
     "output_type": "stream",
     "text": [
      "100%|█████████████████████████████████████████████████████████████████████████████████████████████████████████████████████████████████████| 3/3 [00:02<00:00,  1.37it/s]\n"
     ]
    }
   ],
   "source": [
    "model1 = DaModel_1()\n",
    "optim_1 = torch.optim.SGD(params=model1.parameters(), lr=0.001)\n",
    "loss_fn_1 = nn.NLLLoss()\n",
    "\n",
    "\n",
    "model1_res = do_train(model1, loss_fn_1, optim_1)"
   ]
  },
  {
   "cell_type": "code",
   "execution_count": 27,
   "id": "3ba491c3-829d-4180-b1da-ae25c2af8014",
   "metadata": {},
   "outputs": [
    {
     "name": "stderr",
     "output_type": "stream",
     "text": [
      "100%|█████████████████████████████████████████████████████████████████████████████████████████████████████████████████████████████████████| 3/3 [00:01<00:00,  1.65it/s]\n"
     ]
    }
   ],
   "source": [
    "model2 = DaModel_2()\n",
    "optim_2 = torch.optim.SGD(params=model2.parameters(), lr=0.001)\n",
    "loss_fn_2 = nn.CrossEntropyLoss()\n",
    "\n",
    "\n",
    "model2_res = do_train(model2, loss_fn_2, optim_2)"
   ]
  },
  {
   "cell_type": "code",
   "execution_count": 28,
   "id": "8385a2c4-00b1-4e17-97b8-6a21f8782dcc",
   "metadata": {},
   "outputs": [
    {
     "name": "stderr",
     "output_type": "stream",
     "text": [
      "100%|█████████████████████████████████████████████████████████████████████████████████████████████████████████████████████████████████████| 3/3 [00:01<00:00,  1.83it/s]\n"
     ]
    }
   ],
   "source": [
    "model3 = DaModel_3()\n",
    "optim_3 = torch.optim.SGD(params=model3.parameters(), lr=0.001)\n",
    "loss_fn_3 = nn.CrossEntropyLoss()\n",
    "\n",
    "\n",
    "model3_res = do_train(model3, loss_fn_3, optim_3)"
   ]
  },
  {
   "cell_type": "code",
   "execution_count": 50,
   "id": "1591c30c-379e-4ea5-9ddc-390894727787",
   "metadata": {},
   "outputs": [
    {
     "name": "stdout",
     "output_type": "stream",
     "text": [
      "tensor(0.9266)\n",
      "tensor(0.9275)\n",
      "tensor(0.9266)\n"
     ]
    },
    {
     "data": {
      "image/png": "[encoded data removed]",
      "text/plain": [
       "<Figure size 640x480 with 1 Axes>"
      ]
     },
     "metadata": {},
     "output_type": "display_data"
    }
   ],
   "source": [
    "models = [model1_res, model2_res, model3_res]\n",
    "\n",
    "colors = ['r', 'g', 'b']\n",
    "\n",
    "for i, model in enumerate(models):\n",
    "    plt.plot(model['accs'], c=colors[i])\n",
    "    print(do_eval(model['model']))"
   ]
  },
  {
   "cell_type": "code",
   "execution_count": 21,
   "id": "e1f89e18-10bb-4d14-a04c-37707b63585c",
   "metadata": {},
   "outputs": [
    {
     "ename": "NameError",
     "evalue": "name 'models' is not defined",
     "output_type": "error",
     "traceback": [
      "\u001b[0;31m---------------------------------------------------------------------------\u001b[0m",
      "\u001b[0;31mNameError\u001b[0m                                 Traceback (most recent call last)",
      "\u001b[1;32m/Users/dav/dev/doml/ai-notebooks/d2l/mnist.ipynb Cell 23\u001b[0m line \u001b[0;36m7\n\u001b[1;32m      <a href='vscode-notebook-cell:/Users/dav/dev/doml/ai-notebooks/d2l/mnist.ipynb#X31sZmlsZQ%3D%3D?line=3'>4</a>\u001b[0m         ema\u001b[39m.\u001b[39mappend(alpha \u001b[39m*\u001b[39m data[i] \u001b[39m+\u001b[39m (\u001b[39m1\u001b[39m \u001b[39m-\u001b[39m alpha) \u001b[39m*\u001b[39m ema[\u001b[39m-\u001b[39m\u001b[39m1\u001b[39m])\n\u001b[1;32m      <a href='vscode-notebook-cell:/Users/dav/dev/doml/ai-notebooks/d2l/mnist.ipynb#X31sZmlsZQ%3D%3D?line=4'>5</a>\u001b[0m     \u001b[39mreturn\u001b[39;00m ema\n\u001b[0;32m----> <a href='vscode-notebook-cell:/Users/dav/dev/doml/ai-notebooks/d2l/mnist.ipynb#X31sZmlsZQ%3D%3D?line=6'>7</a>\u001b[0m \u001b[39mfor\u001b[39;00m i, model \u001b[39min\u001b[39;00m \u001b[39menumerate\u001b[39m(models):\n\u001b[1;32m      <a href='vscode-notebook-cell:/Users/dav/dev/doml/ai-notebooks/d2l/mnist.ipynb#X31sZmlsZQ%3D%3D?line=7'>8</a>\u001b[0m     plt\u001b[39m.\u001b[39mplot([math\u001b[39m.\u001b[39mlog(x) \u001b[39mfor\u001b[39;00m x \u001b[39min\u001b[39;00m exponential_moving_average(model[\u001b[39m'\u001b[39m\u001b[39mlosses\u001b[39m\u001b[39m'\u001b[39m], \u001b[39m0.1\u001b[39m)], colors[i])\n\u001b[1;32m      <a href='vscode-notebook-cell:/Users/dav/dev/doml/ai-notebooks/d2l/mnist.ipynb#X31sZmlsZQ%3D%3D?line=8'>9</a>\u001b[0m     \u001b[39mprint\u001b[39m(do_eval(model[\u001b[39m'\u001b[39m\u001b[39mmodel\u001b[39m\u001b[39m'\u001b[39m]))\n",
      "\u001b[0;31mNameError\u001b[0m: name 'models' is not defined"
     ]
    }
   ],
   "source": [
    "def exponential_moving_average(data, alpha):\n",
    "    ema = [data[0]]\n",
    "    for i in range(1, len(data)):\n",
    "        ema.append(alpha * data[i] + (1 - alpha) * ema[-1])\n",
    "    return ema\n",
    "\n",
    "for i, model in enumerate(models):\n",
    "    plt.plot([math.log(x) for x in exponential_moving_average(model['losses'], 0.1)], colors[i])\n",
    "    print(do_eval(model['model']))\n",
    "    "
   ]
  }
 ],
 "metadata": {
  "kernelspec": {
   "display_name": "Python 3 (ipykernel)",
   "language": "python",
   "name": "python3"
  },
  "language_info": {
   "codemirror_mode": {
    "name": "ipython",
    "version": 3
   },
   "file_extension": ".py",
   "mimetype": "text/x-python",
   "name": "python",
   "nbconvert_exporter": "python",
   "pygments_lexer": "ipython3",
   "version": "3.9.16"
  }
 },
 "nbformat": 4,
 "nbformat_minor": 5
}
