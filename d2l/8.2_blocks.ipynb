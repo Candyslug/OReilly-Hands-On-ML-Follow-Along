{
 "cells": [
  {
   "cell_type": "code",
   "execution_count": 1,
   "id": "13651ba8-c1d1-4170-8dbe-f7fd6b4865b3",
   "metadata": {},
   "outputs": [],
   "source": [
    "import torch\n",
    "import torch.nn as nn"
   ]
  },
  {
   "cell_type": "code",
   "execution_count": 18,
   "id": "fe5800c8-f444-4c25-8af7-ba1c14ad7bae",
   "metadata": {},
   "outputs": [],
   "source": [
    "class LinBlock(nn.Module):\n",
    "    def __init__(self):\n",
    "        super().__init__()\n",
    "        self.layer_stack = nn.Sequential(\n",
    "            nn.Linear(in_features=10, out_features=20),\n",
    "            nn.Linear(in_features=20, out_features=10) \n",
    "        )\n",
    "    def forward(self, x):\n",
    "        return self.layer_stack(x)\n",
    "\n",
    "class DaModel(nn.Module):\n",
    "    def __init__(self, num_blocks=1):\n",
    "        super().__init__()\n",
    "        self.blocks = [LinBlock()] * num_blocks\n",
    "        \n",
    "        self.layer_stack = nn.Sequential(\n",
    "            nn.Linear(in_features=5, out_features=10),\n",
    "            *self.blocks,    \n",
    "            nn.Linear(in_features=10, out_features=40)\n",
    "        )\n",
    "    def forward(self, x):\n",
    "        return self.layer_stack(x)"
   ]
  },
  {
   "cell_type": "code",
   "execution_count": 27,
   "id": "df85ead3-201c-4220-8f68-3feb925eb6ca",
   "metadata": {},
   "outputs": [
    {
     "data": {
      "text/plain": [
       "DaModel(\n",
       "  (layer_stack): Sequential(\n",
       "    (0): Linear(in_features=5, out_features=10, bias=True)\n",
       "    (1): LinBlock(\n",
       "      (layer_stack): Sequential(\n",
       "        (0): Linear(in_features=10, out_features=20, bias=True)\n",
       "        (1): Linear(in_features=20, out_features=10, bias=True)\n",
       "      )\n",
       "    )\n",
       "    (2): LinBlock(\n",
       "      (layer_stack): Sequential(\n",
       "        (0): Linear(in_features=10, out_features=20, bias=True)\n",
       "        (1): Linear(in_features=20, out_features=10, bias=True)\n",
       "      )\n",
       "    )\n",
       "    (3): LinBlock(\n",
       "      (layer_stack): Sequential(\n",
       "        (0): Linear(in_features=10, out_features=20, bias=True)\n",
       "        (1): Linear(in_features=20, out_features=10, bias=True)\n",
       "      )\n",
       "    )\n",
       "    (4): LinBlock(\n",
       "      (layer_stack): Sequential(\n",
       "        (0): Linear(in_features=10, out_features=20, bias=True)\n",
       "        (1): Linear(in_features=20, out_features=10, bias=True)\n",
       "      )\n",
       "    )\n",
       "    (5): Linear(in_features=10, out_features=40, bias=True)\n",
       "  )\n",
       ")"
      ]
     },
     "execution_count": 27,
     "metadata": {},
     "output_type": "execute_result"
    }
   ],
   "source": [
    "model = DaModel(4)\n",
    "\n",
    "x = torch.Tensor(5)\n",
    "model(x).shape\n",
    "\n",
    "model"
   ]
  },
  {
   "cell_type": "code",
   "execution_count": 28,
   "id": "ef38651b-fa55-45c9-b489-87f6290fbb0a",
   "metadata": {},
   "outputs": [
    {
     "data": {
      "text/plain": [
       "[LinBlock(\n",
       "   (layer_stack): Sequential(\n",
       "     (0): Linear(in_features=10, out_features=20, bias=True)\n",
       "     (1): Linear(in_features=20, out_features=10, bias=True)\n",
       "   )\n",
       " ),\n",
       " LinBlock(\n",
       "   (layer_stack): Sequential(\n",
       "     (0): Linear(in_features=10, out_features=20, bias=True)\n",
       "     (1): Linear(in_features=20, out_features=10, bias=True)\n",
       "   )\n",
       " )]"
      ]
     },
     "execution_count": 28,
     "metadata": {},
     "output_type": "execute_result"
    }
   ],
   "source": [
    "[LinBlock()]*2"
   ]
  },
  {
   "cell_type": "code",
   "execution_count": null,
   "id": "ef1b4ec3-6080-49c2-95e9-83cd14f5cbfb",
   "metadata": {},
   "outputs": [],
   "source": []
  }
 ],
 "metadata": {
  "kernelspec": {
   "display_name": "Python 3 (ipykernel)",
   "language": "python",
   "name": "python3"
  },
  "language_info": {
   "codemirror_mode": {
    "name": "ipython",
    "version": 3
   },
   "file_extension": ".py",
   "mimetype": "text/x-python",
   "name": "python",
   "nbconvert_exporter": "python",
   "pygments_lexer": "ipython3",
   "version": "3.10.12"
  }
 },
 "nbformat": 4,
 "nbformat_minor": 5
}
