{
 "cells": [
  {
   "cell_type": "code",
   "execution_count": 1,
   "id": "01d0210e-afa2-4def-aaf9-f7376b9ef0bb",
   "metadata": {},
   "outputs": [],
   "source": [
    "import torch\n",
    "import torch.nn as nn\n",
    "from torchvision.datasets import MNIST"
   ]
  },
  {
   "cell_type": "code",
   "execution_count": 4,
   "id": "bcec9977-682d-4d3c-94e6-17da4f50d55f",
   "metadata": {},
   "outputs": [],
   "source": [
    "train_data = MNIST(root=\"../datasets/\", train=True, download=False)\n",
    "test_data = MNIST(root=\"../datasets/\", train=False, download=False) "
   ]
  },
  {
   "cell_type": "code",
   "execution_count": 5,
   "id": "6cde66dc-08ee-4fc4-bca6-d85b335237c3",
   "metadata": {},
   "outputs": [
    {
     "data": {
      "text/plain": [
       "(60000, 10000)"
      ]
     },
     "execution_count": 5,
     "metadata": {},
     "output_type": "execute_result"
    }
   ],
   "source": [
    "train_X, train_y = train_data.data.type(torch.float), train_data.targets\n",
    "test_X, test_y = test_data.data.type(torch.float), test_data.targets\n",
    "\n",
    "len(train_y), len(test_y)"
   ]
  },
  {
   "cell_type": "code",
   "execution_count": null,
   "id": "381a16d4-93d0-4957-8ea2-0edd6d87bbf3",
   "metadata": {},
   "outputs": [],
   "source": [
    "class DaModel():\n",
    "    def __init__(self):\n",
    "        super().__init__()\n",
    "        self.layer_stack = nn.Sequential(\n",
    "            nn.Conv2d(in_channels=1, out_channels=8, kernel_size=(3,3)),\n",
    "            nn.ReLU(),\n",
    "            nn.Conv2d(in_channels=8, out_c\n",
    "        )"
   ]
  },
  {
   "cell_type": "code",
   "execution_count": null,
   "id": "96234c26-3303-415c-8e2c-f194af91e84d",
   "metadata": {},
   "outputs": [],
   "source": []
  },
  {
   "cell_type": "code",
   "execution_count": null,
   "id": "17a108a6-5803-400b-9395-c67c3fe9bd66",
   "metadata": {},
   "outputs": [],
   "source": []
  }
 ],
 "metadata": {
  "kernelspec": {
   "display_name": "Python 3 (ipykernel)",
   "language": "python",
   "name": "python3"
  },
  "language_info": {
   "codemirror_mode": {
    "name": "ipython",
    "version": 3
   },
   "file_extension": ".py",
   "mimetype": "text/x-python",
   "name": "python",
   "nbconvert_exporter": "python",
   "pygments_lexer": "ipython3",
   "version": "3.11.5"
  }
 },
 "nbformat": 4,
 "nbformat_minor": 5
}
