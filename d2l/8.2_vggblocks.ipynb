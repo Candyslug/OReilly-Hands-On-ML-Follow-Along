{
 "cells": [
  {
   "cell_type": "code",
   "execution_count": 215,
   "id": "24553cfe-21b5-41d2-849d-933768c1ec9c",
   "metadata": {},
   "outputs": [],
   "source": [
    "import torch\n",
    "import torch.nn as nn\n",
    "\n",
    "from torchvision.datasets import FashionMNIST\n",
    "from torchvision.transforms import ToTensor\n",
    "from torch.utils.data import DataLoader\n",
    "\n",
    "from tqdm import tqdm\n",
    "\n",
    "import matplotlib.pyplot as plt"
   ]
  },
  {
   "cell_type": "code",
   "execution_count": 354,
   "id": "75458dd2-c035-450f-a8aa-fe7ca369f126",
   "metadata": {},
   "outputs": [],
   "source": [
    "device = torch.device(\"cuda\")"
   ]
  },
  {
   "cell_type": "code",
   "execution_count": 355,
   "id": "df390823-6205-43fa-9269-f787ca6067c0",
   "metadata": {},
   "outputs": [],
   "source": [
    "class VGG_Conv_Block(nn.Module):\n",
    "    def __init__(self, conv_channels=[]):\n",
    "        super().__init__()\n",
    "        \n",
    "        layers = []\n",
    "        for inc, outc in conv_channels:\n",
    "            layers.append(nn.Conv2d(in_channels=inc, out_channels=outc, kernel_size=3, padding=1))\n",
    "            layers.append(nn.ReLU())\n",
    "            \n",
    "        self.layer_stack = nn.Sequential(*layers, nn.MaxPool2d(kernel_size=2, stride=2))\n",
    "        \n",
    "    def forward(self, x):\n",
    "        return self.layer_stack(x)\n",
    "    \n",
    "    \n",
    "class VGG_Linear_Block(nn.Module):\n",
    "    def __init__(self, in_features=4096, out_features=4096):\n",
    "        super().__init__()\n",
    "        self.layer_stack = nn.Sequential(\n",
    "            nn.Linear(in_features, out_features),\n",
    "            nn.ReLU(),\n",
    "            nn.Dropout(0.5)\n",
    "        )\n",
    "    def forward(self, x):\n",
    "        return self.layer_stack(x)\n",
    "    \n",
    "\n",
    "class VGGnet(nn.Module):\n",
    "    def __init__(self, conv_blocks=[], lin_blocks=[]):\n",
    "        super().__init__()\n",
    "        \n",
    "        convs = []\n",
    "        for block in conv_blocks:\n",
    "            convs.append(VGG_Conv_Block((block[0], block[1])))   \n",
    "        lins = []\n",
    "        for block in lin_blocks:\n",
    "            lins.append(VGG_Linear_Block(block[0], block[1]))    \n",
    "        self.layer_stack = nn.Sequential(\n",
    "            *convs,\n",
    "            nn.Flatten(),\n",
    "            *lins,\n",
    "            nn.LogSoftmax(dim=1)\n",
    "        )     \n",
    "        \n",
    "    def forward(self, x):\n",
    "        return self.layer_stack(x)"
   ]
  },
  {
   "cell_type": "code",
   "execution_count": 356,
   "id": "22a01cb5-4c5c-471d-890b-b0595f6c0e4b",
   "metadata": {},
   "outputs": [],
   "source": [
    "dataset_train = FashionMNIST(root=\"../datasets\", train=True, download=False, transform=ToTensor())\n",
    "dataset_test = FashionMNIST(root=\"../datasets\", train=False, download=False, transform=ToTensor())"
   ]
  },
  {
   "cell_type": "code",
   "execution_count": 341,
   "id": "4b08bacf-6b3a-49c0-9e0a-418d0f6ddf39",
   "metadata": {},
   "outputs": [],
   "source": [
    "BS = 64\n",
    "\n",
    "train_dataloader = DataLoader(dataset_train, batch_size=BS, shuffle=True)\n",
    "test_dataloader = DataLoader(dataset_test, batch_size=BS, shuffle=True)"
   ]
  },
  {
   "cell_type": "code",
   "execution_count": 366,
   "id": "7abf900c-5fe7-4449-97cb-1e91cbed3547",
   "metadata": {},
   "outputs": [
    {
     "data": {
      "text/plain": [
       "VGGnet(\n",
       "  (layer_stack): Sequential(\n",
       "    (0): VGG_Conv_Block(\n",
       "      (layer_stack): Sequential(\n",
       "        (0): Conv2d(1, 5, kernel_size=(3, 3), stride=(1, 1), padding=(1, 1))\n",
       "        (1): ReLU()\n",
       "        (2): Conv2d(5, 5, kernel_size=(3, 3), stride=(1, 1), padding=(1, 1))\n",
       "        (3): ReLU()\n",
       "        (4): MaxPool2d(kernel_size=2, stride=2, padding=0, dilation=1, ceil_mode=False)\n",
       "      )\n",
       "    )\n",
       "    (1): VGG_Conv_Block(\n",
       "      (layer_stack): Sequential(\n",
       "        (0): Conv2d(5, 10, kernel_size=(3, 3), stride=(1, 1), padding=(1, 1))\n",
       "        (1): ReLU()\n",
       "        (2): Conv2d(10, 10, kernel_size=(3, 3), stride=(1, 1), padding=(1, 1))\n",
       "        (3): ReLU()\n",
       "        (4): MaxPool2d(kernel_size=2, stride=2, padding=0, dilation=1, ceil_mode=False)\n",
       "      )\n",
       "    )\n",
       "    (2): Flatten(start_dim=1, end_dim=-1)\n",
       "    (3): VGG_Linear_Block(\n",
       "      (layer_stack): Sequential(\n",
       "        (0): Linear(in_features=490, out_features=256, bias=True)\n",
       "        (1): ReLU()\n",
       "        (2): Dropout(p=0.5, inplace=False)\n",
       "      )\n",
       "    )\n",
       "    (4): VGG_Linear_Block(\n",
       "      (layer_stack): Sequential(\n",
       "        (0): Linear(in_features=256, out_features=128, bias=True)\n",
       "        (1): ReLU()\n",
       "        (2): Dropout(p=0.5, inplace=False)\n",
       "      )\n",
       "    )\n",
       "    (5): VGG_Linear_Block(\n",
       "      (layer_stack): Sequential(\n",
       "        (0): Linear(in_features=128, out_features=10, bias=True)\n",
       "        (1): ReLU()\n",
       "        (2): Dropout(p=0.5, inplace=False)\n",
       "      )\n",
       "    )\n",
       "    (6): LogSoftmax(dim=1)\n",
       "  )\n",
       ")"
      ]
     },
     "execution_count": 366,
     "metadata": {},
     "output_type": "execute_result"
    }
   ],
   "source": [
    "conv_blocks = [\n",
    "    [(1, 5), (5, 5)], # 14x14 \n",
    "    [(5, 10), (10, 10)] # 7x7\n",
    "]\n",
    "linear_blocks = [\n",
    "    [7*7*10, 256],\n",
    "    [256, 128],\n",
    "    [128, 10]\n",
    "]\n",
    "output_classes = 10\n",
    "\n",
    "model = VGGnet(conv_blocks, linear_blocks)\n",
    "model = model.to(device)\n",
    "model"
   ]
  },
  {
   "cell_type": "code",
   "execution_count": null,
   "id": "08eb10f4-8f2d-4b69-acba-c44031178d9f",
   "metadata": {},
   "outputs": [],
   "source": [
    "model.train()\n",
    "\n",
    "N_EPOCHS = 30\n",
    "\n",
    "B_EPOCHS = int(60_000/BS)\n",
    "\n",
    "def acc_fn(pred, target): return (pred.argmax(dim=1)==target).sum()\n",
    "loss_fn = nn.NLLLoss()\n",
    "\n",
    "optim = torch.optim.SGD(params=model.parameters(), lr=0.01, momentum=0.1)\n",
    "\n",
    "losses = []\n",
    "accs = []\n",
    "\n",
    "for e in tqdm(range(N_EPOCHS)):\n",
    "    \n",
    "    for b, (x, y) in enumerate(train_dataloader):\n",
    "        \n",
    "        optim.zero_grad()\n",
    "        \n",
    "        pred = model(x.to(device))\n",
    "        loss = loss_fn(pred, y.to(device))\n",
    "        \n",
    "        acc = acc_fn(pred.detach().cpu(), y.detach().cpu()).item() / BS * 100.0\n",
    "        accs.append(acc)\n",
    "        \n",
    "        losses.append(loss.item()/BS)\n",
    "        \n",
    "        loss.backward()\n",
    "        \n",
    "        optim.step()\n",
    "        \n",
    "        if b % 150 == 0: print(f\"Epoch:{e}/{N_EPOCHS}, Batch:{b}/{B_EPOCHS}, Loss:{loss.item()/BS}, Acc:{acc}\")"
   ]
  },
  {
   "cell_type": "code",
   "execution_count": 379,
   "id": "dcb38ec5-b099-49a3-9ca8-610aaf049980",
   "metadata": {},
   "outputs": [
    {
     "data": {
      "text/plain": [
       "[<matplotlib.lines.Line2D at 0x7f17e91ae4a0>]"
      ]
     },
     "execution_count": 379,
     "metadata": {},
     "output_type": "execute_result"
    },
    {
     "data": {
      "image/png": "[encoded data removed]",
      "text/plain": [
       "<Figure size 640x480 with 1 Axes>"
      ]
     },
     "metadata": {},
     "output_type": "display_data"
    }
   ],
   "source": [
    "plt.plot(losses)\n",
    "plt.plot(accs)"
   ]
  },
  {
   "cell_type": "code",
   "execution_count": 380,
   "id": "a644360a-fc75-4806-855b-3584604f2b1b",
   "metadata": {},
   "outputs": [
    {
     "data": {
      "text/plain": [
       "tensor(9085)"
      ]
     },
     "execution_count": 380,
     "metadata": {},
     "output_type": "execute_result"
    }
   ],
   "source": [
    "model.eval()\n",
    "\n",
    "score = 0\n",
    "\n",
    "for (x, y) in test_dataloader:\n",
    "    score += acc_fn(model(x.to(device)).detach().cpu(), y)\n",
    "    \n",
    "score"
   ]
  },
  {
   "cell_type": "code",
   "execution_count": null,
   "id": "e083fd58-86aa-4de4-b901-d349fdc3a8c2",
   "metadata": {},
   "outputs": [],
   "source": []
  }
 ],
 "metadata": {
  "kernelspec": {
   "display_name": "Python 3 (ipykernel)",
   "language": "python",
   "name": "python3"
  },
  "language_info": {
   "codemirror_mode": {
    "name": "ipython",
    "version": 3
   },
   "file_extension": ".py",
   "mimetype": "text/x-python",
   "name": "python",
   "nbconvert_exporter": "python",
   "pygments_lexer": "ipython3",
   "version": "3.10.12"
  }
 },
 "nbformat": 4,
 "nbformat_minor": 5
}
