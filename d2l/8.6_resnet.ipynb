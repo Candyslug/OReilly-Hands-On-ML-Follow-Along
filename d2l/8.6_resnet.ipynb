{
 "cells": [
  {
   "cell_type": "code",
   "execution_count": 1,
   "metadata": {},
   "outputs": [],
   "source": [
    "import os\n",
    "\n",
    "import torch\n",
    "import torch.nn as nn\n",
    "\n",
    "import matplotlib.pyplot as plt\n",
    "\n",
    "from tqdm import tqdm\n",
    "\n",
    "import numpy as np"
   ]
  },
  {
   "cell_type": "code",
   "execution_count": 2,
   "metadata": {},
   "outputs": [],
   "source": [
    "dataset_path = \"../datasets/google-drawings/\"\n",
    "files = [f for f in os.listdir(\"../datasets/google-drawings/\") if \".npy\" in f]\n",
    "n_files = len(files)"
   ]
  },
  {
   "cell_type": "code",
   "execution_count": 3,
   "metadata": {},
   "outputs": [
    {
     "name": "stdout",
     "output_type": "stream",
     "text": [
      "full_numpy_bitmap_basket.npy\n"
     ]
    },
    {
     "data": {
      "image/png": "[encoded data removed]",
      "text/plain": [
       "<Figure size 640x480 with 1 Axes>"
      ]
     },
     "metadata": {},
     "output_type": "display_data"
    }
   ],
   "source": [
    "def load_batch(BS, train=True):\n",
    "    \n",
    "    batch = torch.zeros((BS, 1, 28, 28))\n",
    "    labels = torch.zeros(BS).type(torch.uint8)\n",
    "\n",
    "    file_indices = np.random.randint(0, n_files, BS)\n",
    "    batch_indices = np.random.randint(0, 1000, BS)\n",
    "    \n",
    "    for i, (fi, bi) in enumerate(zip(file_indices, batch_indices)):\n",
    "        item = np.load(dataset_path+files[fi])[bi]\n",
    "        batch[i] = torch.from_numpy(item).type(torch.float).reshape(28,28)\n",
    "        labels[i] = torch.tensor(fi)\n",
    "        \n",
    "    return batch, labels\n",
    "\n",
    "x, y = load_batch(5)\n",
    "\n",
    "plt.imshow(x[0].squeeze(dim=0))\n",
    "print(files[y[0]])"
   ]
  },
  {
   "cell_type": "code",
   "execution_count": 40,
   "metadata": {},
   "outputs": [],
   "source": [
    "class Residual(nn.Module):\n",
    "    def __init__(self, inf1, outf1, inf2, outf2):\n",
    "        super().__init__()\n",
    "        self.layer_stack = nn.Sequential(\n",
    "            nn.Linear(inf1, outf1),\n",
    "            nn.ReLU(),\n",
    "            nn.Linear(inf2, outf2)\n",
    "        )\n",
    "        self.relu = nn.ReLU()\n",
    "    def forward(self, x):\n",
    "        y = self.layer_stack(x)\n",
    "        y += x\n",
    "        y = self.relu(y)\n",
    "        return y\n",
    "\n",
    "class MiniResNet(nn.Module):\n",
    "    def __init__(self):\n",
    "        super().__init__()\n",
    "        self.layer_stack = nn.Sequential(\n",
    "            nn.Flatten(),\n",
    "            Residual(784, 1024, 1024, 784),\n",
    "            Residual(784, 1024, 1024, 784),\n",
    "            nn.Linear(784, 128),\n",
    "            nn.LogSoftmax(dim=1)\n",
    "        )      \n",
    "    def forward(self, x):\n",
    "        return self.layer_stack(x)\n",
    "\n",
    "device = torch.device(\"mps\")\n",
    "model = MiniResNet().to(device)\n",
    "\n",
    "losses = []\n",
    "accs = []"
   ]
  },
  {
   "cell_type": "code",
   "execution_count": 50,
   "metadata": {
    "scrolled": true,
    "tags": []
   },
   "outputs": [
    {
     "name": "stderr",
     "output_type": "stream",
     "text": [
      "  0%|                                                        | 0/5 [00:00<?, ?it/s]"
     ]
    },
    {
     "name": "stdout",
     "output_type": "stream",
     "text": [
      "0.03779168426990509 0.40625\n",
      "0.03343893215060234 0.484375\n",
      "0.03200038895010948 0.453125\n",
      "0.03117036446928978 0.484375\n",
      "0.0310202743858099 0.484375\n",
      "0.03318513557314873 0.484375\n",
      "0.02903314121067524 0.53125\n",
      "0.031122134998440742 0.46875\n",
      "0.03741111606359482 0.453125\n",
      "0.03490985929965973 0.375\n",
      "0.0313539020717144 0.46875\n",
      "0.03225360065698624 0.5\n",
      "0.034591399133205414 0.546875\n",
      "0.033520326018333435 0.53125\n",
      "0.024158122017979622 0.53125\n",
      "0.034202221781015396 0.4375\n",
      "0.033357977867126465 0.515625\n",
      "0.03111151233315468 0.484375\n",
      "0.03445299714803696 0.5\n",
      "0.03509319946169853 0.4375\n",
      "0.02968469262123108 0.5625\n",
      "0.03522898256778717 0.484375\n",
      "0.02883915975689888 0.609375\n",
      "0.032215721905231476 0.484375\n",
      "0.029615748673677444 0.578125\n",
      "0.038948141038417816 0.328125\n",
      "0.02609555795788765 0.609375\n",
      "0.029600612819194794 0.515625\n",
      "0.03255632892251015 0.484375\n",
      "0.03592066466808319 0.53125\n",
      "0.030896304175257683 0.5\n",
      "0.0404965877532959 0.46875\n",
      "0.03745044767856598 0.40625\n",
      "0.03497396409511566 0.421875\n",
      "0.02788061648607254 0.5625\n",
      "0.03458458185195923 0.453125\n",
      "0.039098627865314484 0.40625\n",
      "0.033986274152994156 0.515625\n",
      "0.031115083023905754 0.5\n",
      "0.03422975540161133 0.546875\n",
      "0.03982491418719292 0.4375\n",
      "0.03676494210958481 0.421875\n",
      "0.027869336307048798 0.5\n",
      "0.029290316626429558 0.5\n",
      "0.03527557849884033 0.5\n",
      "0.0295175239443779 0.546875\n",
      "0.02885608747601509 0.5\n",
      "0.03332680091261864 0.484375\n",
      "0.03209316357970238 0.515625\n",
      "0.03655870258808136 0.40625\n",
      "0.034433647990226746 0.4375\n",
      "0.03650815039873123 0.515625\n",
      "0.03256719559431076 0.484375\n",
      "0.03269810974597931 0.5\n",
      "0.032506268471479416 0.46875\n",
      "0.028308194130659103 0.59375\n",
      "0.03567109256982803 0.453125\n",
      "0.03624735772609711 0.5\n",
      "0.03361310809850693 0.5\n",
      "0.03347443789243698 0.625\n",
      "0.033513523638248444 0.546875\n",
      "0.0325479693710804 0.515625\n",
      "0.03677869588136673 0.5\n",
      "0.03901243209838867 0.328125\n",
      "0.035186123102903366 0.515625\n",
      "0.03158993273973465 0.5\n",
      "0.03083113580942154 0.578125\n",
      "0.03931954875588417 0.375\n",
      "0.03649713844060898 0.453125\n",
      "0.025648247450590134 0.625\n",
      "0.029597321525216103 0.59375\n",
      "0.03616922348737717 0.453125\n",
      "0.032358184456825256 0.53125\n",
      "0.02754853293299675 0.515625\n",
      "0.03669032081961632 0.4375\n",
      "0.03187780827283859 0.484375\n",
      "0.0368213877081871 0.4375\n",
      "0.03121928684413433 0.5625\n",
      "0.031904224306344986 0.46875\n",
      "0.037274859845638275 0.484375\n"
     ]
    },
    {
     "name": "stderr",
     "output_type": "stream",
     "text": [
      " 20%|█████████▌                                      | 1/5 [00:28<01:54, 28.53s/it]"
     ]
    },
    {
     "name": "stdout",
     "output_type": "stream",
     "text": [
      "0.03160417824983597 0.546875\n",
      "0.033250898122787476 0.484375\n",
      "0.036798764020204544 0.421875\n",
      "0.03283075988292694 0.4375\n",
      "0.03856974467635155 0.40625\n",
      "0.027952661737799644 0.59375\n",
      "0.02924993634223938 0.46875\n",
      "0.033303216099739075 0.453125\n",
      "0.03841758891940117 0.40625\n",
      "0.031576745212078094 0.484375\n",
      "0.03372576832771301 0.46875\n",
      "0.0304412804543972 0.4375\n",
      "0.037118736654520035 0.4375\n",
      "0.030654406175017357 0.5625\n",
      "0.034141939133405685 0.421875\n",
      "0.03427532687783241 0.515625\n",
      "0.031925562769174576 0.515625\n",
      "0.032783232629299164 0.484375\n",
      "0.03048144094645977 0.59375\n",
      "0.030255671590566635 0.546875\n",
      "0.0317523255944252 0.546875\n",
      "0.04033216834068298 0.484375\n",
      "0.03779188543558121 0.390625\n",
      "0.028283419087529182 0.5625\n",
      "0.03607029467821121 0.46875\n",
      "0.028932979330420494 0.53125\n",
      "0.02557012438774109 0.5625\n",
      "0.03279895707964897 0.453125\n",
      "0.033771343529224396 0.515625\n",
      "0.03479628264904022 0.4375\n",
      "0.03577519208192825 0.46875\n",
      "0.03318249434232712 0.46875\n",
      "0.03808704763650894 0.453125\n",
      "0.03005986660718918 0.546875\n",
      "0.028211819007992744 0.578125\n",
      "0.03425907343626022 0.5625\n",
      "0.03650804981589317 0.46875\n",
      "0.043642982840538025 0.421875\n",
      "0.02902395650744438 0.53125\n",
      "0.03516835719347 0.4375\n",
      "0.029135191813111305 0.546875\n",
      "0.03602849692106247 0.390625\n",
      "0.03447020798921585 0.5\n",
      "0.03531648963689804 0.421875\n",
      "0.03478259593248367 0.546875\n",
      "0.03451172634959221 0.421875\n",
      "0.033067259937524796 0.421875\n",
      "0.026349589228630066 0.640625\n",
      "0.02986529842019081 0.53125\n",
      "0.02672571688890457 0.5625\n",
      "0.030626103281974792 0.5625\n",
      "0.028481721878051758 0.515625\n",
      "0.033376194536685944 0.453125\n",
      "0.04585505276918411 0.296875\n",
      "0.03341539949178696 0.53125\n",
      "0.02535395510494709 0.65625\n",
      "0.03320861607789993 0.4375\n",
      "0.030246242880821228 0.359375\n",
      "0.028119226917624474 0.578125\n",
      "0.03860049322247505 0.359375\n",
      "0.03662453964352608 0.4375\n",
      "0.0342307984828949 0.5\n",
      "0.0334043875336647 0.5\n",
      "0.02532133460044861 0.578125\n",
      "0.033391669392585754 0.515625\n",
      "0.030950650572776794 0.46875\n",
      "0.03397754952311516 0.453125\n",
      "0.03051411733031273 0.5\n",
      "0.03564581274986267 0.453125\n",
      "0.030384570360183716 0.5\n",
      "0.026403330266475677 0.5625\n",
      "0.0390065535902977 0.40625\n",
      "0.0372534804046154 0.40625\n",
      "0.03225450590252876 0.5\n",
      "0.03540842980146408 0.421875\n",
      "0.03315030783414841 0.515625\n",
      "0.0285900067538023 0.5625\n",
      "0.034799933433532715 0.421875\n",
      "0.02984350174665451 0.5\n",
      "0.032522499561309814 0.390625\n"
     ]
    },
    {
     "name": "stderr",
     "output_type": "stream",
     "text": [
      " 40%|███████████████████▏                            | 2/5 [00:56<01:25, 28.42s/it]"
     ]
    },
    {
     "name": "stdout",
     "output_type": "stream",
     "text": [
      "0.03554758056998253 0.46875\n",
      "0.023824680596590042 0.609375\n",
      "0.031063765287399292 0.515625\n",
      "0.03031221218407154 0.453125\n",
      "0.03585948795080185 0.53125\n",
      "0.036144692450761795 0.515625\n",
      "0.03511316329240799 0.4375\n",
      "0.03001256287097931 0.546875\n",
      "0.02860156074166298 0.53125\n"
     ]
    },
    {
     "name": "stderr",
     "output_type": "stream",
     "text": [
      " 40%|███████████████████▏                            | 2/5 [00:59<01:29, 29.93s/it]\n"
     ]
    },
    {
     "ename": "KeyboardInterrupt",
     "evalue": "",
     "output_type": "error",
     "traceback": [
      "\u001b[0;31m---------------------------------------------------------------------------\u001b[0m",
      "\u001b[0;31mKeyboardInterrupt\u001b[0m                         Traceback (most recent call last)",
      "Cell \u001b[0;32mIn[50], line 34\u001b[0m\n\u001b[1;32m     32\u001b[0m loss_a \u001b[38;5;241m=\u001b[39m loss\u001b[38;5;241m.\u001b[39mdetach()\u001b[38;5;241m.\u001b[39mcpu()\u001b[38;5;241m.\u001b[39msum()\u001b[38;5;241m.\u001b[39mitem()\u001b[38;5;241m/\u001b[39mBS\n\u001b[1;32m     33\u001b[0m losses\u001b[38;5;241m.\u001b[39mappend(loss_a)    \n\u001b[0;32m---> 34\u001b[0m acc \u001b[38;5;241m=\u001b[39m (\u001b[43mpreds\u001b[49m\u001b[38;5;241;43m.\u001b[39;49m\u001b[43margmax\u001b[49m\u001b[43m(\u001b[49m\u001b[43mdim\u001b[49m\u001b[38;5;241;43m=\u001b[39;49m\u001b[38;5;241;43m1\u001b[39;49m\u001b[43m)\u001b[49m\u001b[38;5;241;43m.\u001b[39;49m\u001b[43mdetach\u001b[49m\u001b[43m(\u001b[49m\u001b[43m)\u001b[49m\u001b[38;5;241;43m.\u001b[39;49m\u001b[43mcpu\u001b[49m\u001b[43m(\u001b[49m\u001b[43m)\u001b[49m\u001b[38;5;241m==\u001b[39mlabels)\u001b[38;5;241m.\u001b[39msum()\u001b[38;5;241m.\u001b[39mitem()\u001b[38;5;241m/\u001b[39mBS\n\u001b[1;32m     35\u001b[0m accs\u001b[38;5;241m.\u001b[39mappend(acc)\n\u001b[1;32m     37\u001b[0m \u001b[38;5;28;01mif\u001b[39;00m n_batch \u001b[38;5;241m%\u001b[39m \u001b[38;5;241m25\u001b[39m \u001b[38;5;241m==\u001b[39m \u001b[38;5;241m0\u001b[39m: \n",
      "\u001b[0;31mKeyboardInterrupt\u001b[0m: "
     ]
    }
   ],
   "source": [
    "N_EPOCHS = 5\n",
    "BS = 64\n",
    "N_SAMPLES = n_files * 1000\n",
    "N_BATCHES = int(N_SAMPLES/BS)\n",
    "\n",
    "LR = 0.00001\n",
    "MOM = 0.0\n",
    "\n",
    "criterion = nn.NLLLoss()\n",
    "optim = torch.optim.SGD(params=model.parameters(), lr=LR)\n",
    "\n",
    "losses = []\n",
    "accs = []\n",
    "\n",
    "for n_epoch in tqdm(range(N_EPOCHS)):\n",
    "    \n",
    "    for n_batch in range(N_BATCHES):\n",
    "        \n",
    "        optim.zero_grad()\n",
    "        \n",
    "        batch, labels = load_batch(BS)\n",
    "        batch = batch.to(device)\n",
    "        labels = labels\n",
    "        \n",
    "        preds = model(batch)\n",
    "        \n",
    "        loss = criterion(preds, labels.to(device))\n",
    "        \n",
    "        loss.backward()\n",
    "        optim.step()\n",
    "        \n",
    "        loss_a = loss.detach().cpu().sum().item()/BS\n",
    "        losses.append(loss_a)    \n",
    "        acc = (preds.argmax(dim=1).detach().cpu()==labels).sum().item()/BS\n",
    "        accs.append(acc)\n",
    "        \n",
    "        if n_batch % 25 == 0: \n",
    "            print(loss_a, acc)       "
   ]
  },
  {
   "cell_type": "code",
   "execution_count": 51,
   "metadata": {},
   "outputs": [
    {
     "data": {
      "text/plain": [
       "[<matplotlib.lines.Line2D at 0x2888a3d90>]"
      ]
     },
     "execution_count": 51,
     "metadata": {},
     "output_type": "execute_result"
    },
    {
     "data": {
      "image/png": "[encoded data removed]",
      "text/plain": [
       "<Figure size 640x480 with 1 Axes>"
      ]
     },
     "metadata": {},
     "output_type": "display_data"
    }
   ],
   "source": [
    "plt.plot(losses)\n",
    "plt.plot(accs)"
   ]
  },
  {
   "cell_type": "code",
   "execution_count": null,
   "metadata": {},
   "outputs": [],
   "source": []
  }
 ],
 "metadata": {
  "kernelspec": {
   "display_name": "Python 3 (ipykernel)",
   "language": "python",
   "name": "python3"
  },
  "language_info": {
   "codemirror_mode": {
    "name": "ipython",
    "version": 3
   },
   "file_extension": ".py",
   "mimetype": "text/x-python",
   "name": "python",
   "nbconvert_exporter": "python",
   "pygments_lexer": "ipython3",
   "version": "3.11.5"
  }
 },
 "nbformat": 4,
 "nbformat_minor": 4
}
