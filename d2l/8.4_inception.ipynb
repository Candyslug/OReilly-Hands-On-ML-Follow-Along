{
 "cells": [
  {
   "cell_type": "code",
   "execution_count": 1,
   "metadata": {},
   "outputs": [],
   "source": [
    "import sys\n",
    "import os\n",
    "\n",
    "import torch\n",
    "import torch.nn as nn\n",
    "import torch.nn.functional as F\n",
    "from torch.utils.data import DataLoader\n",
    "from torchvision.datasets import FashionMNIST\n",
    "from torchvision.transforms import ToTensor, Resize, Compose\n",
    "\n",
    "from tqdm import tqdm\n",
    "\n",
    "import matplotlib.pyplot as plt"
   ]
  },
  {
   "cell_type": "code",
   "execution_count": 2,
   "metadata": {},
   "outputs": [
    {
     "data": {
      "text/plain": [
       "device(type='mps')"
      ]
     },
     "execution_count": 2,
     "metadata": {},
     "output_type": "execute_result"
    }
   ],
   "source": [
    "mps_avail = torch.backends.mps.is_available()\n",
    "device = torch.device(\"mps\" if mps_avail else \"cpu\")\n",
    "if torch.cuda.is_available(): device = torch.device(\"cuda\")\n",
    "device"
   ]
  },
  {
   "cell_type": "code",
   "execution_count": 3,
   "metadata": {},
   "outputs": [
    {
     "name": "stdout",
     "output_type": "stream",
     "text": [
      "torch.Size([1, 1, 28, 28]) ---> torch.Size([1, 24, 28, 28])\n"
     ]
    }
   ],
   "source": [
    "class Inception(nn.Module):\n",
    "    # output channels \n",
    "    def __init__(self, in_channels: int, bc1: int, bc2: [], bc3: [], bc4: int):\n",
    "        super().__init__()\n",
    "        self.b1 = nn.Sequential(\n",
    "            nn.Conv2d(in_channels=in_channels, out_channels=bc1, kernel_size=1),\n",
    "            nn.ReLU()\n",
    "        )\n",
    "        self.b2 = nn.Sequential(\n",
    "            nn.Conv2d(in_channels=in_channels, out_channels=bc2[0], kernel_size=1),\n",
    "            nn.ReLU(),\n",
    "            nn.Conv2d(in_channels=bc2[0], out_channels=bc2[1], kernel_size=3, padding=1),\n",
    "            nn.ReLU()\n",
    "        )\n",
    "        self.b3 = nn.Sequential(\n",
    "            nn.Conv2d(in_channels=in_channels, out_channels=bc3[0], kernel_size=1),\n",
    "            nn.ReLU(),\n",
    "            nn.Conv2d(in_channels=bc3[0], out_channels=bc3[1], kernel_size=5, padding=2),\n",
    "            nn.ReLU()\n",
    "        )\n",
    "        self.b4 = nn.Sequential(\n",
    "            nn.MaxPool2d(kernel_size=3, stride=1, padding=1),\n",
    "            nn.Conv2d(in_channels=in_channels, out_channels=bc4, kernel_size=1)\n",
    "        )\n",
    "\n",
    "    def forward(self, x):\n",
    "        return torch.concat(\n",
    "            (self.b1(x), self.b2(x), self.b3(x), self.b4(x)),\n",
    "            dim=1\n",
    "        )\n",
    "     \n",
    "sample = torch.rand((1,1,28,28))\n",
    "model = Inception(1, 6, [3, 6], [4, 6], 6)\n",
    "print(sample.shape, \"--->\", model(sample).shape)"
   ]
  },
  {
   "cell_type": "code",
   "execution_count": 4,
   "metadata": {},
   "outputs": [
    {
     "data": {
      "text/plain": [
       "<matplotlib.image.AxesImage at 0x16a53fd00>"
      ]
     },
     "execution_count": 4,
     "metadata": {},
     "output_type": "execute_result"
    },
    {
     "data": {
      "image/png": "[encoded data removed]",
      "text/plain": [
       "<Figure size 100x100 with 1 Axes>"
      ]
     },
     "metadata": {},
     "output_type": "display_data"
    },
    {
     "data": {
      "image/png": "[encoded data removed]",
      "text/plain": [
       "<Figure size 100x100 with 1 Axes>"
      ]
     },
     "metadata": {},
     "output_type": "display_data"
    }
   ],
   "source": [
    "x = FashionMNIST(root=\"../datasets/\", train=True, transform=ToTensor()).data[0].unsqueeze(dim=0).unsqueeze(dim=0).type(torch.float)\n",
    "plt.figure(figsize=(1,1))\n",
    "plt.imshow(x.squeeze())\n",
    "plt.figure(figsize=(1,1))\n",
    "plt.imshow(F.max_pool2d(input=x, kernel_size=3, stride=1, padding=1).squeeze())"
   ]
  },
  {
   "cell_type": "code",
   "execution_count": 5,
   "metadata": {},
   "outputs": [],
   "source": [
    "class MiniGoogLeNet(nn.Module):\n",
    "    def __init__(self):\n",
    "        super().__init__()\n",
    "        self.layer_stack = nn.Sequential(\n",
    "            nn.Conv2d(in_channels=1, out_channels=3, kernel_size=1, stride=1),\n",
    "            nn.ReLU(),\n",
    "            \n",
    "            Inception(3, 16, [8, 16], [8, 16], 16),\n",
    "            nn.MaxPool2d(kernel_size=2, stride=2), # 14x14\n",
    "\n",
    "            Inception(16*4, 8, [12, 8], [12, 8], 8),\n",
    "            nn.MaxPool2d(kernel_size=2, stride=2), # 7x7\n",
    "\n",
    "            Inception(8*4, 4, [6, 4], [6, 4], 4),\n",
    "            nn.MaxPool2d(kernel_size=2, stride=2, padding=1), # 4,4\n",
    "            nn.AdaptiveAvgPool2d((1, 1)),\n",
    "            nn.Flatten(),\n",
    "            nn.Linear(in_features=4*4, out_features=10)\n",
    "        )\n",
    "    def forward(self, x):\n",
    "        return self.layer_stack(x)"
   ]
  },
  {
   "cell_type": "code",
   "execution_count": 6,
   "metadata": {},
   "outputs": [],
   "source": [
    "BS = 32\n",
    "\n",
    "train_dataloader = DataLoader(\n",
    "    FashionMNIST(root=\"../datasets/\", train=True, transform=ToTensor()),\n",
    "    batch_size=BS, shuffle=True\n",
    ")\n",
    "test_dataloader = DataLoader(\n",
    "    FashionMNIST(root=\"../datasets/\", train=False, transform=ToTensor()),\n",
    "    batch_size=BS, shuffle=False\n",
    ")"
   ]
  },
  {
   "cell_type": "code",
   "execution_count": 7,
   "metadata": {},
   "outputs": [],
   "source": [
    "model = MiniGoogLeNet()\n",
    "model = model.to(device)\n",
    "\n",
    "losses = []\n",
    "accs = []"
   ]
  },
  {
   "cell_type": "code",
   "execution_count": 11,
   "metadata": {},
   "outputs": [
    {
     "name": "stderr",
     "output_type": "stream",
     "text": [
      "  0%|          | 0/5 [00:00<?, ?it/s]"
     ]
    },
    {
     "name": "stdout",
     "output_type": "stream",
     "text": [
      "Loss: 0.0722171813249588 Acc: 0.03125\n",
      "Loss: 0.07217010110616684 Acc: 0.15625\n",
      "Loss: 0.07206542044878006 Acc: 0.0625\n",
      "Loss: 0.0718916654586792 Acc: 0.09375\n",
      "Loss: 0.07192250341176987 Acc: 0.125\n",
      "Loss: 0.07181800901889801 Acc: 0.0625\n"
     ]
    },
    {
     "name": "stderr",
     "output_type": "stream",
     "text": [
      " 20%|██        | 1/5 [00:31<02:04, 31.02s/it]"
     ]
    },
    {
     "name": "stdout",
     "output_type": "stream",
     "text": [
      "Loss: 0.07199466228485107 Acc: 0.1875\n",
      "Loss: 0.07165922224521637 Acc: 0.375\n",
      "Loss: 0.0716841071844101 Acc: 0.15625\n",
      "Loss: 0.07154367864131927 Acc: 0.25\n",
      "Loss: 0.07139581441879272 Acc: 0.21875\n",
      "Loss: 0.07075554132461548 Acc: 0.3125\n"
     ]
    },
    {
     "name": "stderr",
     "output_type": "stream",
     "text": [
      " 40%|████      | 2/5 [01:01<01:32, 30.76s/it]"
     ]
    },
    {
     "name": "stdout",
     "output_type": "stream",
     "text": [
      "Loss: 0.07070869952440262 Acc: 0.15625\n",
      "Loss: 0.06843620538711548 Acc: 0.25\n",
      "Loss: 0.05713677406311035 Acc: 0.28125\n",
      "Loss: 0.043313685804605484 Acc: 0.5\n",
      "Loss: 0.03998595476150513 Acc: 0.5\n",
      "Loss: 0.035768598318099976 Acc: 0.53125\n"
     ]
    },
    {
     "name": "stderr",
     "output_type": "stream",
     "text": [
      " 60%|██████    | 3/5 [01:33<01:02, 31.17s/it]"
     ]
    },
    {
     "name": "stdout",
     "output_type": "stream",
     "text": [
      "Loss: 0.03609450161457062 Acc: 0.40625\n",
      "Loss: 0.035513512790203094 Acc: 0.5625\n",
      "Loss: 0.03233201429247856 Acc: 0.5625\n",
      "Loss: 0.03686255216598511 Acc: 0.5\n",
      "Loss: 0.02821444347500801 Acc: 0.75\n",
      "Loss: 0.03652511164546013 Acc: 0.53125\n"
     ]
    },
    {
     "name": "stderr",
     "output_type": "stream",
     "text": [
      " 80%|████████  | 4/5 [02:03<00:31, 31.00s/it]"
     ]
    },
    {
     "name": "stdout",
     "output_type": "stream",
     "text": [
      "Loss: 0.0352887362241745 Acc: 0.46875\n",
      "Loss: 0.027095595374703407 Acc: 0.6875\n",
      "Loss: 0.02025020867586136 Acc: 0.78125\n",
      "Loss: 0.029515370726585388 Acc: 0.59375\n",
      "Loss: 0.02353518456220627 Acc: 0.75\n",
      "Loss: 0.023229625076055527 Acc: 0.71875\n"
     ]
    },
    {
     "name": "stderr",
     "output_type": "stream",
     "text": [
      "100%|██████████| 5/5 [02:34<00:00, 30.93s/it]\n"
     ]
    }
   ],
   "source": [
    "N_EPOCHS = 5\n",
    "LR = 0.01\n",
    "\n",
    "loss_fn = nn.CrossEntropyLoss()\n",
    "optim = torch.optim.SGD(params=model.parameters(), lr=LR,)\n",
    "\n",
    "for epoch in tqdm(range(N_EPOCHS)):\n",
    "\n",
    "    for batch, (x, y) in enumerate(train_dataloader):\n",
    "\n",
    "        x = x.to(device)\n",
    "        y = y.to(device)\n",
    "\n",
    "        optim.zero_grad()\n",
    "\n",
    "        out = model(x)\n",
    "        \n",
    "        acc = (out.argmax(dim=1).detach().cpu()==y.detach().cpu()).sum().item()/BS\n",
    "        accs.append(acc)\n",
    "        \n",
    "        loss = loss_fn(out, y)\n",
    "        losses.append(loss.item())\n",
    "\n",
    "        loss.backward()\n",
    "        optim.step()\n",
    "\n",
    "        if batch % 350 == 0: print(\"Loss:\", loss.item()/float(BS), \"Acc:\", acc)"
   ]
  },
  {
   "cell_type": "code",
   "execution_count": 12,
   "metadata": {},
   "outputs": [
    {
     "data": {
      "text/plain": [
       "[<matplotlib.lines.Line2D at 0x164aba400>]"
      ]
     },
     "execution_count": 12,
     "metadata": {},
     "output_type": "execute_result"
    },
    {
     "data": {
      "image/png": "[encoded data removed]",
      "text/plain": [
       "<Figure size 640x480 with 1 Axes>"
      ]
     },
     "metadata": {},
     "output_type": "display_data"
    }
   ],
   "source": [
    "plt.plot(losses)\n",
    "plt.plot(accs)"
   ]
  },
  {
   "cell_type": "code",
   "execution_count": 13,
   "metadata": {},
   "outputs": [
    {
     "name": "stdout",
     "output_type": "stream",
     "text": [
      "7023\n"
     ]
    }
   ],
   "source": [
    "score = 0\n",
    "for (x, y) in test_dataloader:\n",
    "    out = model(x.to(device))\n",
    "    score += (out.argmax(dim=1).detach().cpu()==y).sum().item()\n",
    "print(score)"
   ]
  }
 ],
 "metadata": {
  "kernelspec": {
   "display_name": "Python 3",
   "language": "python",
   "name": "python3"
  },
  "language_info": {
   "codemirror_mode": {
    "name": "ipython",
    "version": 3
   },
   "file_extension": ".py",
   "mimetype": "text/x-python",
   "name": "python",
   "nbconvert_exporter": "python",
   "pygments_lexer": "ipython3",
   "version": "3.9.16"
  }
 },
 "nbformat": 4,
 "nbformat_minor": 2
}
