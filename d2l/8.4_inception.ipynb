{
 "cells": [
  {
   "cell_type": "code",
   "execution_count": 1,
   "metadata": {},
   "outputs": [],
   "source": [
    "import sys\n",
    "import os\n",
    "\n",
    "import torch\n",
    "import torch.nn as nn\n",
    "import torch.nn.functional as F\n",
    "from torch.utils.data import DataLoader\n",
    "from torchvision.datasets import FashionMNIST\n",
    "from torchvision.transforms import ToTensor, Resize, Compose\n",
    "\n",
    "from tqdm import tqdm\n",
    "\n",
    "import matplotlib.pyplot as plt"
   ]
  },
  {
   "cell_type": "code",
   "execution_count": 40,
   "metadata": {},
   "outputs": [
    {
     "data": {
      "text/plain": [
       "device(type='mps')"
      ]
     },
     "execution_count": 40,
     "metadata": {},
     "output_type": "execute_result"
    }
   ],
   "source": [
    "mps_avail = torch.backends.mps.is_available()\n",
    "device = torch.device(\"mps\" if mps_avail else \"cpu\")\n",
    "if torch.cuda.is_available(): device = torch.device(\"cuda\")\n",
    "device"
   ]
  },
  {
   "cell_type": "code",
   "execution_count": 30,
   "metadata": {},
   "outputs": [
    {
     "name": "stdout",
     "output_type": "stream",
     "text": [
      "torch.Size([1, 1, 28, 28]) ---> torch.Size([1, 24, 28, 28])\n"
     ]
    }
   ],
   "source": [
    "class Inception(nn.Module):\n",
    "    # output channels \n",
    "    def __init__(self, in_channels: int, bc1: int, bc2: [], bc3: [], bc4: int):\n",
    "        super().__init__()\n",
    "        self.b1 = nn.Sequential(\n",
    "            nn.Conv2d(in_channels=in_channels, out_channels=bc1, kernel_size=1),\n",
    "            nn.ReLU()\n",
    "        )\n",
    "        self.b2 = nn.Sequential(\n",
    "            nn.Conv2d(in_channels=in_channels, out_channels=bc2[0], kernel_size=1),\n",
    "            nn.ReLU(),\n",
    "            nn.Conv2d(in_channels=bc2[0], out_channels=bc2[1], kernel_size=3, padding=1),\n",
    "            nn.ReLU()\n",
    "        )\n",
    "        self.b3 = nn.Sequential(\n",
    "            nn.Conv2d(in_channels=in_channels, out_channels=bc3[0], kernel_size=1),\n",
    "            nn.ReLU(),\n",
    "            nn.Conv2d(in_channels=bc3[0], out_channels=bc3[1], kernel_size=5, padding=2),\n",
    "            nn.ReLU()\n",
    "        )\n",
    "        self.b4 = nn.Sequential(\n",
    "            nn.MaxPool2d(kernel_size=3, stride=1, padding=1),\n",
    "            nn.Conv2d(in_channels=in_channels, out_channels=bc4, kernel_size=1)\n",
    "        )\n",
    "\n",
    "    def forward(self, x):\n",
    "        return torch.concat(\n",
    "            (self.b1(x), self.b2(x), self.b3(x), self.b4(x)),\n",
    "            dim=1\n",
    "        )\n",
    "     \n",
    "sample = torch.rand((1,1,28,28))\n",
    "model = Inception(1, 6, [3, 6], [4, 6], 6)\n",
    "print(sample.shape, \"--->\", model(sample).shape)"
   ]
  },
  {
   "cell_type": "code",
   "execution_count": 3,
   "metadata": {},
   "outputs": [
    {
     "data": {
      "text/plain": [
       "<matplotlib.image.AxesImage at 0x14a75ed60>"
      ]
     },
     "execution_count": 3,
     "metadata": {},
     "output_type": "execute_result"
    },
    {
     "data": {
      "image/png": "[encoded data removed]",
      "text/plain": [
       "<Figure size 100x100 with 1 Axes>"
      ]
     },
     "metadata": {},
     "output_type": "display_data"
    },
    {
     "data": {
      "image/png": "[encoded data removed]",
      "text/plain": [
       "<Figure size 100x100 with 1 Axes>"
      ]
     },
     "metadata": {},
     "output_type": "display_data"
    }
   ],
   "source": [
    "x = FashionMNIST(root=\"../datasets/\", train=True, transform=ToTensor()).data[0].unsqueeze(dim=0).unsqueeze(dim=0).type(torch.float)\n",
    "plt.figure(figsize=(1,1))\n",
    "plt.imshow(x.squeeze())\n",
    "plt.figure(figsize=(1,1))\n",
    "plt.imshow(F.max_pool2d(input=x, kernel_size=3, stride=1, padding=1).squeeze())"
   ]
  },
  {
   "cell_type": "code",
   "execution_count": 34,
   "metadata": {},
   "outputs": [],
   "source": [
    "class MiniGoogLeNet(nn.Module):\n",
    "    def __init__(self):\n",
    "        super().__init__()\n",
    "        self.layer_stack = nn.Sequential(\n",
    "            nn.Conv2d(in_channels=1, out_channels=3, kernel_size=1, stride=1),\n",
    "            nn.ReLU(),\n",
    "            \n",
    "            Inception(3, 16, [8, 16], [8, 16], 16),\n",
    "            nn.MaxPool2d(kernel_size=2, stride=2), # 14x14\n",
    "\n",
    "            Inception(16*4, 8, [12, 8], [12, 8], 8),\n",
    "            nn.MaxPool2d(kernel_size=2, stride=2), # 7x7\n",
    "\n",
    "            Inception(8*4, 4, [6, 4], [6, 4], 4),\n",
    "            nn.MaxPool2d(kernel_size=2, stride=2, padding=1), # 3,3\n",
    "            nn.AdaptiveAvgPool2d((1, 1)),\n",
    "            nn.Flatten(),\n",
    "            nn.Linear(in_features=4*4, out_features=10)\n",
    "        )\n",
    "    def forward(self, x):\n",
    "        return self.layer_stack(x)\n",
    "\n",
    "model = MiniGoogLeNet()\n",
    "model = model.to(device)"
   ]
  },
  {
   "cell_type": "code",
   "execution_count": 5,
   "metadata": {},
   "outputs": [],
   "source": [
    "BS = 32\n",
    "\n",
    "train_dataloader = DataLoader(\n",
    "    FashionMNIST(root=\"../datasets/\", train=True, transform=ToTensor()),\n",
    "    batch_size=BS, shuffle=True\n",
    ")\n",
    "test_dataloader = DataLoader(\n",
    "    FashionMNIST(root=\"../datasets/\", train=False, transform=ToTensor()),\n",
    "    batch_size=BS, shuffle=False\n",
    ")"
   ]
  },
  {
   "cell_type": "code",
   "execution_count": 39,
   "metadata": {},
   "outputs": [
    {
     "name": "stderr",
     "output_type": "stream",
     "text": [
      "  0%|          | 0/5 [00:00<?, ?it/s]"
     ]
    },
    {
     "name": "stdout",
     "output_type": "stream",
     "text": [
      "Loss: 0.07198923826217651 Acc: 0.09375\n",
      "Loss: 0.07192395627498627 Acc: 0.0625\n",
      "Loss: 0.07187682390213013 Acc: 0.09375\n",
      "Loss: 0.07186450064182281 Acc: 0.15625\n",
      "Loss: 0.07192030549049377 Acc: 0.0625\n",
      "Loss: 0.07190975546836853 Acc: 0.09375\n",
      "Loss: 0.07181081175804138 Acc: 0.21875\n",
      "Loss: 0.0719316303730011 Acc: 0.125\n",
      "Loss: 0.07195661962032318 Acc: 0.09375\n",
      "Loss: 0.07202266156673431 Acc: 0.0625\n",
      "Loss: 0.07196839898824692 Acc: 0.125\n",
      "Loss: 0.07191597670316696 Acc: 0.15625\n",
      "Loss: 0.07203489542007446 Acc: 0.03125\n"
     ]
    },
    {
     "name": "stderr",
     "output_type": "stream",
     "text": [
      " 20%|██        | 1/5 [00:31<02:05, 31.25s/it]"
     ]
    },
    {
     "name": "stdout",
     "output_type": "stream",
     "text": [
      "Loss: 0.07185742259025574 Acc: 0.15625\n",
      "Loss: 0.07192546129226685 Acc: 0.03125\n",
      "Loss: 0.0719631239771843 Acc: 0.09375\n",
      "Loss: 0.07190261781215668 Acc: 0.0625\n",
      "Loss: 0.07188370823860168 Acc: 0.15625\n",
      "Loss: 0.0718848705291748 Acc: 0.09375\n",
      "Loss: 0.07201394438743591 Acc: 0.0625\n",
      "Loss: 0.07190093398094177 Acc: 0.21875\n",
      "Loss: 0.07197779417037964 Acc: 0.0\n",
      "Loss: 0.07188840210437775 Acc: 0.21875\n",
      "Loss: 0.07188855856657028 Acc: 0.125\n",
      "Loss: 0.07193225622177124 Acc: 0.1875\n",
      "Loss: 0.07190380245447159 Acc: 0.125\n"
     ]
    },
    {
     "name": "stderr",
     "output_type": "stream",
     "text": [
      " 40%|████      | 2/5 [01:03<01:34, 31.65s/it]"
     ]
    },
    {
     "name": "stdout",
     "output_type": "stream",
     "text": [
      "Loss: 0.07188258320093155 Acc: 0.0625\n",
      "Loss: 0.07191523909568787 Acc: 0.125\n",
      "Loss: 0.07199068367481232 Acc: 0.09375\n",
      "Loss: 0.07190874218940735 Acc: 0.1875\n",
      "Loss: 0.07192662358283997 Acc: 0.0625\n",
      "Loss: 0.07195227593183517 Acc: 0.15625\n"
     ]
    },
    {
     "name": "stderr",
     "output_type": "stream",
     "text": [
      " 40%|████      | 2/5 [01:18<01:58, 39.36s/it]"
     ]
    },
    {
     "name": "stdout",
     "output_type": "stream",
     "text": [
      "Loss: 0.07187540084123611 Acc: 0.09375\n"
     ]
    },
    {
     "name": "stderr",
     "output_type": "stream",
     "text": [
      "\n"
     ]
    },
    {
     "ename": "KeyboardInterrupt",
     "evalue": "",
     "output_type": "error",
     "traceback": [
      "\u001b[0;31m---------------------------------------------------------------------------\u001b[0m",
      "\u001b[0;31mKeyboardInterrupt\u001b[0m                         Traceback (most recent call last)",
      "\u001b[1;32m/Users/dav/dev/doml/ai-notebooks/d2l/8.4_inception.ipynb Cell 7\u001b[0m line \u001b[0;36m2\n\u001b[1;32m     <a href='vscode-notebook-cell:/Users/dav/dev/doml/ai-notebooks/d2l/8.4_inception.ipynb#W6sZmlsZQ%3D%3D?line=23'>24</a>\u001b[0m loss \u001b[39m=\u001b[39m loss_fn(out, y)\n\u001b[1;32m     <a href='vscode-notebook-cell:/Users/dav/dev/doml/ai-notebooks/d2l/8.4_inception.ipynb#W6sZmlsZQ%3D%3D?line=24'>25</a>\u001b[0m losses\u001b[39m.\u001b[39mappend(loss\u001b[39m.\u001b[39mitem())\n\u001b[0;32m---> <a href='vscode-notebook-cell:/Users/dav/dev/doml/ai-notebooks/d2l/8.4_inception.ipynb#W6sZmlsZQ%3D%3D?line=26'>27</a>\u001b[0m loss\u001b[39m.\u001b[39;49mbackward()\n\u001b[1;32m     <a href='vscode-notebook-cell:/Users/dav/dev/doml/ai-notebooks/d2l/8.4_inception.ipynb#W6sZmlsZQ%3D%3D?line=27'>28</a>\u001b[0m optim\u001b[39m.\u001b[39mstep()\n\u001b[1;32m     <a href='vscode-notebook-cell:/Users/dav/dev/doml/ai-notebooks/d2l/8.4_inception.ipynb#W6sZmlsZQ%3D%3D?line=29'>30</a>\u001b[0m \u001b[39mif\u001b[39;00m batch \u001b[39m%\u001b[39m \u001b[39m150\u001b[39m \u001b[39m==\u001b[39m \u001b[39m0\u001b[39m: \u001b[39mprint\u001b[39m(\u001b[39m\"\u001b[39m\u001b[39mLoss:\u001b[39m\u001b[39m\"\u001b[39m, loss\u001b[39m.\u001b[39mitem()\u001b[39m/\u001b[39m\u001b[39mfloat\u001b[39m(BS), \u001b[39m\"\u001b[39m\u001b[39mAcc:\u001b[39m\u001b[39m\"\u001b[39m, acc)\n",
      "File \u001b[0;32m/opt/miniconda3/envs/doml/lib/python3.9/site-packages/torch/_tensor.py:487\u001b[0m, in \u001b[0;36mTensor.backward\u001b[0;34m(self, gradient, retain_graph, create_graph, inputs)\u001b[0m\n\u001b[1;32m    477\u001b[0m \u001b[39mif\u001b[39;00m has_torch_function_unary(\u001b[39mself\u001b[39m):\n\u001b[1;32m    478\u001b[0m     \u001b[39mreturn\u001b[39;00m handle_torch_function(\n\u001b[1;32m    479\u001b[0m         Tensor\u001b[39m.\u001b[39mbackward,\n\u001b[1;32m    480\u001b[0m         (\u001b[39mself\u001b[39m,),\n\u001b[0;32m   (...)\u001b[0m\n\u001b[1;32m    485\u001b[0m         inputs\u001b[39m=\u001b[39minputs,\n\u001b[1;32m    486\u001b[0m     )\n\u001b[0;32m--> 487\u001b[0m torch\u001b[39m.\u001b[39;49mautograd\u001b[39m.\u001b[39;49mbackward(\n\u001b[1;32m    488\u001b[0m     \u001b[39mself\u001b[39;49m, gradient, retain_graph, create_graph, inputs\u001b[39m=\u001b[39;49minputs\n\u001b[1;32m    489\u001b[0m )\n",
      "File \u001b[0;32m/opt/miniconda3/envs/doml/lib/python3.9/site-packages/torch/autograd/__init__.py:200\u001b[0m, in \u001b[0;36mbackward\u001b[0;34m(tensors, grad_tensors, retain_graph, create_graph, grad_variables, inputs)\u001b[0m\n\u001b[1;32m    195\u001b[0m     retain_graph \u001b[39m=\u001b[39m create_graph\n\u001b[1;32m    197\u001b[0m \u001b[39m# The reason we repeat same the comment below is that\u001b[39;00m\n\u001b[1;32m    198\u001b[0m \u001b[39m# some Python versions print out the first line of a multi-line function\u001b[39;00m\n\u001b[1;32m    199\u001b[0m \u001b[39m# calls in the traceback and some print out the last line\u001b[39;00m\n\u001b[0;32m--> 200\u001b[0m Variable\u001b[39m.\u001b[39;49m_execution_engine\u001b[39m.\u001b[39;49mrun_backward(  \u001b[39m# Calls into the C++ engine to run the backward pass\u001b[39;49;00m\n\u001b[1;32m    201\u001b[0m     tensors, grad_tensors_, retain_graph, create_graph, inputs,\n\u001b[1;32m    202\u001b[0m     allow_unreachable\u001b[39m=\u001b[39;49m\u001b[39mTrue\u001b[39;49;00m, accumulate_grad\u001b[39m=\u001b[39;49m\u001b[39mTrue\u001b[39;49;00m)\n",
      "\u001b[0;31mKeyboardInterrupt\u001b[0m: "
     ]
    }
   ],
   "source": [
    "N_EPOCHS = 5\n",
    "LR = 0.001\n",
    "\n",
    "loss_fn = nn.CrossEntropyLoss()\n",
    "optim = torch.optim.SGD(params=model.parameters(), lr=LR)\n",
    "\n",
    "losses = []\n",
    "accs = []\n",
    "\n",
    "for epoch in tqdm(range(N_EPOCHS)):\n",
    "\n",
    "    for batch, (x, y) in enumerate(train_dataloader):\n",
    "\n",
    "        x = x.to(device)\n",
    "        y = y.to(device)\n",
    "\n",
    "        optim.zero_grad()\n",
    "\n",
    "        out = model(x)\n",
    "        \n",
    "        acc = (out.argmax(dim=1).detach().cpu()==y.detach().cpu()).sum().item()/BS\n",
    "        accs.append(acc)\n",
    "        \n",
    "        loss = loss_fn(out, y)\n",
    "        losses.append(loss.item())\n",
    "\n",
    "        loss.backward()\n",
    "        optim.step()\n",
    "\n",
    "        if batch % 150 == 0: print(\"Loss:\", loss.item()/float(BS), \"Acc:\", acc)\n",
    "\n",
    "plt.plot(losses)\n",
    "plt.plot(accs)"
   ]
  },
  {
   "cell_type": "code",
   "execution_count": 38,
   "metadata": {},
   "outputs": [
    {
     "data": {
      "text/plain": [
       "[<matplotlib.lines.Line2D at 0x29a22edc0>]"
      ]
     },
     "execution_count": 38,
     "metadata": {},
     "output_type": "execute_result"
    },
    {
     "data": {
      "image/png": "[encoded data removed]",
      "text/plain": [
       "<Figure size 640x480 with 1 Axes>"
      ]
     },
     "metadata": {},
     "output_type": "display_data"
    }
   ],
   "source": [
    "plt.plot(losses)\n",
    "plt.plot(accs)"
   ]
  }
 ],
 "metadata": {
  "kernelspec": {
   "display_name": "Python 3",
   "language": "python",
   "name": "python3"
  },
  "language_info": {
   "codemirror_mode": {
    "name": "ipython",
    "version": 3
   },
   "file_extension": ".py",
   "mimetype": "text/x-python",
   "name": "python",
   "nbconvert_exporter": "python",
   "pygments_lexer": "ipython3",
   "version": "3.9.16"
  }
 },
 "nbformat": 4,
 "nbformat_minor": 2
}
