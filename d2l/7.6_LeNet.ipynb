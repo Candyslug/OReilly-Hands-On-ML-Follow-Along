{
 "cells": [
  {
   "cell_type": "code",
   "execution_count": 1,
   "metadata": {},
   "outputs": [],
   "source": [
    "import torch\n",
    "import torch.nn as nn"
   ]
  },
  {
   "cell_type": "code",
   "execution_count": 2,
   "metadata": {},
   "outputs": [],
   "source": [
    "%matplotlib inline\n",
    "import matplotlib.pyplot as plt"
   ]
  },
  {
   "cell_type": "code",
   "execution_count": 108,
   "metadata": {},
   "outputs": [],
   "source": [
    "class lenet(nn.Module):\n",
    "    def __init__(self):\n",
    "        super().__init__()\n",
    "\n",
    "        self.layer_stack = nn.Sequential(\n",
    "            nn.Conv2d(in_channels=1, out_channels=6, kernel_size=(5,5), padding=2), # output 6x28x28\n",
    "            nn.MaxPool2d(kernel_size=(2,2), stride=(2,2)), # output 6x14x14\n",
    "            nn.ReLU(),\n",
    "            nn.Conv2d(in_channels=6, out_channels=16, kernel_size=(5,5)), # output 16x10x10\n",
    "            nn.ReLU(),\n",
    "            nn.MaxPool2d(kernel_size=(2,2), stride=(2,2)), # output 16x5x5\n",
    "            nn.Flatten(),\n",
    "            nn.Linear(in_features=(16*5*5), out_features=120), # output 1x120\n",
    "            nn.ReLU(),\n",
    "            nn.Linear(120, 84), # output 1x84\n",
    "            nn.ReLU(),\n",
    "            nn.Linear(84, 10), # output 1x10\n",
    "            nn.LogSoftmax(dim=1)\n",
    "        )\n",
    "\n",
    "    def forward(self, x):\n",
    "        return self.layer_stack(x)"
   ]
  },
  {
   "cell_type": "code",
   "execution_count": 51,
   "metadata": {},
   "outputs": [],
   "source": [
    "from torchvision.datasets import MNIST\n",
    "\n",
    "mnist_train = MNIST(root=\"../datasets/\", train=True, download=False)\n",
    "mnist_test = MNIST(root=\"../datasets/\", train=False, download=False)\n",
    "\n",
    "X_train = mnist_train.data.type(torch.float)\n",
    "Y_train = mnist_train.targets\n",
    "\n",
    "X_test = mnist_test.data.type(torch.float)\n",
    "Y_test = mnist_test.targets"
   ]
  },
  {
   "cell_type": "code",
   "execution_count": 8,
   "metadata": {},
   "outputs": [
    {
     "data": {
      "text/plain": [
       "<matplotlib.image.AxesImage at 0x1540a1ed0>"
      ]
     },
     "execution_count": 8,
     "metadata": {},
     "output_type": "execute_result"
    },
    {
     "data": {
      "image/png": "[encoded data removed]",
      "text/plain": [
       "<Figure size 300x300 with 1 Axes>"
      ]
     },
     "metadata": {},
     "output_type": "display_data"
    }
   ],
   "source": [
    "plt.figure(figsize=(3,3))\n",
    "plt.imshow(X_train[0], cmap='gray')"
   ]
  },
  {
   "cell_type": "code",
   "execution_count": 49,
   "metadata": {},
   "outputs": [
    {
     "data": {
      "text/plain": [
       "tensor([[ 1.1648,  2.3776,  4.5735, -1.2245,  0.5846, -5.7057, -0.3520,  0.3285,\n",
       "          0.2946, -0.9176]], grad_fn=<AddmmBackward0>)"
      ]
     },
     "execution_count": 49,
     "metadata": {},
     "output_type": "execute_result"
    }
   ],
   "source": [
    "danet = lenet()\n",
    "sample = X_train[0]\n",
    "sample = sample.unsqueeze(dim=0).unsqueeze(dim=0)\n",
    "danet(sample)"
   ]
  },
  {
   "cell_type": "code",
   "execution_count": 63,
   "metadata": {},
   "outputs": [],
   "source": [
    "from tqdm import tqdm\n",
    "import numpy as np\n",
    "from random import randint "
   ]
  },
  {
   "cell_type": "code",
   "execution_count": 147,
   "metadata": {},
   "outputs": [],
   "source": [
    "danet = lenet()\n",
    "def acc_fn(pred, target):\n",
    "    return (pred.argmax(dim=1)==target).sum()"
   ]
  },
  {
   "cell_type": "code",
   "execution_count": 165,
   "metadata": {},
   "outputs": [
    {
     "name": "stderr",
     "output_type": "stream",
     "text": [
      "  0%|          | 0/10 [00:00<?, ?it/s]"
     ]
    },
    {
     "name": "stdout",
     "output_type": "stream",
     "text": [
      "batch 0 / 1875\n",
      "acc   100.0 %\n",
      "batch 250 / 1875\n",
      "acc   93.75 %\n",
      "batch 500 / 1875\n",
      "acc   93.75 %\n",
      "batch 750 / 1875\n",
      "acc   96.875 %\n",
      "batch 1000 / 1875\n",
      "acc   96.875 %\n",
      "batch 1250 / 1875\n",
      "acc   100.0 %\n",
      "batch 1500 / 1875\n",
      "acc   93.75 %\n",
      "batch 1750 / 1875\n",
      "acc   96.875 %\n"
     ]
    },
    {
     "name": "stderr",
     "output_type": "stream",
     "text": [
      " 10%|█         | 1/10 [00:11<01:40, 11.15s/it]"
     ]
    },
    {
     "name": "stdout",
     "output_type": "stream",
     "text": [
      "batch 0 / 1875\n",
      "acc   100.0 %\n",
      "batch 250 / 1875\n",
      "acc   100.0 %\n",
      "batch 500 / 1875\n",
      "acc   96.875 %\n",
      "batch 750 / 1875\n",
      "acc   96.875 %\n",
      "batch 1000 / 1875\n",
      "acc   96.875 %\n",
      "batch 1250 / 1875\n",
      "acc   96.875 %\n",
      "batch 1500 / 1875\n",
      "acc   96.875 %\n",
      "batch 1750 / 1875\n",
      "acc   100.0 %\n"
     ]
    },
    {
     "name": "stderr",
     "output_type": "stream",
     "text": [
      " 20%|██        | 2/10 [00:21<01:26, 10.84s/it]"
     ]
    },
    {
     "name": "stdout",
     "output_type": "stream",
     "text": [
      "batch 0 / 1875\n",
      "acc   100.0 %\n",
      "batch 250 / 1875\n",
      "acc   96.875 %\n",
      "batch 500 / 1875\n",
      "acc   96.875 %\n",
      "batch 750 / 1875\n",
      "acc   93.75 %\n",
      "batch 1000 / 1875\n",
      "acc   100.0 %\n",
      "batch 1250 / 1875\n",
      "acc   100.0 %\n",
      "batch 1500 / 1875\n",
      "acc   100.0 %\n",
      "batch 1750 / 1875\n",
      "acc   96.875 %\n"
     ]
    },
    {
     "name": "stderr",
     "output_type": "stream",
     "text": [
      " 30%|███       | 3/10 [00:32<01:15, 10.81s/it]"
     ]
    },
    {
     "name": "stdout",
     "output_type": "stream",
     "text": [
      "batch 0 / 1875\n",
      "acc   100.0 %\n",
      "batch 250 / 1875\n",
      "acc   100.0 %\n",
      "batch 500 / 1875\n",
      "acc   100.0 %\n",
      "batch 750 / 1875\n",
      "acc   96.875 %\n",
      "batch 1000 / 1875\n",
      "acc   96.875 %\n",
      "batch 1250 / 1875\n",
      "acc   100.0 %\n",
      "batch 1500 / 1875\n",
      "acc   96.875 %\n",
      "batch 1750 / 1875\n",
      "acc   93.75 %\n"
     ]
    },
    {
     "name": "stderr",
     "output_type": "stream",
     "text": [
      " 40%|████      | 4/10 [00:43<01:04, 10.74s/it]"
     ]
    },
    {
     "name": "stdout",
     "output_type": "stream",
     "text": [
      "batch 0 / 1875\n",
      "acc   96.875 %\n",
      "batch 250 / 1875\n",
      "acc   96.875 %\n",
      "batch 500 / 1875\n",
      "acc   96.875 %\n",
      "batch 750 / 1875\n",
      "acc   100.0 %\n",
      "batch 1000 / 1875\n",
      "acc   100.0 %\n",
      "batch 1250 / 1875\n",
      "acc   100.0 %\n",
      "batch 1500 / 1875\n",
      "acc   96.875 %\n",
      "batch 1750 / 1875\n",
      "acc   100.0 %\n"
     ]
    },
    {
     "name": "stderr",
     "output_type": "stream",
     "text": [
      " 50%|█████     | 5/10 [00:53<00:53, 10.67s/it]"
     ]
    },
    {
     "name": "stdout",
     "output_type": "stream",
     "text": [
      "batch 0 / 1875\n",
      "acc   96.875 %\n",
      "batch 250 / 1875\n",
      "acc   96.875 %\n",
      "batch 500 / 1875\n",
      "acc   96.875 %\n",
      "batch 750 / 1875\n",
      "acc   100.0 %\n",
      "batch 1000 / 1875\n",
      "acc   96.875 %\n",
      "batch 1250 / 1875\n",
      "acc   96.875 %\n",
      "batch 1500 / 1875\n",
      "acc   100.0 %\n",
      "batch 1750 / 1875\n",
      "acc   96.875 %\n"
     ]
    },
    {
     "name": "stderr",
     "output_type": "stream",
     "text": [
      " 60%|██████    | 6/10 [01:04<00:42, 10.63s/it]"
     ]
    },
    {
     "name": "stdout",
     "output_type": "stream",
     "text": [
      "batch 0 / 1875\n",
      "acc   96.875 %\n",
      "batch 250 / 1875\n",
      "acc   100.0 %\n",
      "batch 500 / 1875\n",
      "acc   96.875 %\n",
      "batch 750 / 1875\n",
      "acc   96.875 %\n",
      "batch 1000 / 1875\n",
      "acc   100.0 %\n",
      "batch 1250 / 1875\n",
      "acc   100.0 %\n",
      "batch 1500 / 1875\n",
      "acc   100.0 %\n",
      "batch 1750 / 1875\n",
      "acc   100.0 %\n"
     ]
    },
    {
     "name": "stderr",
     "output_type": "stream",
     "text": [
      " 70%|███████   | 7/10 [01:15<00:31, 10.66s/it]"
     ]
    },
    {
     "name": "stdout",
     "output_type": "stream",
     "text": [
      "batch 0 / 1875\n",
      "acc   96.875 %\n",
      "batch 250 / 1875\n",
      "acc   96.875 %\n",
      "batch 500 / 1875\n",
      "acc   96.875 %\n",
      "batch 750 / 1875\n",
      "acc   100.0 %\n",
      "batch 1000 / 1875\n",
      "acc   96.875 %\n",
      "batch 1250 / 1875\n",
      "acc   96.875 %\n",
      "batch 1500 / 1875\n",
      "acc   100.0 %\n",
      "batch 1750 / 1875\n",
      "acc   100.0 %\n"
     ]
    },
    {
     "name": "stderr",
     "output_type": "stream",
     "text": [
      " 80%|████████  | 8/10 [01:25<00:21, 10.64s/it]"
     ]
    },
    {
     "name": "stdout",
     "output_type": "stream",
     "text": [
      "batch 0 / 1875\n",
      "acc   100.0 %\n",
      "batch 250 / 1875\n",
      "acc   100.0 %\n",
      "batch 500 / 1875\n",
      "acc   100.0 %\n",
      "batch 750 / 1875\n",
      "acc   100.0 %\n",
      "batch 1000 / 1875\n",
      "acc   100.0 %\n",
      "batch 1250 / 1875\n",
      "acc   100.0 %\n",
      "batch 1500 / 1875\n",
      "acc   100.0 %\n",
      "batch 1750 / 1875\n",
      "acc   100.0 %\n"
     ]
    },
    {
     "name": "stderr",
     "output_type": "stream",
     "text": [
      " 90%|█████████ | 9/10 [01:36<00:10, 10.69s/it]"
     ]
    },
    {
     "name": "stdout",
     "output_type": "stream",
     "text": [
      "batch 0 / 1875\n",
      "acc   100.0 %\n",
      "batch 250 / 1875\n",
      "acc   100.0 %\n",
      "batch 500 / 1875\n",
      "acc   100.0 %\n",
      "batch 750 / 1875\n",
      "acc   96.875 %\n",
      "batch 1000 / 1875\n",
      "acc   100.0 %\n",
      "batch 1250 / 1875\n",
      "acc   93.75 %\n",
      "batch 1500 / 1875\n",
      "acc   100.0 %\n",
      "batch 1750 / 1875\n",
      "acc   96.875 %\n"
     ]
    },
    {
     "name": "stderr",
     "output_type": "stream",
     "text": [
      "100%|██████████| 10/10 [01:47<00:00, 10.70s/it]\n"
     ]
    }
   ],
   "source": [
    "BS = 32\n",
    "\n",
    "N_EPOCHS = 10\n",
    "N_DATA = len(Y_train)\n",
    "\n",
    "BATCH_EPOCHS = int(N_DATA / BS)\n",
    "\n",
    "loss_fn = nn.NLLLoss()\n",
    "optim = torch.optim.SGD(params=danet.parameters(), lr=0.001, momentum=0.1)\n",
    "\n",
    "losses = []\n",
    "accs = []\n",
    "\n",
    "for _ in tqdm(range(N_EPOCHS)):\n",
    "\n",
    "    for b in range(BATCH_EPOCHS):\n",
    "        i = randint(0, len(Y_train) - BS)\n",
    "        optim.zero_grad()\n",
    "        pred = danet(X_train[i:i+BS].reshape(BS, 1, 28, 28))\n",
    "        target = Y_train[i:i+BS] \n",
    "        loss = loss_fn(pred, target)\n",
    "        # percentage\n",
    "        acc = acc_fn(pred, target).item() / BS * 100.0\n",
    "        losses.append(loss.item()/BS)\n",
    "        accs.append(acc)\n",
    "        loss.backward()\n",
    "        optim.step()\n",
    "        if b % 250 == 0: \n",
    "            print(\"batch\", b, \"/\", BATCH_EPOCHS)\n",
    "            print(\"acc  \", acc, \"%\")"
   ]
  },
  {
   "cell_type": "code",
   "execution_count": 166,
   "metadata": {},
   "outputs": [
    {
     "data": {
      "text/plain": [
       "[<matplotlib.lines.Line2D at 0x1683bcb50>]"
      ]
     },
     "execution_count": 166,
     "metadata": {},
     "output_type": "execute_result"
    },
    {
     "data": {
      "image/png": "[encoded data removed]",
      "text/plain": [
       "<Figure size 640x480 with 1 Axes>"
      ]
     },
     "metadata": {},
     "output_type": "display_data"
    }
   ],
   "source": [
    "plt.plot(losses)"
   ]
  },
  {
   "cell_type": "code",
   "execution_count": 168,
   "metadata": {},
   "outputs": [
    {
     "data": {
      "text/plain": [
       "tensor(98.4200)"
      ]
     },
     "execution_count": 168,
     "metadata": {},
     "output_type": "execute_result"
    }
   ],
   "source": [
    "danet.eval()\n",
    "\n",
    "i = randint(0, 10000)\n",
    "eval_sample = X_test[i].unsqueeze(dim=0).unsqueeze(dim=0)\n",
    "eval_target = Y_test[i]\n",
    "# plt.imshow(eval_sample.squeeze())\n",
    "\n",
    "danet(eval_sample).argmax(), eval_target\n",
    "\n",
    "eval_data = X_test.reshape(10000, 1, 28, 28)\n",
    "acc_fn(danet(eval_data), Y_test) / len(Y_test) * 100"
   ]
  }
 ],
 "metadata": {
  "kernelspec": {
   "display_name": "Python 3 (ipykernel)",
   "language": "python",
   "name": "python3"
  },
  "language_info": {
   "codemirror_mode": {
    "name": "ipython",
    "version": 3
   },
   "file_extension": ".py",
   "mimetype": "text/x-python",
   "name": "python",
   "nbconvert_exporter": "python",
   "pygments_lexer": "ipython3",
   "version": "3.10.12"
  }
 },
 "nbformat": 4,
 "nbformat_minor": 4
}
