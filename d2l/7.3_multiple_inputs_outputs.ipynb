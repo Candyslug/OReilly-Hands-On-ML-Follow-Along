{
 "cells": [
  {
   "cell_type": "code",
   "execution_count": 1,
   "metadata": {},
   "outputs": [],
   "source": [
    "import torch\n",
    "import torch.nn as nn"
   ]
  },
  {
   "cell_type": "code",
   "execution_count": 2,
   "metadata": {},
   "outputs": [
    {
     "data": {
      "text/plain": [
       "tensor(37)"
      ]
     },
     "execution_count": 2,
     "metadata": {},
     "output_type": "execute_result"
    }
   ],
   "source": [
    "(torch.tensor([1,2,4,5]) * torch.tensor([1,2,3,4])).sum()"
   ]
  },
  {
   "cell_type": "code",
   "execution_count": 3,
   "metadata": {},
   "outputs": [
    {
     "data": {
      "text/plain": [
       "tensor(19)"
      ]
     },
     "execution_count": 3,
     "metadata": {},
     "output_type": "execute_result"
    }
   ],
   "source": [
    "(torch.tensor([0,1,3,4]) * torch.tensor([0,1,2,3])).sum()"
   ]
  },
  {
   "cell_type": "code",
   "execution_count": 146,
   "metadata": {},
   "outputs": [
    {
     "name": "stdout",
     "output_type": "stream",
     "text": [
      "tensor([[[[-0.2115,  0.0264],\n",
      "          [-0.0280, -0.0082]],\n",
      "\n",
      "         [[-0.0165, -0.1082],\n",
      "          [ 0.2588, -0.2024]],\n",
      "\n",
      "         [[ 0.1329, -0.2659],\n",
      "          [ 0.1921, -0.2376]]],\n",
      "\n",
      "\n",
      "        [[[ 0.0786,  0.2416],\n",
      "          [ 0.0149, -0.0611]],\n",
      "\n",
      "         [[-0.0414, -0.2423],\n",
      "          [-0.1153,  0.0435]],\n",
      "\n",
      "         [[ 0.1330, -0.1805],\n",
      "          [-0.2572, -0.2583]]],\n",
      "\n",
      "\n",
      "        [[[-0.0912,  0.0342],\n",
      "          [-0.2425,  0.1726]],\n",
      "\n",
      "         [[ 0.1277, -0.1058],\n",
      "          [-0.0497,  0.2467]],\n",
      "\n",
      "         [[-0.1761, -0.0160],\n",
      "          [ 0.0642, -0.2743]]]])\n"
     ]
    }
   ],
   "source": [
    "# Create a 2D convolutional layer with a 2x2 kernel\n",
    "conv_layer = nn.Conv2d(in_channels=3, out_channels=3, kernel_size=(2,2), bias=False)\n",
    "\n",
    "# Access the initial values of the kernel weights\n",
    "kernel_weights = conv_layer.weight.data\n",
    "\n",
    "print(kernel_weights)"
   ]
  },
  {
   "cell_type": "code",
   "execution_count": 141,
   "metadata": {},
   "outputs": [
    {
     "name": "stdout",
     "output_type": "stream",
     "text": [
      "tensor([[[1, 1],\n",
      "         [1, 1]],\n",
      "\n",
      "        [[1, 1],\n",
      "         [1, 1]]])\n"
     ]
    },
    {
     "data": {
      "text/plain": [
       "tensor([[[-0.8764]],\n",
       "\n",
       "        [[ 0.6159]],\n",
       "\n",
       "        [[-0.4757]]], grad_fn=<SqueezeBackward1>)"
      ]
     },
     "execution_count": 141,
     "metadata": {},
     "output_type": "execute_result"
    }
   ],
   "source": [
    "c1 = torch.tensor([[[1,1],[1,1]]])\n",
    "c2 = torch.tensor([[[1,1],[1,1]]])\n",
    "x = torch.concat((c1, c2))\n",
    "print(x)\n",
    "\n",
    "conv_layer(x.type(torch.float))"
   ]
  },
  {
   "cell_type": "code",
   "execution_count": 140,
   "metadata": {},
   "outputs": [
    {
     "name": "stdout",
     "output_type": "stream",
     "text": [
      "[[[ 0.2033 -0.158 ]\n",
      "  [-0.1814  0.055 ]]\n",
      "\n",
      " [[-0.2848  0.1708]\n",
      "  [-0.2199 -0.0607]]] (2, 2, 2)\n",
      "(3, 2, 2, 2)\n"
     ]
    },
    {
     "ename": "ValueError",
     "evalue": "non-broadcastable output operand with shape (1,1) doesn't match the broadcast shape (2,2,2)",
     "output_type": "error",
     "traceback": [
      "\u001b[0;31m---------------------------------------------------------------------------\u001b[0m",
      "\u001b[0;31mValueError\u001b[0m                                Traceback (most recent call last)",
      "\u001b[1;32m/Users/dav/dev/doml/ai-notebooks/d2l/7.3_multiple_inputs_outputs.ipynb Cell 6\u001b[0m line \u001b[0;36m6\n\u001b[1;32m     <a href='vscode-notebook-cell:/Users/dav/dev/doml/ai-notebooks/d2l/7.3_multiple_inputs_outputs.ipynb#W6sZmlsZQ%3D%3D?line=61'>62</a>\u001b[0m     \u001b[39mreturn\u001b[39;00m output\n\u001b[1;32m     <a href='vscode-notebook-cell:/Users/dav/dev/doml/ai-notebooks/d2l/7.3_multiple_inputs_outputs.ipynb#W6sZmlsZQ%3D%3D?line=63'>64</a>\u001b[0m \u001b[39m# Calculate the output for each output channel\u001b[39;00m\n\u001b[0;32m---> <a href='vscode-notebook-cell:/Users/dav/dev/doml/ai-notebooks/d2l/7.3_multiple_inputs_outputs.ipynb#W6sZmlsZQ%3D%3D?line=64'>65</a>\u001b[0m output_channel1 \u001b[39m=\u001b[39m calculate_output_channel(input_tensor, weights[\u001b[39m0\u001b[39;49m])\n\u001b[1;32m     <a href='vscode-notebook-cell:/Users/dav/dev/doml/ai-notebooks/d2l/7.3_multiple_inputs_outputs.ipynb#W6sZmlsZQ%3D%3D?line=65'>66</a>\u001b[0m output_channel2 \u001b[39m=\u001b[39m calculate_output_channel(input_tensor, weights[\u001b[39m1\u001b[39m])\n\u001b[1;32m     <a href='vscode-notebook-cell:/Users/dav/dev/doml/ai-notebooks/d2l/7.3_multiple_inputs_outputs.ipynb#W6sZmlsZQ%3D%3D?line=66'>67</a>\u001b[0m output_channel3 \u001b[39m=\u001b[39m calculate_output_channel(input_tensor, weights[\u001b[39m2\u001b[39m])\n",
      "\u001b[1;32m/Users/dav/dev/doml/ai-notebooks/d2l/7.3_multiple_inputs_outputs.ipynb Cell 6\u001b[0m line \u001b[0;36m6\n\u001b[1;32m     <a href='vscode-notebook-cell:/Users/dav/dev/doml/ai-notebooks/d2l/7.3_multiple_inputs_outputs.ipynb#W6sZmlsZQ%3D%3D?line=58'>59</a>\u001b[0m \u001b[39mfor\u001b[39;00m i \u001b[39min\u001b[39;00m \u001b[39mrange\u001b[39m(weights\u001b[39m.\u001b[39mshape[\u001b[39m1\u001b[39m]): \u001b[39m# 2\u001b[39;00m\n\u001b[1;32m     <a href='vscode-notebook-cell:/Users/dav/dev/doml/ai-notebooks/d2l/7.3_multiple_inputs_outputs.ipynb#W6sZmlsZQ%3D%3D?line=59'>60</a>\u001b[0m     \u001b[39mfor\u001b[39;00m j \u001b[39min\u001b[39;00m \u001b[39mrange\u001b[39m(weights\u001b[39m.\u001b[39mshape[\u001b[39m2\u001b[39m]): \u001b[39m# 2\u001b[39;00m\n\u001b[0;32m---> <a href='vscode-notebook-cell:/Users/dav/dev/doml/ai-notebooks/d2l/7.3_multiple_inputs_outputs.ipynb#W6sZmlsZQ%3D%3D?line=60'>61</a>\u001b[0m         output \u001b[39m+\u001b[39;49m\u001b[39m=\u001b[39;49m input_tensor[i:i\u001b[39m+\u001b[39;49m\u001b[39m2\u001b[39;49m, j:j\u001b[39m+\u001b[39;49m\u001b[39m2\u001b[39;49m] \u001b[39m*\u001b[39;49m weights[\u001b[39m0\u001b[39;49m, i, j]\n\u001b[1;32m     <a href='vscode-notebook-cell:/Users/dav/dev/doml/ai-notebooks/d2l/7.3_multiple_inputs_outputs.ipynb#W6sZmlsZQ%3D%3D?line=61'>62</a>\u001b[0m \u001b[39mreturn\u001b[39;00m output\n",
      "\u001b[0;31mValueError\u001b[0m: non-broadcastable output operand with shape (1,1) doesn't match the broadcast shape (2,2,2)"
     ]
    }
   ],
   "source": [
    "import numpy as np\n",
    "\n",
    "# Provided weights as a NumPy array\n",
    "weights = np.array(\n",
    "    [\n",
    "        [\n",
    "            [\n",
    "                [-0.1148, -0.2670],\n",
    "                [-0.2279, -0.2192]\n",
    "            ],\n",
    "            [\n",
    "                [0.0874, -0.0510],\n",
    "                [-0.2232, 0.1391]\n",
    "            ]\n",
    "        ],\n",
    "        [\n",
    "            [\n",
    "                [0.3019, -0.1097],\n",
    "                [0.2187, 0.0668]\n",
    "            ],\n",
    "            [\n",
    "                [0.3392, -0.1770],\n",
    "                [-0.1581, 0.1339]\n",
    "            ]\n",
    "        ],\n",
    "        [\n",
    "            [\n",
    "                [0.2033, -0.1580],\n",
    "                [-0.1814, 0.0550]\n",
    "            ],\n",
    "            [\n",
    "                [-0.2848, 0.1708],\n",
    "                [-0.2199, -0.0607]\n",
    "            ]\n",
    "        ]\n",
    "    ]\n",
    ")\n",
    "print(weights[2], weights[2].shape)\n",
    "print(weights.shape)\n",
    "\n",
    "# Define an example input tensor\n",
    "input_tensor = np.array(\n",
    "    [\n",
    "        [\n",
    "            [1, 1],\n",
    "            [1, 1]\n",
    "        ],\n",
    "        [\n",
    "            [1, 1],\n",
    "            [1, 1]\n",
    "        ]\n",
    "    ]\n",
    ")\n",
    "\n",
    "# Function to calculate the output for one output channel\n",
    "def calculate_output_channel(input_tensor, weights):\n",
    "    output = np.zeros((input_tensor.shape[0] - 1, input_tensor.shape[1] - 1))\n",
    "    # weights shape (3,2,2,2)\n",
    "    for i in range(weights.shape[1]): # 2\n",
    "        for j in range(weights.shape[2]): # 2\n",
    "            output += input_tensor[i:i+2, j:j+2] * weights[0, i, j]\n",
    "    return output\n",
    "\n",
    "# Calculate the output for each output channel\n",
    "output_channel1 = calculate_output_channel(input_tensor, weights[0])\n",
    "output_channel2 = calculate_output_channel(input_tensor, weights[1])\n",
    "output_channel3 = calculate_output_channel(input_tensor, weights[2])\n",
    "\n",
    "# Print the results\n",
    "print(\"Output Channel 1:\")\n",
    "print(output_channel1)\n",
    "print(\"\\nOutput Channel 2:\")\n",
    "print(output_channel2)\n",
    "print(\"\\nOutput Channel 3:\")\n",
    "print(output_channel3)\n"
   ]
  }
 ],
 "metadata": {
  "kernelspec": {
   "display_name": "mlenv",
   "language": "python",
   "name": "python3"
  },
  "language_info": {
   "codemirror_mode": {
    "name": "ipython",
    "version": 3
   },
   "file_extension": ".py",
   "mimetype": "text/x-python",
   "name": "python",
   "nbconvert_exporter": "python",
   "pygments_lexer": "ipython3",
   "version": "3.11.5"
  }
 },
 "nbformat": 4,
 "nbformat_minor": 2
}
