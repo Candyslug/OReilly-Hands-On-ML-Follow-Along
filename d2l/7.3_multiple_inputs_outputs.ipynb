{
 "cells": [
  {
   "cell_type": "code",
   "execution_count": 1,
   "metadata": {},
   "outputs": [],
   "source": [
    "import torch\n",
    "import torch.nn as nn"
   ]
  },
  {
   "cell_type": "code",
   "execution_count": 2,
   "metadata": {},
   "outputs": [
    {
     "data": {
      "text/plain": [
       "tensor(37)"
      ]
     },
     "execution_count": 2,
     "metadata": {},
     "output_type": "execute_result"
    }
   ],
   "source": [
    "(torch.tensor([1,2,4,5]) * torch.tensor([1,2,3,4])).sum()"
   ]
  },
  {
   "cell_type": "code",
   "execution_count": 3,
   "metadata": {},
   "outputs": [
    {
     "data": {
      "text/plain": [
       "tensor(19)"
      ]
     },
     "execution_count": 3,
     "metadata": {},
     "output_type": "execute_result"
    }
   ],
   "source": [
    "(torch.tensor([0,1,3,4]) * torch.tensor([0,1,2,3])).sum()"
   ]
  },
  {
   "cell_type": "code",
   "execution_count": 149,
   "metadata": {},
   "outputs": [
    {
     "name": "stdout",
     "output_type": "stream",
     "text": [
      "tensor([[[[-0.0753,  0.0990],\n",
      "          [ 0.0900, -0.1622]],\n",
      "\n",
      "         [[ 0.0770, -0.2020],\n",
      "          [ 0.0593, -0.2863]],\n",
      "\n",
      "         [[ 0.1126, -0.1835],\n",
      "          [ 0.1405,  0.2883]]],\n",
      "\n",
      "\n",
      "        [[[-0.0521,  0.2090],\n",
      "          [ 0.2072,  0.0451]],\n",
      "\n",
      "         [[ 0.1263,  0.2847],\n",
      "          [ 0.1379,  0.0883]],\n",
      "\n",
      "         [[-0.0203, -0.2250],\n",
      "          [ 0.0394,  0.1093]]],\n",
      "\n",
      "\n",
      "        [[[ 0.1684, -0.1288],\n",
      "          [ 0.0646, -0.2780]],\n",
      "\n",
      "         [[-0.1661, -0.1632],\n",
      "          [ 0.2182, -0.0087]],\n",
      "\n",
      "         [[ 0.1561, -0.0320],\n",
      "          [-0.0235, -0.2177]]],\n",
      "\n",
      "\n",
      "        [[[ 0.2691, -0.2126],\n",
      "          [-0.0521,  0.2184]],\n",
      "\n",
      "         [[ 0.0986,  0.0449],\n",
      "          [-0.2074, -0.2554]],\n",
      "\n",
      "         [[ 0.0555,  0.2657],\n",
      "          [ 0.2691,  0.2859]]]])\n"
     ]
    }
   ],
   "source": [
    "# Create a 2D convolutional layer with a 2x2 kernel\n",
    "conv_layer = nn.Conv2d(in_channels=3, out_channels=4, kernel_size=(2,2), bias=False)\n",
    "\n",
    "# Access the initial values of the kernel weights\n",
    "kernel_weights = conv_layer.weight.data\n",
    "\n",
    "print(kernel_weights)"
   ]
  },
  {
   "cell_type": "code",
   "execution_count": 152,
   "metadata": {},
   "outputs": [
    {
     "data": {
      "text/plain": [
       "-0.042599999999999916"
      ]
     },
     "execution_count": 152,
     "metadata": {},
     "output_type": "execute_result"
    }
   ],
   "source": [
    "np.sum(np.array([[[-0.0753,  0.0990],\n",
    "          [ 0.0900, -0.1622]],\n",
    "\n",
    "         [[ 0.0770, -0.2020],\n",
    "          [ 0.0593, -0.2863]],\n",
    "\n",
    "         [[ 0.1126, -0.1835],\n",
    "          [ 0.1405,  0.2883]]]))"
   ]
  },
  {
   "cell_type": "code",
   "execution_count": 150,
   "metadata": {},
   "outputs": [
    {
     "name": "stdout",
     "output_type": "stream",
     "text": [
      "tensor([[[1, 1],\n",
      "         [1, 1]],\n",
      "\n",
      "        [[1, 1],\n",
      "         [1, 1]]])\n"
     ]
    },
    {
     "ename": "RuntimeError",
     "evalue": "Given groups=1, weight of size [4, 3, 2, 2], expected input[1, 2, 2, 2] to have 3 channels, but got 2 channels instead",
     "output_type": "error",
     "traceback": [
      "\u001b[0;31m---------------------------------------------------------------------------\u001b[0m",
      "\u001b[0;31mRuntimeError\u001b[0m                              Traceback (most recent call last)",
      "\u001b[1;32m/Users/dav/dev/doml/ai-notebooks/d2l/7.3_multiple_inputs_outputs.ipynb Cell 5\u001b[0m line \u001b[0;36m6\n\u001b[1;32m      <a href='vscode-notebook-cell:/Users/dav/dev/doml/ai-notebooks/d2l/7.3_multiple_inputs_outputs.ipynb#W4sZmlsZQ%3D%3D?line=2'>3</a>\u001b[0m x \u001b[39m=\u001b[39m torch\u001b[39m.\u001b[39mconcat((c1, c2))\n\u001b[1;32m      <a href='vscode-notebook-cell:/Users/dav/dev/doml/ai-notebooks/d2l/7.3_multiple_inputs_outputs.ipynb#W4sZmlsZQ%3D%3D?line=3'>4</a>\u001b[0m \u001b[39mprint\u001b[39m(x)\n\u001b[0;32m----> <a href='vscode-notebook-cell:/Users/dav/dev/doml/ai-notebooks/d2l/7.3_multiple_inputs_outputs.ipynb#W4sZmlsZQ%3D%3D?line=5'>6</a>\u001b[0m conv_layer(x\u001b[39m.\u001b[39;49mtype(torch\u001b[39m.\u001b[39;49mfloat))\n",
      "File \u001b[0;32m~/dev/doml/mlenv/lib/python3.11/site-packages/torch/nn/modules/module.py:1501\u001b[0m, in \u001b[0;36mModule._call_impl\u001b[0;34m(self, *args, **kwargs)\u001b[0m\n\u001b[1;32m   1496\u001b[0m \u001b[39m# If we don't have any hooks, we want to skip the rest of the logic in\u001b[39;00m\n\u001b[1;32m   1497\u001b[0m \u001b[39m# this function, and just call forward.\u001b[39;00m\n\u001b[1;32m   1498\u001b[0m \u001b[39mif\u001b[39;00m \u001b[39mnot\u001b[39;00m (\u001b[39mself\u001b[39m\u001b[39m.\u001b[39m_backward_hooks \u001b[39mor\u001b[39;00m \u001b[39mself\u001b[39m\u001b[39m.\u001b[39m_backward_pre_hooks \u001b[39mor\u001b[39;00m \u001b[39mself\u001b[39m\u001b[39m.\u001b[39m_forward_hooks \u001b[39mor\u001b[39;00m \u001b[39mself\u001b[39m\u001b[39m.\u001b[39m_forward_pre_hooks\n\u001b[1;32m   1499\u001b[0m         \u001b[39mor\u001b[39;00m _global_backward_pre_hooks \u001b[39mor\u001b[39;00m _global_backward_hooks\n\u001b[1;32m   1500\u001b[0m         \u001b[39mor\u001b[39;00m _global_forward_hooks \u001b[39mor\u001b[39;00m _global_forward_pre_hooks):\n\u001b[0;32m-> 1501\u001b[0m     \u001b[39mreturn\u001b[39;00m forward_call(\u001b[39m*\u001b[39;49margs, \u001b[39m*\u001b[39;49m\u001b[39m*\u001b[39;49mkwargs)\n\u001b[1;32m   1502\u001b[0m \u001b[39m# Do not call functions when jit is used\u001b[39;00m\n\u001b[1;32m   1503\u001b[0m full_backward_hooks, non_full_backward_hooks \u001b[39m=\u001b[39m [], []\n",
      "File \u001b[0;32m~/dev/doml/mlenv/lib/python3.11/site-packages/torch/nn/modules/conv.py:463\u001b[0m, in \u001b[0;36mConv2d.forward\u001b[0;34m(self, input)\u001b[0m\n\u001b[1;32m    462\u001b[0m \u001b[39mdef\u001b[39;00m \u001b[39mforward\u001b[39m(\u001b[39mself\u001b[39m, \u001b[39minput\u001b[39m: Tensor) \u001b[39m-\u001b[39m\u001b[39m>\u001b[39m Tensor:\n\u001b[0;32m--> 463\u001b[0m     \u001b[39mreturn\u001b[39;00m \u001b[39mself\u001b[39;49m\u001b[39m.\u001b[39;49m_conv_forward(\u001b[39minput\u001b[39;49m, \u001b[39mself\u001b[39;49m\u001b[39m.\u001b[39;49mweight, \u001b[39mself\u001b[39;49m\u001b[39m.\u001b[39;49mbias)\n",
      "File \u001b[0;32m~/dev/doml/mlenv/lib/python3.11/site-packages/torch/nn/modules/conv.py:459\u001b[0m, in \u001b[0;36mConv2d._conv_forward\u001b[0;34m(self, input, weight, bias)\u001b[0m\n\u001b[1;32m    455\u001b[0m \u001b[39mif\u001b[39;00m \u001b[39mself\u001b[39m\u001b[39m.\u001b[39mpadding_mode \u001b[39m!=\u001b[39m \u001b[39m'\u001b[39m\u001b[39mzeros\u001b[39m\u001b[39m'\u001b[39m:\n\u001b[1;32m    456\u001b[0m     \u001b[39mreturn\u001b[39;00m F\u001b[39m.\u001b[39mconv2d(F\u001b[39m.\u001b[39mpad(\u001b[39minput\u001b[39m, \u001b[39mself\u001b[39m\u001b[39m.\u001b[39m_reversed_padding_repeated_twice, mode\u001b[39m=\u001b[39m\u001b[39mself\u001b[39m\u001b[39m.\u001b[39mpadding_mode),\n\u001b[1;32m    457\u001b[0m                     weight, bias, \u001b[39mself\u001b[39m\u001b[39m.\u001b[39mstride,\n\u001b[1;32m    458\u001b[0m                     _pair(\u001b[39m0\u001b[39m), \u001b[39mself\u001b[39m\u001b[39m.\u001b[39mdilation, \u001b[39mself\u001b[39m\u001b[39m.\u001b[39mgroups)\n\u001b[0;32m--> 459\u001b[0m \u001b[39mreturn\u001b[39;00m F\u001b[39m.\u001b[39;49mconv2d(\u001b[39minput\u001b[39;49m, weight, bias, \u001b[39mself\u001b[39;49m\u001b[39m.\u001b[39;49mstride,\n\u001b[1;32m    460\u001b[0m                 \u001b[39mself\u001b[39;49m\u001b[39m.\u001b[39;49mpadding, \u001b[39mself\u001b[39;49m\u001b[39m.\u001b[39;49mdilation, \u001b[39mself\u001b[39;49m\u001b[39m.\u001b[39;49mgroups)\n",
      "\u001b[0;31mRuntimeError\u001b[0m: Given groups=1, weight of size [4, 3, 2, 2], expected input[1, 2, 2, 2] to have 3 channels, but got 2 channels instead"
     ]
    }
   ],
   "source": [
    "c1 = torch.tensor([[[1,1],[1,1]]])\n",
    "c2 = torch.tensor([[[1,1],[1,1]]])\n",
    "x = torch.concat((c1, c2))\n",
    "print(x)\n",
    "\n",
    "conv_layer(x.type(torch.float))"
   ]
  },
  {
   "cell_type": "code",
   "execution_count": 140,
   "metadata": {},
   "outputs": [
    {
     "name": "stdout",
     "output_type": "stream",
     "text": [
      "[[[ 0.2033 -0.158 ]\n",
      "  [-0.1814  0.055 ]]\n",
      "\n",
      " [[-0.2848  0.1708]\n",
      "  [-0.2199 -0.0607]]] (2, 2, 2)\n",
      "(3, 2, 2, 2)\n"
     ]
    },
    {
     "ename": "ValueError",
     "evalue": "non-broadcastable output operand with shape (1,1) doesn't match the broadcast shape (2,2,2)",
     "output_type": "error",
     "traceback": [
      "\u001b[0;31m---------------------------------------------------------------------------\u001b[0m",
      "\u001b[0;31mValueError\u001b[0m                                Traceback (most recent call last)",
      "\u001b[1;32m/Users/dav/dev/doml/ai-notebooks/d2l/7.3_multiple_inputs_outputs.ipynb Cell 6\u001b[0m line \u001b[0;36m6\n\u001b[1;32m     <a href='vscode-notebook-cell:/Users/dav/dev/doml/ai-notebooks/d2l/7.3_multiple_inputs_outputs.ipynb#W6sZmlsZQ%3D%3D?line=61'>62</a>\u001b[0m     \u001b[39mreturn\u001b[39;00m output\n\u001b[1;32m     <a href='vscode-notebook-cell:/Users/dav/dev/doml/ai-notebooks/d2l/7.3_multiple_inputs_outputs.ipynb#W6sZmlsZQ%3D%3D?line=63'>64</a>\u001b[0m \u001b[39m# Calculate the output for each output channel\u001b[39;00m\n\u001b[0;32m---> <a href='vscode-notebook-cell:/Users/dav/dev/doml/ai-notebooks/d2l/7.3_multiple_inputs_outputs.ipynb#W6sZmlsZQ%3D%3D?line=64'>65</a>\u001b[0m output_channel1 \u001b[39m=\u001b[39m calculate_output_channel(input_tensor, weights[\u001b[39m0\u001b[39;49m])\n\u001b[1;32m     <a href='vscode-notebook-cell:/Users/dav/dev/doml/ai-notebooks/d2l/7.3_multiple_inputs_outputs.ipynb#W6sZmlsZQ%3D%3D?line=65'>66</a>\u001b[0m output_channel2 \u001b[39m=\u001b[39m calculate_output_channel(input_tensor, weights[\u001b[39m1\u001b[39m])\n\u001b[1;32m     <a href='vscode-notebook-cell:/Users/dav/dev/doml/ai-notebooks/d2l/7.3_multiple_inputs_outputs.ipynb#W6sZmlsZQ%3D%3D?line=66'>67</a>\u001b[0m output_channel3 \u001b[39m=\u001b[39m calculate_output_channel(input_tensor, weights[\u001b[39m2\u001b[39m])\n",
      "\u001b[1;32m/Users/dav/dev/doml/ai-notebooks/d2l/7.3_multiple_inputs_outputs.ipynb Cell 6\u001b[0m line \u001b[0;36m6\n\u001b[1;32m     <a href='vscode-notebook-cell:/Users/dav/dev/doml/ai-notebooks/d2l/7.3_multiple_inputs_outputs.ipynb#W6sZmlsZQ%3D%3D?line=58'>59</a>\u001b[0m \u001b[39mfor\u001b[39;00m i \u001b[39min\u001b[39;00m \u001b[39mrange\u001b[39m(weights\u001b[39m.\u001b[39mshape[\u001b[39m1\u001b[39m]): \u001b[39m# 2\u001b[39;00m\n\u001b[1;32m     <a href='vscode-notebook-cell:/Users/dav/dev/doml/ai-notebooks/d2l/7.3_multiple_inputs_outputs.ipynb#W6sZmlsZQ%3D%3D?line=59'>60</a>\u001b[0m     \u001b[39mfor\u001b[39;00m j \u001b[39min\u001b[39;00m \u001b[39mrange\u001b[39m(weights\u001b[39m.\u001b[39mshape[\u001b[39m2\u001b[39m]): \u001b[39m# 2\u001b[39;00m\n\u001b[0;32m---> <a href='vscode-notebook-cell:/Users/dav/dev/doml/ai-notebooks/d2l/7.3_multiple_inputs_outputs.ipynb#W6sZmlsZQ%3D%3D?line=60'>61</a>\u001b[0m         output \u001b[39m+\u001b[39;49m\u001b[39m=\u001b[39;49m input_tensor[i:i\u001b[39m+\u001b[39;49m\u001b[39m2\u001b[39;49m, j:j\u001b[39m+\u001b[39;49m\u001b[39m2\u001b[39;49m] \u001b[39m*\u001b[39;49m weights[\u001b[39m0\u001b[39;49m, i, j]\n\u001b[1;32m     <a href='vscode-notebook-cell:/Users/dav/dev/doml/ai-notebooks/d2l/7.3_multiple_inputs_outputs.ipynb#W6sZmlsZQ%3D%3D?line=61'>62</a>\u001b[0m \u001b[39mreturn\u001b[39;00m output\n",
      "\u001b[0;31mValueError\u001b[0m: non-broadcastable output operand with shape (1,1) doesn't match the broadcast shape (2,2,2)"
     ]
    }
   ],
   "source": [
    "import numpy as np\n",
    "\n",
    "# Provided weights as a NumPy array\n",
    "weights = np.array(\n",
    "    [\n",
    "        [\n",
    "            [\n",
    "                [-0.1148, -0.2670],\n",
    "                [-0.2279, -0.2192]\n",
    "            ],\n",
    "            [\n",
    "                [0.0874, -0.0510],\n",
    "                [-0.2232, 0.1391]\n",
    "            ]\n",
    "        ],\n",
    "        [\n",
    "            [\n",
    "                [0.3019, -0.1097],\n",
    "                [0.2187, 0.0668]\n",
    "            ],\n",
    "            [\n",
    "                [0.3392, -0.1770],\n",
    "                [-0.1581, 0.1339]\n",
    "            ]\n",
    "        ],\n",
    "        [\n",
    "            [\n",
    "                [0.2033, -0.1580],\n",
    "                [-0.1814, 0.0550]\n",
    "            ],\n",
    "            [\n",
    "                [-0.2848, 0.1708],\n",
    "                [-0.2199, -0.0607]\n",
    "            ]\n",
    "        ]\n",
    "    ]\n",
    ")\n",
    "print(weights[2], weights[2].shape)\n",
    "print(weights.shape)\n",
    "\n",
    "# Define an example input tensor\n",
    "input_tensor = np.array(\n",
    "    [\n",
    "        [\n",
    "            [1, 1],\n",
    "            [1, 1]\n",
    "        ],\n",
    "        [\n",
    "            [1, 1],\n",
    "            [1, 1]\n",
    "        ]\n",
    "    ]\n",
    ")\n",
    "\n",
    "# Function to calculate the output for one output channel\n",
    "def calculate_output_channel(input_tensor, weights):\n",
    "    output = np.zeros((input_tensor.shape[0] - 1, input_tensor.shape[1] - 1))\n",
    "    # weights shape (3,2,2,2)\n",
    "    for i in range(weights.shape[1]): # 2\n",
    "        for j in range(weights.shape[2]): # 2\n",
    "            output += input_tensor[i:i+2, j:j+2] * weights[0, i, j]\n",
    "    return output\n",
    "\n",
    "# Calculate the output for each output channel\n",
    "output_channel1 = calculate_output_channel(input_tensor, weights[0])\n",
    "output_channel2 = calculate_output_channel(input_tensor, weights[1])\n",
    "output_channel3 = calculate_output_channel(input_tensor, weights[2])\n",
    "\n",
    "# Print the results\n",
    "print(\"Output Channel 1:\")\n",
    "print(output_channel1)\n",
    "print(\"\\nOutput Channel 2:\")\n",
    "print(output_channel2)\n",
    "print(\"\\nOutput Channel 3:\")\n",
    "print(output_channel3)\n"
   ]
  }
 ],
 "metadata": {
  "kernelspec": {
   "display_name": "mlenv",
   "language": "python",
   "name": "python3"
  },
  "language_info": {
   "codemirror_mode": {
    "name": "ipython",
    "version": 3
   },
   "file_extension": ".py",
   "mimetype": "text/x-python",
   "name": "python",
   "nbconvert_exporter": "python",
   "pygments_lexer": "ipython3",
   "version": "3.11.5"
  }
 },
 "nbformat": 4,
 "nbformat_minor": 2
}
