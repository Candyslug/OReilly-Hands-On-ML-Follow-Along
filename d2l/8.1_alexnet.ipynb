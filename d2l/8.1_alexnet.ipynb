{
 "cells": [
  {
   "cell_type": "code",
   "execution_count": 1,
   "metadata": {
    "id": "S9F6H5DYAtCL"
   },
   "outputs": [],
   "source": [
    "import torch\n",
    "import torch.nn as nn\n",
    "import torch.nn.functional as F\n",
    "from torch.utils.data import DataLoader\n",
    "\n",
    "from torchvision.datasets import FashionMNIST\n",
    "from torchvision import transforms\n",
    "\n",
    "from random import randint\n",
    "from tqdm import tqdm\n",
    "\n",
    "import matplotlib.pyplot as plt"
   ]
  },
  {
   "cell_type": "code",
   "execution_count": 41,
   "metadata": {},
   "outputs": [
    {
     "name": "stdout",
     "output_type": "stream",
     "text": [
      "True\n"
     ]
    }
   ],
   "source": [
    "print(torch.backends.mps.is_available())\n",
    "#device = torch.device(\"cpu\")\n",
    "device = torch.device(\"mps\")"
   ]
  },
  {
   "cell_type": "code",
   "execution_count": 3,
   "metadata": {
    "colab": {
     "base_uri": "https://localhost:8080/"
    },
    "id": "Bys63T-CAtCQ",
    "outputId": "73f29bf5-a0e1-4d93-a9fd-bbac63e67122"
   },
   "outputs": [],
   "source": [
    "t = transforms.Compose([\n",
    "    transforms.Resize((224, 224)),\n",
    "    transforms.ToTensor()\n",
    "])\n",
    "dataset_train = FashionMNIST(root=\"../datasets/\", train=True, download=True, transform=t)\n",
    "dataset_test = FashionMNIST(root=\"../datasets/\", train=False, download=True, transform=t)"
   ]
  },
  {
   "cell_type": "code",
   "execution_count": 4,
   "metadata": {
    "id": "pV1UYXtmAtCR"
   },
   "outputs": [],
   "source": [
    "train_dataloader = DataLoader(dataset=dataset_train, batch_size=32, shuffle=True)\n",
    "test_dataloader = DataLoader(dataset=dataset_test, batch_size=10000, shuffle=False)"
   ]
  },
  {
   "cell_type": "code",
   "execution_count": 47,
   "metadata": {
    "id": "VOndJZuaAtCT"
   },
   "outputs": [],
   "source": [
    "class alexnet(nn.Module):\n",
    "    def __init__(self):\n",
    "        super().__init__()\n",
    "        self.layer_stack = nn.Sequential(\n",
    "            nn.Conv2d(in_channels=1, out_channels=8, kernel_size=(11, 11), stride=(4, 4)),\n",
    "            nn.ReLU(),\n",
    "            nn.MaxPool2d(kernel_size=(3,3), stride=(2,2)),\n",
    "            nn.Conv2d(in_channels=8, out_channels=16, kernel_size=(5,5), padding=(2,2)),\n",
    "            nn.ReLU(),\n",
    "            nn.MaxPool2d(kernel_size=(3,3), stride=(2,2)),\n",
    "            nn.Conv2d(in_channels=16, out_channels=32, kernel_size=(3,3), padding=(1,1)),\n",
    "            nn.ReLU(),\n",
    "            nn.Conv2d(in_channels=32, out_channels=16, kernel_size=(3,3),padding=(1,1)),\n",
    "            nn.ReLU(),\n",
    "            nn.Conv2d(in_channels=16, out_channels=16, kernel_size=(3,3), padding=(1,1)),\n",
    "            nn.ReLU(),\n",
    "            nn.MaxPool2d(kernel_size=(3,3), stride=(2,2)),\n",
    "            nn.Flatten(),\n",
    "            nn.Linear(in_features=16*5*5, out_features=32),\n",
    "            nn.ReLU(),\n",
    "            nn.Linear(in_features=32, out_features=16),\n",
    "            nn.ReLU(),\n",
    "            nn.Linear(in_features=16, out_features=10),\n",
    "            nn.LogSoftmax(dim=1)\n",
    "        )\n",
    "    def forward(self, x):\n",
    "        return self.layer_stack(x)"
   ]
  },
  {
   "cell_type": "code",
   "execution_count": 48,
   "metadata": {
    "id": "5TUEf7vvmRb1"
   },
   "outputs": [],
   "source": [
    "device = torch.device(device)\n",
    "model = alexnet().to(device)"
   ]
  },
  {
   "cell_type": "code",
   "execution_count": 65,
   "metadata": {
    "id": "7ezYciqznxdh"
   },
   "outputs": [],
   "source": [
    "N_EPOCHS = 5\n",
    "\n",
    "B_EPOCHS = int(60_000 / 32)\n",
    "\n",
    "optim = torch.optim.SGD(params=model.parameters(), lr=0.001)\n",
    "loss_fn = nn.NLLLoss()\n",
    "#loss_fn = nn.CrossEntropyLoss()\n",
    "def acc_fn(pred, target):\n",
    "  return (pred.argmax(dim=1)==target).sum()"
   ]
  },
  {
   "cell_type": "code",
   "execution_count": null,
   "metadata": {
    "colab": {
     "base_uri": "https://localhost:8080/"
    },
    "id": "aHmwsoNIAtCT",
    "outputId": "17b4fa78-8b5f-4832-91dd-a95bb63ca1b7",
    "tags": []
   },
   "outputs": [
    {
     "name": "stderr",
     "output_type": "stream",
     "text": [
      "  0%|                                          | 0/5 [00:00<?, ?it/s]"
     ]
    },
    {
     "name": "stdout",
     "output_type": "stream",
     "text": [
      "Epoch: 0 --- 0/1875 --- Loss: 0.007599061354994774 --- Acc: 0.875\n",
      "Epoch: 0 --- 150/1875 --- Loss: 0.005976365879178047 --- Acc: 0.90625\n",
      "Epoch: 0 --- 300/1875 --- Loss: 0.02035023272037506 --- Acc: 0.78125\n",
      "Epoch: 0 --- 450/1875 --- Loss: 0.003871622495353222 --- Acc: 0.96875\n",
      "Epoch: 0 --- 600/1875 --- Loss: 0.013894929550588131 --- Acc: 0.875\n",
      "Epoch: 0 --- 750/1875 --- Loss: 0.007672848179936409 --- Acc: 0.875\n",
      "Epoch: 0 --- 900/1875 --- Loss: 0.01035994105041027 --- Acc: 0.90625\n",
      "Epoch: 0 --- 1050/1875 --- Loss: 0.003323981072753668 --- Acc: 0.96875\n",
      "Epoch: 0 --- 1200/1875 --- Loss: 0.0038412148132920265 --- Acc: 0.9375\n",
      "Epoch: 0 --- 1350/1875 --- Loss: 0.0066619208082556725 --- Acc: 0.875\n",
      "Epoch: 0 --- 1500/1875 --- Loss: 0.0019996496848762035 --- Acc: 0.96875\n",
      "Epoch: 0 --- 1650/1875 --- Loss: 0.005175736267119646 --- Acc: 0.9375\n",
      "Epoch: 0 --- 1800/1875 --- Loss: 0.006365925073623657 --- Acc: 0.90625\n"
     ]
    },
    {
     "name": "stderr",
     "output_type": "stream",
     "text": [
      " 20%|██████▊                           | 1/5 [00:26<01:46, 26.55s/it]"
     ]
    },
    {
     "name": "stdout",
     "output_type": "stream",
     "text": [
      "Epoch: 1 --- 0/1875 --- Loss: 0.007127647288143635 --- Acc: 0.90625\n",
      "Epoch: 1 --- 150/1875 --- Loss: 0.0036780997179448605 --- Acc: 1.0\n",
      "Epoch: 1 --- 300/1875 --- Loss: 0.005550486966967583 --- Acc: 0.9375\n",
      "Epoch: 1 --- 450/1875 --- Loss: 0.00908736977726221 --- Acc: 0.90625\n",
      "Epoch: 1 --- 600/1875 --- Loss: 0.0014047094155102968 --- Acc: 1.0\n",
      "Epoch: 1 --- 750/1875 --- Loss: 0.007888847962021828 --- Acc: 0.9375\n",
      "Epoch: 1 --- 900/1875 --- Loss: 0.006937277503311634 --- Acc: 0.90625\n",
      "Epoch: 1 --- 1050/1875 --- Loss: 0.005884057842195034 --- Acc: 0.875\n",
      "Epoch: 1 --- 1200/1875 --- Loss: 0.012004050426185131 --- Acc: 0.90625\n",
      "Epoch: 1 --- 1350/1875 --- Loss: 0.006490971893072128 --- Acc: 0.875\n",
      "Epoch: 1 --- 1500/1875 --- Loss: 0.008171634748578072 --- Acc: 0.90625\n",
      "Epoch: 1 --- 1650/1875 --- Loss: 0.0036201095208525658 --- Acc: 0.96875\n",
      "Epoch: 1 --- 1800/1875 --- Loss: 0.012455828487873077 --- Acc: 0.875\n"
     ]
    },
    {
     "name": "stderr",
     "output_type": "stream",
     "text": [
      " 40%|█████████████▌                    | 2/5 [00:55<01:24, 28.12s/it]"
     ]
    },
    {
     "name": "stdout",
     "output_type": "stream",
     "text": [
      "Epoch: 2 --- 0/1875 --- Loss: 0.00490910978987813 --- Acc: 0.9375\n",
      "Epoch: 2 --- 150/1875 --- Loss: 0.013345292769372463 --- Acc: 0.84375\n",
      "Epoch: 2 --- 300/1875 --- Loss: 0.0028536710888147354 --- Acc: 0.96875\n",
      "Epoch: 2 --- 450/1875 --- Loss: 0.006272486411035061 --- Acc: 0.90625\n",
      "Epoch: 2 --- 600/1875 --- Loss: 0.005992564372718334 --- Acc: 0.90625\n",
      "Epoch: 2 --- 750/1875 --- Loss: 0.005217758007347584 --- Acc: 0.9375\n",
      "Epoch: 2 --- 900/1875 --- Loss: 0.010645868256688118 --- Acc: 0.875\n",
      "Epoch: 2 --- 1050/1875 --- Loss: 0.0025278939865529537 --- Acc: 1.0\n",
      "Epoch: 2 --- 1200/1875 --- Loss: 0.0034259844105690718 --- Acc: 0.96875\n",
      "Epoch: 2 --- 1350/1875 --- Loss: 0.008354660123586655 --- Acc: 0.875\n",
      "Epoch: 2 --- 1500/1875 --- Loss: 0.0071349721401929855 --- Acc: 0.90625\n",
      "Epoch: 2 --- 1650/1875 --- Loss: 0.0029850671999156475 --- Acc: 0.96875\n",
      "Epoch: 2 --- 1800/1875 --- Loss: 0.0020950136240571737 --- Acc: 0.96875\n"
     ]
    },
    {
     "name": "stderr",
     "output_type": "stream",
     "text": [
      " 60%|████████████████████▍             | 3/5 [01:25<00:57, 28.94s/it]"
     ]
    },
    {
     "name": "stdout",
     "output_type": "stream",
     "text": [
      "Epoch: 3 --- 0/1875 --- Loss: 0.006483664736151695 --- Acc: 0.90625\n",
      "Epoch: 3 --- 150/1875 --- Loss: 0.01195040438324213 --- Acc: 0.875\n",
      "Epoch: 3 --- 300/1875 --- Loss: 0.006488850340247154 --- Acc: 0.875\n",
      "Epoch: 3 --- 450/1875 --- Loss: 0.008134160190820694 --- Acc: 0.90625\n",
      "Epoch: 3 --- 600/1875 --- Loss: 0.008091106079518795 --- Acc: 0.9375\n",
      "Epoch: 3 --- 750/1875 --- Loss: 0.004997453652322292 --- Acc: 0.9375\n"
     ]
    }
   ],
   "source": [
    "losses = []\n",
    "accs = []\n",
    "\n",
    "prog_bar = tqdm(range(N_EPOCHS))\n",
    "\n",
    "for e in prog_bar:\n",
    "    for i, (x, y) in enumerate(train_dataloader):\n",
    "        optim.zero_grad()\n",
    "        pred = model(x.to(device))\n",
    "\n",
    "        loss = loss_fn(pred, y.to(device))\n",
    "        losses.append(loss.item()/32)\n",
    "\n",
    "        acc = acc_fn(pred.detach().cpu(), y.detach().cpu())\n",
    "        accs.append(acc.item()/32)\n",
    "\n",
    "        loss.backward()\n",
    "        optim.step()\n",
    "        if i % 150 == 0: \n",
    "            print(f\"Epoch: {e} --- {i}/{B_EPOCHS} --- Loss: {loss.item()/32} --- Acc: {acc.item()/32}\")"
   ]
  },
  {
   "cell_type": "code",
   "execution_count": 66,
   "metadata": {
    "colab": {
     "base_uri": "https://localhost:8080/",
     "height": 448
    },
    "id": "i7NS43bqsBUr",
    "outputId": "cf3e31ef-491a-49f6-fbbf-1dd44e699860"
   },
   "outputs": [
    {
     "data": {
      "text/plain": [
       "[<matplotlib.lines.Line2D at 0x168b66bd0>]"
      ]
     },
     "execution_count": 66,
     "metadata": {},
     "output_type": "execute_result"
    },
    {
     "data": {
      "image/png": "[encoded data removed]",
      "text/plain": [
       "<Figure size 640x480 with 1 Axes>"
      ]
     },
     "metadata": {},
     "output_type": "display_data"
    }
   ],
   "source": [
    "plt.plot(losses)\n",
    "plt.plot(accs)"
   ]
  },
  {
   "cell_type": "code",
   "execution_count": 63,
   "metadata": {
    "colab": {
     "base_uri": "https://localhost:8080/"
    },
    "id": "cmr5IYV5sVT7",
    "outputId": "9ea882e1-a3c3-4fc5-f93f-fd926d2aabb7"
   },
   "outputs": [
    {
     "name": "stdout",
     "output_type": "stream",
     "text": [
      "tensor(8976)\n"
     ]
    }
   ],
   "source": [
    "model.eval()\n",
    "score = 0\n",
    "for x, y in test_dataloader:\n",
    "  score += acc_fn(model(x.to(device)).detach().cpu(), y)\n",
    "print(score)"
   ]
  }
 ],
 "metadata": {
  "accelerator": "GPU",
  "colab": {
   "gpuType": "T4",
   "provenance": []
  },
  "kernelspec": {
   "display_name": "Python 3 (ipykernel)",
   "language": "python",
   "name": "python3"
  },
  "language_info": {
   "codemirror_mode": {
    "name": "ipython",
    "version": 3
   },
   "file_extension": ".py",
   "mimetype": "text/x-python",
   "name": "python",
   "nbconvert_exporter": "python",
   "pygments_lexer": "ipython3",
   "version": "3.11.5"
  }
 },
 "nbformat": 4,
 "nbformat_minor": 4
}
