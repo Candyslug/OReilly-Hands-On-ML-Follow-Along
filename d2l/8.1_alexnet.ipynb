{
 "cells": [
  {
   "cell_type": "code",
   "execution_count": 2,
   "metadata": {},
   "outputs": [],
   "source": [
    "import torch\n",
    "import torch.nn as nn\n",
    "\n",
    "device = torch.device('cuda')"
   ]
  },
  {
   "cell_type": "code",
   "execution_count": 3,
   "metadata": {},
   "outputs": [],
   "source": [
    "from tqdm import tqdm"
   ]
  },
  {
   "cell_type": "code",
   "execution_count": 4,
   "metadata": {},
   "outputs": [],
   "source": [
    "from torchvision.datasets import FashionMNIST\n",
    "from torchvision import transforms"
   ]
  },
  {
   "cell_type": "code",
   "execution_count": 5,
   "metadata": {},
   "outputs": [],
   "source": [
    "from random import randint"
   ]
  },
  {
   "cell_type": "code",
   "execution_count": 6,
   "metadata": {},
   "outputs": [],
   "source": [
    "import matplotlib.pyplot as plt"
   ]
  },
  {
   "cell_type": "code",
   "execution_count": 7,
   "metadata": {},
   "outputs": [],
   "source": [
    "t = transforms.Compose([\n",
    "    transforms.Resize((224, 224)),\n",
    "    transforms.ToTensor()\n",
    "])\n",
    "dataset_train = FashionMNIST(root=\"../datasets/\", train=True, download=False)\n",
    "dataset_test = FashionMNIST(root=\"../datasets/\", train=False, download=False)"
   ]
  },
  {
   "cell_type": "code",
   "execution_count": 8,
   "metadata": {},
   "outputs": [],
   "source": [
    "import torch.nn.functional as F"
   ]
  },
  {
   "cell_type": "code",
   "execution_count": 9,
   "metadata": {},
   "outputs": [
    {
     "data": {
      "text/plain": [
       "torch.Size([10000, 1, 224, 224])"
      ]
     },
     "execution_count": 9,
     "metadata": {},
     "output_type": "execute_result"
    }
   ],
   "source": [
    "X_train = dataset_train.data.type(torch.float)\n",
    "Y_train = dataset_train.targets\n",
    "\n",
    "X_test = dataset_test.data.type(torch.float)\n",
    "Y_test = dataset_test.targets\n",
    "\n",
    "X_train = F.interpolate(X_train.unsqueeze(dim=1), size=(224,224))\n",
    "X_test = F.interpolate(X_test.unsqueeze(dim=1), size=(224,224))\n",
    "\n",
    "X_train.shape\n",
    "X_test.shape"
   ]
  },
  {
   "cell_type": "code",
   "execution_count": 29,
   "metadata": {},
   "outputs": [
    {
     "data": {
      "text/plain": [
       "['T-shirt/top',\n",
       " 'Trouser',\n",
       " 'Pullover',\n",
       " 'Dress',\n",
       " 'Coat',\n",
       " 'Sandal',\n",
       " 'Shirt',\n",
       " 'Sneaker',\n",
       " 'Bag',\n",
       " 'Ankle boot']"
      ]
     },
     "execution_count": 29,
     "metadata": {},
     "output_type": "execute_result"
    }
   ],
   "source": [
    "dataset_train.classes"
   ]
  },
  {
   "cell_type": "code",
   "execution_count": 10,
   "metadata": {},
   "outputs": [
    {
     "name": "stdout",
     "output_type": "stream",
     "text": [
      "torch.Size([1, 224, 224])\n",
      "tensor(9)\n"
     ]
    },
    {
     "data": {
      "text/plain": [
       "<matplotlib.image.AxesImage at 0x7f1ee80ff910>"
      ]
     },
     "execution_count": 10,
     "metadata": {},
     "output_type": "execute_result"
    },
    {
     "data": {
      "image/png": "[encoded data removed]",
      "text/plain": [
       "<Figure size 640x480 with 1 Axes>"
      ]
     },
     "metadata": {},
     "output_type": "display_data"
    }
   ],
   "source": [
    "sx, sy = X_train[0], Y_train[0]\n",
    "print(sx.shape)\n",
    "print(sy)\n",
    "plt.imshow(sx.squeeze())"
   ]
  },
  {
   "cell_type": "code",
   "execution_count": 36,
   "metadata": {},
   "outputs": [],
   "source": [
    "class alexnet(nn.Module):\n",
    "    def __init__(self):\n",
    "        super().__init__()\n",
    "        self.layer_stack = nn.Sequential(\n",
    "            nn.Conv2d(in_channels=1, out_channels=8, kernel_size=(11, 11), stride=(4, 4)),\n",
    "            nn.ReLU(),\n",
    "            nn.MaxPool2d(kernel_size=(3,3), stride=(2,2)),\n",
    "            nn.Conv2d(in_channels=8, out_channels=16, kernel_size=(5,5), padding=(2,2)),\n",
    "            nn.ReLU(),\n",
    "            nn.MaxPool2d(kernel_size=(3,3), stride=(2,2)),\n",
    "            nn.Conv2d(in_channels=16, out_channels=24, kernel_size=(3,3), padding=(1,1)),\n",
    "            nn.ReLU(),\n",
    "            nn.Conv2d(in_channels=24, out_channels=32, kernel_size=(3,3),padding=(1,1)),\n",
    "            nn.ReLU(),\n",
    "            nn.Conv2d(in_channels=32, out_channels=24, kernel_size=(3,3), padding=(1,1)),\n",
    "            nn.ReLU(),\n",
    "            nn.MaxPool2d(kernel_size=(3,3), stride=(2,2)), \n",
    "            nn.Flatten(),\n",
    "            nn.Linear(in_features=24*5*5, out_features=32),\n",
    "            nn.ReLU(),\n",
    "            nn.Linear(in_features=32, out_features=16),\n",
    "            nn.ReLU(),\n",
    "            nn.Linear(in_features=16, out_features=10),\n",
    "            nn.LogSoftmax(dim=1)\n",
    "        )\n",
    "    def forward(self, x):\n",
    "        return self.layer_stack(x)"
   ]
  },
  {
   "cell_type": "code",
   "execution_count": 39,
   "metadata": {},
   "outputs": [
    {
     "data": {
      "text/plain": [
       "torch.Size([1, 10])"
      ]
     },
     "execution_count": 39,
     "metadata": {},
     "output_type": "execute_result"
    }
   ],
   "source": [
    "x = torch.concat([torch.randn(224,224)]).reshape(1, 1, 224, 224)\n",
    "x.shape\n",
    "model = alexnet()\n",
    "model(x).shape"
   ]
  },
  {
   "cell_type": "code",
   "execution_count": 40,
   "metadata": {},
   "outputs": [],
   "source": [
    "model = alexnet()\n",
    "model = model.to(device)\n",
    "def acc_fn(pred, target):\n",
    "    return (pred.argmax(dim=1)==target).sum()"
   ]
  },
  {
   "cell_type": "code",
   "execution_count": 55,
   "metadata": {},
   "outputs": [
    {
     "name": "stderr",
     "output_type": "stream",
     "text": [
      "  0%|                                                                                                                 | 0/5 [00:00<?, ?it/s]"
     ]
    },
    {
     "name": "stdout",
     "output_type": "stream",
     "text": [
      "batch: 0 acc: 0.8828125 loss: 0.001957356696948409\n",
      "batch: 300 acc: 0.8515625 loss: 0.002932121278718114\n"
     ]
    },
    {
     "name": "stderr",
     "output_type": "stream",
     "text": [
      " 20%|█████████████████████                                                                                    | 1/5 [00:03<00:13,  3.45s/it]"
     ]
    },
    {
     "name": "stdout",
     "output_type": "stream",
     "text": [
      "batch: 0 acc: 0.875 loss: 0.0027348336298018694\n",
      "batch: 300 acc: 0.90625 loss: 0.0018437858670949936\n"
     ]
    },
    {
     "name": "stderr",
     "output_type": "stream",
     "text": [
      " 40%|██████████████████████████████████████████                                                               | 2/5 [00:06<00:10,  3.44s/it]"
     ]
    },
    {
     "name": "stdout",
     "output_type": "stream",
     "text": [
      "batch: 0 acc: 0.859375 loss: 0.0027161044999957085\n",
      "batch: 300 acc: 0.8984375 loss: 0.0023981567937880754\n"
     ]
    },
    {
     "name": "stderr",
     "output_type": "stream",
     "text": [
      " 60%|███████████████████████████████████████████████████████████████                                          | 3/5 [00:10<00:06,  3.43s/it]"
     ]
    },
    {
     "name": "stdout",
     "output_type": "stream",
     "text": [
      "batch: 0 acc: 0.859375 loss: 0.0033003499265760183\n",
      "batch: 300 acc: 0.8984375 loss: 0.002370491623878479\n"
     ]
    },
    {
     "name": "stderr",
     "output_type": "stream",
     "text": [
      " 80%|████████████████████████████████████████████████████████████████████████████████████                     | 4/5 [00:13<00:03,  3.43s/it]"
     ]
    },
    {
     "name": "stdout",
     "output_type": "stream",
     "text": [
      "batch: 0 acc: 0.859375 loss: 0.002789335558190942\n",
      "batch: 300 acc: 0.8828125 loss: 0.002701961202546954\n"
     ]
    },
    {
     "name": "stderr",
     "output_type": "stream",
     "text": [
      "100%|█████████████████████████████████████████████████████████████████████████████████████████████████████████| 5/5 [00:17<00:00,  3.43s/it]\n"
     ]
    }
   ],
   "source": [
    "model.train()\n",
    "\n",
    "BS = 128\n",
    "\n",
    "N_EPOCHS = 5\n",
    "\n",
    "B_EPOCHS = int(60_000 / BS)\n",
    "\n",
    "optim = torch.optim.SGD(params=model.parameters(), lr=0.001)\n",
    "\n",
    "loss_fn = nn.NLLLoss()\n",
    "\n",
    "losses = []\n",
    "accs = []\n",
    "\n",
    "for _ in tqdm(range(N_EPOCHS)):\n",
    "    for b in range(B_EPOCHS):\n",
    "        optim.zero_grad()\n",
    "        i = randint(0, 60_000-BS)\n",
    "        pred = model(X_train[i:i+BS].to(device))\n",
    "        targets = Y_train[i:i+BS].to(device)\n",
    "        acc = acc_fn(pred, targets).item()/BS\n",
    "        loss = loss_fn(pred, targets)\n",
    "        losses.append(loss.item()/BS)\n",
    "        loss.backward()\n",
    "        optim.step()\n",
    "        if b % 300 == 0: \n",
    "            print(\"batch:\", b, \"acc:\", acc, \"loss:\", loss.item()/BS)"
   ]
  },
  {
   "cell_type": "code",
   "execution_count": 46,
   "metadata": {},
   "outputs": [
    {
     "data": {
      "text/plain": [
       "[<matplotlib.lines.Line2D at 0x7f1ed0f73370>]"
      ]
     },
     "execution_count": 46,
     "metadata": {},
     "output_type": "execute_result"
    },
    {
     "data": {
      "image/png": "[encoded data removed]",
      "text/plain": [
       "<Figure size 640x480 with 1 Axes>"
      ]
     },
     "metadata": {},
     "output_type": "display_data"
    }
   ],
   "source": [
    "plt.plot(losses)"
   ]
  },
  {
   "cell_type": "code",
   "execution_count": 58,
   "metadata": {},
   "outputs": [],
   "source": [
    "model.eval()\n",
    "score = 0\n",
    "BS = 32\n",
    "for i in range(0, 10_000-BS, BS):\n",
    "    model(X_test[i:i+BS].to(device))\n",
    "    score += acc_fn(model(X_test[i:i+BS].to(device)), Y_test[i:i+BS].to(device))"
   ]
  },
  {
   "cell_type": "code",
   "execution_count": 59,
   "metadata": {},
   "outputs": [
    {
     "name": "stdout",
     "output_type": "stream",
     "text": [
      "tensor(0.8697, device='cuda:0')\n"
     ]
    }
   ],
   "source": [
    "print(score / len(Y_test))"
   ]
  },
  {
   "cell_type": "code",
   "execution_count": null,
   "metadata": {},
   "outputs": [],
   "source": []
  }
 ],
 "metadata": {
  "kernelspec": {
   "display_name": "Python 3 (ipykernel)",
   "language": "python",
   "name": "python3"
  },
  "language_info": {
   "codemirror_mode": {
    "name": "ipython",
    "version": 3
   },
   "file_extension": ".py",
   "mimetype": "text/x-python",
   "name": "python",
   "nbconvert_exporter": "python",
   "pygments_lexer": "ipython3",
   "version": "3.10.12"
  }
 },
 "nbformat": 4,
 "nbformat_minor": 4
}
