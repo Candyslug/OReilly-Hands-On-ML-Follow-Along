{
 "cells": [
  {
   "cell_type": "code",
   "execution_count": 1,
   "metadata": {
    "id": "S9F6H5DYAtCL"
   },
   "outputs": [],
   "source": [
    "import torch\n",
    "import torch.nn as nn\n",
    "import torch.nn.functional as F\n",
    "from torch.utils.data import DataLoader\n",
    "\n",
    "from torchvision.datasets import FashionMNIST\n",
    "from torchvision import transforms\n",
    "\n",
    "from random import randint\n",
    "from tqdm import tqdm\n",
    "\n",
    "import matplotlib.pyplot as plt"
   ]
  },
  {
   "cell_type": "code",
   "execution_count": 2,
   "metadata": {},
   "outputs": [
    {
     "name": "stdout",
     "output_type": "stream",
     "text": [
      "True\n"
     ]
    }
   ],
   "source": [
    "print(torch.backends.mps.is_available())\n",
    "#device = torch.device(\"cpu\")\n",
    "device = torch.device(\"mps\")"
   ]
  },
  {
   "cell_type": "code",
   "execution_count": 3,
   "metadata": {
    "colab": {
     "base_uri": "https://localhost:8080/"
    },
    "id": "Bys63T-CAtCQ",
    "outputId": "73f29bf5-a0e1-4d93-a9fd-bbac63e67122"
   },
   "outputs": [],
   "source": [
    "t = transforms.Compose([\n",
    "    transforms.Resize((224, 224)),\n",
    "    transforms.ToTensor()\n",
    "])\n",
    "dataset_train = FashionMNIST(root=\"../datasets/\", train=True, download=True, transform=t)\n",
    "dataset_test = FashionMNIST(root=\"../datasets/\", train=False, download=True, transform=t)"
   ]
  },
  {
   "cell_type": "code",
   "execution_count": 4,
   "metadata": {
    "id": "pV1UYXtmAtCR"
   },
   "outputs": [],
   "source": [
    "train_dataloader = DataLoader(dataset=dataset_train, batch_size=32, shuffle=True)\n",
    "test_dataloader = DataLoader(dataset=dataset_test, batch_size=10000, shuffle=False)"
   ]
  },
  {
   "cell_type": "code",
   "execution_count": 5,
   "metadata": {
    "id": "VOndJZuaAtCT"
   },
   "outputs": [],
   "source": [
    "class alexnet(nn.Module):\n",
    "    def __init__(self):\n",
    "        super().__init__()\n",
    "        self.layer_stack = nn.Sequential(\n",
    "            nn.Conv2d(in_channels=1, out_channels=8, kernel_size=(11, 11), stride=(4, 4)),\n",
    "            nn.ReLU(),\n",
    "            nn.MaxPool2d(kernel_size=(3,3), stride=(2,2)),\n",
    "            nn.Conv2d(in_channels=8, out_channels=16, kernel_size=(5,5), padding=(2,2)),\n",
    "            nn.ReLU(),\n",
    "            nn.MaxPool2d(kernel_size=(3,3), stride=(2,2)),\n",
    "            nn.Conv2d(in_channels=16, out_channels=32, kernel_size=(3,3), padding=(1,1)),\n",
    "            nn.ReLU(),\n",
    "            nn.Conv2d(in_channels=32, out_channels=16, kernel_size=(3,3),padding=(1,1)),\n",
    "            nn.ReLU(),\n",
    "            nn.Conv2d(in_channels=16, out_channels=16, kernel_size=(3,3), padding=(1,1)),\n",
    "            nn.ReLU(),\n",
    "            nn.MaxPool2d(kernel_size=(3,3), stride=(2,2)),\n",
    "            nn.Flatten(),\n",
    "            nn.Linear(in_features=16*5*5, out_features=32),\n",
    "            nn.ReLU(),\n",
    "            nn.Linear(in_features=32, out_features=16),\n",
    "            nn.ReLU(),\n",
    "            nn.Linear(in_features=16, out_features=10),\n",
    "            nn.LogSoftmax(dim=1)\n",
    "        )\n",
    "    def forward(self, x):\n",
    "        return self.layer_stack(x)"
   ]
  },
  {
   "cell_type": "code",
   "execution_count": 6,
   "metadata": {
    "id": "5TUEf7vvmRb1"
   },
   "outputs": [],
   "source": [
    "device = torch.device(device)\n",
    "model = alexnet().to(device)"
   ]
  },
  {
   "cell_type": "code",
   "execution_count": 7,
   "metadata": {
    "id": "7ezYciqznxdh"
   },
   "outputs": [],
   "source": [
    "N_EPOCHS = 5\n",
    "\n",
    "B_EPOCHS = int(60_000 / 32)\n",
    "\n",
    "optim = torch.optim.SGD(params=model.parameters(), lr=0.001)\n",
    "loss_fn = nn.NLLLoss()\n",
    "#loss_fn = nn.CrossEntropyLoss()\n",
    "def acc_fn(pred, target):\n",
    "  return (pred.argmax(dim=1)==target).sum()"
   ]
  },
  {
   "cell_type": "code",
   "execution_count": 11,
   "metadata": {
    "colab": {
     "base_uri": "https://localhost:8080/"
    },
    "id": "aHmwsoNIAtCT",
    "outputId": "17b4fa78-8b5f-4832-91dd-a95bb63ca1b7",
    "tags": []
   },
   "outputs": [
    {
     "name": "stderr",
     "output_type": "stream",
     "text": [
      "  0%|                                                                                                                            | 0/5 [00:00<?, ?it/s]"
     ]
    },
    {
     "name": "stdout",
     "output_type": "stream",
     "text": [
      "Epoch: 0 --- 0/1875 --- Loss: 0.07219818234443665 --- Acc: 0.09375\n",
      "Epoch: 0 --- 150/1875 --- Loss: 0.0721389502286911 --- Acc: 0.125\n",
      "Epoch: 0 --- 300/1875 --- Loss: 0.07180855423212051 --- Acc: 0.09375\n",
      "Epoch: 0 --- 450/1875 --- Loss: 0.07209280133247375 --- Acc: 0.125\n",
      "Epoch: 0 --- 600/1875 --- Loss: 0.07158590853214264 --- Acc: 0.1875\n",
      "Epoch: 0 --- 750/1875 --- Loss: 0.07228794693946838 --- Acc: 0.03125\n",
      "Epoch: 0 --- 900/1875 --- Loss: 0.0720369815826416 --- Acc: 0.03125\n",
      "Epoch: 0 --- 1050/1875 --- Loss: 0.07224394381046295 --- Acc: 0.15625\n",
      "Epoch: 0 --- 1200/1875 --- Loss: 0.07214590907096863 --- Acc: 0.09375\n",
      "Epoch: 0 --- 1350/1875 --- Loss: 0.0720517709851265 --- Acc: 0.0625\n",
      "Epoch: 0 --- 1500/1875 --- Loss: 0.07199019938707352 --- Acc: 0.0625\n",
      "Epoch: 0 --- 1650/1875 --- Loss: 0.07245595753192902 --- Acc: 0.15625\n",
      "Epoch: 0 --- 1800/1875 --- Loss: 0.07217889279127121 --- Acc: 0.125\n"
     ]
    },
    {
     "name": "stderr",
     "output_type": "stream",
     "text": [
      " 20%|███████████████████████▏                                                                                            | 1/5 [00:24<01:39, 24.88s/it]"
     ]
    },
    {
     "name": "stdout",
     "output_type": "stream",
     "text": [
      "Epoch: 1 --- 0/1875 --- Loss: 0.07191629707813263 --- Acc: 0.125\n",
      "Epoch: 1 --- 150/1875 --- Loss: 0.07196956127882004 --- Acc: 0.125\n",
      "Epoch: 1 --- 300/1875 --- Loss: 0.07204669713973999 --- Acc: 0.09375\n",
      "Epoch: 1 --- 450/1875 --- Loss: 0.07227183133363724 --- Acc: 0.03125\n",
      "Epoch: 1 --- 600/1875 --- Loss: 0.07200071960687637 --- Acc: 0.03125\n",
      "Epoch: 1 --- 750/1875 --- Loss: 0.07196277379989624 --- Acc: 0.125\n",
      "Epoch: 1 --- 900/1875 --- Loss: 0.0719539225101471 --- Acc: 0.0\n",
      "Epoch: 1 --- 1050/1875 --- Loss: 0.07202619314193726 --- Acc: 0.0625\n",
      "Epoch: 1 --- 1200/1875 --- Loss: 0.07190541923046112 --- Acc: 0.03125\n",
      "Epoch: 1 --- 1350/1875 --- Loss: 0.07175438106060028 --- Acc: 0.125\n",
      "Epoch: 1 --- 1500/1875 --- Loss: 0.07180080562829971 --- Acc: 0.09375\n",
      "Epoch: 1 --- 1650/1875 --- Loss: 0.07201249897480011 --- Acc: 0.15625\n",
      "Epoch: 1 --- 1800/1875 --- Loss: 0.07219430059194565 --- Acc: 0.09375\n"
     ]
    },
    {
     "name": "stderr",
     "output_type": "stream",
     "text": [
      " 40%|██████████████████████████████████████████████▍                                                                     | 2/5 [00:50<01:15, 25.23s/it]"
     ]
    },
    {
     "name": "stdout",
     "output_type": "stream",
     "text": [
      "Epoch: 2 --- 0/1875 --- Loss: 0.07204169780015945 --- Acc: 0.125\n",
      "Epoch: 2 --- 150/1875 --- Loss: 0.07204167544841766 --- Acc: 0.1875\n",
      "Epoch: 2 --- 300/1875 --- Loss: 0.0718364268541336 --- Acc: 0.0625\n",
      "Epoch: 2 --- 450/1875 --- Loss: 0.07203064858913422 --- Acc: 0.0625\n",
      "Epoch: 2 --- 600/1875 --- Loss: 0.07179933786392212 --- Acc: 0.09375\n",
      "Epoch: 2 --- 750/1875 --- Loss: 0.07179422676563263 --- Acc: 0.1875\n",
      "Epoch: 2 --- 900/1875 --- Loss: 0.07205645740032196 --- Acc: 0.03125\n",
      "Epoch: 2 --- 1050/1875 --- Loss: 0.07205072045326233 --- Acc: 0.03125\n",
      "Epoch: 2 --- 1200/1875 --- Loss: 0.07209453731775284 --- Acc: 0.0\n",
      "Epoch: 2 --- 1350/1875 --- Loss: 0.07210569828748703 --- Acc: 0.0\n",
      "Epoch: 2 --- 1500/1875 --- Loss: 0.07199926674365997 --- Acc: 0.0625\n",
      "Epoch: 2 --- 1650/1875 --- Loss: 0.07207269966602325 --- Acc: 0.125\n",
      "Epoch: 2 --- 1800/1875 --- Loss: 0.07197926938533783 --- Acc: 0.125\n"
     ]
    },
    {
     "name": "stderr",
     "output_type": "stream",
     "text": [
      " 60%|█████████████████████████████████████████████████████████████████████▌                                              | 3/5 [01:15<00:50, 25.33s/it]"
     ]
    },
    {
     "name": "stdout",
     "output_type": "stream",
     "text": [
      "Epoch: 3 --- 0/1875 --- Loss: 0.07199054956436157 --- Acc: 0.09375\n",
      "Epoch: 3 --- 150/1875 --- Loss: 0.07200969755649567 --- Acc: 0.0625\n",
      "Epoch: 3 --- 300/1875 --- Loss: 0.07188169658184052 --- Acc: 0.0\n",
      "Epoch: 3 --- 450/1875 --- Loss: 0.07184944301843643 --- Acc: 0.0625\n",
      "Epoch: 3 --- 600/1875 --- Loss: 0.07186660170555115 --- Acc: 0.21875\n",
      "Epoch: 3 --- 750/1875 --- Loss: 0.07189375907182693 --- Acc: 0.125\n",
      "Epoch: 3 --- 900/1875 --- Loss: 0.07185089588165283 --- Acc: 0.0\n",
      "Epoch: 3 --- 1050/1875 --- Loss: 0.0719771608710289 --- Acc: 0.09375\n",
      "Epoch: 3 --- 1200/1875 --- Loss: 0.07217536866664886 --- Acc: 0.09375\n",
      "Epoch: 3 --- 1350/1875 --- Loss: 0.0719357579946518 --- Acc: 0.1875\n",
      "Epoch: 3 --- 1500/1875 --- Loss: 0.07207834720611572 --- Acc: 0.0625\n",
      "Epoch: 3 --- 1650/1875 --- Loss: 0.07180991768836975 --- Acc: 0.125\n",
      "Epoch: 3 --- 1800/1875 --- Loss: 0.07199962437152863 --- Acc: 0.15625\n"
     ]
    },
    {
     "name": "stderr",
     "output_type": "stream",
     "text": [
      " 80%|████████████████████████████████████████████████████████████████████████████████████████████▊                       | 4/5 [01:41<00:25, 25.44s/it]"
     ]
    },
    {
     "name": "stdout",
     "output_type": "stream",
     "text": [
      "Epoch: 4 --- 0/1875 --- Loss: 0.07194647192955017 --- Acc: 0.21875\n",
      "Epoch: 4 --- 150/1875 --- Loss: 0.0719609260559082 --- Acc: 0.03125\n",
      "Epoch: 4 --- 300/1875 --- Loss: 0.07192718982696533 --- Acc: 0.09375\n",
      "Epoch: 4 --- 450/1875 --- Loss: 0.0720592737197876 --- Acc: 0.0625\n",
      "Epoch: 4 --- 600/1875 --- Loss: 0.07190325856208801 --- Acc: 0.09375\n",
      "Epoch: 4 --- 750/1875 --- Loss: 0.0718812644481659 --- Acc: 0.125\n",
      "Epoch: 4 --- 900/1875 --- Loss: 0.07174815237522125 --- Acc: 0.15625\n",
      "Epoch: 4 --- 1050/1875 --- Loss: 0.07187269628047943 --- Acc: 0.09375\n",
      "Epoch: 4 --- 1200/1875 --- Loss: 0.07207494974136353 --- Acc: 0.09375\n",
      "Epoch: 4 --- 1350/1875 --- Loss: 0.07200053334236145 --- Acc: 0.0\n",
      "Epoch: 4 --- 1500/1875 --- Loss: 0.07193551957607269 --- Acc: 0.1875\n",
      "Epoch: 4 --- 1650/1875 --- Loss: 0.0718727856874466 --- Acc: 0.09375\n",
      "Epoch: 4 --- 1800/1875 --- Loss: 0.07205234467983246 --- Acc: 0.0\n"
     ]
    },
    {
     "name": "stderr",
     "output_type": "stream",
     "text": [
      "100%|████████████████████████████████████████████████████████████████████████████████████████████████████████████████████| 5/5 [02:07<00:00, 25.41s/it]\n"
     ]
    }
   ],
   "source": [
    "losses = []\n",
    "accs = []\n",
    "\n",
    "prog_bar = tqdm(range(N_EPOCHS))\n",
    "\n",
    "for e in prog_bar:\n",
    "    for i, (x, y) in enumerate(train_dataloader):\n",
    "        optim.zero_grad()\n",
    "        pred = model(x.to(device))\n",
    "\n",
    "        loss = loss_fn(pred, y.to(device))\n",
    "        losses.append(loss.item()/32)\n",
    "\n",
    "        acc = acc_fn(pred.detach().cpu(), y.detach().cpu())\n",
    "        accs.append(acc.item()/32)\n",
    "\n",
    "        loss.backward()\n",
    "        optim.step()\n",
    "        if i % 150 == 0: \n",
    "            print(f\"Epoch: {e} --- {i}/{B_EPOCHS} --- Loss: {loss.item()/32} --- Acc: {acc.item()/32}\")"
   ]
  },
  {
   "cell_type": "code",
   "execution_count": 10,
   "metadata": {
    "colab": {
     "base_uri": "https://localhost:8080/",
     "height": 448
    },
    "id": "i7NS43bqsBUr",
    "outputId": "cf3e31ef-491a-49f6-fbbf-1dd44e699860"
   },
   "outputs": [
    {
     "data": {
      "text/plain": [
       "[<matplotlib.lines.Line2D at 0x1752dc190>]"
      ]
     },
     "execution_count": 10,
     "metadata": {},
     "output_type": "execute_result"
    },
    {
     "data": {
      "image/png": "[encoded data removed]",
      "text/plain": [
       "<Figure size 640x480 with 1 Axes>"
      ]
     },
     "metadata": {},
     "output_type": "display_data"
    }
   ],
   "source": [
    "plt.plot(losses)\n",
    "plt.plot(accs)"
   ]
  },
  {
   "cell_type": "code",
   "execution_count": 69,
   "metadata": {
    "colab": {
     "base_uri": "https://localhost:8080/"
    },
    "id": "cmr5IYV5sVT7",
    "outputId": "9ea882e1-a3c3-4fc5-f93f-fd926d2aabb7"
   },
   "outputs": [
    {
     "name": "stdout",
     "output_type": "stream",
     "text": [
      "tensor(9002)\n"
     ]
    }
   ],
   "source": [
    "model.eval()\n",
    "score = 0\n",
    "for x, y in test_dataloader:\n",
    "  score += acc_fn(model(x.to(device)).detach().cpu(), y)\n",
    "print(score)"
   ]
  },
  {
   "cell_type": "code",
   "execution_count": null,
   "metadata": {},
   "outputs": [],
   "source": []
  }
 ],
 "metadata": {
  "accelerator": "GPU",
  "colab": {
   "gpuType": "T4",
   "provenance": []
  },
  "kernelspec": {
   "display_name": "Python 3 (ipykernel)",
   "language": "python",
   "name": "python3"
  },
  "language_info": {
   "codemirror_mode": {
    "name": "ipython",
    "version": 3
   },
   "file_extension": ".py",
   "mimetype": "text/x-python",
   "name": "python",
   "nbconvert_exporter": "python",
   "pygments_lexer": "ipython3",
   "version": "3.11.5"
  }
 },
 "nbformat": 4,
 "nbformat_minor": 4
}
