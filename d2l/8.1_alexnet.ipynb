{
 "cells": [
  {
   "cell_type": "code",
   "execution_count": 1,
   "metadata": {},
   "outputs": [],
   "source": [
    "import torch\n",
    "import torch.nn as nn\n",
    "import torch.nn.functional as F\n",
    "from torch.utils.data import DataLoader\n",
    "\n",
    "from torchvision.datasets import FashionMNIST\n",
    "from torchvision import transforms\n",
    "\n",
    "from random import randint\n",
    "from tqdm import tqdm\n",
    "\n",
    "import matplotlib.pyplot as plt"
   ]
  },
  {
   "cell_type": "code",
   "execution_count": 11,
   "metadata": {},
   "outputs": [
    {
     "name": "stdout",
     "output_type": "stream",
     "text": [
      "False\n"
     ]
    }
   ],
   "source": [
    "print(torch.backends.mps.is_available())\n",
    "#device = torch.device(\"cpu\")\n",
    "device = torch.device(\"cpu\")"
   ]
  },
  {
   "cell_type": "code",
   "execution_count": 3,
   "metadata": {},
   "outputs": [],
   "source": [
    "t = transforms.Compose([\n",
    "    transforms.Resize((224, 224)),\n",
    "    transforms.ToTensor()\n",
    "])\n",
    "dataset_train = FashionMNIST(root=\"../datasets/\", train=True, download=True, transform=t)\n",
    "dataset_test = FashionMNIST(root=\"../datasets/\", train=False, download=True, transform=t)"
   ]
  },
  {
   "cell_type": "code",
   "execution_count": 4,
   "metadata": {},
   "outputs": [],
   "source": [
    "train_dataloader = DataLoader(dataset=dataset_train, batch_size=32, shuffle=True)\n",
    "test_dataloader = DataLoader(dataset=dataset_test, batch_size=10000, shuffle=False)"
   ]
  },
  {
   "cell_type": "code",
   "execution_count": 5,
   "metadata": {},
   "outputs": [],
   "source": [
    "class alexnet(nn.Module):\n",
    "    def __init__(self):\n",
    "        super().__init__()\n",
    "        self.layer_stack = nn.Sequential(\n",
    "            nn.Conv2d(in_channels=1, out_channels=8, kernel_size=(11, 11), stride=(4, 4)),\n",
    "            nn.ReLU(),\n",
    "            nn.MaxPool2d(kernel_size=(3,3), stride=(2,2)),\n",
    "            nn.Conv2d(in_channels=8, out_channels=16, kernel_size=(5,5), padding=(2,2)),\n",
    "            nn.ReLU(),\n",
    "            nn.MaxPool2d(kernel_size=(3,3), stride=(2,2)),\n",
    "            nn.Conv2d(in_channels=16, out_channels=32, kernel_size=(3,3), padding=(1,1)),\n",
    "            nn.ReLU(),\n",
    "            nn.Conv2d(in_channels=32, out_channels=16, kernel_size=(3,3),padding=(1,1)),\n",
    "            nn.ReLU(),\n",
    "            nn.Conv2d(in_channels=16, out_channels=16, kernel_size=(3,3), padding=(1,1)),\n",
    "            nn.ReLU(),\n",
    "            nn.MaxPool2d(kernel_size=(3,3), stride=(2,2)),\n",
    "            nn.Flatten(),\n",
    "            nn.Linear(in_features=16*5*5, out_features=32),\n",
    "            nn.ReLU(),\n",
    "            nn.Linear(in_features=32, out_features=16),\n",
    "            nn.ReLU(),\n",
    "            nn.Linear(in_features=16, out_features=10),\n",
    "            nn.LogSoftmax(dim=1)\n",
    "        )\n",
    "    def forward(self, x):\n",
    "        return self.layer_stack(x)"
   ]
  },
  {
   "cell_type": "code",
   "execution_count": 12,
   "metadata": {},
   "outputs": [],
   "source": [
    "device = torch.device(device)\n",
    "model = alexnet().to(device)"
   ]
  },
  {
   "cell_type": "code",
   "execution_count": 13,
   "metadata": {},
   "outputs": [],
   "source": [
    "N_EPOCHS = 5\n",
    "\n",
    "B_EPOCHS = int(60_000 / 32)\n",
    "\n",
    "optim = torch.optim.SGD(params=model.parameters(), lr=0.001)\n",
    "loss_fn = nn.NLLLoss()\n",
    "#loss_fn = nn.CrossEntropyLoss()\n",
    "def acc_fn(pred, target):\n",
    "  return (pred.argmax(dim=1)==target).sum()"
   ]
  },
  {
   "cell_type": "code",
   "execution_count": null,
   "metadata": {},
   "outputs": [
    {
     "name": "stderr",
     "output_type": "stream",
     "text": [
      "  0%|                                                                                                                            | 0/5 [00:00<?, ?it/s]"
     ]
    },
    {
     "name": "stdout",
     "output_type": "stream",
     "text": [
      "Epoch: 0 --- 0/1875 --- Loss: 0.07209362089633942 --- Acc: 0.125\n",
      "Epoch: 0 --- 150/1875 --- Loss: 0.07264663279056549 --- Acc: 0.0625\n",
      "Epoch: 0 --- 300/1875 --- Loss: 0.07264851033687592 --- Acc: 0.0625\n",
      "Epoch: 0 --- 450/1875 --- Loss: 0.07242000102996826 --- Acc: 0.0625\n",
      "Epoch: 0 --- 600/1875 --- Loss: 0.07276925444602966 --- Acc: 0.03125\n",
      "Epoch: 0 --- 750/1875 --- Loss: 0.07224677503108978 --- Acc: 0.09375\n",
      "Epoch: 0 --- 900/1875 --- Loss: 0.07155859470367432 --- Acc: 0.1875\n",
      "Epoch: 0 --- 1050/1875 --- Loss: 0.07136315852403641 --- Acc: 0.09375\n",
      "Epoch: 0 --- 1200/1875 --- Loss: 0.07158872485160828 --- Acc: 0.09375\n",
      "Epoch: 0 --- 1350/1875 --- Loss: 0.07260945439338684 --- Acc: 0.125\n",
      "Epoch: 0 --- 1500/1875 --- Loss: 0.07176627963781357 --- Acc: 0.15625\n",
      "Epoch: 0 --- 1650/1875 --- Loss: 0.07267658412456512 --- Acc: 0.0625\n",
      "Epoch: 0 --- 1800/1875 --- Loss: 0.07171753793954849 --- Acc: 0.15625\n"
     ]
    },
    {
     "name": "stderr",
     "output_type": "stream",
     "text": [
      " 20%|███████████████████████▏                                                                                            | 1/5 [00:47<03:11, 47.87s/it]"
     ]
    },
    {
     "name": "stdout",
     "output_type": "stream",
     "text": [
      "Epoch: 1 --- 0/1875 --- Loss: 0.07206268608570099 --- Acc: 0.125\n",
      "Epoch: 1 --- 150/1875 --- Loss: 0.0725829228758812 --- Acc: 0.0625\n",
      "Epoch: 1 --- 300/1875 --- Loss: 0.07268077880144119 --- Acc: 0.03125\n",
      "Epoch: 1 --- 450/1875 --- Loss: 0.07236432284116745 --- Acc: 0.125\n",
      "Epoch: 1 --- 600/1875 --- Loss: 0.07208700478076935 --- Acc: 0.15625\n",
      "Epoch: 1 --- 750/1875 --- Loss: 0.07244344800710678 --- Acc: 0.0625\n",
      "Epoch: 1 --- 900/1875 --- Loss: 0.07216913998126984 --- Acc: 0.125\n",
      "Epoch: 1 --- 1050/1875 --- Loss: 0.07202032208442688 --- Acc: 0.125\n",
      "Epoch: 1 --- 1200/1875 --- Loss: 0.07135110348463058 --- Acc: 0.15625\n",
      "Epoch: 1 --- 1350/1875 --- Loss: 0.07166911661624908 --- Acc: 0.09375\n",
      "Epoch: 1 --- 1500/1875 --- Loss: 0.0720619186758995 --- Acc: 0.125\n",
      "Epoch: 1 --- 1650/1875 --- Loss: 0.07204163819551468 --- Acc: 0.09375\n",
      "Epoch: 1 --- 1800/1875 --- Loss: 0.07198505848646164 --- Acc: 0.0625\n"
     ]
    },
    {
     "name": "stderr",
     "output_type": "stream",
     "text": [
      " 40%|██████████████████████████████████████████████▍                                                                     | 2/5 [01:35<02:23, 47.86s/it]"
     ]
    },
    {
     "name": "stdout",
     "output_type": "stream",
     "text": [
      "Epoch: 2 --- 0/1875 --- Loss: 0.07239026576280594 --- Acc: 0.0625\n",
      "Epoch: 2 --- 150/1875 --- Loss: 0.07199966162443161 --- Acc: 0.09375\n",
      "Epoch: 2 --- 300/1875 --- Loss: 0.07201195508241653 --- Acc: 0.09375\n",
      "Epoch: 2 --- 450/1875 --- Loss: 0.07249195128679276 --- Acc: 0.125\n",
      "Epoch: 2 --- 600/1875 --- Loss: 0.07222886383533478 --- Acc: 0.0625\n",
      "Epoch: 2 --- 750/1875 --- Loss: 0.07249481976032257 --- Acc: 0.0625\n"
     ]
    }
   ],
   "source": [
    "losses = []\n",
    "accs = []\n",
    "\n",
    "prog_bar = tqdm(range(N_EPOCHS))\n",
    "\n",
    "for e in prog_bar:\n",
    "    for i, (x, y) in enumerate(train_dataloader):\n",
    "        optim.zero_grad()\n",
    "        pred = model(x.to(device))\n",
    "\n",
    "        loss = loss_fn(pred, y.to(device))\n",
    "        losses.append(loss.item()/32)\n",
    "\n",
    "        acc = acc_fn(pred.detach().cpu(), y.detach().cpu())\n",
    "        accs.append(acc.item()/32)\n",
    "\n",
    "        loss.backward()\n",
    "        optim.step()\n",
    "        if i % 150 == 0: \n",
    "            print(f\"Epoch: {e} --- {i}/{B_EPOCHS} --- Loss: {loss.item()/32} --- Acc: {acc.item()/32}\")"
   ]
  },
  {
   "cell_type": "code",
   "execution_count": 10,
   "metadata": {},
   "outputs": [
    {
     "data": {
      "text/plain": [
       "['T-shirt/top',\n",
       " 'Trouser',\n",
       " 'Pullover',\n",
       " 'Dress',\n",
       " 'Coat',\n",
       " 'Sandal',\n",
       " 'Shirt',\n",
       " 'Sneaker',\n",
       " 'Bag',\n",
       " 'Ankle boot']"
      ]
     },
     "execution_count": 10,
     "metadata": {},
     "output_type": "execute_result"
    }
   ],
   "source": [
    "plt.plot(losses)\n",
    "plt.plot(accs)"
   ]
  },
  {
   "cell_type": "code",
   "execution_count": 11,
   "metadata": {},
   "outputs": [
    {
     "name": "stdout",
     "output_type": "stream",
     "text": [
      "torch.Size([1, 224, 224])\n",
      "tensor(9)\n"
     ]
    },
    {
     "data": {
      "text/plain": [
       "<matplotlib.image.AxesImage at 0x7fcd193152d0>"
      ]
     },
     "execution_count": 11,
     "metadata": {},
     "output_type": "execute_result"
    },
    {
     "data": {
      "image/png": "[encoded data removed]",
      "text/plain": [
       "<Figure size 640x480 with 1 Axes>"
      ]
     },
     "metadata": {},
     "output_type": "display_data"
    }
   ],
   "source": [
    "model.eval()\n",
    "score = 0\n",
    "for x, y in test_dataloader:\n",
    "  score += acc_fn(model(x.to(device)).detach().cpu(), y)\n",
    "print(score)"
   ]
  },
  {
   "cell_type": "code",
   "execution_count": 29,
   "metadata": {},
   "outputs": [
    {
     "name": "stdout",
     "output_type": "stream",
     "text": [
      "84.59\n",
      "8459 / 10000\n"
     ]
    }
   ],
   "source": [
    "model.eval()\n",
    "score = 0\n",
    "BS = 32\n",
    "for i in range(0, 10_000-BS, BS):\n",
    "    model(X_test[i:i+BS].to(device))\n",
    "    score += acc_fn(model(X_test[i:i+BS].to(device)), Y_test[i:i+BS].to(device)).item()\n",
    "print(score / len(Y_test) * 100.0)\n",
    "print(score, \"/\", len(Y_test))"
   ]
  },
  {
   "cell_type": "code",
   "execution_count": null,
   "metadata": {},
   "outputs": [],
   "source": []
  }
 ],
 "metadata": {
  "kernelspec": {
   "display_name": "Python 3 (ipykernel)",
   "language": "python",
   "name": "python3"
  },
  "language_info": {
   "codemirror_mode": {
    "name": "ipython",
    "version": 3
   },
   "file_extension": ".py",
   "mimetype": "text/x-python",
   "name": "python",
   "nbconvert_exporter": "python",
   "pygments_lexer": "ipython3",
   "version": "3.10.12"
  }
 },
 "nbformat": 4,
 "nbformat_minor": 4
}
