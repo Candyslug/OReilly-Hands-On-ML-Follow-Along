{
 "cells": [
  {
   "cell_type": "code",
   "execution_count": 130,
   "id": "0d326407",
   "metadata": {},
   "outputs": [],
   "source": [
    "# for learning!!! just getting used to torch library"
   ]
  },
  {
   "cell_type": "code",
   "execution_count": 131,
   "id": "0a728ae6",
   "metadata": {},
   "outputs": [],
   "source": [
    "import torch\n",
    "import numpy as np"
   ]
  },
  {
   "cell_type": "raw",
   "id": "e2468da1",
   "metadata": {},
   "source": [
    "prediction :            manually      -> pytorch model (4)\n",
    "gradients computatoin : manually      -> autograd (2)\n",
    "loss computation :      manually      -> pytorch loss (3)\n",
    "parameter updates:      manually      -> pytorch optimizer (3)"
   ]
  },
  {
   "cell_type": "markdown",
   "id": "c290eac1",
   "metadata": {},
   "source": [
    "step 1: linear regression (manually)"
   ]
  },
  {
   "cell_type": "code",
   "execution_count": 132,
   "id": "92bee7f1",
   "metadata": {},
   "outputs": [],
   "source": [
    "# f = w * x\n",
    "\n",
    "# weight should be 2\n",
    "\n",
    "X = np.array([1, 2, 3, 4], dtype=np.float32)\n",
    "y = np.array([2, 4, 6, 8], dtype=np.float32)\n",
    "\n",
    "w = 0.0"
   ]
  },
  {
   "cell_type": "code",
   "execution_count": 133,
   "id": "b396b0f7",
   "metadata": {},
   "outputs": [],
   "source": [
    "# model prediction\n",
    "\n",
    "def forward(x):\n",
    "    return w * x"
   ]
  },
  {
   "cell_type": "code",
   "execution_count": 134,
   "id": "c384f171",
   "metadata": {},
   "outputs": [],
   "source": [
    "# loss\n",
    "\n",
    "def loss(y, y_predicted):\n",
    "    return ((y_predicted - y)**2).mean()"
   ]
  },
  {
   "cell_type": "code",
   "execution_count": 135,
   "id": "fa9db61e",
   "metadata": {},
   "outputs": [],
   "source": [
    "# gradient\n",
    "\n",
    "# MSE   = 1/n * (w*x - y)**2\n",
    "# dJ/dw = 1/n * 2x * (w*x - y)\n",
    "\n",
    "def gradient(x, y, y_predicted):\n",
    "    return np.dot(2*x, y_predicted-y).mean()"
   ]
  },
  {
   "cell_type": "code",
   "execution_count": 136,
   "id": "1647a2d5",
   "metadata": {},
   "outputs": [
    {
     "name": "stdout",
     "output_type": "stream",
     "text": [
      "Prediction before training: f(5) =  0.0\n"
     ]
    }
   ],
   "source": [
    "print(\"Prediction before training: f(5) = \", forward(5))"
   ]
  },
  {
   "cell_type": "code",
   "execution_count": 137,
   "id": "27c0476e",
   "metadata": {},
   "outputs": [
    {
     "name": "stdout",
     "output_type": "stream",
     "text": [
      "Epoch 0: w = 1.2, loss = 30.0\n",
      "Epoch 5: w = 1.99, loss = 0.0031457357\n",
      "Epoch 10: w = 2.0, loss = 3.2973401e-07\n",
      "Epoch 15: w = 2.0, loss = 3.5313974e-11\n",
      "Epoch 20: w = 2.0, loss = 0.0\n",
      "Epoch 25: w = 2.0, loss = 0.0\n",
      "Epoch 30: w = 2.0, loss = 0.0\n",
      "Epoch 35: w = 2.0, loss = 0.0\n",
      "Epoch 40: w = 2.0, loss = 0.0\n",
      "Epoch 45: w = 2.0, loss = 0.0\n",
      "Epoch 50: w = 2.0, loss = 0.0\n",
      "Epoch 55: w = 2.0, loss = 0.0\n",
      "Epoch 60: w = 2.0, loss = 0.0\n",
      "Epoch 65: w = 2.0, loss = 0.0\n",
      "Epoch 70: w = 2.0, loss = 0.0\n",
      "Epoch 75: w = 2.0, loss = 0.0\n",
      "Epoch 80: w = 2.0, loss = 0.0\n",
      "Epoch 85: w = 2.0, loss = 0.0\n",
      "Epoch 90: w = 2.0, loss = 0.0\n",
      "Epoch 95: w = 2.0, loss = 0.0\n"
     ]
    }
   ],
   "source": [
    "# training\n",
    "\n",
    "learning_rate = 0.01\n",
    "n_iters = 100\n",
    "\n",
    "for epoch in range(n_iters):\n",
    "    # prediction = forward pass\n",
    "    y_pred = forward(X)\n",
    "    l = loss(y, y_pred)\n",
    "    \n",
    "    # gradients\n",
    "    dw = gradient(X, y, y_pred)\n",
    "    \n",
    "    # update weights\n",
    "    w -= learning_rate * dw\n",
    "    \n",
    "    if epoch % 5 == 0:\n",
    "        print(f'Epoch {epoch}: w = {w:.3}, loss = {l:.8}')"
   ]
  },
  {
   "cell_type": "code",
   "execution_count": 138,
   "id": "97b86eda",
   "metadata": {},
   "outputs": [
    {
     "name": "stdout",
     "output_type": "stream",
     "text": [
      "Prediction after training: f(5) =  9.999999976158142\n"
     ]
    }
   ],
   "source": [
    "print(\"Prediction after training: f(5) = \", forward(5))"
   ]
  }
 ],
 "metadata": {
  "kernelspec": {
   "display_name": "Python 3 (ipykernel)",
   "language": "python",
   "name": "python3"
  },
  "language_info": {
   "codemirror_mode": {
    "name": "ipython",
    "version": 3
   },
   "file_extension": ".py",
   "mimetype": "text/x-python",
   "name": "python",
   "nbconvert_exporter": "python",
   "pygments_lexer": "ipython3",
   "version": "3.9.7"
  }
 },
 "nbformat": 4,
 "nbformat_minor": 5
}
