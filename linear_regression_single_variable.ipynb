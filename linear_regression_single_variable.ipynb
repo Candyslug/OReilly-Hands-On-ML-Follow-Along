{
 "cells": [
  {
   "cell_type": "code",
   "execution_count": 1386,
   "metadata": {},
   "outputs": [],
   "source": [
    "import numpy as np\n",
    "import pandas as pd\n",
    "import matplotlib.pyplot as plt\n",
    "from matplotlib import cm\n",
    "from tqdm import trange"
   ]
  },
  {
   "cell_type": "code",
   "execution_count": 1387,
   "metadata": {},
   "outputs": [],
   "source": [
    "# single variable linear regression"
   ]
  },
  {
   "cell_type": "code",
   "execution_count": 1388,
   "metadata": {},
   "outputs": [
    {
     "data": {
      "text/plain": [
       "<matplotlib.collections.PathCollection at 0x7ff6c873cc70>"
      ]
     },
     "execution_count": 1388,
     "metadata": {},
     "output_type": "execute_result"
    },
    {
     "data": {
      "image/png": "[encoded data removed]",
      "text/plain": [
       "<Figure size 432x288 with 1 Axes>"
      ]
     },
     "metadata": {
      "needs_background": "light"
     },
     "output_type": "display_data"
    }
   ],
   "source": [
    "dataset = pd.read_csv(\"./datasets/Salary_Data.csv\")\n",
    "dataset = dataset.sample(frac=1).reset_index(drop=True)\n",
    "dataset = dataset.to_numpy()\n",
    "X, y = dataset[:,0], dataset[:,1]\n",
    "plt.scatter(X, y)"
   ]
  },
  {
   "cell_type": "code",
   "execution_count": 1389,
   "metadata": {
    "scrolled": false
   },
   "outputs": [],
   "source": [
    "from random import uniform\n",
    "\n",
    "def create_dataset(n_samples=25, spread=3.0):\n",
    "    X = np.array([*range(0, n_samples)])\n",
    "    y = np.zeros(len(X))\n",
    "    for i in range(len(X)):\n",
    "        y[i] = X[i] + (uniform(-spread, spread))\n",
    "    return X, y\n",
    "#X, y = create_dataset(50, 5)\n",
    "#plt.scatter(X, y)"
   ]
  },
  {
   "cell_type": "code",
   "execution_count": 1390,
   "metadata": {},
   "outputs": [],
   "source": [
    "m = len(y)\n",
    "\n",
    "def predict(h0, h1, x):\n",
    "    return h0+h1*x\n",
    "\n",
    "def predictions(h0, h1):\n",
    "    preds = np.zeros(m)\n",
    "    for i in range(m):\n",
    "        preds[i] = predict(h0, h1, X[i])\n",
    "    return preds\n",
    "\n",
    "def cost_function(h0, h1):\n",
    "    preds = predictions(h0, h1)\n",
    "    costs = np.zeros(m)\n",
    "    for i in range(m):\n",
    "        costs[i] = (preds[i]-y[i])**2\n",
    "    return (1/(2*m))*np.sum(costs)\n",
    "\n",
    "def derive(h0, h1):\n",
    "    H = 0.0000001\n",
    "    a = cost_function(h0+H, h1+H)-cost_function(h0, h1)\n",
    "    return a/H"
   ]
  },
  {
   "cell_type": "code",
   "execution_count": 1398,
   "metadata": {},
   "outputs": [
    {
     "name": "stderr",
     "output_type": "stream",
     "text": [
      "100%|██████████████████████████████████████████████████████████████████████| 400/400 [00:00<00:00, 4101.73it/s]"
     ]
    },
    {
     "name": "stdout",
     "output_type": "stream",
     "text": [
      "min 21318341.397563685\n"
     ]
    },
    {
     "name": "stderr",
     "output_type": "stream",
     "text": [
      "\n"
     ]
    },
    {
     "data": {
      "text/plain": [
       "(19571.505908966064, 10836.265896558762)"
      ]
     },
     "execution_count": 1398,
     "metadata": {},
     "output_type": "execute_result"
    },
    {
     "data": {
      "image/png": "[encoded data removed]",
      "text/plain": [
       "<Figure size 432x288 with 1 Axes>"
      ]
     },
     "metadata": {
      "needs_background": "light"
     },
     "output_type": "display_data"
    }
   ],
   "source": [
    "learning_rate = 0.0001\n",
    "n_epochs = 400\n",
    "\n",
    "weight0 = 5\n",
    "weight1 = 5\n",
    "\n",
    "\n",
    "losses = []\n",
    "for epoch in (t := trange(n_epochs)):\n",
    "    \n",
    "    temp0 = weight0-derive(weight0, 0)*learning_rate\n",
    "    temp1 = weight1-derive(0, weight1)*learning_rate\n",
    "    weight0 = temp0\n",
    "    weight1 = temp1\n",
    "    losses.append(cost_function(weight0, weight1))\n",
    "\n",
    "print('min', min(losses))\n",
    "plt.plot(losses)\n",
    "weight0, weight1"
   ]
  },
  {
   "cell_type": "code",
   "execution_count": 1399,
   "metadata": {},
   "outputs": [
    {
     "data": {
      "text/plain": [
       "[<matplotlib.lines.Line2D at 0x7ff6c87a1220>]"
      ]
     },
     "execution_count": 1399,
     "metadata": {},
     "output_type": "execute_result"
    },
    {
     "data": {
      "image/png": "[encoded data removed]",
      "text/plain": [
       "<Figure size 432x288 with 1 Axes>"
      ]
     },
     "metadata": {
      "needs_background": "light"
     },
     "output_type": "display_data"
    }
   ],
   "source": [
    "plt.scatter(X, y)\n",
    "plt.plot(X, predictions(weight0, weight1))"
   ]
  }
 ],
 "metadata": {
  "kernelspec": {
   "display_name": "Python 3 (ipykernel)",
   "language": "python",
   "name": "python3"
  },
  "language_info": {
   "codemirror_mode": {
    "name": "ipython",
    "version": 3
   },
   "file_extension": ".py",
   "mimetype": "text/x-python",
   "name": "python",
   "nbconvert_exporter": "python",
   "pygments_lexer": "ipython3",
   "version": "3.9.7"
  },
  "vscode": {
   "interpreter": {
    "hash": "b3638bd696681dbb2fed92db5d4df48a0993b580d16519ccce1c2abac5d7ec4b"
   }
  }
 },
 "nbformat": 4,
 "nbformat_minor": 2
}
