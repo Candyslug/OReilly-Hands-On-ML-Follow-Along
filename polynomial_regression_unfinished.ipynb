{
 "cells": [
  {
   "cell_type": "code",
   "execution_count": 121,
   "id": "ff4d81c2",
   "metadata": {},
   "outputs": [],
   "source": [
    "import random"
   ]
  },
  {
   "cell_type": "code",
   "execution_count": 122,
   "id": "e85fed7f",
   "metadata": {},
   "outputs": [],
   "source": [
    "import numpy as np"
   ]
  },
  {
   "cell_type": "code",
   "execution_count": 123,
   "id": "eb0eccf4",
   "metadata": {},
   "outputs": [],
   "source": [
    "%matplotlib inline\n",
    "import matplotlib.pyplot as plt"
   ]
  },
  {
   "cell_type": "code",
   "execution_count": 124,
   "id": "4089a3e0",
   "metadata": {},
   "outputs": [
    {
     "data": {
      "text/plain": [
       "<matplotlib.collections.PathCollection at 0x7fa744634a30>"
      ]
     },
     "execution_count": 124,
     "metadata": {},
     "output_type": "execute_result"
    },
    {
     "data": {
      "image/png": "[encoded data removed]",
      "text/plain": [
       "<Figure size 432x288 with 1 Axes>"
      ]
     },
     "metadata": {
      "needs_background": "light"
     },
     "output_type": "display_data"
    }
   ],
   "source": [
    "# create some random data\n",
    "random.seed(1337)\n",
    "l = 20\n",
    "X = [i for i in range(-20,20)]\n",
    "# degree : highest power of all terms\n",
    "# leading term : term with highest power\n",
    "# leading coefficient : coefficient of leading term\n",
    "# constant term : term which is just a number (2 in this case)\n",
    "#\n",
    "# 5 is the y intercept (last term)\n",
    "rr = 1100 # random range\n",
    "def f(x, degree=3):\n",
    "    return (x**degree) + (5*(x**2)) + (7*x) + 5 + random.randint(-rr,rr)\n",
    "y = [f(i) for i in X]\n",
    "plt.scatter(X, y, s=30, c=\"r\")"
   ]
  },
  {
   "cell_type": "code",
   "execution_count": null,
   "id": "43b86a60",
   "metadata": {},
   "outputs": [],
   "source": []
  }
 ],
 "metadata": {
  "kernelspec": {
   "display_name": "Python 3 (ipykernel)",
   "language": "python",
   "name": "python3"
  },
  "language_info": {
   "codemirror_mode": {
    "name": "ipython",
    "version": 3
   },
   "file_extension": ".py",
   "mimetype": "text/x-python",
   "name": "python",
   "nbconvert_exporter": "python",
   "pygments_lexer": "ipython3",
   "version": "3.9.7"
  }
 },
 "nbformat": 4,
 "nbformat_minor": 5
}
