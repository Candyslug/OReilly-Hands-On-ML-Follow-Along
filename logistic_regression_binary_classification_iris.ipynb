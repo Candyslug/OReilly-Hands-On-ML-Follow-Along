{
 "cells": [
  {
   "cell_type": "code",
   "execution_count": 282,
   "id": "b93dc678",
   "metadata": {},
   "outputs": [],
   "source": [
    "import numpy as np\n",
    "from tqdm import tqdm\n",
    "import matplotlib.pyplot as plt"
   ]
  },
  {
   "cell_type": "code",
   "execution_count": 283,
   "id": "b12fde6d",
   "metadata": {},
   "outputs": [
    {
     "name": "stdout",
     "output_type": "stream",
     "text": [
      "['sepal length (cm)', 'sepal width (cm)', 'petal length (cm)', 'petal width (cm)']\n"
     ]
    },
    {
     "data": {
      "text/plain": [
       "((150, 4), (150,))"
      ]
     },
     "execution_count": 283,
     "metadata": {},
     "output_type": "execute_result"
    }
   ],
   "source": [
    "import pandas as pd\n",
    "from sklearn.datasets import load_iris\n",
    "original_dataset = load_iris()\n",
    "print(original_dataset[\"feature_names\"])\n",
    "data_X = original_dataset[\"data\"]\n",
    "data_y = original_dataset[\"target\"]\n",
    "data_X.shape, data_y.shape"
   ]
  },
  {
   "cell_type": "code",
   "execution_count": 284,
   "id": "64f57548",
   "metadata": {},
   "outputs": [
    {
     "data": {
      "text/plain": [
       "array(['setosa', 'versicolor', 'virginica'], dtype='<U10')"
      ]
     },
     "execution_count": 284,
     "metadata": {},
     "output_type": "execute_result"
    }
   ],
   "source": [
    "# binary classifier using logistic regression\n",
    "# to predict whether or not the target is >>>> setosa <<<<\n",
    "# all setosas will be 1\n",
    "# all other will be 0\n",
    "original_dataset[\"target_names\"]"
   ]
  },
  {
   "cell_type": "code",
   "execution_count": 285,
   "id": "b97393ad",
   "metadata": {},
   "outputs": [
    {
     "name": "stdout",
     "output_type": "stream",
     "text": [
      "(112, 4) (38, 4) (112,) (38,)\n",
      "3.455580357142857 7.9 0.1\n",
      "[1 2 0 2 1 0 1 1 2 1]\n",
      "[0 0 1 0 0 1 0 0 0 0]\n",
      "36\n"
     ]
    }
   ],
   "source": [
    "from sklearn.model_selection import train_test_split\n",
    "from sklearn.preprocessing import StandardScaler\n",
    "\n",
    "X_train, X_test, y_train, y_test = train_test_split(\n",
    "    data_X, \n",
    "    data_y, \n",
    "    test_size=0.25, \n",
    "    random_state=69)\n",
    "\n",
    "print(X_train.shape, X_test.shape, y_train.shape, y_test.shape)\n",
    "print(X_train.mean(), X_train.max(), X_train.min())\n",
    "print(y_train[:10])\n",
    "\n",
    "\n",
    "# change the dataset(s) to show setosa or not setosa\n",
    "y_train = 1*(y_train == 0)\n",
    "y_test = 1*(y_test == 0)\n",
    "print(y_train[:10])\n",
    "print((y_train == 1).sum())"
   ]
  },
  {
   "cell_type": "code",
   "execution_count": 286,
   "id": "38668c9c",
   "metadata": {},
   "outputs": [
    {
     "name": "stdout",
     "output_type": "stream",
     "text": [
      "[0.5 0.5 0.5 0.5 0.5 0.5 0.5 0.5 0.5 0.5 0.5 0.5 0.5 0.5 0.5 0.5 0.5 0.5\n",
      " 0.5 0.5 0.5 0.5 0.5 0.5 0.5 0.5 0.5 0.5 0.5 0.5 0.5 0.5 0.5 0.5 0.5 0.5\n",
      " 0.5 0.5 0.5 0.5 0.5 0.5 0.5 0.5 0.5 0.5 0.5 0.5 0.5 0.5 0.5 0.5 0.5 0.5\n",
      " 0.5 0.5 0.5 0.5 0.5 0.5 0.5 0.5 0.5 0.5 0.5 0.5 0.5 0.5 0.5 0.5 0.5 0.5\n",
      " 0.5 0.5 0.5 0.5 0.5 0.5 0.5 0.5 0.5 0.5 0.5 0.5 0.5 0.5 0.5 0.5 0.5 0.5\n",
      " 0.5 0.5 0.5 0.5 0.5 0.5 0.5 0.5 0.5 0.5 0.5 0.5 0.5 0.5 0.5 0.5 0.5 0.5\n",
      " 0.5 0.5 0.5 0.5]\n",
      "77.63248422271387\n"
     ]
    }
   ],
   "source": [
    "def forward(weights, xdata):\n",
    "    return 1/(1+(np.e**(-weights.dot(xdata.T))))\n",
    "\n",
    "n = len(X_train[0])\n",
    "m = len(X_train)\n",
    "my_weights = np.zeros(n)\n",
    "\n",
    "print(forward(my_weights, X_train))\n",
    "\n",
    "def cost(weights, xdata, ydata):\n",
    "    return -np.sum((ydata*np.log(forward(weights, xdata)))+((1-ydata)*np.log(1-forward(weights, xdata))))\n",
    "\n",
    "print(cost(my_weights, X_train, y_train))\n",
    "\n",
    "def get_gradient():\n",
    "    ders = np.zeros(n)\n",
    "    for i in range(n):\n",
    "        ders[i] = np.sum((forward(my_weights, X_train)-y_train)*X_train[:,i])\n",
    "    return ders"
   ]
  },
  {
   "cell_type": "code",
   "execution_count": 287,
   "id": "a41da0e5",
   "metadata": {},
   "outputs": [
    {
     "name": "stderr",
     "output_type": "stream",
     "text": [
      "100%|█████████████████████████████████| 10000/10000 [00:01<00:00, 9042.05it/s]"
     ]
    },
    {
     "name": "stdout",
     "output_type": "stream",
     "text": [
      "[ 0.28939832  0.98533945 -1.52972822 -0.69300942]\n",
      "6.233249329147599\n"
     ]
    },
    {
     "name": "stderr",
     "output_type": "stream",
     "text": [
      "\n"
     ]
    },
    {
     "data": {
      "image/png": "[encoded data removed]",
      "text/plain": [
       "<Figure size 432x288 with 1 Axes>"
      ]
     },
     "metadata": {
      "needs_background": "light"
     },
     "output_type": "display_data"
    }
   ],
   "source": [
    "lr = 0.00001\n",
    "n_epochs = 10000\n",
    "\n",
    "losses = []\n",
    "\n",
    "my_weights = np.zeros(n)\n",
    "\n",
    "for i in tqdm(range(n_epochs)):\n",
    "    \n",
    "    losses.append(cost(my_weights, X_train, y_train))\n",
    "    \n",
    "    gradients = get_gradients()\n",
    "    \n",
    "    my_weights -= lr*gradients\n",
    "    \n",
    "    \n",
    "plt.plot(losses)\n",
    "    \n",
    "print(my_weights)\n",
    "print(losses[len(losses)-1])"
   ]
  },
  {
   "cell_type": "code",
   "execution_count": 289,
   "id": "7edded6b",
   "metadata": {},
   "outputs": [
    {
     "name": "stdout",
     "output_type": "stream",
     "text": [
      "38 / 38\n",
      "112 / 112\n"
     ]
    }
   ],
   "source": [
    "preds = np.round(forward(my_weights, X_test))\n",
    "print((preds == y_test).sum(), \"/\", len(y_test))\n",
    "preds = np.round(forward(my_weights, X_train))\n",
    "print((preds == y_train).sum(), \"/\", len(y_train))"
   ]
  }
 ],
 "metadata": {
  "kernelspec": {
   "display_name": "Python 3 (ipykernel)",
   "language": "python",
   "name": "python3"
  },
  "language_info": {
   "codemirror_mode": {
    "name": "ipython",
    "version": 3
   },
   "file_extension": ".py",
   "mimetype": "text/x-python",
   "name": "python",
   "nbconvert_exporter": "python",
   "pygments_lexer": "ipython3",
   "version": "3.9.7"
  }
 },
 "nbformat": 4,
 "nbformat_minor": 5
}
