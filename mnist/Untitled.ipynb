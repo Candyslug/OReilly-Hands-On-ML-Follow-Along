{
 "cells": [
  {
   "cell_type": "code",
   "execution_count": 241,
   "id": "99c91882-52a4-4e1d-be8e-6cc61e957b44",
   "metadata": {},
   "outputs": [],
   "source": [
    "import numpy as np\n",
    "import pandas as pd\n",
    "from tqdm import tqdm\n",
    "import matplotlib.pyplot as plt\n",
    "from random import randint"
   ]
  },
  {
   "cell_type": "code",
   "execution_count": 242,
   "id": "6595596e-2f9f-46d3-9d3e-94077799a918",
   "metadata": {},
   "outputs": [],
   "source": [
    "import torch\n",
    "import torch.nn as nn\n",
    "from torchvision.datasets import MNIST\n",
    "from torch.utils.data import DataLoader\n",
    "from torchvision.transforms import ToTensor"
   ]
  },
  {
   "cell_type": "code",
   "execution_count": 243,
   "id": "33f18edf-3e04-48a4-b884-86be67a5dba8",
   "metadata": {},
   "outputs": [],
   "source": [
    "mnist_train = MNIST(root=\"../datasets\",\n",
    "                    train=True,\n",
    "                    download=True,\n",
    "                    transform=ToTensor(),\n",
    "                    target_transform=None)\n",
    "\n",
    "mnist_test = MNIST(root=\"../datasets\",\n",
    "                         train=False,\n",
    "                         download=True,\n",
    "                         transform=ToTensor(),\n",
    "                         target_transform=None)"
   ]
  },
  {
   "cell_type": "code",
   "execution_count": 244,
   "id": "33da12e7-a520-4cd7-8088-a3f40dac7f48",
   "metadata": {},
   "outputs": [],
   "source": [
    "train_X, train_y = mnist_train.data.float(), mnist_train.targets\n",
    "test_X, test_y = mnist_test.data.float(), mnist_test.targets"
   ]
  },
  {
   "cell_type": "code",
   "execution_count": 245,
   "id": "b0e498c3-8857-4dc0-a5de-07cccf2a7164",
   "metadata": {},
   "outputs": [
    {
     "name": "stdout",
     "output_type": "stream",
     "text": [
      "tensor(4)\n",
      "torch.Size([28, 28])\n"
     ]
    },
    {
     "data": {
      "image/png": "[encoded data removed]",
      "text/plain": [
       "<Figure size 100x100 with 1 Axes>"
      ]
     },
     "metadata": {},
     "output_type": "display_data"
    }
   ],
   "source": [
    "r = randint(0,60000)\n",
    "sample_X, sample_y = train_X[r], train_y[r]\n",
    "plt.figure(figsize=(1,1))\n",
    "plt.imshow(sample_X.squeeze())\n",
    "print(sample_y)\n",
    "print(sample_X.shape)"
   ]
  },
  {
   "cell_type": "code",
   "execution_count": 246,
   "id": "28ae55b8-1e65-4c5d-a8ca-4568623e67a0",
   "metadata": {},
   "outputs": [],
   "source": [
    "BS = 32\n",
    "train_dataloader = DataLoader(dataset=mnist_train, \n",
    "                              batch_size=BS,\n",
    "                              shuffle=True)\n",
    "\n",
    "test_dataloader = DataLoader(dataset=mnist_test,\n",
    "                             batch_size=BS,\n",
    "                             shuffle=False)"
   ]
  },
  {
   "cell_type": "code",
   "execution_count": 247,
   "id": "9f2a85d8-a800-4e61-ad7c-6d2a2e2dc03c",
   "metadata": {},
   "outputs": [
    {
     "data": {
      "text/plain": [
       "torch.Size([1, 28, 28])"
      ]
     },
     "execution_count": 247,
     "metadata": {},
     "output_type": "execute_result"
    }
   ],
   "source": [
    "sample_X.unsqueeze(dim=0).shape"
   ]
  },
  {
   "cell_type": "code",
   "execution_count": 248,
   "id": "36c935fe-4b70-40a4-8609-cb14353efa18",
   "metadata": {},
   "outputs": [],
   "source": [
    "class model1(nn.Module):\n",
    "    def __init__(self):\n",
    "        super(model1, self).__init__()\n",
    "        \n",
    "        self.layer_stack = nn.Sequential(\n",
    "            nn.Flatten(),\n",
    "            nn.Linear(in_features=784,out_features=64),\n",
    "            nn.ReLU(),\n",
    "            nn.Linear(in_features=64,out_features=32),\n",
    "            nn.ReLU()\n",
    "        )\n",
    "        \n",
    "        self.classifier = nn.Sequential(\n",
    "            nn.Linear(in_features=32,out_features=10),\n",
    "            nn.LogSoftmax(dim=1)\n",
    "        )\n",
    "        \n",
    "    def forward(self, x):\n",
    "        x = self.layer_stack(x)\n",
    "        x = self.classifier(x)\n",
    "        return x"
   ]
  },
  {
   "cell_type": "code",
   "execution_count": 249,
   "id": "a7f861c4-85e5-4d69-a227-a0c13059c921",
   "metadata": {},
   "outputs": [],
   "source": [
    "def get_accuracy(y_pred, y_true):\n",
    "    return (y_pred==y_true).sum()"
   ]
  },
  {
   "cell_type": "code",
   "execution_count": 250,
   "id": "45009727-38a6-43e1-8683-2dea072656e4",
   "metadata": {},
   "outputs": [
    {
     "data": {
      "text/plain": [
       "tensor(4)"
      ]
     },
     "execution_count": 250,
     "metadata": {},
     "output_type": "execute_result"
    }
   ],
   "source": [
    "mymodel(sample_X.unsqueeze(dim=0)).argmax()"
   ]
  },
  {
   "cell_type": "code",
   "execution_count": 273,
   "id": "1dda8308-57b4-4632-84ff-e781def93cbd",
   "metadata": {},
   "outputs": [
    {
     "name": "stdout",
     "output_type": "stream",
     "text": [
      "Epoch: 1\n",
      "--- Batch 0 / 1875.0\n",
      "--- Batch 200 / 1875.0\n",
      "--- Batch 400 / 1875.0\n",
      "--- Batch 600 / 1875.0\n",
      "--- Batch 800 / 1875.0\n",
      "--- Batch 1000 / 1875.0\n",
      "--- Batch 1200 / 1875.0\n",
      "--- Batch 1400 / 1875.0\n",
      "--- Batch 1600 / 1875.0\n",
      "--- Batch 1800 / 1875.0\n",
      "    Accumulated Loss: 710.8133945632726\n",
      "    Epoch Accuracy: 88.62000274658203 %\n",
      "Epoch: 2\n",
      "--- Batch 0 / 1875.0\n",
      "--- Batch 200 / 1875.0\n",
      "--- Batch 400 / 1875.0\n",
      "--- Batch 600 / 1875.0\n",
      "--- Batch 800 / 1875.0\n",
      "--- Batch 1000 / 1875.0\n",
      "--- Batch 1200 / 1875.0\n",
      "--- Batch 1400 / 1875.0\n",
      "--- Batch 1600 / 1875.0\n",
      "--- Batch 1800 / 1875.0\n",
      "    Accumulated Loss: 274.101781190373\n",
      "    Epoch Accuracy: 95.65833282470703 %\n",
      "Epoch: 3\n",
      "--- Batch 0 / 1875.0\n",
      "--- Batch 200 / 1875.0\n",
      "--- Batch 400 / 1875.0\n",
      "--- Batch 600 / 1875.0\n",
      "--- Batch 800 / 1875.0\n",
      "--- Batch 1000 / 1875.0\n",
      "--- Batch 1200 / 1875.0\n",
      "--- Batch 1400 / 1875.0\n",
      "--- Batch 1600 / 1875.0\n",
      "--- Batch 1800 / 1875.0\n",
      "    Accumulated Loss: 198.02734897797927\n",
      "    Epoch Accuracy: 96.78666687011719 %\n",
      "Epoch: 4\n",
      "--- Batch 0 / 1875.0\n",
      "--- Batch 200 / 1875.0\n",
      "--- Batch 400 / 1875.0\n",
      "--- Batch 600 / 1875.0\n",
      "--- Batch 800 / 1875.0\n",
      "--- Batch 1000 / 1875.0\n",
      "--- Batch 1200 / 1875.0\n",
      "--- Batch 1400 / 1875.0\n",
      "--- Batch 1600 / 1875.0\n",
      "--- Batch 1800 / 1875.0\n",
      "    Accumulated Loss: 158.49833174282685\n",
      "    Epoch Accuracy: 97.34833526611328 %\n",
      "Epoch: 5\n",
      "--- Batch 0 / 1875.0\n",
      "--- Batch 200 / 1875.0\n",
      "--- Batch 400 / 1875.0\n",
      "--- Batch 600 / 1875.0\n",
      "--- Batch 800 / 1875.0\n",
      "--- Batch 1000 / 1875.0\n",
      "--- Batch 1200 / 1875.0\n",
      "--- Batch 1400 / 1875.0\n",
      "--- Batch 1600 / 1875.0\n",
      "--- Batch 1800 / 1875.0\n",
      "    Accumulated Loss: 132.47109529736917\n",
      "    Epoch Accuracy: 97.8550033569336 %\n"
     ]
    }
   ],
   "source": [
    "n_epochs = 5\n",
    "\n",
    "accuracies = []\n",
    "losses = []\n",
    "\n",
    "mymodel = model1()\n",
    "criterion = nn.CrossEntropyLoss()\n",
    "optim = torch.optim.SGD(params=mymodel.parameters(), lr=0.1, momentum=0.0)\n",
    "\n",
    "for epoch in range(n_epochs):\n",
    "    print(f\"Epoch: {epoch+1}\")\n",
    "    if len(losses) > 0 and len(accuracies)>0: \n",
    "        print(f\"Loss: {losses[len(losses)-1]}\")\n",
    "        print(f\"Accuracy: {accuracies[len(accuracies)-1]}\")\n",
    "    \n",
    "    epoch_loss = 0\n",
    "    epoch_accuracy = 0\n",
    "    \n",
    "    for n_batch, (X, y) in enumerate(train_dataloader):\n",
    "        \n",
    "                \n",
    "        optim.zero_grad()\n",
    "        \n",
    "        preds = mymodel(X)\n",
    "        loss = criterion(preds, y)\n",
    "        \n",
    "        epoch_loss+=loss.item()\n",
    "        \n",
    "        loss.backward()\n",
    "        \n",
    "        optim.step()\n",
    "        \n",
    "        # get accuracy for this batch\n",
    "        guesses = preds.argmax(dim=1)\n",
    "        batch_accuracy = get_accuracy(guesses, y)\n",
    "        epoch_accuracy += batch_accuracy\n",
    "        \n",
    "        if n_batch % 200 == 0:\n",
    "            print(f\"--- Batch {n_batch} / {60000/32}\")\n",
    "        \n",
    "    losses.append(epoch_loss)\n",
    "    print(f\"    Accumulated Loss: {epoch_loss}\")\n",
    "    print(f\"    Epoch Accuracy: {(epoch_accuracy/60000) * 100} %\")      "
   ]
  },
  {
   "cell_type": "code",
   "execution_count": 274,
   "id": "1721572a-a114-4566-b9e0-7b40b2b47c21",
   "metadata": {},
   "outputs": [
    {
     "name": "stdout",
     "output_type": "stream",
     "text": [
      "Accuracy: 96.61999999999999 %\n"
     ]
    }
   ],
   "source": [
    "with torch.inference_mode():\n",
    "    mymodel.eval()\n",
    "    \n",
    "    accuracy_sum = 0\n",
    "    \n",
    "    \n",
    "    for i, (X, y) in enumerate(test_dataloader):\n",
    "        # this batch (size 32)\n",
    "        \n",
    "        preds = mymodel(X)\n",
    "        \n",
    "        accuracy = get_accuracy(preds.argmax(dim=1), y)\n",
    "        \n",
    "        accuracy_sum += accuracy\n",
    "        \n",
    "\n",
    "        \n",
    "        \n",
    "print(f\"Accuracy: {accuracy_sum.detach().numpy() / len(test_X) * 100} %\")        "
   ]
  },
  {
   "cell_type": "code",
   "execution_count": 276,
   "id": "2541dd45-86dc-401d-9055-30dda468da93",
   "metadata": {},
   "outputs": [],
   "source": [
    "torch.save(mymodel.state_dict(), 'mymodel_weights.pth')"
   ]
  },
  {
   "cell_type": "code",
   "execution_count": 278,
   "id": "957b7616-f56c-4638-a358-1bdb582eda57",
   "metadata": {},
   "outputs": [
    {
     "ename": "ModuleNotFoundError",
     "evalue": "No module named 'onnx_tf'",
     "output_type": "error",
     "traceback": [
      "\u001b[0;31m---------------------------------------------------------------------------\u001b[0m",
      "\u001b[0;31mModuleNotFoundError\u001b[0m                       Traceback (most recent call last)",
      "Cell \u001b[0;32mIn [278], line 2\u001b[0m\n\u001b[1;32m      1\u001b[0m \u001b[38;5;28;01mimport\u001b[39;00m \u001b[38;5;21;01monnx\u001b[39;00m\n\u001b[0;32m----> 2\u001b[0m \u001b[38;5;28;01mimport\u001b[39;00m \u001b[38;5;21;01monnx_tf\u001b[39;00m\n\u001b[1;32m      4\u001b[0m dummy_input \u001b[38;5;241m=\u001b[39m torch\u001b[38;5;241m.\u001b[39mrandn(\u001b[38;5;241m32\u001b[39m, \u001b[38;5;241m1\u001b[39m, \u001b[38;5;241m28\u001b[39m, \u001b[38;5;241m28\u001b[39m)\n\u001b[1;32m      5\u001b[0m torch\u001b[38;5;241m.\u001b[39monnx\u001b[38;5;241m.\u001b[39mexport(model, dummy_input, \u001b[38;5;124m'\u001b[39m\u001b[38;5;124mmodel.onnx\u001b[39m\u001b[38;5;124m'\u001b[39m, input_names\u001b[38;5;241m=\u001b[39m[\u001b[38;5;124m'\u001b[39m\u001b[38;5;124minput\u001b[39m\u001b[38;5;124m'\u001b[39m], output_names\u001b[38;5;241m=\u001b[39m[\u001b[38;5;124m'\u001b[39m\u001b[38;5;124moutput\u001b[39m\u001b[38;5;124m'\u001b[39m])\n",
      "\u001b[0;31mModuleNotFoundError\u001b[0m: No module named 'onnx_tf'"
     ]
    }
   ],
   "source": [
    "import onnx\n",
    "import onnx_tf\n",
    "\n",
    "dummy_input = torch.randn(32, 1, 28, 28)\n",
    "torch.onnx.export(model, dummy_input, 'model.onnx', input_names=['input'], output_names=['output'])\n"
   ]
  }
 ],
 "metadata": {
  "kernelspec": {
   "display_name": "Python 3 (ipykernel)",
   "language": "python",
   "name": "python3"
  },
  "language_info": {
   "codemirror_mode": {
    "name": "ipython",
    "version": 3
   },
   "file_extension": ".py",
   "mimetype": "text/x-python",
   "name": "python",
   "nbconvert_exporter": "python",
   "pygments_lexer": "ipython3",
   "version": "3.9.15"
  }
 },
 "nbformat": 4,
 "nbformat_minor": 5
}
