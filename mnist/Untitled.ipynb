{
 "cells": [
  {
   "cell_type": "code",
   "execution_count": 3,
   "id": "9398b1bc-145e-4257-868e-7e29862b8b1d",
   "metadata": {},
   "outputs": [],
   "source": [
    "import matplotlib.pyplot as plt"
   ]
  },
  {
   "cell_type": "code",
   "execution_count": 4,
   "id": "99c91882-52a4-4e1d-be8e-6cc61e957b44",
   "metadata": {},
   "outputs": [],
   "source": [
    "import numpy as np\n",
    "import pandas as pd\n",
    "from tqdm import tqdm\n",
    "import matplotlib.pyplot as plt\n",
    "from random import randint"
   ]
  },
  {
   "cell_type": "code",
   "execution_count": 35,
   "id": "6595596e-2f9f-46d3-9d3e-94077799a918",
   "metadata": {},
   "outputs": [],
   "source": [
    "import torch\n",
    "import torch.nn as nn\n",
    "from torchvision.datasets import MNIST\n",
    "from torch.utils.data import DataLoader\n",
    "from torchvision.transforms import ToTensor"
   ]
  },
  {
   "cell_type": "code",
   "execution_count": 36,
   "id": "33f18edf-3e04-48a4-b884-86be67a5dba8",
   "metadata": {},
   "outputs": [],
   "source": [
    "mnist_train = MNIST(root=\"../datasets\",\n",
    "                    train=True,\n",
    "                    download=True,\n",
    "                    transform=ToTensor(),\n",
    "                    target_transform=None)\n",
    "\n",
    "mnist_test = MNIST(root=\"../datasets\",\n",
    "                         train=False,\n",
    "                         download=True,\n",
    "                         transform=ToTensor(),\n",
    "                         target_transform=None)"
   ]
  },
  {
   "cell_type": "code",
   "execution_count": 7,
   "id": "33da12e7-a520-4cd7-8088-a3f40dac7f48",
   "metadata": {},
   "outputs": [],
   "source": [
    "train_X, train_y = mnist_train.data.float(), mnist_train.targets\n",
    "test_X, test_y = mnist_test.data.float(), mnist_test.targets"
   ]
  },
  {
   "cell_type": "code",
   "execution_count": 8,
   "id": "b0e498c3-8857-4dc0-a5de-07cccf2a7164",
   "metadata": {},
   "outputs": [
    {
     "name": "stdout",
     "output_type": "stream",
     "text": [
      "tensor(3)\n",
      "torch.Size([28, 28])\n"
     ]
    },
    {
     "data": {
      "image/png": "[encoded data removed]",
      "text/plain": [
       "<Figure size 100x100 with 1 Axes>"
      ]
     },
     "metadata": {},
     "output_type": "display_data"
    }
   ],
   "source": [
    "r = randint(0,60000)\n",
    "sample_X, sample_y = train_X[r], train_y[r]\n",
    "plt.figure(figsize=(1,1))\n",
    "plt.imshow(sample_X.squeeze())\n",
    "print(sample_y)\n",
    "print(sample_X.shape)"
   ]
  },
  {
   "cell_type": "code",
   "execution_count": 9,
   "id": "28ae55b8-1e65-4c5d-a8ca-4568623e67a0",
   "metadata": {},
   "outputs": [],
   "source": [
    "BS = 32\n",
    "train_dataloader = DataLoader(dataset=mnist_train, \n",
    "                              batch_size=BS,\n",
    "                              shuffle=True)\n",
    "\n",
    "test_dataloader = DataLoader(dataset=mnist_test,\n",
    "                             batch_size=BS,\n",
    "                             shuffle=False)"
   ]
  },
  {
   "cell_type": "code",
   "execution_count": 10,
   "id": "9f2a85d8-a800-4e61-ad7c-6d2a2e2dc03c",
   "metadata": {},
   "outputs": [
    {
     "data": {
      "text/plain": [
       "torch.Size([1, 28, 28])"
      ]
     },
     "execution_count": 10,
     "metadata": {},
     "output_type": "execute_result"
    }
   ],
   "source": [
    "sample_X.unsqueeze(dim=0).shape"
   ]
  },
  {
   "cell_type": "code",
   "execution_count": 11,
   "id": "36c935fe-4b70-40a4-8609-cb14353efa18",
   "metadata": {},
   "outputs": [],
   "source": [
    "class model1(nn.Module):\n",
    "    def __init__(self):\n",
    "        super(model1, self).__init__()\n",
    "        \n",
    "        self.layer_stack = nn.Sequential(\n",
    "            nn.Flatten(),\n",
    "            nn.Linear(in_features=784,out_features=64),\n",
    "            nn.ReLU(),\n",
    "            nn.Linear(in_features=64,out_features=32),\n",
    "            nn.ReLU()\n",
    "        )\n",
    "        \n",
    "        self.classifier = nn.Sequential(\n",
    "            nn.Linear(in_features=32,out_features=10),\n",
    "            nn.LogSoftmax(dim=1)\n",
    "        )\n",
    "        \n",
    "    def forward(self, x):\n",
    "        x = self.layer_stack(x)\n",
    "        x = self.classifier(x)\n",
    "        return x"
   ]
  },
  {
   "cell_type": "code",
   "execution_count": 15,
   "id": "a7f861c4-85e5-4d69-a227-a0c13059c921",
   "metadata": {},
   "outputs": [],
   "source": [
    "def get_accuracy(y_pred, y_true):\n",
    "    return (y_pred==y_true).sum()"
   ]
  },
  {
   "cell_type": "code",
   "execution_count": 46,
   "id": "45009727-38a6-43e1-8683-2dea072656e4",
   "metadata": {},
   "outputs": [
    {
     "data": {
      "text/plain": [
       "tensor(3)"
      ]
     },
     "execution_count": 46,
     "metadata": {},
     "output_type": "execute_result"
    }
   ],
   "source": [
    "mymodel(sample_X.unsqueeze(dim=0)).argmax()"
   ]
  },
  {
   "cell_type": "code",
   "execution_count": 14,
   "id": "1dda8308-57b4-4632-84ff-e781def93cbd",
   "metadata": {},
   "outputs": [
    {
     "name": "stdout",
     "output_type": "stream",
     "text": [
      "Epoch: 1\n",
      "--- Batch 0 / 1875.0\n",
      "--- Batch 200 / 1875.0\n",
      "--- Batch 400 / 1875.0\n",
      "--- Batch 600 / 1875.0\n",
      "--- Batch 800 / 1875.0\n",
      "--- Batch 1000 / 1875.0\n",
      "--- Batch 1200 / 1875.0\n",
      "--- Batch 1400 / 1875.0\n",
      "--- Batch 1600 / 1875.0\n",
      "--- Batch 1800 / 1875.0\n",
      "    Accumulated Loss: 741.2460465794429\n",
      "    Epoch Accuracy: 88.0183334350586 %\n",
      "Epoch: 2\n",
      "--- Batch 0 / 1875.0\n",
      "--- Batch 200 / 1875.0\n",
      "--- Batch 400 / 1875.0\n",
      "--- Batch 600 / 1875.0\n",
      "--- Batch 800 / 1875.0\n",
      "--- Batch 1000 / 1875.0\n",
      "--- Batch 1200 / 1875.0\n",
      "--- Batch 1400 / 1875.0\n",
      "--- Batch 1600 / 1875.0\n",
      "--- Batch 1800 / 1875.0\n",
      "    Accumulated Loss: 293.2121798284352\n",
      "    Epoch Accuracy: 95.27333068847656 %\n",
      "Epoch: 3\n",
      "--- Batch 0 / 1875.0\n",
      "--- Batch 200 / 1875.0\n",
      "--- Batch 400 / 1875.0\n",
      "--- Batch 600 / 1875.0\n",
      "--- Batch 800 / 1875.0\n",
      "--- Batch 1000 / 1875.0\n",
      "--- Batch 1200 / 1875.0\n",
      "--- Batch 1400 / 1875.0\n",
      "--- Batch 1600 / 1875.0\n",
      "--- Batch 1800 / 1875.0\n",
      "    Accumulated Loss: 210.25760293914936\n",
      "    Epoch Accuracy: 96.6066665649414 %\n",
      "Epoch: 4\n",
      "--- Batch 0 / 1875.0\n",
      "--- Batch 200 / 1875.0\n",
      "--- Batch 400 / 1875.0\n",
      "--- Batch 600 / 1875.0\n",
      "--- Batch 800 / 1875.0\n",
      "--- Batch 1000 / 1875.0\n",
      "--- Batch 1200 / 1875.0\n",
      "--- Batch 1400 / 1875.0\n",
      "--- Batch 1600 / 1875.0\n",
      "--- Batch 1800 / 1875.0\n",
      "    Accumulated Loss: 162.51845325215254\n",
      "    Epoch Accuracy: 97.36499786376953 %\n",
      "Epoch: 5\n",
      "--- Batch 0 / 1875.0\n",
      "--- Batch 200 / 1875.0\n",
      "--- Batch 400 / 1875.0\n",
      "--- Batch 600 / 1875.0\n",
      "--- Batch 800 / 1875.0\n",
      "--- Batch 1000 / 1875.0\n",
      "--- Batch 1200 / 1875.0\n",
      "--- Batch 1400 / 1875.0\n",
      "--- Batch 1600 / 1875.0\n",
      "--- Batch 1800 / 1875.0\n",
      "    Accumulated Loss: 135.99821106507443\n",
      "    Epoch Accuracy: 97.74833679199219 %\n"
     ]
    }
   ],
   "source": [
    "n_epochs = 5\n",
    "\n",
    "accuracies = []\n",
    "losses = []\n",
    "\n",
    "mymodel = model1()\n",
    "criterion = nn.CrossEntropyLoss()\n",
    "optim = torch.optim.SGD(params=mymodel.parameters(), lr=0.1, momentum=0.0)\n",
    "\n",
    "for epoch in range(n_epochs):\n",
    "    print(f\"Epoch: {epoch+1}\")\n",
    "    if len(losses) > 0 and len(accuracies)>0: \n",
    "        print(f\"Loss: {losses[len(losses)-1]}\")\n",
    "        print(f\"Accuracy: {accuracies[len(accuracies)-1]}\")\n",
    "    \n",
    "    epoch_loss = 0\n",
    "    epoch_accuracy = 0\n",
    "    \n",
    "    for n_batch, (X, y) in enumerate(train_dataloader):\n",
    "        \n",
    "                \n",
    "        optim.zero_grad()\n",
    "        \n",
    "        preds = mymodel(X)\n",
    "        loss = criterion(preds, y)\n",
    "        \n",
    "        epoch_loss+=loss.item()\n",
    "        \n",
    "        loss.backward()\n",
    "        \n",
    "        optim.step()\n",
    "        \n",
    "        # get accuracy for this batch\n",
    "        guesses = preds.argmax(dim=1)\n",
    "        batch_accuracy = get_accuracy(guesses, y)\n",
    "        epoch_accuracy += batch_accuracy\n",
    "        \n",
    "        if n_batch % 200 == 0:\n",
    "            print(f\"--- Batch {n_batch} / {60000/32}\")\n",
    "        \n",
    "    losses.append(epoch_loss)\n",
    "    print(f\"    Accumulated Loss: {epoch_loss}\")\n",
    "    print(f\"    Epoch Accuracy: {(epoch_accuracy/60000) * 100} %\")      "
   ]
  },
  {
   "cell_type": "code",
   "execution_count": 16,
   "id": "1721572a-a114-4566-b9e0-7b40b2b47c21",
   "metadata": {},
   "outputs": [
    {
     "name": "stdout",
     "output_type": "stream",
     "text": [
      "Accuracy: 96.93 %\n"
     ]
    }
   ],
   "source": [
    "with torch.inference_mode():\n",
    "    mymodel.eval()\n",
    "    \n",
    "    accuracy_sum = 0\n",
    "    \n",
    "    \n",
    "    for i, (X, y) in enumerate(test_dataloader):\n",
    "        # this batch (size 32)\n",
    "        \n",
    "        preds = mymodel(X)\n",
    "        \n",
    "        accuracy = get_accuracy(preds.argmax(dim=1), y)\n",
    "        \n",
    "        accuracy_sum += accuracy\n",
    "        \n",
    "\n",
    "        \n",
    "        \n",
    "print(f\"Accuracy: {accuracy_sum.detach().numpy() / len(test_X) * 100} %\")        "
   ]
  },
  {
   "cell_type": "code",
   "execution_count": 55,
   "id": "147e825f-e48a-469c-b451-7cbb9d92a877",
   "metadata": {},
   "outputs": [
    {
     "data": {
      "text/plain": [
       "tensor(4)"
      ]
     },
     "execution_count": 55,
     "metadata": {},
     "output_type": "execute_result"
    },
    {
     "data": {
      "image/png": "[encoded data removed]",
      "text/plain": [
       "<Figure size 640x480 with 1 Axes>"
      ]
     },
     "metadata": {},
     "output_type": "display_data"
    }
   ],
   "source": [
    "from PIL import Image\n",
    "\n",
    "\n",
    "lol = np.array([[0,1,0,0,0,0],\n",
    "               [0,1,0,0,0,0],\n",
    "               [0,1,0,1,0,0],\n",
    "               [0,1,1,1,1,0],\n",
    "               [0,0,0,1,0,0],\n",
    "               [0,0,0,1,0,0]])\n",
    "plt.imshow(lol)\n",
    "\n",
    "lol = np.array(Image.fromarray(lol.astype(np.uint8)).resize((28, 28))).astype('float32')\n",
    "plt.imshow(lol)\n",
    "lol = torch.from_numpy(lol)\n",
    "lol = lol.unsqueeze(dim=0)\n",
    "lol.shape\n",
    "\n",
    "mymodel(lol).argmax()"
   ]
  },
  {
   "cell_type": "code",
   "execution_count": 17,
   "id": "7cc2ed04-7a09-4531-9532-61f44e6f1b81",
   "metadata": {},
   "outputs": [
    {
     "data": {
      "text/plain": [
       "model1(\n",
       "  (layer_stack): Sequential(\n",
       "    (0): Flatten(start_dim=1, end_dim=-1)\n",
       "    (1): Linear(in_features=784, out_features=64, bias=True)\n",
       "    (2): ReLU()\n",
       "    (3): Linear(in_features=64, out_features=32, bias=True)\n",
       "    (4): ReLU()\n",
       "  )\n",
       "  (classifier): Sequential(\n",
       "    (0): Linear(in_features=32, out_features=10, bias=True)\n",
       "    (1): LogSoftmax(dim=1)\n",
       "  )\n",
       ")"
      ]
     },
     "execution_count": 17,
     "metadata": {},
     "output_type": "execute_result"
    }
   ],
   "source": [
    "mymodel"
   ]
  },
  {
   "cell_type": "code",
   "execution_count": 56,
   "id": "2541dd45-86dc-401d-9055-30dda468da93",
   "metadata": {},
   "outputs": [],
   "source": [
    "torch.save(mymodel.state_dict(), 'mymodel_weights.pth')"
   ]
  },
  {
   "cell_type": "code",
   "execution_count": null,
   "id": "957b7616-f56c-4638-a358-1bdb582eda57",
   "metadata": {},
   "outputs": [],
   "source": [
    "import onnx\n",
    "import onnx_tf\n",
    "\n",
    "dummy_input = torch.randn(32, 1, 28, 28)\n",
    "torch.onnx.export(model, dummy_input, 'model.onnx', input_names=['input'], output_names=['output'])\n"
   ]
  },
  {
   "cell_type": "code",
   "execution_count": 61,
   "id": "cf5da088-ee2a-4888-9489-d5a9934d82a0",
   "metadata": {},
   "outputs": [],
   "source": [
    "import csv\n",
    "\n",
    "state_dict = mymodel.state_dict()\n",
    "weights_np = {name: param.numpy() for name, param in state_dict.items()}\n",
    "with open('model_weights.txt', 'w', newline='') as file:\n",
    "    for name, values in weights_np.items():\n",
    "        file.write(f'{name}\\n')\n",
    "        flattened_values = values.flatten()\n",
    "        formatted_values = ' '.join(str(val) for val in flattened_values)\n",
    "        file.write(f'{formatted_values}\\n')"
   ]
  }
 ],
 "metadata": {
  "kernelspec": {
   "display_name": "Python 3 (ipykernel)",
   "language": "python",
   "name": "python3"
  },
  "language_info": {
   "codemirror_mode": {
    "name": "ipython",
    "version": 3
   },
   "file_extension": ".py",
   "mimetype": "text/x-python",
   "name": "python",
   "nbconvert_exporter": "python",
   "pygments_lexer": "ipython3",
   "version": "3.9.16"
  }
 },
 "nbformat": 4,
 "nbformat_minor": 5
}
